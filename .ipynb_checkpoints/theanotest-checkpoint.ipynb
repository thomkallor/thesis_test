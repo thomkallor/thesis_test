{
 "cells": [
  {
   "cell_type": "code",
   "execution_count": 14,
   "metadata": {},
   "outputs": [],
   "source": [
    "import os\n",
    "os.environ[\"CUDA_VISIBLE_DEVICES\"]=\"1\"\n",
    "os.environ[\"THEANO_FLAGS\"]=\"mode=FAST_RUN,device=cuda0,floatX=float32\""
   ]
  },
  {
   "cell_type": "code",
   "execution_count": 15,
   "metadata": {},
   "outputs": [],
   "source": [
    "## set random seeds\n",
    "import numpy as np\n",
    "np.random.seed(10)\n",
    "import keras"
   ]
  },
  {
   "cell_type": "code",
   "execution_count": 25,
   "metadata": {},
   "outputs": [
    {
     "name": "stdout",
     "output_type": "stream",
     "text": [
      "x_train shape: (50000, 32, 32, 3)\n",
      "50000 train samples\n",
      "10000 test samples\n"
     ]
    }
   ],
   "source": [
    "from __future__ import print_function\n",
    "from keras.datasets import cifar10\n",
    "from keras.preprocessing.image import ImageDataGenerator\n",
    "from keras.models import Sequential\n",
    "from keras.layers import Dense, Dropout, Activation, Flatten\n",
    "from keras.layers import Convolution2D, MaxPooling2D\n",
    "from keras.optimizers import SGD\n",
    "from keras.utils import np_utils\n",
    "import os\n",
    "\n",
    "batch_size = 1000\n",
    "num_classes = 10\n",
    "epochs = 100\n",
    "data_augmentation = True\n",
    "num_predictions = 20\n",
    "\n",
    "# The data, split between train and test sets:\n",
    "(x_train, y_train), (x_test, y_test) = cifar10.load_data()\n",
    "print('x_train shape:', x_train.shape)\n",
    "print(x_train.shape[0], 'train samples')\n",
    "print(x_test.shape[0], 'test samples')\n",
    "\n",
    "# Convert class vectors to binary class matrices.\n",
    "y_train = np_utils.to_categorical(y_train, num_classes)\n",
    "y_test = np_utils.to_categorical(y_test, num_classes)\n"
   ]
  },
  {
   "cell_type": "code",
   "execution_count": 26,
   "metadata": {},
   "outputs": [
    {
     "name": "stdout",
     "output_type": "stream",
     "text": [
      "(32, 32, 3)\n",
      "<type 'numpy.ndarray'>\n"
     ]
    }
   ],
   "source": [
    "print(x_train.shape[1:])\n",
    "print(type(x_train))"
   ]
  },
  {
   "cell_type": "code",
   "execution_count": 27,
   "metadata": {},
   "outputs": [],
   "source": [
    "import numpy as np"
   ]
  },
  {
   "cell_type": "code",
   "execution_count": 28,
   "metadata": {},
   "outputs": [],
   "source": [
    "def rgb2gray(rgb):\n",
    "    r, g, b = rgb[:,:,:,0], rgb[:,:,:,1], rgb[:,:,:,2]\n",
    "    gray = 0.2989 * r + 0.5870 * g + 0.1140 * b\n",
    "    gray = np.expand_dims(gray, axis=3)\n",
    "    print(gray.shape)\n",
    "    return gray"
   ]
  },
  {
   "cell_type": "code",
   "execution_count": 29,
   "metadata": {},
   "outputs": [
    {
     "name": "stdout",
     "output_type": "stream",
     "text": [
      "(50000, 32, 32, 1)\n",
      "(10000, 32, 32, 1)\n"
     ]
    }
   ],
   "source": [
    "x_train=rgb2gray(x_train)\n",
    "x_test=rgb2gray(x_test)"
   ]
  },
  {
   "cell_type": "code",
   "execution_count": 32,
   "metadata": {},
   "outputs": [
    {
     "data": {
      "text/plain": [
       "<matplotlib.image.AxesImage at 0x7f9b7f2b0850>"
      ]
     },
     "execution_count": 32,
     "metadata": {},
     "output_type": "execute_result"
    },
    {
     "data": {
      "image/png": "[encoded data removed]",
      "text/plain": [
       "<Figure size 432x288 with 1 Axes>"
      ]
     },
     "metadata": {
      "needs_background": "light"
     },
     "output_type": "display_data"
    }
   ],
   "source": [
    "%matplotlib inline\n",
    "import matplotlib.pyplot as plt\n",
    "import matplotlib.image as mpimage\n",
    "plt.imshow(x_train[1,:,:,0], cmap='gray')"
   ]
  },
  {
   "cell_type": "code",
   "execution_count": 33,
   "metadata": {},
   "outputs": [
    {
     "name": "stdout",
     "output_type": "stream",
     "text": [
      "(32, 32, 1)\n"
     ]
    }
   ],
   "source": [
    "print(x_train[0].shape)"
   ]
  },
  {
   "cell_type": "code",
   "execution_count": 34,
   "metadata": {},
   "outputs": [
    {
     "name": "stdout",
     "output_type": "stream",
     "text": [
      "(10000, 32, 32, 1)\n"
     ]
    }
   ],
   "source": [
    "print(x_test.shape)"
   ]
  },
  {
   "cell_type": "code",
   "execution_count": 35,
   "metadata": {
    "scrolled": true
   },
   "outputs": [
    {
     "name": "stderr",
     "output_type": "stream",
     "text": [
      "/usr/local/miniconda2/lib/python2.7/site-packages/ipykernel_launcher.py:2: UserWarning: Update your `Conv2D` call to the Keras 2 API: `Conv2D(6, (5, 5), padding=\"valid\", data_format=\"channels_last\", input_shape=(32, 32, 1...)`\n",
      "  \n",
      "/usr/local/miniconda2/lib/python2.7/site-packages/ipykernel_launcher.py:5: UserWarning: Update your `Conv2D` call to the Keras 2 API: `Conv2D(16, (5, 5), padding=\"valid\")`\n",
      "  \"\"\"\n"
     ]
    }
   ],
   "source": [
    "model = Sequential()\n",
    "model.add(Convolution2D(6, (5, 5), border_mode='valid', data_format=\"channels_last\", input_shape=(32, 32, 1)))\n",
    "model.add(MaxPooling2D(pool_size=(2, 2)))\n",
    "model.add(Activation('relu'))   \n",
    "model.add(Convolution2D(16, (5, 5), border_mode='valid'))\n",
    "model.add(MaxPooling2D(pool_size=(2, 2)))\n",
    "model.add(Activation('relu'))\n",
    "model.add(Flatten())\n",
    "model.add(Dense(120))\n",
    "model.add(Activation('relu'))\n",
    "model.add(Dense(84))\n",
    "model.add(Activation('relu'))\n",
    "model.add(Dense(10))\n",
    "model.add(Activation('softmax'))"
   ]
  },
  {
   "cell_type": "code",
   "execution_count": 36,
   "metadata": {},
   "outputs": [
    {
     "name": "stdout",
     "output_type": "stream",
     "text": [
      "(32, 32, 1)\n",
      "[[[ 61.2111]\n",
      "  [ 44.9847]\n",
      "  [ 48.023 ]\n",
      "  ...\n",
      "  [137.0222]\n",
      "  [130.4358]\n",
      "  [128.7672]]\n",
      "\n",
      " [[ 18.8024]\n",
      "  [  0.    ]\n",
      "  [ 10.0762]\n",
      "  ...\n",
      "  [ 94.6907]\n",
      "  [ 89.9901]\n",
      "  [ 94.0328]]\n",
      "\n",
      " [[ 23.9545]\n",
      "  [  8.8914]\n",
      "  [ 31.4071]\n",
      "  ...\n",
      "  [ 90.2782]\n",
      "  [ 90.876 ]\n",
      "  [ 80.2191]]\n",
      "\n",
      " ...\n",
      "\n",
      " [[172.9052]\n",
      "  [153.7659]\n",
      "  [156.6532]\n",
      "  ...\n",
      "  [133.875 ]\n",
      "  [ 35.7334]\n",
      "  [ 38.0797]]\n",
      "\n",
      " [[146.339 ]\n",
      "  [128.6987]\n",
      "  [143.5434]\n",
      "  ...\n",
      "  [152.5896]\n",
      "  [ 69.2633]\n",
      "  [ 59.7957]]\n",
      "\n",
      " [[150.6573]\n",
      "  [136.6542]\n",
      "  [146.7751]\n",
      "  ...\n",
      "  [188.5304]\n",
      "  [123.9759]\n",
      "  [ 98.9767]]]\n"
     ]
    }
   ],
   "source": [
    "print(x_train[0].shape)\n",
    "print(x_train[0,:,:,:])"
   ]
  },
  {
   "cell_type": "code",
   "execution_count": 37,
   "metadata": {},
   "outputs": [
    {
     "data": {
      "text/plain": [
       "10"
      ]
     },
     "execution_count": 37,
     "metadata": {},
     "output_type": "execute_result"
    }
   ],
   "source": [
    "y_test.shape[1]"
   ]
  },
  {
   "cell_type": "code",
   "execution_count": 38,
   "metadata": {},
   "outputs": [],
   "source": [
    "# initiate RMSprop optimizer\n",
    "sgd = SGD(lr=0.1, decay=0, momentum=0.5, nesterov=False)\n",
    "\n",
    "# Let's train the model using RMSprop\n",
    "model.compile(loss='categorical_crossentropy',\n",
    "              optimizer=sgd,\n",
    "              metrics=['categorical_crossentropy', 'accuracy']\n",
    "             )\n",
    "\n",
    "x_train = x_train.astype('float32')\n",
    "x_test = x_test.astype('float32')\n",
    "x_train /= 255\n",
    "x_test /= 255"
   ]
  },
  {
   "cell_type": "code",
   "execution_count": 39,
   "metadata": {},
   "outputs": [
    {
     "data": {
      "text/plain": [
       "numpy.ndarray"
      ]
     },
     "execution_count": 39,
     "metadata": {},
     "output_type": "execute_result"
    }
   ],
   "source": [
    "type(x_train)"
   ]
  },
  {
   "cell_type": "code",
   "execution_count": 41,
   "metadata": {},
   "outputs": [
    {
     "name": "stdout",
     "output_type": "stream",
     "text": [
      "Train on 50000 samples, validate on 10000 samples\n",
      "Epoch 1/100\n",
      "50000/50000 [==============================] - 6s - loss: 2.3055 - categorical_crossentropy: 2.3055 - acc: 0.1150 - val_loss: 2.3014 - val_categorical_crossentropy: 2.3014 - val_acc: 0.1195\n",
      "Epoch 2/100\n",
      "50000/50000 [==============================] - 5s - loss: 2.2997 - categorical_crossentropy: 2.2997 - acc: 0.1267 - val_loss: 2.2982 - val_categorical_crossentropy: 2.2982 - val_acc: 0.1292\n",
      "Epoch 3/100\n",
      "50000/50000 [==============================] - 5s - loss: 2.2961 - categorical_crossentropy: 2.2961 - acc: 0.1342 - val_loss: 2.2943 - val_categorical_crossentropy: 2.2943 - val_acc: 0.1340\n",
      "Epoch 4/100\n",
      "50000/50000 [==============================] - 5s - loss: 2.2913 - categorical_crossentropy: 2.2913 - acc: 0.1401 - val_loss: 2.2884 - val_categorical_crossentropy: 2.2884 - val_acc: 0.1387\n",
      "Epoch 5/100\n",
      "50000/50000 [==============================] - 5s - loss: 2.2840 - categorical_crossentropy: 2.2840 - acc: 0.1451 - val_loss: 2.2797 - val_categorical_crossentropy: 2.2797 - val_acc: 0.1461\n",
      "Epoch 6/100\n",
      "50000/50000 [==============================] - 5s - loss: 2.2725 - categorical_crossentropy: 2.2725 - acc: 0.1516 - val_loss: 2.2650 - val_categorical_crossentropy: 2.2650 - val_acc: 0.1515\n",
      "Epoch 7/100\n",
      "50000/50000 [==============================] - 5s - loss: 2.2517 - categorical_crossentropy: 2.2517 - acc: 0.1628 - val_loss: 2.2386 - val_categorical_crossentropy: 2.2386 - val_acc: 0.1683\n",
      "Epoch 8/100\n",
      "50000/50000 [==============================] - 5s - loss: 2.2177 - categorical_crossentropy: 2.2177 - acc: 0.1866 - val_loss: 2.1995 - val_categorical_crossentropy: 2.1995 - val_acc: 0.2035\n",
      "Epoch 9/100\n",
      "50000/50000 [==============================] - 5s - loss: 2.1751 - categorical_crossentropy: 2.1751 - acc: 0.2118 - val_loss: 2.1583 - val_categorical_crossentropy: 2.1583 - val_acc: 0.2277\n",
      "Epoch 10/100\n",
      "50000/50000 [==============================] - 5s - loss: 2.1363 - categorical_crossentropy: 2.1363 - acc: 0.2294 - val_loss: 2.1251 - val_categorical_crossentropy: 2.1251 - val_acc: 0.2421\n",
      "Epoch 11/100\n",
      "50000/50000 [==============================] - 5s - loss: 2.1065 - categorical_crossentropy: 2.1065 - acc: 0.2430 - val_loss: 2.0948 - val_categorical_crossentropy: 2.0948 - val_acc: 0.2541\n",
      "Epoch 12/100\n",
      "50000/50000 [==============================] - 5s - loss: 2.0765 - categorical_crossentropy: 2.0765 - acc: 0.2540 - val_loss: 2.0672 - val_categorical_crossentropy: 2.0672 - val_acc: 0.2638\n",
      "Epoch 13/100\n",
      "50000/50000 [==============================] - 5s - loss: 2.0566 - categorical_crossentropy: 2.0566 - acc: 0.2629 - val_loss: 2.0427 - val_categorical_crossentropy: 2.0427 - val_acc: 0.2707\n",
      "Epoch 14/100\n",
      "50000/50000 [==============================] - 5s - loss: 2.0352 - categorical_crossentropy: 2.0352 - acc: 0.2731 - val_loss: 2.0529 - val_categorical_crossentropy: 2.0529 - val_acc: 0.2574\n",
      "Epoch 15/100\n",
      "50000/50000 [==============================] - 5s - loss: 2.0098 - categorical_crossentropy: 2.0098 - acc: 0.2840 - val_loss: 2.0267 - val_categorical_crossentropy: 2.0267 - val_acc: 0.2719\n",
      "Epoch 16/100\n",
      "50000/50000 [==============================] - 5s - loss: 1.9770 - categorical_crossentropy: 1.9770 - acc: 0.2940 - val_loss: 1.9674 - val_categorical_crossentropy: 1.9674 - val_acc: 0.2997\n",
      "Epoch 17/100\n",
      "50000/50000 [==============================] - 5s - loss: 1.9547 - categorical_crossentropy: 1.9547 - acc: 0.3038 - val_loss: 1.9367 - val_categorical_crossentropy: 1.9367 - val_acc: 0.3055\n",
      "Epoch 18/100\n",
      "50000/50000 [==============================] - 5s - loss: 1.9179 - categorical_crossentropy: 1.9179 - acc: 0.3171 - val_loss: 1.9739 - val_categorical_crossentropy: 1.9739 - val_acc: 0.2807\n",
      "Epoch 19/100\n",
      "50000/50000 [==============================] - 5s - loss: 1.8953 - categorical_crossentropy: 1.8953 - acc: 0.3248 - val_loss: 1.8976 - val_categorical_crossentropy: 1.8976 - val_acc: 0.3213\n",
      "Epoch 20/100\n",
      "50000/50000 [==============================] - 5s - loss: 1.8731 - categorical_crossentropy: 1.8731 - acc: 0.3344 - val_loss: 1.8474 - val_categorical_crossentropy: 1.8474 - val_acc: 0.3405\n",
      "Epoch 21/100\n",
      "50000/50000 [==============================] - 5s - loss: 1.8299 - categorical_crossentropy: 1.8299 - acc: 0.3501 - val_loss: 1.8029 - val_categorical_crossentropy: 1.8029 - val_acc: 0.3574\n",
      "Epoch 22/100\n",
      "50000/50000 [==============================] - 5s - loss: 1.8348 - categorical_crossentropy: 1.8348 - acc: 0.3498 - val_loss: 1.8214 - val_categorical_crossentropy: 1.8214 - val_acc: 0.3462\n",
      "Epoch 23/100\n",
      "50000/50000 [==============================] - 5s - loss: 1.8113 - categorical_crossentropy: 1.8113 - acc: 0.3586 - val_loss: 1.7894 - val_categorical_crossentropy: 1.7894 - val_acc: 0.3587\n",
      "Epoch 24/100\n",
      "50000/50000 [==============================] - 5s - loss: 1.7728 - categorical_crossentropy: 1.7728 - acc: 0.3728 - val_loss: 1.7969 - val_categorical_crossentropy: 1.7969 - val_acc: 0.3584\n",
      "Epoch 25/100\n",
      "50000/50000 [==============================] - 5s - loss: 1.7696 - categorical_crossentropy: 1.7696 - acc: 0.3736 - val_loss: 1.7806 - val_categorical_crossentropy: 1.7806 - val_acc: 0.3669\n",
      "Epoch 26/100\n",
      "50000/50000 [==============================] - 5s - loss: 1.7380 - categorical_crossentropy: 1.7380 - acc: 0.3851 - val_loss: 1.7477 - val_categorical_crossentropy: 1.7477 - val_acc: 0.3755\n",
      "Epoch 27/100\n",
      "50000/50000 [==============================] - 5s - loss: 1.7273 - categorical_crossentropy: 1.7273 - acc: 0.3893 - val_loss: 1.7007 - val_categorical_crossentropy: 1.7007 - val_acc: 0.3936\n",
      "Epoch 28/100\n",
      "50000/50000 [==============================] - 5s - loss: 1.7105 - categorical_crossentropy: 1.7105 - acc: 0.3930 - val_loss: 1.6953 - val_categorical_crossentropy: 1.6953 - val_acc: 0.3950\n",
      "Epoch 29/100\n",
      "50000/50000 [==============================] - 5s - loss: 1.6948 - categorical_crossentropy: 1.6948 - acc: 0.4006 - val_loss: 1.6783 - val_categorical_crossentropy: 1.6783 - val_acc: 0.4026\n",
      "Epoch 30/100\n",
      "50000/50000 [==============================] - 5s - loss: 1.6832 - categorical_crossentropy: 1.6832 - acc: 0.4045 - val_loss: 1.6700 - val_categorical_crossentropy: 1.6700 - val_acc: 0.4040\n",
      "Epoch 31/100\n",
      "50000/50000 [==============================] - 5s - loss: 1.6647 - categorical_crossentropy: 1.6647 - acc: 0.4105 - val_loss: 1.6516 - val_categorical_crossentropy: 1.6516 - val_acc: 0.4112\n",
      "Epoch 32/100\n",
      "50000/50000 [==============================] - 5s - loss: 1.6533 - categorical_crossentropy: 1.6533 - acc: 0.4133 - val_loss: 1.6399 - val_categorical_crossentropy: 1.6399 - val_acc: 0.4147\n",
      "Epoch 33/100\n",
      "50000/50000 [==============================] - 5s - loss: 1.6353 - categorical_crossentropy: 1.6353 - acc: 0.4211 - val_loss: 1.6702 - val_categorical_crossentropy: 1.6702 - val_acc: 0.4033\n",
      "Epoch 34/100\n",
      "50000/50000 [==============================] - 5s - loss: 1.6307 - categorical_crossentropy: 1.6307 - acc: 0.4214 - val_loss: 1.6672 - val_categorical_crossentropy: 1.6672 - val_acc: 0.4074\n",
      "Epoch 35/100\n",
      "50000/50000 [==============================] - 5s - loss: 1.6244 - categorical_crossentropy: 1.6244 - acc: 0.4272 - val_loss: 1.6809 - val_categorical_crossentropy: 1.6809 - val_acc: 0.4031\n",
      "Epoch 36/100\n",
      "50000/50000 [==============================] - 5s - loss: 1.6085 - categorical_crossentropy: 1.6085 - acc: 0.4309 - val_loss: 1.5996 - val_categorical_crossentropy: 1.5996 - val_acc: 0.4292\n",
      "Epoch 37/100\n",
      "50000/50000 [==============================] - 5s - loss: 1.6009 - categorical_crossentropy: 1.6009 - acc: 0.4342 - val_loss: 1.6053 - val_categorical_crossentropy: 1.6053 - val_acc: 0.4303\n",
      "Epoch 38/100\n",
      "50000/50000 [==============================] - 5s - loss: 1.5880 - categorical_crossentropy: 1.5880 - acc: 0.4377 - val_loss: 1.6052 - val_categorical_crossentropy: 1.6052 - val_acc: 0.4290\n",
      "Epoch 39/100\n",
      "50000/50000 [==============================] - 5s - loss: 1.5871 - categorical_crossentropy: 1.5871 - acc: 0.4400 - val_loss: 1.5787 - val_categorical_crossentropy: 1.5787 - val_acc: 0.4385\n",
      "Epoch 40/100\n",
      "50000/50000 [==============================] - 5s - loss: 1.5744 - categorical_crossentropy: 1.5744 - acc: 0.4439 - val_loss: 1.6095 - val_categorical_crossentropy: 1.6095 - val_acc: 0.4284\n",
      "Epoch 41/100\n",
      "50000/50000 [==============================] - 5s - loss: 1.5660 - categorical_crossentropy: 1.5660 - acc: 0.4456 - val_loss: 1.5785 - val_categorical_crossentropy: 1.5785 - val_acc: 0.4404\n",
      "Epoch 42/100\n",
      "50000/50000 [==============================] - 5s - loss: 1.5589 - categorical_crossentropy: 1.5589 - acc: 0.4495 - val_loss: 1.5766 - val_categorical_crossentropy: 1.5766 - val_acc: 0.4374\n",
      "Epoch 43/100\n",
      "50000/50000 [==============================] - 5s - loss: 1.5603 - categorical_crossentropy: 1.5603 - acc: 0.4499 - val_loss: 1.5589 - val_categorical_crossentropy: 1.5589 - val_acc: 0.4436\n",
      "Epoch 44/100\n",
      "50000/50000 [==============================] - 5s - loss: 1.5452 - categorical_crossentropy: 1.5452 - acc: 0.4548 - val_loss: 1.5485 - val_categorical_crossentropy: 1.5485 - val_acc: 0.4415\n",
      "Epoch 45/100\n",
      "50000/50000 [==============================] - 5s - loss: 1.5419 - categorical_crossentropy: 1.5419 - acc: 0.4537 - val_loss: 1.7401 - val_categorical_crossentropy: 1.7401 - val_acc: 0.4002\n",
      "Epoch 46/100\n",
      "50000/50000 [==============================] - 5s - loss: 1.5369 - categorical_crossentropy: 1.5369 - acc: 0.4580 - val_loss: 1.5561 - val_categorical_crossentropy: 1.5561 - val_acc: 0.4497\n",
      "Epoch 47/100\n",
      "50000/50000 [==============================] - 5s - loss: 1.5228 - categorical_crossentropy: 1.5228 - acc: 0.4615 - val_loss: 1.5331 - val_categorical_crossentropy: 1.5331 - val_acc: 0.4526\n",
      "Epoch 48/100\n",
      "50000/50000 [==============================] - 5s - loss: 1.5218 - categorical_crossentropy: 1.5218 - acc: 0.4635 - val_loss: 1.6684 - val_categorical_crossentropy: 1.6684 - val_acc: 0.4167\n",
      "Epoch 49/100\n",
      "50000/50000 [==============================] - 5s - loss: 1.5190 - categorical_crossentropy: 1.5190 - acc: 0.4650 - val_loss: 1.5252 - val_categorical_crossentropy: 1.5252 - val_acc: 0.4549\n",
      "Epoch 50/100\n",
      "50000/50000 [==============================] - 5s - loss: 1.5129 - categorical_crossentropy: 1.5129 - acc: 0.4677 - val_loss: 1.5246 - val_categorical_crossentropy: 1.5246 - val_acc: 0.4562\n",
      "Epoch 51/100\n",
      "50000/50000 [==============================] - 5s - loss: 1.5074 - categorical_crossentropy: 1.5074 - acc: 0.4691 - val_loss: 1.5427 - val_categorical_crossentropy: 1.5427 - val_acc: 0.4495\n",
      "Epoch 52/100\n",
      "50000/50000 [==============================] - 5s - loss: 1.4993 - categorical_crossentropy: 1.4993 - acc: 0.4710 - val_loss: 1.5118 - val_categorical_crossentropy: 1.5118 - val_acc: 0.4639\n",
      "Epoch 53/100\n",
      "50000/50000 [==============================] - 5s - loss: 1.4949 - categorical_crossentropy: 1.4949 - acc: 0.4736 - val_loss: 1.5300 - val_categorical_crossentropy: 1.5300 - val_acc: 0.4596\n",
      "Epoch 54/100\n",
      "50000/50000 [==============================] - 5s - loss: 1.4885 - categorical_crossentropy: 1.4885 - acc: 0.4743 - val_loss: 1.5325 - val_categorical_crossentropy: 1.5325 - val_acc: 0.4520\n",
      "Epoch 55/100\n",
      "50000/50000 [==============================] - 5s - loss: 1.4896 - categorical_crossentropy: 1.4896 - acc: 0.4749 - val_loss: 1.5338 - val_categorical_crossentropy: 1.5338 - val_acc: 0.4559\n",
      "Epoch 56/100\n",
      "50000/50000 [==============================] - 5s - loss: 1.4810 - categorical_crossentropy: 1.4810 - acc: 0.4769 - val_loss: 1.5036 - val_categorical_crossentropy: 1.5036 - val_acc: 0.4659\n",
      "Epoch 57/100\n",
      "50000/50000 [==============================] - 5s - loss: 1.4768 - categorical_crossentropy: 1.4768 - acc: 0.4804 - val_loss: 1.4931 - val_categorical_crossentropy: 1.4931 - val_acc: 0.4677\n",
      "Epoch 58/100\n",
      "50000/50000 [==============================] - 5s - loss: 1.4759 - categorical_crossentropy: 1.4759 - acc: 0.4811 - val_loss: 1.4940 - val_categorical_crossentropy: 1.4940 - val_acc: 0.4690\n",
      "Epoch 59/100\n",
      "50000/50000 [==============================] - 5s - loss: 1.4671 - categorical_crossentropy: 1.4671 - acc: 0.4836 - val_loss: 1.5014 - val_categorical_crossentropy: 1.5014 - val_acc: 0.4650\n",
      "Epoch 60/100\n",
      "50000/50000 [==============================] - 5s - loss: 1.4574 - categorical_crossentropy: 1.4574 - acc: 0.4871 - val_loss: 1.4816 - val_categorical_crossentropy: 1.4816 - val_acc: 0.4781\n",
      "Epoch 61/100\n",
      "50000/50000 [==============================] - 5s - loss: 1.4561 - categorical_crossentropy: 1.4561 - acc: 0.4876 - val_loss: 1.5787 - val_categorical_crossentropy: 1.5787 - val_acc: 0.4507\n",
      "Epoch 62/100\n",
      "50000/50000 [==============================] - 5s - loss: 1.4551 - categorical_crossentropy: 1.4551 - acc: 0.4886 - val_loss: 1.5034 - val_categorical_crossentropy: 1.5034 - val_acc: 0.4679\n",
      "Epoch 63/100\n",
      "50000/50000 [==============================] - 5s - loss: 1.4532 - categorical_crossentropy: 1.4532 - acc: 0.4876 - val_loss: 1.4896 - val_categorical_crossentropy: 1.4896 - val_acc: 0.4709\n",
      "Epoch 64/100\n",
      "50000/50000 [==============================] - 5s - loss: 1.4383 - categorical_crossentropy: 1.4383 - acc: 0.4913 - val_loss: 1.4824 - val_categorical_crossentropy: 1.4824 - val_acc: 0.4761\n",
      "Epoch 65/100\n",
      "50000/50000 [==============================] - 5s - loss: 1.4423 - categorical_crossentropy: 1.4423 - acc: 0.4912 - val_loss: 1.4826 - val_categorical_crossentropy: 1.4826 - val_acc: 0.4753\n",
      "Epoch 66/100\n",
      "50000/50000 [==============================] - 5s - loss: 1.4331 - categorical_crossentropy: 1.4331 - acc: 0.4949 - val_loss: 1.4651 - val_categorical_crossentropy: 1.4651 - val_acc: 0.4770\n",
      "Epoch 67/100\n",
      "50000/50000 [==============================] - 5s - loss: 1.4360 - categorical_crossentropy: 1.4360 - acc: 0.4952 - val_loss: 1.4586 - val_categorical_crossentropy: 1.4586 - val_acc: 0.4830\n",
      "Epoch 68/100\n",
      "50000/50000 [==============================] - 5s - loss: 1.4293 - categorical_crossentropy: 1.4293 - acc: 0.4963 - val_loss: 1.4594 - val_categorical_crossentropy: 1.4594 - val_acc: 0.4802\n",
      "Epoch 69/100\n",
      "50000/50000 [==============================] - 5s - loss: 1.4202 - categorical_crossentropy: 1.4202 - acc: 0.4996 - val_loss: 1.4577 - val_categorical_crossentropy: 1.4577 - val_acc: 0.4851\n",
      "Epoch 70/100\n",
      "50000/50000 [==============================] - 5s - loss: 1.4209 - categorical_crossentropy: 1.4209 - acc: 0.5012 - val_loss: 1.4667 - val_categorical_crossentropy: 1.4667 - val_acc: 0.4794\n",
      "Epoch 71/100\n",
      "50000/50000 [==============================] - 5s - loss: 1.4120 - categorical_crossentropy: 1.4120 - acc: 0.5020 - val_loss: 1.4809 - val_categorical_crossentropy: 1.4809 - val_acc: 0.4713\n",
      "Epoch 72/100\n",
      "50000/50000 [==============================] - 5s - loss: 1.4117 - categorical_crossentropy: 1.4117 - acc: 0.5027 - val_loss: 1.4444 - val_categorical_crossentropy: 1.4444 - val_acc: 0.4883\n",
      "Epoch 73/100\n",
      "50000/50000 [==============================] - 5s - loss: 1.4083 - categorical_crossentropy: 1.4083 - acc: 0.5048 - val_loss: 1.4447 - val_categorical_crossentropy: 1.4447 - val_acc: 0.4869\n",
      "Epoch 74/100\n",
      "50000/50000 [==============================] - 5s - loss: 1.4002 - categorical_crossentropy: 1.4002 - acc: 0.5075 - val_loss: 1.4434 - val_categorical_crossentropy: 1.4434 - val_acc: 0.4877\n",
      "Epoch 75/100\n",
      "50000/50000 [==============================] - 5s - loss: 1.4037 - categorical_crossentropy: 1.4037 - acc: 0.5077 - val_loss: 1.4461 - val_categorical_crossentropy: 1.4461 - val_acc: 0.4891\n",
      "Epoch 76/100\n",
      "50000/50000 [==============================] - 5s - loss: 1.3945 - categorical_crossentropy: 1.3945 - acc: 0.5089 - val_loss: 1.4491 - val_categorical_crossentropy: 1.4491 - val_acc: 0.4877\n",
      "Epoch 77/100\n",
      "50000/50000 [==============================] - 5s - loss: 1.3940 - categorical_crossentropy: 1.3940 - acc: 0.5098 - val_loss: 1.4442 - val_categorical_crossentropy: 1.4442 - val_acc: 0.4844\n",
      "Epoch 78/100\n",
      "50000/50000 [==============================] - 5s - loss: 1.3886 - categorical_crossentropy: 1.3886 - acc: 0.5111 - val_loss: 1.4516 - val_categorical_crossentropy: 1.4516 - val_acc: 0.4881\n",
      "Epoch 79/100\n",
      "50000/50000 [==============================] - 5s - loss: 1.3884 - categorical_crossentropy: 1.3884 - acc: 0.5117 - val_loss: 1.4481 - val_categorical_crossentropy: 1.4481 - val_acc: 0.4834\n",
      "Epoch 80/100\n",
      "50000/50000 [==============================] - 5s - loss: 1.3799 - categorical_crossentropy: 1.3799 - acc: 0.5161 - val_loss: 1.4474 - val_categorical_crossentropy: 1.4474 - val_acc: 0.4891\n",
      "Epoch 81/100\n"
     ]
    },
    {
     "name": "stdout",
     "output_type": "stream",
     "text": [
      "50000/50000 [==============================] - 5s - loss: 1.3804 - categorical_crossentropy: 1.3804 - acc: 0.5153 - val_loss: 1.4436 - val_categorical_crossentropy: 1.4436 - val_acc: 0.4914\n",
      "Epoch 82/100\n",
      "50000/50000 [==============================] - 5s - loss: 1.3712 - categorical_crossentropy: 1.3712 - acc: 0.5185 - val_loss: 1.4384 - val_categorical_crossentropy: 1.4384 - val_acc: 0.4919\n",
      "Epoch 83/100\n",
      "50000/50000 [==============================] - 5s - loss: 1.3714 - categorical_crossentropy: 1.3714 - acc: 0.5171 - val_loss: 1.4131 - val_categorical_crossentropy: 1.4131 - val_acc: 0.4994\n",
      "Epoch 84/100\n",
      "50000/50000 [==============================] - 5s - loss: 1.3635 - categorical_crossentropy: 1.3635 - acc: 0.5216 - val_loss: 1.4097 - val_categorical_crossentropy: 1.4097 - val_acc: 0.5011\n",
      "Epoch 85/100\n",
      "50000/50000 [==============================] - 5s - loss: 1.3616 - categorical_crossentropy: 1.3616 - acc: 0.5225 - val_loss: 1.4115 - val_categorical_crossentropy: 1.4115 - val_acc: 0.4990\n",
      "Epoch 86/100\n",
      "50000/50000 [==============================] - 5s - loss: 1.3538 - categorical_crossentropy: 1.3538 - acc: 0.5232 - val_loss: 1.4239 - val_categorical_crossentropy: 1.4239 - val_acc: 0.4961\n",
      "Epoch 87/100\n",
      "50000/50000 [==============================] - 5s - loss: 1.3551 - categorical_crossentropy: 1.3551 - acc: 0.5235 - val_loss: 1.4101 - val_categorical_crossentropy: 1.4101 - val_acc: 0.5028\n",
      "Epoch 88/100\n",
      "50000/50000 [==============================] - 5s - loss: 1.3599 - categorical_crossentropy: 1.3599 - acc: 0.5235 - val_loss: 1.4067 - val_categorical_crossentropy: 1.4067 - val_acc: 0.5064\n",
      "Epoch 89/100\n",
      "50000/50000 [==============================] - 5s - loss: 1.3443 - categorical_crossentropy: 1.3443 - acc: 0.5281 - val_loss: 1.3906 - val_categorical_crossentropy: 1.3906 - val_acc: 0.5085\n",
      "Epoch 90/100\n",
      "50000/50000 [==============================] - 5s - loss: 1.3476 - categorical_crossentropy: 1.3476 - acc: 0.5281 - val_loss: 1.4064 - val_categorical_crossentropy: 1.4064 - val_acc: 0.4981\n",
      "Epoch 91/100\n",
      "50000/50000 [==============================] - 5s - loss: 1.3384 - categorical_crossentropy: 1.3384 - acc: 0.5313 - val_loss: 1.3940 - val_categorical_crossentropy: 1.3940 - val_acc: 0.5094\n",
      "Epoch 92/100\n",
      "50000/50000 [==============================] - 5s - loss: 1.3442 - categorical_crossentropy: 1.3442 - acc: 0.5286 - val_loss: 1.3952 - val_categorical_crossentropy: 1.3952 - val_acc: 0.5038\n",
      "Epoch 93/100\n",
      "50000/50000 [==============================] - 5s - loss: 1.3318 - categorical_crossentropy: 1.3318 - acc: 0.5317 - val_loss: 1.3850 - val_categorical_crossentropy: 1.3850 - val_acc: 0.5094\n",
      "Epoch 94/100\n",
      "50000/50000 [==============================] - 5s - loss: 1.3307 - categorical_crossentropy: 1.3307 - acc: 0.5325 - val_loss: 1.3989 - val_categorical_crossentropy: 1.3989 - val_acc: 0.5103\n",
      "Epoch 95/100\n",
      "50000/50000 [==============================] - 5s - loss: 1.3308 - categorical_crossentropy: 1.3308 - acc: 0.5311 - val_loss: 1.3832 - val_categorical_crossentropy: 1.3832 - val_acc: 0.5127\n",
      "Epoch 96/100\n",
      "50000/50000 [==============================] - 5s - loss: 1.3252 - categorical_crossentropy: 1.3252 - acc: 0.5362 - val_loss: 1.3795 - val_categorical_crossentropy: 1.3795 - val_acc: 0.5066\n",
      "Epoch 97/100\n",
      "50000/50000 [==============================] - 5s - loss: 1.3221 - categorical_crossentropy: 1.3221 - acc: 0.5368 - val_loss: 1.3885 - val_categorical_crossentropy: 1.3885 - val_acc: 0.5115\n",
      "Epoch 98/100\n",
      "50000/50000 [==============================] - 5s - loss: 1.3180 - categorical_crossentropy: 1.3180 - acc: 0.5387 - val_loss: 1.4607 - val_categorical_crossentropy: 1.4607 - val_acc: 0.4853\n",
      "Epoch 99/100\n",
      "50000/50000 [==============================] - 5s - loss: 1.3179 - categorical_crossentropy: 1.3179 - acc: 0.5386 - val_loss: 1.3797 - val_categorical_crossentropy: 1.3797 - val_acc: 0.5123\n",
      "Epoch 100/100\n",
      "50000/50000 [==============================] - 5s - loss: 1.3156 - categorical_crossentropy: 1.3156 - acc: 0.5407 - val_loss: 1.3815 - val_categorical_crossentropy: 1.3815 - val_acc: 0.5133\n",
      "--- Training Time - 624.637700081 seconds ---\n"
     ]
    }
   ],
   "source": [
    "import time\n",
    "start_time = time.time()\n",
    "history = model.fit(x_train, y_train,\n",
    "         batch_size=batch_size,\n",
    "         nb_epoch=epochs,\n",
    "         # show_accuracy=True,\n",
    "         validation_data=(x_test, y_test),\n",
    "         shuffle=True)\n",
    "print(\"--- Training Time - %s seconds ---\" % (time.time() - start_time))"
   ]
  },
  {
   "cell_type": "code",
   "execution_count": 66,
   "metadata": {},
   "outputs": [
    {
     "name": "stdout",
     "output_type": "stream",
     "text": [
      "['acc', 'loss', 'val_acc', 'val_loss']\n"
     ]
    }
   ],
   "source": [
    "print(history.history.keys())\n",
    "from scipy.ndimage.filters import gaussian_filter1d\n",
    "\n",
    "train_acc=gaussian_filter1d(history.history['acc'], sigma=2)\n",
    "train_loss=gaussian_filter1d(history.history['loss'], sigma=2)\n",
    "test_acc=gaussian_filter1d(history.history['val_acc'], sigma=2)\n",
    "test_loss=gaussian_filter1d(history.history['val_loss'], sigma=2)\n"
   ]
  },
  {
   "cell_type": "code",
   "execution_count": 69,
   "metadata": {},
   "outputs": [
    {
     "data": {
      "text/plain": [
       "array([2.30259632, 2.30259622, 2.3025958 , 2.30259485, 2.30259354,\n",
       "       2.30259236, 2.30259171, 2.30259156, 2.30259154, 2.30259147,\n",
       "       2.30259156, 2.30259217, 2.30259345, 2.30259504, 2.3025963 ,\n",
       "       2.30259676, 2.3025965 , 2.30259584, 2.30259506, 2.30259443,\n",
       "       2.30259428, 2.30259483, 2.30259601, 2.30259752, 2.30259883,\n",
       "       2.30259944, 2.3025994 , 2.30259957, 2.30260086, 2.30260305,\n",
       "       2.30260474, 2.30260465, 2.30260289, 2.30260068, 2.30259887,\n",
       "       2.30259735, 2.30259568, 2.30259398, 2.30259281, 2.30259255,\n",
       "       2.3025931 , 2.30259404, 2.30259504, 2.30259594, 2.30259666,\n",
       "       2.30259714, 2.30259744, 2.30259783, 2.30259853, 2.30259945,\n",
       "       2.30260028, 2.30260083, 2.30260111, 2.30260118, 2.30260099,\n",
       "       2.30260034, 2.3025991 , 2.30259747, 2.30259594, 2.30259493,\n",
       "       2.30259442, 2.302594  , 2.30259331, 2.30259238, 2.30259157,\n",
       "       2.30259123, 2.30259151, 2.30259228, 2.30259324, 2.30259404,\n",
       "       2.30259455, 2.30259499, 2.30259611, 2.30259943, 2.30260703,\n",
       "       2.30262045, 2.30263826, 2.30265433, 2.30266044, 2.30265284,\n",
       "       2.3026359 , 2.30261806, 2.30260518, 2.30259824, 2.3025956 ,\n",
       "       2.30259541, 2.30259644, 2.30259772, 2.30259826, 2.3025974 ,\n",
       "       2.30259538, 2.3025933 , 2.30259238, 2.30259313, 2.30259511,\n",
       "       2.3025972 , 2.30259834, 2.30259814, 2.30259717, 2.30259637])"
      ]
     },
     "execution_count": 69,
     "metadata": {},
     "output_type": "execute_result"
    }
   ],
   "source": [
    "gaussian_filter1d(history.history['loss'], sigma=2)"
   ]
  },
  {
   "cell_type": "code",
   "execution_count": 75,
   "metadata": {
    "scrolled": true
   },
   "outputs": [
    {
     "data": {
      "text/plain": [
       "Text(0.5,1,'Test Accuracy: 0.10')"
      ]
     },
     "execution_count": 75,
     "metadata": {},
     "output_type": "execute_result"
    },
    {
     "data": {
      "image/png": "[encoded data removed]",
      "text/plain": [
       "<Figure size 432x288 with 2 Axes>"
      ]
     },
     "metadata": {
      "needs_background": "light"
     },
     "output_type": "display_data"
    }
   ],
   "source": [
    "\n",
    "_, ax1 = plt.subplots()\n",
    "ax2 = ax1.twinx()\n",
    "ax1.plot(range(epochs), train_loss)\n",
    "ax2.plot(range(len(test_acc)), test_acc, 'r')\n",
    "ax1.set_ylim(ymin = 2.29, ymax = 2.31)\n",
    "ax1.set_xlabel('epoch')\n",
    "ax1.set_ylabel('train loss')\n",
    "ax2.set_ylim(ymin = 0.08, ymax = 0.11)\n",
    "ax2.set_ylabel('test accuracy')\n",
    "ax2.set_title('Test Accuracy: {:.2f}'.format(test_acc[-1]))"
   ]
  },
  {
   "cell_type": "code",
   "execution_count": null,
   "metadata": {
    "collapsed": true
   },
   "outputs": [],
   "source": []
  }
 ],
 "metadata": {
  "kernelspec": {
   "display_name": "Python 3",
   "language": "python",
   "name": "python3"
  },
  "language_info": {
   "codemirror_mode": {
    "name": "ipython",
    "version": 3
   },
   "file_extension": ".py",
   "mimetype": "text/x-python",
   "name": "python",
   "nbconvert_exporter": "python",
   "pygments_lexer": "ipython3",
   "version": "3.7.4"
  }
 },
 "nbformat": 4,
 "nbformat_minor": 2
}
