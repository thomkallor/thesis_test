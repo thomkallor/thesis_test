{
 "cells": [
  {
   "cell_type": "code",
   "execution_count": 1,
   "metadata": {
    "collapsed": true
   },
   "outputs": [],
   "source": [
    "import keras"
   ]
  },
  {
   "cell_type": "code",
   "execution_count": 61,
   "metadata": {},
   "outputs": [
    {
     "name": "stdout",
     "output_type": "stream",
     "text": [
      "x_train shape: (50000, 3, 32, 32)\n",
      "50000 train samples\n",
      "10000 test samples\n"
     ]
    }
   ],
   "source": [
    "'''\n",
    "#Train a simple deep CNN on the CIFAR10 small images dataset.\n",
    "\n",
    "It gets to 75% validation accuracy in 25 epochs, and 79% after 50 epochs.\n",
    "(it's still underfitting at that point, though).\n",
    "'''\n",
    "\n",
    "from __future__ import print_function\n",
    "from keras.datasets import cifar10\n",
    "from keras.preprocessing.image import ImageDataGenerator\n",
    "from keras.models import Sequential\n",
    "from keras.layers import Dense, Dropout, Activation, Flatten\n",
    "from keras.layers import Convolution2D, MaxPooling2D\n",
    "from keras.optimizers import SGD\n",
    "from keras.utils import np_utils\n",
    "import os\n",
    "\n",
    "batch_size = 1000\n",
    "num_classes = 10\n",
    "epochs = 100\n",
    "data_augmentation = True\n",
    "num_predictions = 20\n",
    "save_dir = os.path.join(os.getcwd(), 'saved_models')\n",
    "model_name = 'keras_cifar10_trained_model.h5'\n",
    "\n",
    "# The data, split between train and test sets:\n",
    "(x_train, y_train), (x_test, y_test) = cifar10.load_data()\n",
    "print('x_train shape:', x_train.shape)\n",
    "print(x_train.shape[0], 'train samples')\n",
    "print(x_test.shape[0], 'test samples')\n",
    "\n",
    "# Convert class vectors to binary class matrices.\n",
    "y_train = np_utils.to_categorical(y_train, num_classes)\n",
    "y_test = np_utils.to_categorical(y_test, num_classes)\n"
   ]
  },
  {
   "cell_type": "code",
   "execution_count": 62,
   "metadata": {},
   "outputs": [
    {
     "name": "stdout",
     "output_type": "stream",
     "text": [
      "(3, 32, 32)\n",
      "<class 'numpy.ndarray'>\n"
     ]
    }
   ],
   "source": [
    "print(x_train.shape[1:])\n",
    "print(type(x_train))"
   ]
  },
  {
   "cell_type": "code",
   "execution_count": 63,
   "metadata": {
    "collapsed": true
   },
   "outputs": [],
   "source": [
    "import numpy as np"
   ]
  },
  {
   "cell_type": "code",
   "execution_count": 64,
   "metadata": {
    "collapsed": true
   },
   "outputs": [],
   "source": [
    "def rgb2gray(rgb):\n",
    "    r, g, b = rgb[:,0,:,:], rgb[:,1,:,:], rgb[:,2,:,:]\n",
    "    gray = 0.2989 * r + 0.5870 * g + 0.1140 * b\n",
    "    gray = np.expand_dims(gray, axis=1)\n",
    "    print(gray.shape)\n",
    "    return gray"
   ]
  },
  {
   "cell_type": "code",
   "execution_count": 65,
   "metadata": {},
   "outputs": [
    {
     "name": "stdout",
     "output_type": "stream",
     "text": [
      "(50000, 1, 32, 32)\n",
      "(10000, 1, 32, 32)\n"
     ]
    }
   ],
   "source": [
    "x_train=rgb2gray(x_train)\n",
    "x_test=rgb2gray(x_test)"
   ]
  },
  {
   "cell_type": "code",
   "execution_count": 67,
   "metadata": {},
   "outputs": [
    {
     "name": "stdout",
     "output_type": "stream",
     "text": [
      "(10000, 1, 32, 32)\n"
     ]
    }
   ],
   "source": [
    "print(x_test.shape)"
   ]
  },
  {
   "cell_type": "code",
   "execution_count": 68,
   "metadata": {
    "collapsed": true
   },
   "outputs": [],
   "source": [
    "os.environ[\"CUDA_VISIBLE_DEVICES\"]=\"1\""
   ]
  },
  {
   "cell_type": "code",
   "execution_count": 69,
   "metadata": {},
   "outputs": [],
   "source": [
    "model = Sequential()\n",
    "model.add(Convolution2D(6, 5, 5, border_mode='valid', input_shape=(1, 32, 32)))\n",
    "model.add(Activation('relu'))   \n",
    "model.add(Convolution2D(16, 5, 5, border_mode='valid'))\n",
    "model.add(Activation('relu'))\n",
    "model.add(MaxPooling2D(pool_size=(2, 2)))\n",
    "model.add(Flatten())\n",
    "model.add(Dense(120, activation='relu'))\n",
    "model.add(Dense(84, activation='relu'))\n",
    "model.add(Dense(10))\n",
    "model.add(Activation('softmax'))"
   ]
  },
  {
   "cell_type": "code",
   "execution_count": 70,
   "metadata": {},
   "outputs": [
    {
     "name": "stdout",
     "output_type": "stream",
     "text": [
      "[[[  61.2111   44.9847   48.023  ...,  137.0222  130.4358  128.7672]\n",
      "  [  18.8024    0.       10.0762 ...,   94.6907   89.9901   94.0328]\n",
      "  [  23.9545    8.8914   31.4071 ...,   90.2782   90.876    80.2191]\n",
      "  ..., \n",
      "  [ 172.9052  153.7659  156.6532 ...,  133.875    35.7334   38.0797]\n",
      "  [ 146.339   128.6987  143.5434 ...,  152.5896   69.2633   59.7957]\n",
      "  [ 150.6573  136.6542  146.7751 ...,  188.5304  123.9759   98.9767]]]\n"
     ]
    }
   ],
   "source": [
    "print(x_train[0,:,:])"
   ]
  },
  {
   "cell_type": "code",
   "execution_count": 71,
   "metadata": {},
   "outputs": [
    {
     "name": "stderr",
     "output_type": "stream",
     "text": [
      "/usr/local/miniconda3/lib/python3.5/site-packages/keras/backend/tensorflow_backend.py:426: UserWarning: Expected no kwargs, you passed 1\n",
      "kwargs passed to function are ignored with Tensorflow backend\n",
      "  warnings.warn('\\n'.join(msg))\n"
     ]
    },
    {
     "name": "stdout",
     "output_type": "stream",
     "text": [
      "Train on 50000 samples, validate on 10000 samples\n",
      "Epoch 1/100\n",
      "50000/50000 [==============================] - 10s - loss: 2.3034 - val_loss: 2.3026\n",
      "Epoch 2/100\n",
      "50000/50000 [==============================] - 10s - loss: 2.3032 - val_loss: 2.3031\n",
      "Epoch 3/100\n",
      "50000/50000 [==============================] - 10s - loss: 2.3031 - val_loss: 2.3031\n",
      "Epoch 4/100\n",
      "50000/50000 [==============================] - 10s - loss: 2.3029 - val_loss: 2.3029\n",
      "Epoch 5/100\n",
      "50000/50000 [==============================] - 10s - loss: 2.3030 - val_loss: 2.3031\n",
      "Epoch 6/100\n",
      "50000/50000 [==============================] - 10s - loss: 2.3031 - val_loss: 2.3028\n",
      "Epoch 7/100\n",
      "50000/50000 [==============================] - 10s - loss: 2.3036 - val_loss: 2.3031\n",
      "Epoch 8/100\n",
      "50000/50000 [==============================] - 10s - loss: 2.3031 - val_loss: 2.3028\n",
      "Epoch 9/100\n",
      "50000/50000 [==============================] - 10s - loss: 2.3031 - val_loss: 2.3033\n",
      "Epoch 10/100\n",
      "50000/50000 [==============================] - 10s - loss: 2.3032 - val_loss: 2.3031\n",
      "Epoch 11/100\n",
      "50000/50000 [==============================] - 10s - loss: 2.3031 - val_loss: 2.3029\n",
      "Epoch 12/100\n",
      "50000/50000 [==============================] - 10s - loss: 2.3034 - val_loss: 2.3027\n",
      "Epoch 13/100\n",
      "50000/50000 [==============================] - 10s - loss: 2.3034 - val_loss: 2.3027\n",
      "Epoch 14/100\n",
      "50000/50000 [==============================] - 10s - loss: 2.3030 - val_loss: 2.3029\n",
      "Epoch 15/100\n",
      "50000/50000 [==============================] - 10s - loss: 2.3031 - val_loss: 2.3031\n",
      "Epoch 16/100\n",
      "50000/50000 [==============================] - 10s - loss: 2.3030 - val_loss: 2.3028\n",
      "Epoch 17/100\n",
      "50000/50000 [==============================] - 10s - loss: 2.3030 - val_loss: 2.3026\n",
      "Epoch 18/100\n",
      "50000/50000 [==============================] - 10s - loss: 2.3030 - val_loss: 2.3032\n",
      "Epoch 19/100\n",
      "50000/50000 [==============================] - 10s - loss: 2.3031 - val_loss: 2.3027\n",
      "Epoch 20/100\n",
      "50000/50000 [==============================] - 10s - loss: 2.3031 - val_loss: 2.3027\n",
      "Epoch 21/100\n",
      "50000/50000 [==============================] - 10s - loss: 2.3030 - val_loss: 2.3030\n",
      "Epoch 22/100\n",
      "50000/50000 [==============================] - 10s - loss: 2.3030 - val_loss: 2.3031\n",
      "Epoch 23/100\n",
      "50000/50000 [==============================] - 10s - loss: 2.3030 - val_loss: 2.3036\n",
      "Epoch 24/100\n",
      "50000/50000 [==============================] - 10s - loss: 2.3030 - val_loss: 2.3030\n",
      "Epoch 25/100\n",
      "50000/50000 [==============================] - 10s - loss: 2.3030 - val_loss: 2.3027\n",
      "Epoch 26/100\n",
      "50000/50000 [==============================] - 10s - loss: 2.3030 - val_loss: 2.3030\n",
      "Epoch 27/100\n",
      "50000/50000 [==============================] - 10s - loss: 2.3031 - val_loss: 2.3028\n",
      "Epoch 28/100\n",
      "50000/50000 [==============================] - 10s - loss: 2.3030 - val_loss: 2.3029\n",
      "Epoch 29/100\n",
      "50000/50000 [==============================] - 10s - loss: 2.3030 - val_loss: 2.3027\n",
      "Epoch 30/100\n",
      "50000/50000 [==============================] - 10s - loss: 2.3029 - val_loss: 2.3031\n",
      "Epoch 31/100\n",
      "50000/50000 [==============================] - 10s - loss: 2.3030 - val_loss: 2.3030\n",
      "Epoch 32/100\n",
      "50000/50000 [==============================] - 10s - loss: 2.3030 - val_loss: 2.3031\n",
      "Epoch 33/100\n",
      "50000/50000 [==============================] - 10s - loss: 2.3029 - val_loss: 2.3030\n",
      "Epoch 34/100\n",
      "50000/50000 [==============================] - 10s - loss: 2.3030 - val_loss: 2.3027\n",
      "Epoch 35/100\n",
      "50000/50000 [==============================] - 10s - loss: 2.3031 - val_loss: 2.3030\n",
      "Epoch 36/100\n",
      "50000/50000 [==============================] - 10s - loss: 2.3031 - val_loss: 2.3027\n",
      "Epoch 37/100\n",
      "50000/50000 [==============================] - 10s - loss: 2.3031 - val_loss: 2.3034\n",
      "Epoch 38/100\n",
      "50000/50000 [==============================] - 10s - loss: 2.3030 - val_loss: 2.3028\n",
      "Epoch 39/100\n",
      "50000/50000 [==============================] - 10s - loss: 2.3031 - val_loss: 2.3030\n",
      "Epoch 40/100\n",
      "50000/50000 [==============================] - 10s - loss: 2.3031 - val_loss: 2.3028\n",
      "Epoch 41/100\n",
      "50000/50000 [==============================] - 10s - loss: 2.3030 - val_loss: 2.3029\n",
      "Epoch 42/100\n",
      "50000/50000 [==============================] - 10s - loss: 2.3030 - val_loss: 2.3028\n",
      "Epoch 43/100\n",
      "50000/50000 [==============================] - 10s - loss: 2.3030 - val_loss: 2.3028\n",
      "Epoch 44/100\n",
      "50000/50000 [==============================] - 10s - loss: 2.3030 - val_loss: 2.3029\n",
      "Epoch 45/100\n",
      "50000/50000 [==============================] - 10s - loss: 2.3030 - val_loss: 2.3029\n",
      "Epoch 46/100\n",
      "50000/50000 [==============================] - 10s - loss: 2.3032 - val_loss: 2.3030\n",
      "Epoch 47/100\n",
      "50000/50000 [==============================] - 10s - loss: 2.3030 - val_loss: 2.3029\n",
      "Epoch 48/100\n",
      "50000/50000 [==============================] - 10s - loss: 2.3030 - val_loss: 2.3029\n",
      "Epoch 49/100\n",
      "50000/50000 [==============================] - 10s - loss: 2.3031 - val_loss: 2.3029\n",
      "Epoch 50/100\n",
      "50000/50000 [==============================] - 10s - loss: 2.3031 - val_loss: 2.3029\n",
      "Epoch 51/100\n",
      "50000/50000 [==============================] - 10s - loss: 2.3030 - val_loss: 2.3030\n",
      "Epoch 52/100\n",
      "50000/50000 [==============================] - 10s - loss: 2.3030 - val_loss: 2.3028\n",
      "Epoch 53/100\n",
      "50000/50000 [==============================] - 10s - loss: 2.3029 - val_loss: 2.3032\n",
      "Epoch 54/100\n",
      "50000/50000 [==============================] - 10s - loss: 2.3030 - val_loss: 2.3033\n",
      "Epoch 55/100\n",
      "50000/50000 [==============================] - 10s - loss: 2.3030 - val_loss: 2.3026\n",
      "Epoch 56/100\n",
      "50000/50000 [==============================] - 10s - loss: 2.3030 - val_loss: 2.3028\n",
      "Epoch 57/100\n",
      "50000/50000 [==============================] - 10s - loss: 2.3030 - val_loss: 2.3029\n",
      "Epoch 58/100\n",
      "50000/50000 [==============================] - 10s - loss: 2.3029 - val_loss: 2.3031\n",
      "Epoch 59/100\n",
      "50000/50000 [==============================] - 10s - loss: 2.3030 - val_loss: 2.3029\n",
      "Epoch 60/100\n",
      "50000/50000 [==============================] - 10s - loss: 2.3030 - val_loss: 2.3028\n",
      "Epoch 61/100\n",
      "50000/50000 [==============================] - 10s - loss: 2.3029 - val_loss: 2.3030\n",
      "Epoch 62/100\n",
      "50000/50000 [==============================] - 10s - loss: 2.3030 - val_loss: 2.3027\n",
      "Epoch 63/100\n",
      "50000/50000 [==============================] - 10s - loss: 2.3030 - val_loss: 2.3027\n",
      "Epoch 64/100\n",
      "50000/50000 [==============================] - 10s - loss: 2.3030 - val_loss: 2.3029\n",
      "Epoch 65/100\n",
      "50000/50000 [==============================] - 10s - loss: 2.3029 - val_loss: 2.3030\n",
      "Epoch 66/100\n",
      "50000/50000 [==============================] - 10s - loss: 2.3030 - val_loss: 2.3027\n",
      "Epoch 67/100\n",
      "50000/50000 [==============================] - 10s - loss: 2.3034 - val_loss: 2.3032\n",
      "Epoch 68/100\n",
      "50000/50000 [==============================] - 10s - loss: 2.3033 - val_loss: 2.3029\n",
      "Epoch 69/100\n",
      "50000/50000 [==============================] - 10s - loss: 2.3030 - val_loss: 2.3029\n",
      "Epoch 70/100\n",
      "50000/50000 [==============================] - 10s - loss: 2.3030 - val_loss: 2.3029\n",
      "Epoch 71/100\n",
      "50000/50000 [==============================] - 10s - loss: 2.3030 - val_loss: 2.3029\n",
      "Epoch 72/100\n",
      "50000/50000 [==============================] - 10s - loss: 2.3030 - val_loss: 2.3028\n",
      "Epoch 73/100\n",
      "50000/50000 [==============================] - 10s - loss: 2.3033 - val_loss: 2.3029\n",
      "Epoch 74/100\n",
      "50000/50000 [==============================] - 10s - loss: 2.3030 - val_loss: 2.3034\n",
      "Epoch 75/100\n",
      "50000/50000 [==============================] - 10s - loss: 2.3030 - val_loss: 2.3029\n",
      "Epoch 76/100\n",
      "50000/50000 [==============================] - 10s - loss: 2.3030 - val_loss: 2.3030\n",
      "Epoch 77/100\n",
      "50000/50000 [==============================] - 10s - loss: 2.3031 - val_loss: 2.3027\n",
      "Epoch 78/100\n",
      "50000/50000 [==============================] - 10s - loss: 2.3030 - val_loss: 2.3031\n",
      "Epoch 79/100\n",
      "50000/50000 [==============================] - 10s - loss: 2.3030 - val_loss: 2.3027\n",
      "Epoch 80/100\n",
      "50000/50000 [==============================] - 10s - loss: 2.3030 - val_loss: 2.3027\n",
      "Epoch 81/100\n",
      "50000/50000 [==============================] - 10s - loss: 2.3030 - val_loss: 2.3026\n",
      "Epoch 82/100\n",
      "50000/50000 [==============================] - 10s - loss: 2.3033 - val_loss: 2.3028\n",
      "Epoch 83/100\n",
      "50000/50000 [==============================] - 10s - loss: 2.3033 - val_loss: 2.3029\n",
      "Epoch 84/100\n"
     ]
    },
    {
     "name": "stdout",
     "output_type": "stream",
     "text": [
      "50000/50000 [==============================] - 10s - loss: 2.3030 - val_loss: 2.3027\n",
      "Epoch 85/100\n",
      "50000/50000 [==============================] - 10s - loss: 2.3030 - val_loss: 2.3028\n",
      "Epoch 86/100\n",
      "50000/50000 [==============================] - 10s - loss: 2.3031 - val_loss: 2.3026\n",
      "Epoch 87/100\n",
      "50000/50000 [==============================] - 10s - loss: 2.3029 - val_loss: 2.3028\n",
      "Epoch 88/100\n",
      "50000/50000 [==============================] - 10s - loss: 2.3029 - val_loss: 2.3028\n",
      "Epoch 89/100\n",
      "50000/50000 [==============================] - 10s - loss: 2.3030 - val_loss: 2.3034\n",
      "Epoch 90/100\n",
      "50000/50000 [==============================] - 10s - loss: 2.3031 - val_loss: 2.3027\n",
      "Epoch 91/100\n",
      "50000/50000 [==============================] - 10s - loss: 2.3029 - val_loss: 2.3032\n",
      "Epoch 92/100\n",
      "50000/50000 [==============================] - 10s - loss: 2.3029 - val_loss: 2.3028\n",
      "Epoch 93/100\n",
      "50000/50000 [==============================] - 10s - loss: 2.3030 - val_loss: 2.3030\n",
      "Epoch 94/100\n",
      "50000/50000 [==============================] - 10s - loss: 2.3030 - val_loss: 2.3030\n",
      "Epoch 95/100\n",
      "50000/50000 [==============================] - 10s - loss: 2.3030 - val_loss: 2.3027\n",
      "Epoch 96/100\n",
      "50000/50000 [==============================] - 10s - loss: 2.3030 - val_loss: 2.3029\n",
      "Epoch 97/100\n",
      "50000/50000 [==============================] - 10s - loss: 2.3041 - val_loss: 2.3028\n",
      "Epoch 98/100\n",
      "50000/50000 [==============================] - 10s - loss: 2.3030 - val_loss: 2.3030\n",
      "Epoch 99/100\n",
      "50000/50000 [==============================] - 10s - loss: 2.3031 - val_loss: 2.3029\n",
      "Epoch 100/100\n",
      "50000/50000 [==============================] - 10s - loss: 2.3029 - val_loss: 2.3028\n"
     ]
    },
    {
     "data": {
      "text/plain": [
       "<keras.callbacks.History at 0x7f4397187c50>"
      ]
     },
     "execution_count": 71,
     "metadata": {},
     "output_type": "execute_result"
    }
   ],
   "source": [
    "# initiate RMSprop optimizer\n",
    "sgd = SGD(lr=0.01, decay=1e-6, momentum=0.9, nesterov=True)\n",
    "\n",
    "# Let's train the model using RMSprop\n",
    "model.compile(loss='categorical_crossentropy',\n",
    "              optimizer=sgd,\n",
    "              metrics=['accuracy'])\n",
    "\n",
    "x_train = x_train.astype('float32')\n",
    "x_test = x_test.astype('float32')\n",
    "x_train /= 255\n",
    "x_test /= 255\n",
    "\n",
    "model.fit(x_train, y_train,\n",
    "          batch_size=batch_size,\n",
    "          nb_epoch=epochs,\n",
    "          validation_data=(x_test, y_test),\n",
    "          shuffle=True)"
   ]
  },
  {
   "cell_type": "code",
   "execution_count": 76,
   "metadata": {},
   "outputs": [
    {
     "name": "stdout",
     "output_type": "stream",
     "text": [
      "Saved trained model at /root/shared/saved_models/keras_cifar10_trained_model.h5 \n",
      "10000/10000 [==============================] - 0s     \n",
      "Test loss: [2.3028486305236817, 0.10000000000000001]\n",
      "Test accuracy: [2.3028486305236817, 0.10000000000000001]\n"
     ]
    }
   ],
   "source": [
    "# Save model and weights\n",
    "if not os.path.isdir(save_dir):\n",
    "    os.makedirs(save_dir)\n",
    "model_path = os.path.join(save_dir, model_name)\n",
    "##model.save(model_path)\n",
    "print('Saved trained model at %s ' % model_path)\n",
    "\n",
    "# Score trained model.\n",
    "scores = model.evaluate(x_test, y_test,show_accuracy=True, verbose=1)\n",
    "print('Test loss:', scores[0])\n",
    "print('Test accuracy:', scores[1])"
   ]
  },
  {
   "cell_type": "code",
   "execution_count": 77,
   "metadata": {},
   "outputs": [
    {
     "name": "stdout",
     "output_type": "stream",
     "text": [
      "64\n"
     ]
    }
   ],
   "source": [
    "print(batch_size)"
   ]
  },
  {
   "cell_type": "code",
   "execution_count": null,
   "metadata": {
    "collapsed": true
   },
   "outputs": [],
   "source": []
  }
 ],
 "metadata": {
  "kernelspec": {
   "display_name": "Python 3",
   "language": "python",
   "name": "python3"
  },
  "language_info": {
   "codemirror_mode": {
    "name": "ipython",
    "version": 3
   },
   "file_extension": ".py",
   "mimetype": "text/x-python",
   "name": "python",
   "nbconvert_exporter": "python",
   "pygments_lexer": "ipython3",
   "version": "3.5.5"
  }
 },
 "nbformat": 4,
 "nbformat_minor": 2
}
