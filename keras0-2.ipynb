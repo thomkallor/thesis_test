{
 "cells": [
  {
   "cell_type": "code",
   "execution_count": 28,
   "metadata": {},
   "outputs": [],
   "source": [
    "import os\n",
    "os.environ[\"CUDA_VISIBLE_DEVICES\"]=\"1\"\n",
    "os.environ[\"THEANO_FLAGS\"]=\"mode=FAST_RUN,device=cuda1,floatX=float32\""
   ]
  },
  {
   "cell_type": "code",
   "execution_count": 30,
   "metadata": {},
   "outputs": [],
   "source": [
    "## set random seeds\n",
    "import numpy as np\n",
    "np.random.seed(10)\n",
    "import keras"
   ]
  },
  {
   "cell_type": "code",
   "execution_count": 31,
   "metadata": {},
   "outputs": [
    {
     "name": "stdout",
     "output_type": "stream",
     "text": [
      "x_train shape: (50000, 3, 32, 32)\n",
      "50000 train samples\n",
      "10000 test samples\n"
     ]
    }
   ],
   "source": [
    "from __future__ import print_function\n",
    "from keras.datasets import cifar10\n",
    "from keras.preprocessing.image import ImageDataGenerator\n",
    "from keras.models import Sequential\n",
    "from keras.layers import Dense, Dropout, Activation, Flatten\n",
    "from keras.layers import Convolution2D, MaxPooling2D\n",
    "from keras.optimizers import SGD\n",
    "from keras.utils import np_utils\n",
    "import os\n",
    "\n",
    "batch_size = 1000\n",
    "num_classes = 10\n",
    "epochs = 100\n",
    "data_augmentation = True\n",
    "num_predictions = 20\n",
    "\n",
    "# The data, split between train and test sets:\n",
    "(x_train, y_train), (x_test, y_test) = cifar10.load_data()\n",
    "print('x_train shape:', x_train.shape)\n",
    "print(x_train.shape[0], 'train samples')\n",
    "print(x_test.shape[0], 'test samples')\n",
    "\n",
    "# Convert class vectors to binary class matrices.\n",
    "y_train = np_utils.to_categorical(y_train, num_classes)\n",
    "y_test = np_utils.to_categorical(y_test, num_classes)\n"
   ]
  },
  {
   "cell_type": "code",
   "execution_count": 32,
   "metadata": {},
   "outputs": [
    {
     "name": "stdout",
     "output_type": "stream",
     "text": [
      "(3, 32, 32)\n",
      "<type 'numpy.ndarray'>\n"
     ]
    }
   ],
   "source": [
    "print(x_train.shape[1:])\n",
    "print(type(x_train))"
   ]
  },
  {
   "cell_type": "code",
   "execution_count": 33,
   "metadata": {},
   "outputs": [],
   "source": [
    "import numpy as np"
   ]
  },
  {
   "cell_type": "code",
   "execution_count": 34,
   "metadata": {},
   "outputs": [],
   "source": [
    "def rgb2gray(rgb):\n",
    "    r, g, b = rgb[:,0,:,:], rgb[:,1,:,:], rgb[:,2,:,:]\n",
    "    gray = 0.2989 * r + 0.5870 * g + 0.1140 * b\n",
    "    gray = np.expand_dims(gray, axis=1)\n",
    "    print(gray.shape)\n",
    "    return gray"
   ]
  },
  {
   "cell_type": "code",
   "execution_count": 35,
   "metadata": {},
   "outputs": [
    {
     "name": "stdout",
     "output_type": "stream",
     "text": [
      "(50000, 1, 32, 32)\n",
      "(10000, 1, 32, 32)\n"
     ]
    }
   ],
   "source": [
    "x_train=rgb2gray(x_train)\n",
    "x_test=rgb2gray(x_test)"
   ]
  },
  {
   "cell_type": "code",
   "execution_count": 36,
   "metadata": {},
   "outputs": [
    {
     "data": {
      "text/plain": [
       "<matplotlib.image.AxesImage at 0x7f7fc6ac37d0>"
      ]
     },
     "execution_count": 36,
     "metadata": {},
     "output_type": "execute_result"
    },
    {
     "data": {
      "image/png": "[encoded data removed]",
      "text/plain": [
       "<Figure size 432x288 with 1 Axes>"
      ]
     },
     "metadata": {
      "needs_background": "light"
     },
     "output_type": "display_data"
    }
   ],
   "source": [
    "%matplotlib inline\n",
    "import matplotlib.pyplot as plt\n",
    "import matplotlib.image as mpimage\n",
    "plt.imshow(x_train[1,0,:,:], cmap='gray')"
   ]
  },
  {
   "cell_type": "code",
   "execution_count": 37,
   "metadata": {},
   "outputs": [
    {
     "name": "stdout",
     "output_type": "stream",
     "text": [
      "(1, 32, 32)\n"
     ]
    }
   ],
   "source": [
    "print(x_train[0].shape)"
   ]
  },
  {
   "cell_type": "code",
   "execution_count": 38,
   "metadata": {},
   "outputs": [
    {
     "name": "stdout",
     "output_type": "stream",
     "text": [
      "(10000, 1, 32, 32)\n"
     ]
    }
   ],
   "source": [
    "print(x_test.shape)"
   ]
  },
  {
   "cell_type": "code",
   "execution_count": 46,
   "metadata": {
    "scrolled": true
   },
   "outputs": [],
   "source": [
    "model = Sequential()\n",
    "model.add(Convolution2D(6, 5, 5, border_mode='valid', input_shape=(1, 32, 32)))\n",
    "model.add(MaxPooling2D(pool_size=(2, 2)))\n",
    "model.add(Activation('relu'))   \n",
    "model.add(Convolution2D(16, 5, 5, border_mode='valid'))\n",
    "model.add(MaxPooling2D(pool_size=(2, 2)))\n",
    "model.add(Activation('relu'))\n",
    "model.add(Flatten())\n",
    "model.add(Dense(120))\n",
    "model.add(Activation('relu'))\n",
    "model.add(Dense(84))\n",
    "model.add(Activation('relu'))\n",
    "model.add(Dense(10))\n",
    "model.add(Activation('softmax'))"
   ]
  },
  {
   "cell_type": "code",
   "execution_count": 47,
   "metadata": {},
   "outputs": [
    {
     "name": "stdout",
     "output_type": "stream",
     "text": [
      "(1, 32, 32)\n",
      "[[[0.24004354 0.17641059 0.18832548 ... 0.53734195 0.511513   0.5049694 ]\n",
      "  [0.0737349  0.         0.03951451 ... 0.37133607 0.35290235 0.3687561 ]\n",
      "  [0.09393921 0.03486824 0.1231651  ... 0.35403216 0.35637647 0.3145847 ]\n",
      "  ...\n",
      "  [0.6780596  0.6030035  0.61432624 ... 0.525      0.14013097 0.14933217]\n",
      "  [0.57387847 0.5047008  0.56291527 ... 0.5983906  0.27162078 0.23449294]\n",
      "  [0.590813   0.53589886 0.57558864 ... 0.7393349  0.48618    0.38814393]]]\n"
     ]
    }
   ],
   "source": [
    "print(x_train[0].shape)\n",
    "print(x_train[0,:,:,:])"
   ]
  },
  {
   "cell_type": "code",
   "execution_count": 48,
   "metadata": {},
   "outputs": [
    {
     "data": {
      "text/plain": [
       "10"
      ]
     },
     "execution_count": 48,
     "metadata": {},
     "output_type": "execute_result"
    }
   ],
   "source": [
    "y_test.shape[1]"
   ]
  },
  {
   "cell_type": "code",
   "execution_count": 49,
   "metadata": {},
   "outputs": [],
   "source": [
    "# initiate RMSprop optimizer\n",
    "sgd = SGD(lr=0.01, decay=0, momentum=0.5, nesterov=False)\n",
    "\n",
    "# Let's train the model using RMSprop\n",
    "model.compile(loss='categorical_crossentropy',\n",
    "              optimizer=sgd,\n",
    "              metrics=['categorical_crossentropy', 'accuracy']\n",
    "             )\n",
    "\n",
    "x_train = x_train.astype('float32')\n",
    "x_test = x_test.astype('float32')\n",
    "x_train /= 255\n",
    "x_test /= 255"
   ]
  },
  {
   "cell_type": "code",
   "execution_count": 50,
   "metadata": {},
   "outputs": [
    {
     "data": {
      "text/plain": [
       "numpy.ndarray"
      ]
     },
     "execution_count": 50,
     "metadata": {},
     "output_type": "execute_result"
    }
   ],
   "source": [
    "type(x_train)"
   ]
  },
  {
   "cell_type": "code",
   "execution_count": 51,
   "metadata": {},
   "outputs": [
    {
     "name": "stdout",
     "output_type": "stream",
     "text": [
      "Train on 50000 samples, validate on 10000 samples\n",
      "Epoch 1/100\n",
      "50000/50000 [==============================] - 3s - loss: 2.3026 - acc: 0.0997 - val_loss: 2.3026 - val_acc: 0.1000\n",
      "Epoch 2/100\n",
      "50000/50000 [==============================] - 2s - loss: 2.3026 - acc: 0.0981 - val_loss: 2.3026 - val_acc: 0.0998\n",
      "Epoch 3/100\n",
      "50000/50000 [==============================] - 2s - loss: 2.3026 - acc: 0.0993 - val_loss: 2.3026 - val_acc: 0.1000\n",
      "Epoch 4/100\n",
      "50000/50000 [==============================] - 2s - loss: 2.3026 - acc: 0.0954 - val_loss: 2.3026 - val_acc: 0.1000\n",
      "Epoch 5/100\n",
      "50000/50000 [==============================] - 2s - loss: 2.3026 - acc: 0.0971 - val_loss: 2.3026 - val_acc: 0.1003\n",
      "Epoch 6/100\n",
      "50000/50000 [==============================] - 2s - loss: 2.3026 - acc: 0.0977 - val_loss: 2.3026 - val_acc: 0.1000\n",
      "Epoch 7/100\n",
      "50000/50000 [==============================] - 2s - loss: 2.3026 - acc: 0.0995 - val_loss: 2.3026 - val_acc: 0.1000\n",
      "Epoch 8/100\n",
      "50000/50000 [==============================] - 2s - loss: 2.3026 - acc: 0.0963 - val_loss: 2.3026 - val_acc: 0.0994\n",
      "Epoch 9/100\n",
      "50000/50000 [==============================] - 2s - loss: 2.3026 - acc: 0.0975 - val_loss: 2.3026 - val_acc: 0.1000\n",
      "Epoch 10/100\n",
      "50000/50000 [==============================] - 2s - loss: 2.3026 - acc: 0.0960 - val_loss: 2.3026 - val_acc: 0.1000\n",
      "Epoch 11/100\n",
      "50000/50000 [==============================] - 2s - loss: 2.3026 - acc: 0.0990 - val_loss: 2.3026 - val_acc: 0.1000\n",
      "Epoch 12/100\n",
      "50000/50000 [==============================] - 2s - loss: 2.3026 - acc: 0.0967 - val_loss: 2.3025 - val_acc: 0.1001\n",
      "Epoch 13/100\n",
      "50000/50000 [==============================] - 2s - loss: 2.3026 - acc: 0.0984 - val_loss: 2.3026 - val_acc: 0.1000\n",
      "Epoch 14/100\n",
      "50000/50000 [==============================] - 2s - loss: 2.3026 - acc: 0.0988 - val_loss: 2.3026 - val_acc: 0.0998\n",
      "Epoch 15/100\n",
      "50000/50000 [==============================] - 2s - loss: 2.3026 - acc: 0.0977 - val_loss: 2.3026 - val_acc: 0.0995\n",
      "Epoch 16/100\n",
      "50000/50000 [==============================] - 2s - loss: 2.3026 - acc: 0.0969 - val_loss: 2.3026 - val_acc: 0.1000\n",
      "Epoch 17/100\n",
      "50000/50000 [==============================] - 2s - loss: 2.3026 - acc: 0.0986 - val_loss: 2.3026 - val_acc: 0.1000\n",
      "Epoch 18/100\n",
      "50000/50000 [==============================] - 2s - loss: 2.3026 - acc: 0.0988 - val_loss: 2.3026 - val_acc: 0.1000\n",
      "Epoch 19/100\n",
      "50000/50000 [==============================] - 2s - loss: 2.3026 - acc: 0.0973 - val_loss: 2.3026 - val_acc: 0.0998\n",
      "Epoch 20/100\n",
      "50000/50000 [==============================] - 2s - loss: 2.3026 - acc: 0.0987 - val_loss: 2.3026 - val_acc: 0.1000\n",
      "Epoch 21/100\n",
      "50000/50000 [==============================] - 2s - loss: 2.3026 - acc: 0.0989 - val_loss: 2.3026 - val_acc: 0.1000\n",
      "Epoch 22/100\n",
      "50000/50000 [==============================] - 2s - loss: 2.3026 - acc: 0.0962 - val_loss: 2.3026 - val_acc: 0.0999\n",
      "Epoch 23/100\n",
      "50000/50000 [==============================] - 2s - loss: 2.3026 - acc: 0.0965 - val_loss: 2.3026 - val_acc: 0.1001\n",
      "Epoch 24/100\n",
      "50000/50000 [==============================] - 2s - loss: 2.3026 - acc: 0.0962 - val_loss: 2.3026 - val_acc: 0.0999\n",
      "Epoch 25/100\n",
      "50000/50000 [==============================] - 2s - loss: 2.3026 - acc: 0.0995 - val_loss: 2.3026 - val_acc: 0.1000\n",
      "Epoch 26/100\n",
      "50000/50000 [==============================] - 2s - loss: 2.3026 - acc: 0.0966 - val_loss: 2.3026 - val_acc: 0.1000\n",
      "Epoch 27/100\n",
      "50000/50000 [==============================] - 2s - loss: 2.3026 - acc: 0.0971 - val_loss: 2.3026 - val_acc: 0.1000\n",
      "Epoch 28/100\n",
      "50000/50000 [==============================] - 2s - loss: 2.3026 - acc: 0.0976 - val_loss: 2.3026 - val_acc: 0.0999\n",
      "Epoch 29/100\n",
      "50000/50000 [==============================] - 2s - loss: 2.3026 - acc: 0.0982 - val_loss: 2.3026 - val_acc: 0.1002\n",
      "Epoch 30/100\n",
      "50000/50000 [==============================] - 2s - loss: 2.3026 - acc: 0.0958 - val_loss: 2.3026 - val_acc: 0.0988\n",
      "Epoch 31/100\n",
      "50000/50000 [==============================] - 2s - loss: 2.3026 - acc: 0.0969 - val_loss: 2.3026 - val_acc: 0.1001\n",
      "Epoch 32/100\n",
      "50000/50000 [==============================] - 2s - loss: 2.3026 - acc: 0.0970 - val_loss: 2.3026 - val_acc: 0.1000\n",
      "Epoch 33/100\n",
      "50000/50000 [==============================] - 2s - loss: 2.3026 - acc: 0.0992 - val_loss: 2.3026 - val_acc: 0.0999\n",
      "Epoch 34/100\n",
      "50000/50000 [==============================] - 2s - loss: 2.3026 - acc: 0.0986 - val_loss: 2.3026 - val_acc: 0.1001\n",
      "Epoch 35/100\n",
      "50000/50000 [==============================] - 2s - loss: 2.3026 - acc: 0.0974 - val_loss: 2.3026 - val_acc: 0.1000\n",
      "Epoch 36/100\n",
      "50000/50000 [==============================] - 2s - loss: 2.3026 - acc: 0.0961 - val_loss: 2.3026 - val_acc: 0.1000\n",
      "Epoch 37/100\n",
      "50000/50000 [==============================] - 2s - loss: 2.3026 - acc: 0.0965 - val_loss: 2.3026 - val_acc: 0.1001\n",
      "Epoch 38/100\n",
      "50000/50000 [==============================] - 2s - loss: 2.3026 - acc: 0.0987 - val_loss: 2.3026 - val_acc: 0.1021\n",
      "Epoch 39/100\n",
      "50000/50000 [==============================] - 2s - loss: 2.3026 - acc: 0.0985 - val_loss: 2.3026 - val_acc: 0.1000\n",
      "Epoch 40/100\n",
      "50000/50000 [==============================] - 2s - loss: 2.3026 - acc: 0.0972 - val_loss: 2.3026 - val_acc: 0.0998\n",
      "Epoch 41/100\n",
      "50000/50000 [==============================] - 2s - loss: 2.3026 - acc: 0.0981 - val_loss: 2.3026 - val_acc: 0.1001\n",
      "Epoch 42/100\n",
      "50000/50000 [==============================] - 2s - loss: 2.3026 - acc: 0.0980 - val_loss: 2.3026 - val_acc: 0.1002\n",
      "Epoch 43/100\n",
      "50000/50000 [==============================] - 2s - loss: 2.3026 - acc: 0.0964 - val_loss: 2.3026 - val_acc: 0.0987\n",
      "Epoch 44/100\n",
      "50000/50000 [==============================] - 2s - loss: 2.3026 - acc: 0.0981 - val_loss: 2.3026 - val_acc: 0.0970\n",
      "Epoch 45/100\n",
      "50000/50000 [==============================] - 2s - loss: 2.3026 - acc: 0.0978 - val_loss: 2.3026 - val_acc: 0.1000\n",
      "Epoch 46/100\n",
      "50000/50000 [==============================] - 2s - loss: 2.3026 - acc: 0.0999 - val_loss: 2.3026 - val_acc: 0.1000\n",
      "Epoch 47/100\n",
      "50000/50000 [==============================] - 2s - loss: 2.3026 - acc: 0.0982 - val_loss: 2.3026 - val_acc: 0.1000\n",
      "Epoch 48/100\n",
      "50000/50000 [==============================] - 2s - loss: 2.3026 - acc: 0.0955 - val_loss: 2.3026 - val_acc: 0.1000\n",
      "Epoch 49/100\n",
      "50000/50000 [==============================] - 2s - loss: 2.3026 - acc: 0.0959 - val_loss: 2.3026 - val_acc: 0.1000\n",
      "Epoch 50/100\n",
      "50000/50000 [==============================] - 2s - loss: 2.3026 - acc: 0.0992 - val_loss: 2.3026 - val_acc: 0.1000\n",
      "Epoch 51/100\n",
      "50000/50000 [==============================] - 2s - loss: 2.3026 - acc: 0.0980 - val_loss: 2.3026 - val_acc: 0.1000\n",
      "Epoch 52/100\n",
      "50000/50000 [==============================] - 2s - loss: 2.3026 - acc: 0.0986 - val_loss: 2.3026 - val_acc: 0.1000\n",
      "Epoch 53/100\n",
      "50000/50000 [==============================] - 2s - loss: 2.3026 - acc: 0.0971 - val_loss: 2.3026 - val_acc: 0.1000\n",
      "Epoch 54/100\n",
      "50000/50000 [==============================] - 2s - loss: 2.3026 - acc: 0.0992 - val_loss: 2.3026 - val_acc: 0.1000\n",
      "Epoch 55/100\n",
      "50000/50000 [==============================] - 2s - loss: 2.3026 - acc: 0.0991 - val_loss: 2.3026 - val_acc: 0.0999\n",
      "Epoch 56/100\n",
      "50000/50000 [==============================] - 2s - loss: 2.3026 - acc: 0.0974 - val_loss: 2.3026 - val_acc: 0.0999\n",
      "Epoch 57/100\n",
      "50000/50000 [==============================] - 2s - loss: 2.3026 - acc: 0.0973 - val_loss: 2.3026 - val_acc: 0.1001\n",
      "Epoch 58/100\n",
      "50000/50000 [==============================] - 2s - loss: 2.3026 - acc: 0.0990 - val_loss: 2.3026 - val_acc: 0.0999\n",
      "Epoch 59/100\n",
      "50000/50000 [==============================] - 2s - loss: 2.3026 - acc: 0.0965 - val_loss: 2.3026 - val_acc: 0.0999\n",
      "Epoch 60/100\n",
      "50000/50000 [==============================] - 2s - loss: 2.3026 - acc: 0.0981 - val_loss: 2.3026 - val_acc: 0.1002\n",
      "Epoch 61/100\n",
      "50000/50000 [==============================] - 2s - loss: 2.3026 - acc: 0.0986 - val_loss: 2.3026 - val_acc: 0.0998\n",
      "Epoch 62/100\n",
      "50000/50000 [==============================] - 2s - loss: 2.3026 - acc: 0.0961 - val_loss: 2.3026 - val_acc: 0.1000\n",
      "Epoch 63/100\n",
      "50000/50000 [==============================] - 2s - loss: 2.3026 - acc: 0.0967 - val_loss: 2.3026 - val_acc: 0.0999\n",
      "Epoch 64/100\n",
      "50000/50000 [==============================] - 2s - loss: 2.3026 - acc: 0.0970 - val_loss: 2.3026 - val_acc: 0.1000\n",
      "Epoch 65/100\n",
      "50000/50000 [==============================] - 2s - loss: 2.3026 - acc: 0.0966 - val_loss: 2.3026 - val_acc: 0.1002\n",
      "Epoch 66/100\n",
      "50000/50000 [==============================] - 2s - loss: 2.3026 - acc: 0.0966 - val_loss: 2.3026 - val_acc: 0.0999\n",
      "Epoch 67/100\n",
      "50000/50000 [==============================] - 2s - loss: 2.3026 - acc: 0.0976 - val_loss: 2.3026 - val_acc: 0.1000\n",
      "Epoch 68/100\n",
      "50000/50000 [==============================] - 2s - loss: 2.3026 - acc: 0.0971 - val_loss: 2.3026 - val_acc: 0.1000\n",
      "Epoch 69/100\n",
      "50000/50000 [==============================] - 2s - loss: 2.3026 - acc: 0.0986 - val_loss: 2.3026 - val_acc: 0.1001\n",
      "Epoch 70/100\n",
      "50000/50000 [==============================] - 2s - loss: 2.3026 - acc: 0.0974 - val_loss: 2.3026 - val_acc: 0.1000\n",
      "Epoch 71/100\n",
      "50000/50000 [==============================] - 2s - loss: 2.3026 - acc: 0.0989 - val_loss: 2.3026 - val_acc: 0.1000\n",
      "Epoch 72/100\n",
      "50000/50000 [==============================] - 2s - loss: 2.3026 - acc: 0.0973 - val_loss: 2.3026 - val_acc: 0.0999\n",
      "Epoch 73/100\n",
      "50000/50000 [==============================] - 2s - loss: 2.3026 - acc: 0.0992 - val_loss: 2.3026 - val_acc: 0.1001\n",
      "Epoch 74/100\n",
      "50000/50000 [==============================] - 2s - loss: 2.3026 - acc: 0.0980 - val_loss: 2.3026 - val_acc: 0.1000\n",
      "Epoch 75/100\n",
      "50000/50000 [==============================] - 2s - loss: 2.3026 - acc: 0.0974 - val_loss: 2.3026 - val_acc: 0.0999\n",
      "Epoch 76/100\n",
      "50000/50000 [==============================] - 2s - loss: 2.3026 - acc: 0.0966 - val_loss: 2.3026 - val_acc: 0.0999\n",
      "Epoch 77/100\n",
      "50000/50000 [==============================] - 2s - loss: 2.3026 - acc: 0.0977 - val_loss: 2.3026 - val_acc: 0.0997\n",
      "Epoch 78/100\n",
      "50000/50000 [==============================] - 2s - loss: 2.3026 - acc: 0.0984 - val_loss: 2.3026 - val_acc: 0.1000\n",
      "Epoch 79/100\n",
      "50000/50000 [==============================] - 2s - loss: 2.3029 - acc: 0.0970 - val_loss: 2.3026 - val_acc: 0.1000\n",
      "Epoch 80/100\n",
      "50000/50000 [==============================] - 2s - loss: 2.3026 - acc: 0.0980 - val_loss: 2.3026 - val_acc: 0.0999\n",
      "Epoch 81/100\n",
      "50000/50000 [==============================] - 2s - loss: 2.3026 - acc: 0.0963 - val_loss: 2.3026 - val_acc: 0.1003\n",
      "Epoch 82/100\n",
      "50000/50000 [==============================] - 2s - loss: 2.3026 - acc: 0.0992 - val_loss: 2.3026 - val_acc: 0.1001\n",
      "Epoch 83/100\n",
      "50000/50000 [==============================] - 2s - loss: 2.3026 - acc: 0.0973 - val_loss: 2.3026 - val_acc: 0.1000\n",
      "Epoch 84/100\n",
      "50000/50000 [==============================] - 2s - loss: 2.3026 - acc: 0.0966 - val_loss: 2.3026 - val_acc: 0.1000\n",
      "Epoch 85/100\n",
      "50000/50000 [==============================] - 2s - loss: 2.3026 - acc: 0.0986 - val_loss: 2.3026 - val_acc: 0.1002\n",
      "Epoch 86/100\n",
      "50000/50000 [==============================] - 2s - loss: 2.3026 - acc: 0.0978 - val_loss: 2.3026 - val_acc: 0.0999\n",
      "Epoch 87/100\n",
      "50000/50000 [==============================] - 2s - loss: 2.3026 - acc: 0.0967 - val_loss: 2.3026 - val_acc: 0.1001\n",
      "Epoch 88/100\n",
      "50000/50000 [==============================] - 2s - loss: 2.3026 - acc: 0.0952 - val_loss: 2.3026 - val_acc: 0.0997\n",
      "Epoch 89/100\n",
      "50000/50000 [==============================] - 2s - loss: 2.3026 - acc: 0.0982 - val_loss: 2.3026 - val_acc: 0.1003\n",
      "Epoch 90/100\n",
      "50000/50000 [==============================] - 2s - loss: 2.3026 - acc: 0.0982 - val_loss: 2.3026 - val_acc: 0.1000\n",
      "Epoch 91/100\n",
      "50000/50000 [==============================] - 2s - loss: 2.3026 - acc: 0.0973 - val_loss: 2.3027 - val_acc: 0.1002\n",
      "Epoch 92/100\n",
      "50000/50000 [==============================] - 2s - loss: 2.3026 - acc: 0.0973 - val_loss: 2.3026 - val_acc: 0.1000\n",
      "Epoch 93/100\n",
      "50000/50000 [==============================] - 2s - loss: 2.3026 - acc: 0.0988 - val_loss: 2.3026 - val_acc: 0.1001\n",
      "Epoch 94/100\n",
      "50000/50000 [==============================] - 2s - loss: 2.3026 - acc: 0.0990 - val_loss: 2.3026 - val_acc: 0.1000\n",
      "Epoch 95/100\n",
      "50000/50000 [==============================] - 2s - loss: 2.3026 - acc: 0.0974 - val_loss: 2.3026 - val_acc: 0.1000\n",
      "Epoch 96/100\n",
      "50000/50000 [==============================] - 2s - loss: 2.3026 - acc: 0.0992 - val_loss: 2.3026 - val_acc: 0.0999\n",
      "Epoch 97/100\n",
      "50000/50000 [==============================] - 2s - loss: 2.3026 - acc: 0.0971 - val_loss: 2.3026 - val_acc: 0.0999\n",
      "Epoch 98/100\n",
      "50000/50000 [==============================] - 2s - loss: 2.3026 - acc: 0.0989 - val_loss: 2.3026 - val_acc: 0.1001\n",
      "Epoch 99/100\n",
      "50000/50000 [==============================] - 2s - loss: 2.3026 - acc: 0.0970 - val_loss: 2.3026 - val_acc: 0.0996\n",
      "Epoch 100/100\n",
      "50000/50000 [==============================] - 2s - loss: 2.3026 - acc: 0.0963 - val_loss: 2.3026 - val_acc: 0.1001\n",
      "--- Training Time - 292.995302916 seconds ---\n"
     ]
    }
   ],
   "source": [
    "import time\n",
    "start_time = time.time()\n",
    "history = model.fit(x_train, y_train,\n",
    "         batch_size=batch_size,\n",
    "         nb_epoch=epochs,\n",
    "         show_accuracy=True,\n",
    "         validation_data=(x_test, y_test),\n",
    "         shuffle=True)\n",
    "print(\"--- Training Time - %s seconds ---\" % (time.time() - start_time))"
   ]
  },
  {
   "cell_type": "code",
   "execution_count": 66,
   "metadata": {},
   "outputs": [
    {
     "name": "stdout",
     "output_type": "stream",
     "text": [
      "['acc', 'loss', 'val_acc', 'val_loss']\n"
     ]
    }
   ],
   "source": [
    "print(history.history.keys())\n",
    "from scipy.ndimage.filters import gaussian_filter1d\n",
    "\n",
    "train_acc=gaussian_filter1d(history.history['acc'], sigma=2)\n",
    "train_loss=gaussian_filter1d(history.history['loss'], sigma=2)\n",
    "test_acc=gaussian_filter1d(history.history['val_acc'], sigma=2)\n",
    "test_loss=gaussian_filter1d(history.history['val_loss'], sigma=2)\n"
   ]
  },
  {
   "cell_type": "code",
   "execution_count": 69,
   "metadata": {},
   "outputs": [
    {
     "data": {
      "text/plain": [
       "array([2.30259632, 2.30259622, 2.3025958 , 2.30259485, 2.30259354,\n",
       "       2.30259236, 2.30259171, 2.30259156, 2.30259154, 2.30259147,\n",
       "       2.30259156, 2.30259217, 2.30259345, 2.30259504, 2.3025963 ,\n",
       "       2.30259676, 2.3025965 , 2.30259584, 2.30259506, 2.30259443,\n",
       "       2.30259428, 2.30259483, 2.30259601, 2.30259752, 2.30259883,\n",
       "       2.30259944, 2.3025994 , 2.30259957, 2.30260086, 2.30260305,\n",
       "       2.30260474, 2.30260465, 2.30260289, 2.30260068, 2.30259887,\n",
       "       2.30259735, 2.30259568, 2.30259398, 2.30259281, 2.30259255,\n",
       "       2.3025931 , 2.30259404, 2.30259504, 2.30259594, 2.30259666,\n",
       "       2.30259714, 2.30259744, 2.30259783, 2.30259853, 2.30259945,\n",
       "       2.30260028, 2.30260083, 2.30260111, 2.30260118, 2.30260099,\n",
       "       2.30260034, 2.3025991 , 2.30259747, 2.30259594, 2.30259493,\n",
       "       2.30259442, 2.302594  , 2.30259331, 2.30259238, 2.30259157,\n",
       "       2.30259123, 2.30259151, 2.30259228, 2.30259324, 2.30259404,\n",
       "       2.30259455, 2.30259499, 2.30259611, 2.30259943, 2.30260703,\n",
       "       2.30262045, 2.30263826, 2.30265433, 2.30266044, 2.30265284,\n",
       "       2.3026359 , 2.30261806, 2.30260518, 2.30259824, 2.3025956 ,\n",
       "       2.30259541, 2.30259644, 2.30259772, 2.30259826, 2.3025974 ,\n",
       "       2.30259538, 2.3025933 , 2.30259238, 2.30259313, 2.30259511,\n",
       "       2.3025972 , 2.30259834, 2.30259814, 2.30259717, 2.30259637])"
      ]
     },
     "execution_count": 69,
     "metadata": {},
     "output_type": "execute_result"
    }
   ],
   "source": [
    "gaussian_filter1d(history.history['loss'], sigma=2)"
   ]
  },
  {
   "cell_type": "code",
   "execution_count": 75,
   "metadata": {
    "scrolled": true
   },
   "outputs": [
    {
     "data": {
      "text/plain": [
       "Text(0.5,1,'Test Accuracy: 0.10')"
      ]
     },
     "execution_count": 75,
     "metadata": {},
     "output_type": "execute_result"
    },
    {
     "data": {
      "image/png": "[encoded data removed]",
      "text/plain": [
       "<Figure size 432x288 with 2 Axes>"
      ]
     },
     "metadata": {
      "needs_background": "light"
     },
     "output_type": "display_data"
    }
   ],
   "source": [
    "\n",
    "_, ax1 = plt.subplots()\n",
    "ax2 = ax1.twinx()\n",
    "ax1.plot(range(epochs), train_loss)\n",
    "ax2.plot(range(len(test_acc)), test_acc, 'r')\n",
    "ax1.set_ylim(ymin = 2.29, ymax = 2.31)\n",
    "ax1.set_xlabel('epoch')\n",
    "ax1.set_ylabel('train loss')\n",
    "ax2.set_ylim(ymin = 0.08, ymax = 0.11)\n",
    "ax2.set_ylabel('test accuracy')\n",
    "ax2.set_title('Test Accuracy: {:.2f}'.format(test_acc[-1]))"
   ]
  },
  {
   "cell_type": "code",
   "execution_count": null,
   "metadata": {},
   "outputs": [],
   "source": []
  }
 ],
 "metadata": {
  "kernelspec": {
   "display_name": "Python 2",
   "language": "python",
   "name": "python2"
  },
  "language_info": {
   "codemirror_mode": {
    "name": "ipython",
    "version": 2
   },
   "file_extension": ".py",
   "mimetype": "text/x-python",
   "name": "python",
   "nbconvert_exporter": "python",
   "pygments_lexer": "ipython2",
   "version": "2.7.18"
  }
 },
 "nbformat": 4,
 "nbformat_minor": 2
}
