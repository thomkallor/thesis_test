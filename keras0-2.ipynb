{
 "cells": [
  {
   "cell_type": "code",
   "execution_count": 1,
   "metadata": {},
   "outputs": [],
   "source": [
    "import os\n",
    "os.environ[\"CUDA_VISIBLE_DEVICES\"]=\"1\"\n",
    "os.environ[\"THEANO_FLAGS\"]=\"mode=FAST_RUN,device=cuda1,floatX=float32\""
   ]
  },
  {
   "cell_type": "code",
   "execution_count": 2,
   "metadata": {},
   "outputs": [
    {
     "name": "stderr",
     "output_type": "stream",
     "text": [
      "Using TensorFlow backend.\n"
     ]
    }
   ],
   "source": [
    "import keras"
   ]
  },
  {
   "cell_type": "code",
   "execution_count": 3,
   "metadata": {},
   "outputs": [
    {
     "name": "stdout",
     "output_type": "stream",
     "text": [
      "x_train shape: (50000, 3, 32, 32)\n",
      "50000 train samples\n",
      "10000 test samples\n"
     ]
    }
   ],
   "source": [
    "'''\n",
    "#Train a simple deep CNN on the CIFAR10 small images dataset.\n",
    "\n",
    "It gets to 75% validation accuracy in 25 epochs, and 79% after 50 epochs.\n",
    "(it's still underfitting at that point, though).\n",
    "'''\n",
    "\n",
    "from __future__ import print_function\n",
    "from keras.datasets import cifar10\n",
    "from keras.preprocessing.image import ImageDataGenerator\n",
    "from keras.models import Sequential\n",
    "from keras.layers import Dense, Dropout, Activation, Flatten\n",
    "from keras.layers import Convolution2D, MaxPooling2D\n",
    "from keras.optimizers import SGD\n",
    "from keras.utils import np_utils\n",
    "import os\n",
    "\n",
    "batch_size = 1000\n",
    "num_classes = 10\n",
    "epochs = 100\n",
    "data_augmentation = True\n",
    "num_predictions = 20\n",
    "save_dir = os.path.join(os.getcwd(), 'saved_models')\n",
    "model_name = 'keras_cifar10_trained_model.h5'\n",
    "\n",
    "# The data, split between train and test sets:\n",
    "(x_train, y_train), (x_test, y_test) = cifar10.load_data()\n",
    "print('x_train shape:', x_train.shape)\n",
    "print(x_train.shape[0], 'train samples')\n",
    "print(x_test.shape[0], 'test samples')\n",
    "\n",
    "# Convert class vectors to binary class matrices.\n",
    "y_train = np_utils.to_categorical(y_train, num_classes)\n",
    "y_test = np_utils.to_categorical(y_test, num_classes)\n"
   ]
  },
  {
   "cell_type": "code",
   "execution_count": 4,
   "metadata": {},
   "outputs": [
    {
     "name": "stdout",
     "output_type": "stream",
     "text": [
      "(3, 32, 32)\n",
      "<type 'numpy.ndarray'>\n"
     ]
    }
   ],
   "source": [
    "print(x_train.shape[1:])\n",
    "print(type(x_train))"
   ]
  },
  {
   "cell_type": "code",
   "execution_count": 5,
   "metadata": {},
   "outputs": [],
   "source": [
    "import numpy as np"
   ]
  },
  {
   "cell_type": "code",
   "execution_count": 6,
   "metadata": {},
   "outputs": [],
   "source": [
    "def rgb2gray(rgb):\n",
    "    r, g, b = rgb[:,0,:,:], rgb[:,1,:,:], rgb[:,2,:,:]\n",
    "    gray = 0.2989 * r + 0.5870 * g + 0.1140 * b\n",
    "    gray = np.expand_dims(gray, axis=1)\n",
    "    print(gray.shape)\n",
    "    return gray"
   ]
  },
  {
   "cell_type": "code",
   "execution_count": 7,
   "metadata": {},
   "outputs": [
    {
     "name": "stdout",
     "output_type": "stream",
     "text": [
      "(50000, 1, 32, 32)\n",
      "(10000, 1, 32, 32)\n"
     ]
    }
   ],
   "source": [
    "x_train=rgb2gray(x_train)\n",
    "x_test=rgb2gray(x_test)"
   ]
  },
  {
   "cell_type": "code",
   "execution_count": 8,
   "metadata": {},
   "outputs": [
    {
     "data": {
      "text/plain": [
       "<matplotlib.image.AxesImage at 0x7ff6dc0e7f10>"
      ]
     },
     "execution_count": 8,
     "metadata": {},
     "output_type": "execute_result"
    }
   ],
   "source": [
    "import matplotlib.pyplot as plt\n",
    "import matplotlib.image as mpimage\n",
    "plt.imshow(x_train[1,0,:,:], cmap='gray')"
   ]
  },
  {
   "cell_type": "code",
   "execution_count": 9,
   "metadata": {},
   "outputs": [
    {
     "name": "stdout",
     "output_type": "stream",
     "text": [
      "(1, 32, 32)\n"
     ]
    }
   ],
   "source": [
    "print(x_train[0].shape)"
   ]
  },
  {
   "cell_type": "code",
   "execution_count": 10,
   "metadata": {},
   "outputs": [
    {
     "name": "stdout",
     "output_type": "stream",
     "text": [
      "(10000, 1, 32, 32)\n"
     ]
    }
   ],
   "source": [
    "print(x_test.shape)"
   ]
  },
  {
   "cell_type": "code",
   "execution_count": 11,
   "metadata": {
    "scrolled": true
   },
   "outputs": [
    {
     "name": "stderr",
     "output_type": "stream",
     "text": [
      "/usr/local/miniconda2/lib/python2.7/site-packages/ipykernel_launcher.py:2: UserWarning: Update your `Conv2D` call to the Keras 2 API: `Conv2D(6, (5, 5), padding=\"valid\", input_shape=(1, 32, 32...)`\n",
      "  \n",
      "/usr/local/miniconda2/lib/python2.7/site-packages/ipykernel_launcher.py:5: UserWarning: Update your `Conv2D` call to the Keras 2 API: `Conv2D(16, (5, 5), padding=\"valid\")`\n",
      "  \"\"\"\n"
     ]
    }
   ],
   "source": [
    "model = Sequential()\n",
    "model.add(Convolution2D(6, 5, 5, border_mode='valid', input_shape=(1, 32, 32)))\n",
    "model.add(MaxPooling2D(pool_size=(2, 2)))\n",
    "model.add(Activation('relu'))   \n",
    "model.add(Convolution2D(16, 5, 5, border_mode='valid'))\n",
    "model.add(MaxPooling2D(pool_size=(2, 2)))\n",
    "model.add(Activation('relu'))\n",
    "model.add(Flatten())\n",
    "model.add(Dense(120))\n",
    "model.add(Activation('relu'))\n",
    "model.add(Dense(84))\n",
    "model.add(Activation('relu'))\n",
    "model.add(Dense(10))\n",
    "model.add(Activation('softmax'))"
   ]
  },
  {
   "cell_type": "code",
   "execution_count": 12,
   "metadata": {},
   "outputs": [
    {
     "name": "stdout",
     "output_type": "stream",
     "text": [
      "(1, 32, 32)\n",
      "[[[ 61.2111  44.9847  48.023  ... 137.0222 130.4358 128.7672]\n",
      "  [ 18.8024   0.      10.0762 ...  94.6907  89.9901  94.0328]\n",
      "  [ 23.9545   8.8914  31.4071 ...  90.2782  90.876   80.2191]\n",
      "  ...\n",
      "  [172.9052 153.7659 156.6532 ... 133.875   35.7334  38.0797]\n",
      "  [146.339  128.6987 143.5434 ... 152.5896  69.2633  59.7957]\n",
      "  [150.6573 136.6542 146.7751 ... 188.5304 123.9759  98.9767]]]\n"
     ]
    }
   ],
   "source": [
    "print(x_train[0].shape)\n",
    "print(x_train[0,:,:,:])"
   ]
  },
  {
   "cell_type": "code",
   "execution_count": 13,
   "metadata": {},
   "outputs": [
    {
     "data": {
      "text/plain": [
       "10"
      ]
     },
     "execution_count": 13,
     "metadata": {},
     "output_type": "execute_result"
    }
   ],
   "source": [
    "y_test.shape[1]"
   ]
  },
  {
   "cell_type": "code",
   "execution_count": 14,
   "metadata": {},
   "outputs": [],
   "source": [
    "# Loss function\n",
    "def neg_log_likelihood_loss(y_true, y_pred):\n",
    "    ##sep = y_pred.shape[1] // 2\n",
    "    mu, logvar = y_pred[:, :10], y_pred[:, 10:]\n",
    "    return K.sum(0.5*(logvar+np.log(2*np.pi)+K.square((y_true-mu)/K.exp(0.5*logvar))), axis=-1)"
   ]
  },
  {
   "cell_type": "code",
   "execution_count": 15,
   "metadata": {},
   "outputs": [],
   "source": [
    "# initiate RMSprop optimizer\n",
    "sgd = SGD(lr=0.01, decay=0, momentum=0.5, nesterov=True)\n",
    "\n",
    "# Let's train the model using RMSprop\n",
    "model.compile(loss='categorical_crossentropy',\n",
    "              optimizer=sgd,\n",
    "              metrics=['categorical_crossentropy', 'accuracy']\n",
    "             )\n",
    "\n",
    "x_train = x_train.astype('float32')\n",
    "x_test = x_test.astype('float32')\n",
    "x_train /= 255\n",
    "x_test /= 255"
   ]
  },
  {
   "cell_type": "code",
   "execution_count": 17,
   "metadata": {},
   "outputs": [
    {
     "data": {
      "text/plain": [
       "numpy.ndarray"
      ]
     },
     "execution_count": 17,
     "metadata": {},
     "output_type": "execute_result"
    }
   ],
   "source": [
    "type(x_train)"
   ]
  },
  {
   "cell_type": "code",
   "execution_count": 27,
   "metadata": {},
   "outputs": [
    {
     "name": "stdout",
     "output_type": "stream",
     "text": [
      "Train on 50000 samples, validate on 10000 samples\n",
      "Epoch 1/10\n",
      "50000/50000 [==============================] - 0s - loss: 2.3025 - categorical_crossentropy: 2.3025 - acc: 0.1114 - val_loss: 2.3025 - val_categorical_crossentropy: 2.3025 - val_acc: 0.1065\n",
      "Epoch 2/10\n",
      "50000/50000 [==============================] - 0s - loss: 2.3025 - categorical_crossentropy: 2.3025 - acc: 0.1056 - val_loss: 2.3025 - val_categorical_crossentropy: 2.3025 - val_acc: 0.1000\n",
      "Epoch 3/10\n",
      "50000/50000 [==============================] - 0s - loss: 2.3025 - categorical_crossentropy: 2.3025 - acc: 0.1109 - val_loss: 2.3025 - val_categorical_crossentropy: 2.3025 - val_acc: 0.1001\n",
      "Epoch 4/10\n",
      "50000/50000 [==============================] - 0s - loss: 2.3025 - categorical_crossentropy: 2.3025 - acc: 0.1018 - val_loss: 2.3025 - val_categorical_crossentropy: 2.3025 - val_acc: 0.1000\n",
      "Epoch 5/10\n",
      "50000/50000 [==============================] - 0s - loss: 2.3025 - categorical_crossentropy: 2.3025 - acc: 0.1101 - val_loss: 2.3025 - val_categorical_crossentropy: 2.3025 - val_acc: 0.1009\n",
      "Epoch 6/10\n",
      "50000/50000 [==============================] - 0s - loss: 2.3025 - categorical_crossentropy: 2.3025 - acc: 0.1109 - val_loss: 2.3025 - val_categorical_crossentropy: 2.3025 - val_acc: 0.1307\n",
      "Epoch 7/10\n",
      "50000/50000 [==============================] - 0s - loss: 2.3025 - categorical_crossentropy: 2.3025 - acc: 0.1114 - val_loss: 2.3024 - val_categorical_crossentropy: 2.3024 - val_acc: 0.1089\n",
      "Epoch 8/10\n",
      "50000/50000 [==============================] - 0s - loss: 2.3025 - categorical_crossentropy: 2.3025 - acc: 0.1092 - val_loss: 2.3024 - val_categorical_crossentropy: 2.3024 - val_acc: 0.1000\n",
      "Epoch 9/10\n",
      "50000/50000 [==============================] - 0s - loss: 2.3025 - categorical_crossentropy: 2.3025 - acc: 0.1049 - val_loss: 2.3024 - val_categorical_crossentropy: 2.3024 - val_acc: 0.1743\n",
      "Epoch 10/10\n",
      "50000/50000 [==============================] - 0s - loss: 2.3025 - categorical_crossentropy: 2.3025 - acc: 0.1152 - val_loss: 2.3024 - val_categorical_crossentropy: 2.3024 - val_acc: 0.0999\n"
     ]
    },
    {
     "data": {
      "text/plain": [
       "<keras.callbacks.History at 0x7f6180b53be0>"
      ]
     },
     "execution_count": 27,
     "metadata": {},
     "output_type": "execute_result"
    }
   ],
   "source": [
    "model.fit(x_train, y_train,\n",
    "         batch_size=batch_size,\n",
    "         nb_epoch=10,\n",
    "         validation_data=(x_test, y_test),\n",
    "         shuffle=True)"
   ]
  },
  {
   "cell_type": "code",
   "execution_count": 16,
   "metadata": {
    "scrolled": true
   },
   "outputs": [
    {
     "name": "stdout",
     "output_type": "stream",
     "text": [
      "Using real-time data augmentation.\n"
     ]
    },
    {
     "name": "stderr",
     "output_type": "stream",
     "text": [
      "/usr/local/miniconda2/lib/python2.7/site-packages/ipykernel_launcher.py:34: UserWarning: The semantics of the Keras 2 argument `steps_per_epoch` is not the same as the Keras 1 argument `samples_per_epoch`. `steps_per_epoch` is the number of batches to draw from the generator at each epoch. Basically steps_per_epoch = samples_per_epoch/batch_size. Similarly `nb_val_samples`->`validation_steps` and `val_samples`->`steps` arguments have changed. Update your method calls accordingly.\n",
      "/usr/local/miniconda2/lib/python2.7/site-packages/ipykernel_launcher.py:34: UserWarning: Update your `fit_generator` call to the Keras 2 API: `fit_generator(<keras.pre..., epochs=100, validation_data=(array([[[..., steps_per_epoch=50)`\n"
     ]
    },
    {
     "name": "stdout",
     "output_type": "stream",
     "text": [
      "Epoch 1/100\n",
      "50/50 [==============================] - 6s - loss: 2.3017 - categorical_crossentropy: 2.3017 - acc: 0.1039 - val_loss: 2.2990 - val_categorical_crossentropy: 2.2990 - val_acc: 0.1079\n",
      "Epoch 2/100\n",
      "50/50 [==============================] - 6s - loss: 2.2982 - categorical_crossentropy: 2.2982 - acc: 0.1177 - val_loss: 2.2969 - val_categorical_crossentropy: 2.2969 - val_acc: 0.1264\n",
      "Epoch 3/100\n",
      "50/50 [==============================] - 6s - loss: 2.2959 - categorical_crossentropy: 2.2959 - acc: 0.1329 - val_loss: 2.2945 - val_categorical_crossentropy: 2.2945 - val_acc: 0.1367\n",
      "Epoch 4/100\n",
      "50/50 [==============================] - 6s - loss: 2.2934 - categorical_crossentropy: 2.2934 - acc: 0.1393 - val_loss: 2.2914 - val_categorical_crossentropy: 2.2914 - val_acc: 0.1445\n",
      "Epoch 5/100\n",
      "50/50 [==============================] - 6s - loss: 2.2900 - categorical_crossentropy: 2.2900 - acc: 0.1453 - val_loss: 2.2871 - val_categorical_crossentropy: 2.2871 - val_acc: 0.1481\n",
      "Epoch 6/100\n",
      "50/50 [==============================] - 6s - loss: 2.2849 - categorical_crossentropy: 2.2849 - acc: 0.1502 - val_loss: 2.2805 - val_categorical_crossentropy: 2.2805 - val_acc: 0.1593\n",
      "Epoch 7/100\n",
      "50/50 [==============================] - 6s - loss: 2.2773 - categorical_crossentropy: 2.2773 - acc: 0.1607 - val_loss: 2.2696 - val_categorical_crossentropy: 2.2696 - val_acc: 0.1696\n",
      "Epoch 8/100\n",
      "50/50 [==============================] - 6s - loss: 2.2633 - categorical_crossentropy: 2.2633 - acc: 0.1751 - val_loss: 2.2500 - val_categorical_crossentropy: 2.2500 - val_acc: 0.1922\n",
      "Epoch 9/100\n",
      "50/50 [==============================] - 6s - loss: 2.2373 - categorical_crossentropy: 2.2373 - acc: 0.1847 - val_loss: 2.2129 - val_categorical_crossentropy: 2.2129 - val_acc: 0.2013\n",
      "Epoch 10/100\n",
      "50/50 [==============================] - 6s - loss: 2.1977 - categorical_crossentropy: 2.1977 - acc: 0.1925 - val_loss: 2.1692 - val_categorical_crossentropy: 2.1692 - val_acc: 0.2110\n",
      "Epoch 11/100\n",
      "50/50 [==============================] - 6s - loss: 2.1639 - categorical_crossentropy: 2.1639 - acc: 0.2057 - val_loss: 2.1381 - val_categorical_crossentropy: 2.1381 - val_acc: 0.2236\n",
      "Epoch 12/100\n",
      "50/50 [==============================] - 6s - loss: 2.1408 - categorical_crossentropy: 2.1408 - acc: 0.2173 - val_loss: 2.1132 - val_categorical_crossentropy: 2.1132 - val_acc: 0.2368\n",
      "Epoch 13/100\n",
      "50/50 [==============================] - 6s - loss: 2.1225 - categorical_crossentropy: 2.1225 - acc: 0.2255 - val_loss: 2.0901 - val_categorical_crossentropy: 2.0901 - val_acc: 0.2409\n",
      "Epoch 14/100\n",
      "50/50 [==============================] - 6s - loss: 2.1051 - categorical_crossentropy: 2.1051 - acc: 0.2381 - val_loss: 2.0712 - val_categorical_crossentropy: 2.0712 - val_acc: 0.2595\n",
      "Epoch 15/100\n",
      "50/50 [==============================] - 6s - loss: 2.0883 - categorical_crossentropy: 2.0883 - acc: 0.2446 - val_loss: 2.0700 - val_categorical_crossentropy: 2.0700 - val_acc: 0.2403\n",
      "Epoch 16/100\n",
      "50/50 [==============================] - 6s - loss: 2.0743 - categorical_crossentropy: 2.0743 - acc: 0.2498 - val_loss: 2.0334 - val_categorical_crossentropy: 2.0334 - val_acc: 0.2722\n",
      "Epoch 17/100\n",
      "50/50 [==============================] - 6s - loss: 2.0565 - categorical_crossentropy: 2.0565 - acc: 0.2579 - val_loss: 2.0362 - val_categorical_crossentropy: 2.0362 - val_acc: 0.2733\n",
      "Epoch 18/100\n",
      "50/50 [==============================] - 6s - loss: 2.0399 - categorical_crossentropy: 2.0399 - acc: 0.2652 - val_loss: 2.0121 - val_categorical_crossentropy: 2.0121 - val_acc: 0.2822\n",
      "Epoch 19/100\n",
      "50/50 [==============================] - 6s - loss: 2.0260 - categorical_crossentropy: 2.0260 - acc: 0.2713 - val_loss: 2.0177 - val_categorical_crossentropy: 2.0177 - val_acc: 0.2815\n",
      "Epoch 20/100\n",
      "50/50 [==============================] - 6s - loss: 2.0073 - categorical_crossentropy: 2.0073 - acc: 0.2800 - val_loss: 1.9609 - val_categorical_crossentropy: 1.9609 - val_acc: 0.3023\n",
      "Epoch 21/100\n",
      "50/50 [==============================] - 6s - loss: 1.9943 - categorical_crossentropy: 1.9943 - acc: 0.2851 - val_loss: 1.9698 - val_categorical_crossentropy: 1.9698 - val_acc: 0.2896\n",
      "Epoch 22/100\n",
      "50/50 [==============================] - 6s - loss: 1.9817 - categorical_crossentropy: 1.9817 - acc: 0.2914 - val_loss: 1.9394 - val_categorical_crossentropy: 1.9394 - val_acc: 0.3146\n",
      "Epoch 23/100\n",
      "50/50 [==============================] - 6s - loss: 1.9645 - categorical_crossentropy: 1.9645 - acc: 0.2974 - val_loss: 1.9175 - val_categorical_crossentropy: 1.9175 - val_acc: 0.3138\n",
      "Epoch 24/100\n",
      "50/50 [==============================] - 6s - loss: 1.9497 - categorical_crossentropy: 1.9497 - acc: 0.3009 - val_loss: 1.8833 - val_categorical_crossentropy: 1.8833 - val_acc: 0.3361\n",
      "Epoch 25/100\n",
      "50/50 [==============================] - 6s - loss: 1.9374 - categorical_crossentropy: 1.9374 - acc: 0.3063 - val_loss: 1.8623 - val_categorical_crossentropy: 1.8623 - val_acc: 0.3427\n",
      "Epoch 26/100\n",
      "50/50 [==============================] - 6s - loss: 1.9256 - categorical_crossentropy: 1.9256 - acc: 0.3126 - val_loss: 1.8498 - val_categorical_crossentropy: 1.8498 - val_acc: 0.3446\n",
      "Epoch 27/100\n",
      "50/50 [==============================] - 6s - loss: 1.9158 - categorical_crossentropy: 1.9158 - acc: 0.3154 - val_loss: 1.8527 - val_categorical_crossentropy: 1.8527 - val_acc: 0.3340\n",
      "Epoch 28/100\n",
      "50/50 [==============================] - 6s - loss: 1.8930 - categorical_crossentropy: 1.8930 - acc: 0.3248 - val_loss: 1.8146 - val_categorical_crossentropy: 1.8146 - val_acc: 0.3568\n",
      "Epoch 29/100\n",
      "50/50 [==============================] - 6s - loss: 1.8867 - categorical_crossentropy: 1.8867 - acc: 0.3254 - val_loss: 1.8196 - val_categorical_crossentropy: 1.8196 - val_acc: 0.3495\n",
      "Epoch 30/100\n",
      "50/50 [==============================] - 6s - loss: 1.8734 - categorical_crossentropy: 1.8734 - acc: 0.3307 - val_loss: 1.7889 - val_categorical_crossentropy: 1.7889 - val_acc: 0.3625\n",
      "Epoch 31/100\n",
      "50/50 [==============================] - 6s - loss: 1.8651 - categorical_crossentropy: 1.8651 - acc: 0.3305 - val_loss: 1.8663 - val_categorical_crossentropy: 1.8663 - val_acc: 0.3399\n",
      "Epoch 32/100\n",
      "50/50 [==============================] - 6s - loss: 1.8462 - categorical_crossentropy: 1.8462 - acc: 0.3377 - val_loss: 1.7881 - val_categorical_crossentropy: 1.7881 - val_acc: 0.3607\n",
      "Epoch 33/100\n",
      "50/50 [==============================] - 6s - loss: 1.8402 - categorical_crossentropy: 1.8402 - acc: 0.3429 - val_loss: 1.7597 - val_categorical_crossentropy: 1.7597 - val_acc: 0.3762\n",
      "Epoch 34/100\n",
      "50/50 [==============================] - 6s - loss: 1.8403 - categorical_crossentropy: 1.8403 - acc: 0.3410 - val_loss: 1.7889 - val_categorical_crossentropy: 1.7889 - val_acc: 0.3577\n",
      "Epoch 35/100\n",
      "50/50 [==============================] - 6s - loss: 1.8223 - categorical_crossentropy: 1.8223 - acc: 0.3475 - val_loss: 1.7878 - val_categorical_crossentropy: 1.7878 - val_acc: 0.3583\n",
      "Epoch 36/100\n",
      "50/50 [==============================] - 6s - loss: 1.8166 - categorical_crossentropy: 1.8166 - acc: 0.3515 - val_loss: 1.7501 - val_categorical_crossentropy: 1.7501 - val_acc: 0.3742\n",
      "Epoch 37/100\n",
      "50/50 [==============================] - 6s - loss: 1.8108 - categorical_crossentropy: 1.8108 - acc: 0.3532 - val_loss: 1.7515 - val_categorical_crossentropy: 1.7515 - val_acc: 0.3746\n",
      "Epoch 38/100\n",
      "50/50 [==============================] - 6s - loss: 1.7999 - categorical_crossentropy: 1.7999 - acc: 0.3548 - val_loss: 1.7446 - val_categorical_crossentropy: 1.7446 - val_acc: 0.3765\n",
      "Epoch 39/100\n",
      "50/50 [==============================] - 6s - loss: 1.7985 - categorical_crossentropy: 1.7985 - acc: 0.3552 - val_loss: 1.7278 - val_categorical_crossentropy: 1.7278 - val_acc: 0.3842\n",
      "Epoch 40/100\n",
      "50/50 [==============================] - 6s - loss: 1.7809 - categorical_crossentropy: 1.7809 - acc: 0.3607 - val_loss: 1.7276 - val_categorical_crossentropy: 1.7276 - val_acc: 0.3837\n",
      "Epoch 41/100\n",
      "50/50 [==============================] - 6s - loss: 1.7760 - categorical_crossentropy: 1.7760 - acc: 0.3649 - val_loss: 1.7085 - val_categorical_crossentropy: 1.7085 - val_acc: 0.3912\n",
      "Epoch 42/100\n"
     ]
    },
    {
     "name": "stdout",
     "output_type": "stream",
     "text": [
      "50/50 [==============================] - 6s - loss: 1.7708 - categorical_crossentropy: 1.7708 - acc: 0.3678 - val_loss: 1.7174 - val_categorical_crossentropy: 1.7174 - val_acc: 0.3878\n",
      "Epoch 43/100\n",
      "50/50 [==============================] - 6s - loss: 1.7597 - categorical_crossentropy: 1.7597 - acc: 0.3721 - val_loss: 1.6825 - val_categorical_crossentropy: 1.6825 - val_acc: 0.4000\n",
      "Epoch 44/100\n",
      "50/50 [==============================] - 6s - loss: 1.7568 - categorical_crossentropy: 1.7568 - acc: 0.3691 - val_loss: 1.6663 - val_categorical_crossentropy: 1.6663 - val_acc: 0.4038\n",
      "Epoch 45/100\n",
      "50/50 [==============================] - 6s - loss: 1.7543 - categorical_crossentropy: 1.7543 - acc: 0.3719 - val_loss: 1.6686 - val_categorical_crossentropy: 1.6686 - val_acc: 0.4023\n",
      "Epoch 46/100\n",
      "50/50 [==============================] - 6s - loss: 1.7411 - categorical_crossentropy: 1.7411 - acc: 0.3764 - val_loss: 1.6681 - val_categorical_crossentropy: 1.6681 - val_acc: 0.4055\n",
      "Epoch 47/100\n",
      "50/50 [==============================] - 6s - loss: 1.7412 - categorical_crossentropy: 1.7412 - acc: 0.3773 - val_loss: 1.6580 - val_categorical_crossentropy: 1.6580 - val_acc: 0.4080\n",
      "Epoch 48/100\n",
      "50/50 [==============================] - 6s - loss: 1.7368 - categorical_crossentropy: 1.7368 - acc: 0.3793 - val_loss: 1.6581 - val_categorical_crossentropy: 1.6581 - val_acc: 0.4091\n",
      "Epoch 49/100\n",
      "50/50 [==============================] - 6s - loss: 1.7282 - categorical_crossentropy: 1.7282 - acc: 0.3822 - val_loss: 1.7480 - val_categorical_crossentropy: 1.7480 - val_acc: 0.3739\n",
      "Epoch 50/100\n",
      "50/50 [==============================] - 6s - loss: 1.7203 - categorical_crossentropy: 1.7203 - acc: 0.3846 - val_loss: 1.6686 - val_categorical_crossentropy: 1.6686 - val_acc: 0.4063\n",
      "Epoch 51/100\n",
      "50/50 [==============================] - 6s - loss: 1.7210 - categorical_crossentropy: 1.7210 - acc: 0.3849 - val_loss: 1.6387 - val_categorical_crossentropy: 1.6387 - val_acc: 0.4088\n",
      "Epoch 52/100\n",
      "50/50 [==============================] - 6s - loss: 1.7087 - categorical_crossentropy: 1.7087 - acc: 0.3899 - val_loss: 1.6623 - val_categorical_crossentropy: 1.6623 - val_acc: 0.4021\n",
      "Epoch 53/100\n",
      "50/50 [==============================] - 6s - loss: 1.7143 - categorical_crossentropy: 1.7143 - acc: 0.3870 - val_loss: 1.6204 - val_categorical_crossentropy: 1.6204 - val_acc: 0.4196\n",
      "Epoch 54/100\n",
      "50/50 [==============================] - 6s - loss: 1.7076 - categorical_crossentropy: 1.7076 - acc: 0.3900 - val_loss: 1.6202 - val_categorical_crossentropy: 1.6202 - val_acc: 0.4171\n",
      "Epoch 55/100\n",
      "50/50 [==============================] - 6s - loss: 1.6921 - categorical_crossentropy: 1.6921 - acc: 0.3938 - val_loss: 1.6259 - val_categorical_crossentropy: 1.6259 - val_acc: 0.4180\n",
      "Epoch 56/100\n",
      "50/50 [==============================] - 6s - loss: 1.6931 - categorical_crossentropy: 1.6931 - acc: 0.3950 - val_loss: 1.6598 - val_categorical_crossentropy: 1.6598 - val_acc: 0.4023\n",
      "Epoch 57/100\n",
      "50/50 [==============================] - 6s - loss: 1.6890 - categorical_crossentropy: 1.6890 - acc: 0.3937 - val_loss: 1.6304 - val_categorical_crossentropy: 1.6304 - val_acc: 0.4155\n",
      "Epoch 58/100\n",
      "50/50 [==============================] - 6s - loss: 1.6850 - categorical_crossentropy: 1.6850 - acc: 0.3960 - val_loss: 1.6019 - val_categorical_crossentropy: 1.6019 - val_acc: 0.4274\n",
      "Epoch 59/100\n",
      "50/50 [==============================] - 6s - loss: 1.6812 - categorical_crossentropy: 1.6812 - acc: 0.3982 - val_loss: 1.6283 - val_categorical_crossentropy: 1.6283 - val_acc: 0.4166\n",
      "Epoch 60/100\n",
      "50/50 [==============================] - 6s - loss: 1.6747 - categorical_crossentropy: 1.6747 - acc: 0.4020 - val_loss: 1.6139 - val_categorical_crossentropy: 1.6139 - val_acc: 0.4244\n",
      "Epoch 61/100\n",
      "50/50 [==============================] - 6s - loss: 1.6734 - categorical_crossentropy: 1.6734 - acc: 0.3991 - val_loss: 1.5830 - val_categorical_crossentropy: 1.5830 - val_acc: 0.4294\n",
      "Epoch 62/100\n",
      "50/50 [==============================] - 6s - loss: 1.6697 - categorical_crossentropy: 1.6697 - acc: 0.4033 - val_loss: 1.6075 - val_categorical_crossentropy: 1.6075 - val_acc: 0.4200\n",
      "Epoch 63/100\n",
      "50/50 [==============================] - 6s - loss: 1.6598 - categorical_crossentropy: 1.6598 - acc: 0.4055 - val_loss: 1.5827 - val_categorical_crossentropy: 1.5827 - val_acc: 0.4342\n",
      "Epoch 64/100\n",
      "50/50 [==============================] - 6s - loss: 1.6492 - categorical_crossentropy: 1.6492 - acc: 0.4078 - val_loss: 1.6932 - val_categorical_crossentropy: 1.6932 - val_acc: 0.3979\n",
      "Epoch 65/100\n",
      "50/50 [==============================] - 6s - loss: 1.6563 - categorical_crossentropy: 1.6563 - acc: 0.4090 - val_loss: 1.5794 - val_categorical_crossentropy: 1.5794 - val_acc: 0.4359\n",
      "Epoch 66/100\n",
      "50/50 [==============================] - 6s - loss: 1.6527 - categorical_crossentropy: 1.6527 - acc: 0.4117 - val_loss: 1.5628 - val_categorical_crossentropy: 1.5628 - val_acc: 0.4379\n",
      "Epoch 67/100\n",
      "50/50 [==============================] - 6s - loss: 1.6557 - categorical_crossentropy: 1.6557 - acc: 0.4104 - val_loss: 1.5811 - val_categorical_crossentropy: 1.5811 - val_acc: 0.4393\n",
      "Epoch 68/100\n",
      "50/50 [==============================] - 6s - loss: 1.6380 - categorical_crossentropy: 1.6380 - acc: 0.4147 - val_loss: 1.5782 - val_categorical_crossentropy: 1.5782 - val_acc: 0.4342\n",
      "Epoch 69/100\n",
      "50/50 [==============================] - 6s - loss: 1.6457 - categorical_crossentropy: 1.6457 - acc: 0.4124 - val_loss: 1.5615 - val_categorical_crossentropy: 1.5615 - val_acc: 0.4427\n",
      "Epoch 70/100\n",
      "50/50 [==============================] - 6s - loss: 1.6318 - categorical_crossentropy: 1.6318 - acc: 0.4180 - val_loss: 1.5762 - val_categorical_crossentropy: 1.5762 - val_acc: 0.4378\n",
      "Epoch 71/100\n",
      "50/50 [==============================] - 6s - loss: 1.6274 - categorical_crossentropy: 1.6274 - acc: 0.4190 - val_loss: 1.5696 - val_categorical_crossentropy: 1.5696 - val_acc: 0.4371\n",
      "Epoch 72/100\n",
      "50/50 [==============================] - 6s - loss: 1.6249 - categorical_crossentropy: 1.6249 - acc: 0.4193 - val_loss: 1.5359 - val_categorical_crossentropy: 1.5359 - val_acc: 0.4518\n",
      "Epoch 73/100\n",
      "50/50 [==============================] - 6s - loss: 1.6251 - categorical_crossentropy: 1.6251 - acc: 0.4213 - val_loss: 1.5719 - val_categorical_crossentropy: 1.5719 - val_acc: 0.4317\n",
      "Epoch 74/100\n",
      "50/50 [==============================] - 6s - loss: 1.6144 - categorical_crossentropy: 1.6144 - acc: 0.4244 - val_loss: 1.5949 - val_categorical_crossentropy: 1.5949 - val_acc: 0.4322\n",
      "Epoch 75/100\n",
      "50/50 [==============================] - 6s - loss: 1.6239 - categorical_crossentropy: 1.6239 - acc: 0.4208 - val_loss: 1.5776 - val_categorical_crossentropy: 1.5776 - val_acc: 0.4364\n",
      "Epoch 76/100\n",
      "50/50 [==============================] - 6s - loss: 1.6093 - categorical_crossentropy: 1.6093 - acc: 0.4254 - val_loss: 1.5695 - val_categorical_crossentropy: 1.5695 - val_acc: 0.4397\n",
      "Epoch 77/100\n",
      "50/50 [==============================] - 6s - loss: 1.6050 - categorical_crossentropy: 1.6050 - acc: 0.4286 - val_loss: 1.5239 - val_categorical_crossentropy: 1.5239 - val_acc: 0.4515\n",
      "Epoch 78/100\n",
      "50/50 [==============================] - 6s - loss: 1.6100 - categorical_crossentropy: 1.6100 - acc: 0.4292 - val_loss: 1.5313 - val_categorical_crossentropy: 1.5313 - val_acc: 0.4527\n",
      "Epoch 79/100\n",
      "50/50 [==============================] - 6s - loss: 1.6019 - categorical_crossentropy: 1.6019 - acc: 0.4286 - val_loss: 1.5474 - val_categorical_crossentropy: 1.5474 - val_acc: 0.4455\n",
      "Epoch 80/100\n",
      "50/50 [==============================] - 6s - loss: 1.5885 - categorical_crossentropy: 1.5885 - acc: 0.4337 - val_loss: 1.5672 - val_categorical_crossentropy: 1.5672 - val_acc: 0.4423\n",
      "Epoch 81/100\n",
      "50/50 [==============================] - 6s - loss: 1.5988 - categorical_crossentropy: 1.5988 - acc: 0.4333 - val_loss: 1.5170 - val_categorical_crossentropy: 1.5170 - val_acc: 0.4561\n",
      "Epoch 82/100\n",
      "50/50 [==============================] - 6s - loss: 1.5946 - categorical_crossentropy: 1.5946 - acc: 0.4324 - val_loss: 1.5187 - val_categorical_crossentropy: 1.5187 - val_acc: 0.4564\n",
      "Epoch 83/100\n"
     ]
    },
    {
     "name": "stdout",
     "output_type": "stream",
     "text": [
      "50/50 [==============================] - 6s - loss: 1.5923 - categorical_crossentropy: 1.5923 - acc: 0.4336 - val_loss: 1.5065 - val_categorical_crossentropy: 1.5065 - val_acc: 0.4610\n",
      "Epoch 84/100\n",
      "50/50 [==============================] - 6s - loss: 1.5848 - categorical_crossentropy: 1.5848 - acc: 0.4350 - val_loss: 1.5287 - val_categorical_crossentropy: 1.5287 - val_acc: 0.4516\n",
      "Epoch 85/100\n",
      "50/50 [==============================] - 6s - loss: 1.5930 - categorical_crossentropy: 1.5930 - acc: 0.4337 - val_loss: 1.4972 - val_categorical_crossentropy: 1.4972 - val_acc: 0.4617\n",
      "Epoch 86/100\n",
      "50/50 [==============================] - 6s - loss: 1.5797 - categorical_crossentropy: 1.5797 - acc: 0.4396 - val_loss: 1.4893 - val_categorical_crossentropy: 1.4893 - val_acc: 0.4672\n",
      "Epoch 87/100\n",
      "50/50 [==============================] - 6s - loss: 1.5735 - categorical_crossentropy: 1.5735 - acc: 0.4405 - val_loss: 1.5139 - val_categorical_crossentropy: 1.5139 - val_acc: 0.4603\n",
      "Epoch 88/100\n",
      "50/50 [==============================] - 6s - loss: 1.5694 - categorical_crossentropy: 1.5694 - acc: 0.4389 - val_loss: 1.5098 - val_categorical_crossentropy: 1.5098 - val_acc: 0.4621\n",
      "Epoch 89/100\n",
      "50/50 [==============================] - 6s - loss: 1.5689 - categorical_crossentropy: 1.5689 - acc: 0.4412 - val_loss: 1.4780 - val_categorical_crossentropy: 1.4780 - val_acc: 0.4726\n",
      "Epoch 90/100\n",
      "50/50 [==============================] - 6s - loss: 1.5607 - categorical_crossentropy: 1.5607 - acc: 0.4447 - val_loss: 1.4840 - val_categorical_crossentropy: 1.4840 - val_acc: 0.4714\n",
      "Epoch 91/100\n",
      "50/50 [==============================] - 6s - loss: 1.5563 - categorical_crossentropy: 1.5563 - acc: 0.4479 - val_loss: 1.5329 - val_categorical_crossentropy: 1.5329 - val_acc: 0.4517\n",
      "Epoch 92/100\n",
      "50/50 [==============================] - 6s - loss: 1.5616 - categorical_crossentropy: 1.5616 - acc: 0.4446 - val_loss: 1.4742 - val_categorical_crossentropy: 1.4742 - val_acc: 0.4718\n",
      "Epoch 93/100\n",
      "50/50 [==============================] - 6s - loss: 1.5582 - categorical_crossentropy: 1.5582 - acc: 0.4486 - val_loss: 1.6123 - val_categorical_crossentropy: 1.6123 - val_acc: 0.4192\n",
      "Epoch 94/100\n",
      "50/50 [==============================] - 6s - loss: 1.5655 - categorical_crossentropy: 1.5655 - acc: 0.4426 - val_loss: 1.4785 - val_categorical_crossentropy: 1.4785 - val_acc: 0.4726\n",
      "Epoch 95/100\n",
      "50/50 [==============================] - 6s - loss: 1.5460 - categorical_crossentropy: 1.5460 - acc: 0.4506 - val_loss: 1.5248 - val_categorical_crossentropy: 1.5248 - val_acc: 0.4562\n",
      "Epoch 96/100\n",
      "50/50 [==============================] - 6s - loss: 1.5481 - categorical_crossentropy: 1.5481 - acc: 0.4483 - val_loss: 1.4732 - val_categorical_crossentropy: 1.4732 - val_acc: 0.4786\n",
      "Epoch 97/100\n",
      "50/50 [==============================] - 6s - loss: 1.5491 - categorical_crossentropy: 1.5491 - acc: 0.4528 - val_loss: 1.4827 - val_categorical_crossentropy: 1.4827 - val_acc: 0.4674\n",
      "Epoch 98/100\n",
      "50/50 [==============================] - 6s - loss: 1.5364 - categorical_crossentropy: 1.5364 - acc: 0.4559 - val_loss: 1.4908 - val_categorical_crossentropy: 1.4908 - val_acc: 0.4643\n",
      "Epoch 99/100\n",
      "50/50 [==============================] - 6s - loss: 1.5396 - categorical_crossentropy: 1.5396 - acc: 0.4539 - val_loss: 1.4852 - val_categorical_crossentropy: 1.4852 - val_acc: 0.4746\n",
      "Epoch 100/100\n",
      "50/50 [==============================] - 6s - loss: 1.5410 - categorical_crossentropy: 1.5410 - acc: 0.4524 - val_loss: 1.4550 - val_categorical_crossentropy: 1.4550 - val_acc: 0.4794\n",
      "--- Training Time - 641.40461421 seconds ---\n"
     ]
    }
   ],
   "source": [
    "import time\n",
    "if not data_augmentation:\n",
    "    print('Not using data augmentation.')\n",
    "    model.fit(x_train, y_train,\n",
    "              batch_size=batch_size,\n",
    "              nb_epoch=epochs,\n",
    "              validation_data=(x_test, y_test),\n",
    "              shuffle=True)\n",
    "else:\n",
    "    print('Using real-time data augmentation.')\n",
    "    # This will do preprocessing and realtime data augmentation:\n",
    "    datagen = ImageDataGenerator(\n",
    "        featurewise_center=False,  # set input mean to 0 over the dataset\n",
    "        samplewise_center=False,  # set each sample mean to 0\n",
    "        featurewise_std_normalization=False,  # divide inputs by std of the dataset\n",
    "        samplewise_std_normalization=False,  # divide each input by its std\n",
    "        zca_whitening=False,  # apply ZCA whitening\n",
    "        rotation_range=0,  # randomly rotate images in the range (degrees, 0 to 180)\n",
    "        width_shift_range=0.1,  # randomly shift images horizontally (fraction of total width)\n",
    "        height_shift_range=0.1,  # randomly shift images vertically (fraction of total height)\n",
    "        horizontal_flip=True,  # randomly flip images\n",
    "        vertical_flip=False)  # randomly flip images\n",
    "\n",
    "    # Compute quantities required for feature-wise normalization\n",
    "    # (std, mean, and principal components if ZCA whitening is applied).\n",
    "    datagen.fit(x_train)\n",
    "    start_time = time.time()\n",
    "    # Fit the model on the batches generated by datagen.flow().\n",
    "    model.fit_generator(datagen.flow(x_train, y_train,\n",
    "                        batch_size=batch_size),\n",
    "                        #steps_per_epoch=x_train.shape[0] // batch_size,\n",
    "                        samples_per_epoch=x_train.shape[0],\n",
    "                        nb_epoch=epochs,\n",
    "                        validation_data=(x_test, y_test))\n",
    "print(\"--- Training Time - %s seconds ---\" % (time.time() - start_time))"
   ]
  },
  {
   "cell_type": "code",
   "execution_count": 36,
   "metadata": {},
   "outputs": [
    {
     "name": "stdout",
     "output_type": "stream",
     "text": [
      "(10000, 1, 32, 32) (10000, 10)\n",
      "1000/1000 [==============================] - 0s\n",
      "1000/1000 [==============================] - 0s\n",
      "1000/1000 [==============================] - 0s\n",
      "1000/1000 [==============================] - 0s\n",
      "1000/1000 [==============================] - 0s\n",
      "1000/1000 [==============================] - 0s\n",
      "1000/1000 [==============================] - 0s\n",
      "1000/1000 [==============================] - 0s\n",
      "1000/1000 [==============================] - 0s\n",
      "1000/1000 [==============================] - 0s\n",
      "[2.3025865077972414, 0.1]\n"
     ]
    },
    {
     "ename": "IndexError",
     "evalue": "list index out of range",
     "output_type": "error",
     "traceback": [
      "\u001b[0;31m---------------------------------------------------------------------------\u001b[0m",
      "\u001b[0;31mIndexError\u001b[0m                                Traceback (most recent call last)",
      "\u001b[0;32m<ipython-input-36-aac6586e7543>\u001b[0m in \u001b[0;36m<module>\u001b[0;34m()\u001b[0m\n\u001b[1;32m      9\u001b[0m                                         verbose=1)\n\u001b[1;32m     10\u001b[0m \u001b[0;32mprint\u001b[0m\u001b[0;34m(\u001b[0m\u001b[0mevaluation\u001b[0m\u001b[0;34m)\u001b[0m\u001b[0;34m\u001b[0m\u001b[0m\n\u001b[0;32m---> 11\u001b[0;31m \u001b[0;32mprint\u001b[0m\u001b[0;34m(\u001b[0m\u001b[0;34m'Model Accuracy = %.2f, Model loss = %.2f '\u001b[0m \u001b[0;34m%\u001b[0m \u001b[0;34m(\u001b[0m\u001b[0mevaluation\u001b[0m\u001b[0;34m[\u001b[0m\u001b[0;36m2\u001b[0m\u001b[0;34m]\u001b[0m\u001b[0;34m,\u001b[0m \u001b[0mevaluation\u001b[0m\u001b[0;34m[\u001b[0m\u001b[0;36m1\u001b[0m\u001b[0;34m]\u001b[0m\u001b[0;34m)\u001b[0m\u001b[0;34m)\u001b[0m\u001b[0;34m\u001b[0m\u001b[0m\n\u001b[0m",
      "\u001b[0;31mIndexError\u001b[0m: list index out of range"
     ]
    }
   ],
   "source": [
    "# Evaluate model with test data set and share sample prediction results\n",
    "# evaluation = model.evaluate_generator(datagen.flow(x_test, y_test,\n",
    "#                                       batch_size=batch_size),\n",
    "#                                       steps=x_test.shape[0] // batch_size)\n",
    "print(x_test.shape, y_test.shape)\n",
    "evaluation = model.evaluate_generator(datagen.flow(x_test, y_test,batch_size=batch_size),\n",
    "                                      val_samples=x_test.shape[0],\n",
    "                                      show_accuracy = True,\n",
    "                                        verbose=1)\n",
    "print(evaluation)\n",
    "print('Model Accuracy = %.2f, Model loss = %.2f ' % (evaluation[2], evaluation[1]))"
   ]
  },
  {
   "cell_type": "code",
   "execution_count": 175,
   "metadata": {},
   "outputs": [
    {
     "name": "stdout",
     "output_type": "stream",
     "text": [
      "Saved trained model at /root/shared/saved_models/keras_cifar10_trained_model.h5 \n",
      " 2000/10000 [=====>........................] - ETA: 0s[1.5061332702636718, 1.5061332702636718, 0.47669999599456786]\n"
     ]
    }
   ],
   "source": [
    "# Save model and weights\n",
    "if not os.path.isdir(save_dir):\n",
    "    os.makedirs(save_dir)\n",
    "model_path = os.path.join(save_dir, model_name)\n",
    "##model.save(model_path)\n",
    "print('Saved trained model at %s ' % model_path)\n",
    "\n",
    "# Score trained model.\n",
    "#scores = model.evaluate(x_test, y_test,show_accuracy=True, verbose=1, batch_size=1000)\n",
    "scores = model.evaluate(x_test, y_test, verbose=1, batch_size=2000)\n",
    "print(scores)\n",
    "#print('Test loss:', scores[0])\n",
    "#print('Test accuracy:', scores[1])"
   ]
  },
  {
   "cell_type": "code",
   "execution_count": 77,
   "metadata": {},
   "outputs": [
    {
     "name": "stdout",
     "output_type": "stream",
     "text": [
      "64\n"
     ]
    }
   ],
   "source": [
    "print(batch_size)"
   ]
  },
  {
   "cell_type": "code",
   "execution_count": null,
   "metadata": {
    "collapsed": true
   },
   "outputs": [],
   "source": []
  }
 ],
 "metadata": {
  "kernelspec": {
   "display_name": "Python 2",
   "language": "python",
   "name": "python2"
  },
  "language_info": {
   "codemirror_mode": {
    "name": "ipython",
    "version": 2
   },
   "file_extension": ".py",
   "mimetype": "text/x-python",
   "name": "python",
   "nbconvert_exporter": "python",
   "pygments_lexer": "ipython2",
   "version": "2.7.18"
  }
 },
 "nbformat": 4,
 "nbformat_minor": 2
}
