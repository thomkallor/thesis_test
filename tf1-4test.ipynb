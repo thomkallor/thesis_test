{
 "cells": [
  {
   "cell_type": "code",
   "execution_count": 33,
   "metadata": {},
   "outputs": [],
   "source": [
    "import os\n",
    "os.environ[\"CUDA_VISIBLE_DEVICES\"]=\"1\"\n",
    "os.environ[\"THEANO_FLAGS\"]=\"mode=FAST_RUN,device=cuda0,floatX=float32\"\n",
    "os.environ[\"KERAS_BACKEND\"]=\"tensorflow\""
   ]
  },
  {
   "cell_type": "code",
   "execution_count": 34,
   "metadata": {},
   "outputs": [],
   "source": [
    "## set random seeds\n",
    "import numpy as np\n",
    "np.random.seed(10)\n",
    "import keras"
   ]
  },
  {
   "cell_type": "code",
   "execution_count": 35,
   "metadata": {},
   "outputs": [
    {
     "name": "stdout",
     "output_type": "stream",
     "text": [
      "x_train shape: (50000, 32, 32, 3)\n",
      "50000 train samples\n",
      "10000 test samples\n"
     ]
    }
   ],
   "source": [
    "from __future__ import print_function\n",
    "from keras.datasets import cifar10\n",
    "from keras.preprocessing.image import ImageDataGenerator\n",
    "from keras.models import Sequential\n",
    "from keras.layers import Dense, Dropout, Activation, Flatten\n",
    "from keras.layers import Convolution2D, MaxPooling2D\n",
    "from keras.optimizers import SGD\n",
    "from keras.utils import np_utils\n",
    "import os\n",
    "\n",
    "batch_size = 1000\n",
    "num_classes = 10\n",
    "epochs = 100\n",
    "data_augmentation = True\n",
    "num_predictions = 20\n",
    "\n",
    "# The data, split between train and test sets:\n",
    "(x_train, y_train), (x_test, y_test) = cifar10.load_data()\n",
    "print('x_train shape:', x_train.shape)\n",
    "print(x_train.shape[0], 'train samples')\n",
    "print(x_test.shape[0], 'test samples')\n",
    "\n",
    "# Convert class vectors to binary class matrices.\n",
    "y_train = np_utils.to_categorical(y_train, num_classes)\n",
    "y_test = np_utils.to_categorical(y_test, num_classes)\n"
   ]
  },
  {
   "cell_type": "code",
   "execution_count": 36,
   "metadata": {},
   "outputs": [
    {
     "name": "stdout",
     "output_type": "stream",
     "text": [
      "(32, 32, 3)\n",
      "<type 'numpy.ndarray'>\n"
     ]
    }
   ],
   "source": [
    "print(x_train.shape[1:])\n",
    "print(type(x_train))"
   ]
  },
  {
   "cell_type": "code",
   "execution_count": 37,
   "metadata": {},
   "outputs": [],
   "source": [
    "import numpy as np"
   ]
  },
  {
   "cell_type": "code",
   "execution_count": 38,
   "metadata": {},
   "outputs": [],
   "source": [
    "def rgb2gray(rgb):\n",
    "    r, g, b = rgb[:,:,:,0], rgb[:,:,:,1], rgb[:,:,:,2]\n",
    "    gray = 0.2989 * r + 0.5870 * g + 0.1140 * b\n",
    "    gray = np.expand_dims(gray, axis=3)\n",
    "    print(gray.shape)\n",
    "    return gray"
   ]
  },
  {
   "cell_type": "code",
   "execution_count": 39,
   "metadata": {},
   "outputs": [
    {
     "name": "stdout",
     "output_type": "stream",
     "text": [
      "(50000, 32, 32, 1)\n",
      "(10000, 32, 32, 1)\n"
     ]
    }
   ],
   "source": [
    "x_train=rgb2gray(x_train)\n",
    "x_test=rgb2gray(x_test)"
   ]
  },
  {
   "cell_type": "code",
   "execution_count": 40,
   "metadata": {},
   "outputs": [
    {
     "data": {
      "text/plain": [
       "<matplotlib.image.AxesImage at 0x7fa4ec3cee50>"
      ]
     },
     "execution_count": 40,
     "metadata": {},
     "output_type": "execute_result"
    },
    {
     "data": {
      "image/png": "[encoded data removed]",
      "text/plain": [
       "<Figure size 432x288 with 1 Axes>"
      ]
     },
     "metadata": {
      "needs_background": "light"
     },
     "output_type": "display_data"
    }
   ],
   "source": [
    "%matplotlib inline\n",
    "import matplotlib.pyplot as plt\n",
    "import matplotlib.image as mpimage\n",
    "plt.imshow(x_train[1,:,:,0], cmap='gray')"
   ]
  },
  {
   "cell_type": "code",
   "execution_count": 41,
   "metadata": {},
   "outputs": [
    {
     "name": "stdout",
     "output_type": "stream",
     "text": [
      "(32, 32, 1)\n"
     ]
    }
   ],
   "source": [
    "print(x_train[0].shape)"
   ]
  },
  {
   "cell_type": "code",
   "execution_count": 42,
   "metadata": {},
   "outputs": [
    {
     "name": "stdout",
     "output_type": "stream",
     "text": [
      "(10000, 32, 32, 1)\n"
     ]
    }
   ],
   "source": [
    "print(x_test.shape)"
   ]
  },
  {
   "cell_type": "code",
   "execution_count": 43,
   "metadata": {
    "scrolled": true
   },
   "outputs": [
    {
     "name": "stderr",
     "output_type": "stream",
     "text": [
      "/usr/local/miniconda2/lib/python2.7/site-packages/ipykernel_launcher.py:2: UserWarning: Update your `Conv2D` call to the Keras 2 API: `Conv2D(6, (5, 5), padding=\"valid\", data_format=\"channels_last\", input_shape=(32, 32, 1...)`\n",
      "  \n",
      "/usr/local/miniconda2/lib/python2.7/site-packages/ipykernel_launcher.py:5: UserWarning: Update your `Conv2D` call to the Keras 2 API: `Conv2D(16, (5, 5), padding=\"valid\")`\n",
      "  \"\"\"\n"
     ]
    }
   ],
   "source": [
    "model = Sequential()\n",
    "model.add(Convolution2D(6, (5, 5), border_mode='valid', data_format=\"channels_last\", input_shape=(32, 32, 1)))\n",
    "model.add(MaxPooling2D(pool_size=(2, 2)))\n",
    "model.add(Activation('relu'))   \n",
    "model.add(Convolution2D(16, (5, 5), border_mode='valid'))\n",
    "model.add(MaxPooling2D(pool_size=(2, 2)))\n",
    "model.add(Activation('relu'))\n",
    "model.add(Flatten())\n",
    "model.add(Dense(120))\n",
    "model.add(Activation('relu'))\n",
    "model.add(Dense(84))\n",
    "model.add(Activation('relu'))\n",
    "model.add(Dense(10))\n",
    "model.add(Activation('softmax'))"
   ]
  },
  {
   "cell_type": "code",
   "execution_count": 44,
   "metadata": {},
   "outputs": [
    {
     "name": "stdout",
     "output_type": "stream",
     "text": [
      "(32, 32, 1)\n",
      "[[[ 61.2111]\n",
      "  [ 44.9847]\n",
      "  [ 48.023 ]\n",
      "  ...\n",
      "  [137.0222]\n",
      "  [130.4358]\n",
      "  [128.7672]]\n",
      "\n",
      " [[ 18.8024]\n",
      "  [  0.    ]\n",
      "  [ 10.0762]\n",
      "  ...\n",
      "  [ 94.6907]\n",
      "  [ 89.9901]\n",
      "  [ 94.0328]]\n",
      "\n",
      " [[ 23.9545]\n",
      "  [  8.8914]\n",
      "  [ 31.4071]\n",
      "  ...\n",
      "  [ 90.2782]\n",
      "  [ 90.876 ]\n",
      "  [ 80.2191]]\n",
      "\n",
      " ...\n",
      "\n",
      " [[172.9052]\n",
      "  [153.7659]\n",
      "  [156.6532]\n",
      "  ...\n",
      "  [133.875 ]\n",
      "  [ 35.7334]\n",
      "  [ 38.0797]]\n",
      "\n",
      " [[146.339 ]\n",
      "  [128.6987]\n",
      "  [143.5434]\n",
      "  ...\n",
      "  [152.5896]\n",
      "  [ 69.2633]\n",
      "  [ 59.7957]]\n",
      "\n",
      " [[150.6573]\n",
      "  [136.6542]\n",
      "  [146.7751]\n",
      "  ...\n",
      "  [188.5304]\n",
      "  [123.9759]\n",
      "  [ 98.9767]]]\n"
     ]
    }
   ],
   "source": [
    "print(x_train[0].shape)\n",
    "print(x_train[0,:,:,:])"
   ]
  },
  {
   "cell_type": "code",
   "execution_count": 45,
   "metadata": {},
   "outputs": [
    {
     "data": {
      "text/plain": [
       "10"
      ]
     },
     "execution_count": 45,
     "metadata": {},
     "output_type": "execute_result"
    }
   ],
   "source": [
    "y_test.shape[1]"
   ]
  },
  {
   "cell_type": "code",
   "execution_count": 46,
   "metadata": {},
   "outputs": [],
   "source": [
    "# initiate RMSprop optimizer\n",
    "sgd = SGD(lr=0.01, decay=0, momentum=0.5, nesterov=False)\n",
    "\n",
    "# Let's train the model using RMSprop\n",
    "model.compile(loss='categorical_crossentropy',\n",
    "              optimizer=sgd,\n",
    "              metrics=['categorical_crossentropy', 'accuracy']\n",
    "             )\n",
    "\n",
    "x_train = x_train.astype('float32')\n",
    "x_test = x_test.astype('float32')\n",
    "x_train /= 255\n",
    "x_test /= 255"
   ]
  },
  {
   "cell_type": "code",
   "execution_count": 47,
   "metadata": {},
   "outputs": [
    {
     "data": {
      "text/plain": [
       "numpy.ndarray"
      ]
     },
     "execution_count": 47,
     "metadata": {},
     "output_type": "execute_result"
    }
   ],
   "source": [
    "type(x_train)"
   ]
  },
  {
   "cell_type": "code",
   "execution_count": 48,
   "metadata": {},
   "outputs": [
    {
     "name": "stdout",
     "output_type": "stream",
     "text": [
      "Train on 50000 samples, validate on 10000 samples\n",
      "Epoch 1/100\n",
      "50000/50000 [==============================] - 0s - loss: 2.2956 - categorical_crossentropy: 2.2956 - acc: 0.1320 - val_loss: 2.2851 - val_categorical_crossentropy: 2.2851 - val_acc: 0.1615\n",
      "Epoch 2/100\n",
      "50000/50000 [==============================] - 0s - loss: 2.2754 - categorical_crossentropy: 2.2754 - acc: 0.1622 - val_loss: 2.2622 - val_categorical_crossentropy: 2.2622 - val_acc: 0.1679\n",
      "Epoch 3/100\n",
      "50000/50000 [==============================] - 0s - loss: 2.2447 - categorical_crossentropy: 2.2447 - acc: 0.1780 - val_loss: 2.2237 - val_categorical_crossentropy: 2.2237 - val_acc: 0.1846\n",
      "Epoch 4/100\n",
      "50000/50000 [==============================] - 0s - loss: 2.2018 - categorical_crossentropy: 2.2018 - acc: 0.1955 - val_loss: 2.1849 - val_categorical_crossentropy: 2.1849 - val_acc: 0.1972\n",
      "Epoch 5/100\n",
      "50000/50000 [==============================] - 0s - loss: 2.1725 - categorical_crossentropy: 2.1725 - acc: 0.2065 - val_loss: 2.1649 - val_categorical_crossentropy: 2.1649 - val_acc: 0.2151\n",
      "Epoch 6/100\n",
      "50000/50000 [==============================] - 0s - loss: 2.1551 - categorical_crossentropy: 2.1551 - acc: 0.2179 - val_loss: 2.1511 - val_categorical_crossentropy: 2.1511 - val_acc: 0.2169\n",
      "Epoch 7/100\n",
      "50000/50000 [==============================] - 0s - loss: 2.1397 - categorical_crossentropy: 2.1397 - acc: 0.2254 - val_loss: 2.1324 - val_categorical_crossentropy: 2.1324 - val_acc: 0.2378\n",
      "Epoch 8/100\n",
      "50000/50000 [==============================] - 0s - loss: 2.1222 - categorical_crossentropy: 2.1222 - acc: 0.2371 - val_loss: 2.1183 - val_categorical_crossentropy: 2.1183 - val_acc: 0.2469\n",
      "Epoch 9/100\n",
      "50000/50000 [==============================] - 0s - loss: 2.1032 - categorical_crossentropy: 2.1032 - acc: 0.2482 - val_loss: 2.0947 - val_categorical_crossentropy: 2.0947 - val_acc: 0.2466\n",
      "Epoch 10/100\n",
      "50000/50000 [==============================] - 0s - loss: 2.0794 - categorical_crossentropy: 2.0794 - acc: 0.2598 - val_loss: 2.0666 - val_categorical_crossentropy: 2.0666 - val_acc: 0.2691\n",
      "Epoch 11/100\n",
      "50000/50000 [==============================] - 0s - loss: 2.0546 - categorical_crossentropy: 2.0546 - acc: 0.2711 - val_loss: 2.0395 - val_categorical_crossentropy: 2.0395 - val_acc: 0.2715\n",
      "Epoch 12/100\n",
      "50000/50000 [==============================] - 0s - loss: 2.0263 - categorical_crossentropy: 2.0263 - acc: 0.2808 - val_loss: 2.0122 - val_categorical_crossentropy: 2.0122 - val_acc: 0.2851\n",
      "Epoch 13/100\n",
      "50000/50000 [==============================] - 0s - loss: 2.0005 - categorical_crossentropy: 2.0005 - acc: 0.2898 - val_loss: 2.0046 - val_categorical_crossentropy: 2.0046 - val_acc: 0.2873\n",
      "Epoch 14/100\n",
      "50000/50000 [==============================] - 0s - loss: 1.9805 - categorical_crossentropy: 1.9805 - acc: 0.2969 - val_loss: 1.9646 - val_categorical_crossentropy: 1.9646 - val_acc: 0.2965\n",
      "Epoch 15/100\n",
      "50000/50000 [==============================] - 0s - loss: 1.9565 - categorical_crossentropy: 1.9565 - acc: 0.3045 - val_loss: 1.9743 - val_categorical_crossentropy: 1.9743 - val_acc: 0.2997\n",
      "Epoch 16/100\n",
      "50000/50000 [==============================] - 0s - loss: 1.9407 - categorical_crossentropy: 1.9407 - acc: 0.3105 - val_loss: 2.0625 - val_categorical_crossentropy: 2.0625 - val_acc: 0.2750\n",
      "Epoch 17/100\n",
      "50000/50000 [==============================] - 0s - loss: 1.9222 - categorical_crossentropy: 1.9222 - acc: 0.3169 - val_loss: 1.9082 - val_categorical_crossentropy: 1.9082 - val_acc: 0.3168\n",
      "Epoch 18/100\n",
      "50000/50000 [==============================] - 0s - loss: 1.9111 - categorical_crossentropy: 1.9111 - acc: 0.3214 - val_loss: 1.8882 - val_categorical_crossentropy: 1.8882 - val_acc: 0.3179\n",
      "Epoch 19/100\n",
      "50000/50000 [==============================] - 0s - loss: 1.8841 - categorical_crossentropy: 1.8841 - acc: 0.3311 - val_loss: 1.8679 - val_categorical_crossentropy: 1.8679 - val_acc: 0.3270\n",
      "Epoch 20/100\n",
      "50000/50000 [==============================] - 0s - loss: 1.8818 - categorical_crossentropy: 1.8818 - acc: 0.3309 - val_loss: 1.9488 - val_categorical_crossentropy: 1.9488 - val_acc: 0.3022\n",
      "Epoch 21/100\n",
      "50000/50000 [==============================] - 0s - loss: 1.8624 - categorical_crossentropy: 1.8624 - acc: 0.3380 - val_loss: 1.8401 - val_categorical_crossentropy: 1.8401 - val_acc: 0.3433\n",
      "Epoch 22/100\n",
      "50000/50000 [==============================] - 0s - loss: 1.8435 - categorical_crossentropy: 1.8435 - acc: 0.3427 - val_loss: 1.8394 - val_categorical_crossentropy: 1.8394 - val_acc: 0.3457\n",
      "Epoch 23/100\n",
      "50000/50000 [==============================] - 0s - loss: 1.8391 - categorical_crossentropy: 1.8391 - acc: 0.3459 - val_loss: 1.8110 - val_categorical_crossentropy: 1.8110 - val_acc: 0.3518\n",
      "Epoch 24/100\n",
      "50000/50000 [==============================] - 0s - loss: 1.8258 - categorical_crossentropy: 1.8258 - acc: 0.3498 - val_loss: 1.7972 - val_categorical_crossentropy: 1.7972 - val_acc: 0.3585\n",
      "Epoch 25/100\n",
      "50000/50000 [==============================] - 0s - loss: 1.8019 - categorical_crossentropy: 1.8019 - acc: 0.3606 - val_loss: 1.8148 - val_categorical_crossentropy: 1.8148 - val_acc: 0.3429\n",
      "Epoch 26/100\n",
      "50000/50000 [==============================] - 0s - loss: 1.7942 - categorical_crossentropy: 1.7942 - acc: 0.3623 - val_loss: 1.7992 - val_categorical_crossentropy: 1.7992 - val_acc: 0.3517\n",
      "Epoch 27/100\n",
      "50000/50000 [==============================] - 0s - loss: 1.7823 - categorical_crossentropy: 1.7823 - acc: 0.3681 - val_loss: 1.7923 - val_categorical_crossentropy: 1.7923 - val_acc: 0.3605\n",
      "Epoch 28/100\n",
      "50000/50000 [==============================] - 0s - loss: 1.7773 - categorical_crossentropy: 1.7773 - acc: 0.3705 - val_loss: 1.7724 - val_categorical_crossentropy: 1.7724 - val_acc: 0.3637\n",
      "Epoch 29/100\n",
      "50000/50000 [==============================] - 0s - loss: 1.7690 - categorical_crossentropy: 1.7690 - acc: 0.3710 - val_loss: 1.7501 - val_categorical_crossentropy: 1.7501 - val_acc: 0.3750\n",
      "Epoch 30/100\n",
      "50000/50000 [==============================] - 0s - loss: 1.7458 - categorical_crossentropy: 1.7458 - acc: 0.3796 - val_loss: 1.7415 - val_categorical_crossentropy: 1.7415 - val_acc: 0.3758\n",
      "Epoch 31/100\n",
      "50000/50000 [==============================] - 0s - loss: 1.7498 - categorical_crossentropy: 1.7498 - acc: 0.3809 - val_loss: 1.7533 - val_categorical_crossentropy: 1.7533 - val_acc: 0.3674\n",
      "Epoch 32/100\n",
      "50000/50000 [==============================] - 0s - loss: 1.7396 - categorical_crossentropy: 1.7396 - acc: 0.3842 - val_loss: 1.7597 - val_categorical_crossentropy: 1.7597 - val_acc: 0.3690\n",
      "Epoch 33/100\n",
      "50000/50000 [==============================] - 0s - loss: 1.7273 - categorical_crossentropy: 1.7273 - acc: 0.3874 - val_loss: 1.7617 - val_categorical_crossentropy: 1.7617 - val_acc: 0.3702\n",
      "Epoch 34/100\n",
      "50000/50000 [==============================] - 0s - loss: 1.7183 - categorical_crossentropy: 1.7183 - acc: 0.3901 - val_loss: 1.7546 - val_categorical_crossentropy: 1.7546 - val_acc: 0.3716\n",
      "Epoch 35/100\n",
      "50000/50000 [==============================] - 0s - loss: 1.7212 - categorical_crossentropy: 1.7212 - acc: 0.3881 - val_loss: 1.7411 - val_categorical_crossentropy: 1.7411 - val_acc: 0.3759\n",
      "Epoch 36/100\n",
      "50000/50000 [==============================] - 0s - loss: 1.6998 - categorical_crossentropy: 1.6998 - acc: 0.3951 - val_loss: 1.7058 - val_categorical_crossentropy: 1.7058 - val_acc: 0.3919\n",
      "Epoch 37/100\n",
      "50000/50000 [==============================] - 0s - loss: 1.7056 - categorical_crossentropy: 1.7056 - acc: 0.3945 - val_loss: 1.6881 - val_categorical_crossentropy: 1.6881 - val_acc: 0.3992\n",
      "Epoch 38/100\n",
      "50000/50000 [==============================] - 0s - loss: 1.6961 - categorical_crossentropy: 1.6961 - acc: 0.3971 - val_loss: 1.7516 - val_categorical_crossentropy: 1.7516 - val_acc: 0.3728\n",
      "Epoch 39/100\n",
      "50000/50000 [==============================] - 0s - loss: 1.6934 - categorical_crossentropy: 1.6934 - acc: 0.3985 - val_loss: 1.6813 - val_categorical_crossentropy: 1.6813 - val_acc: 0.3975\n",
      "Epoch 40/100\n",
      "50000/50000 [==============================] - 0s - loss: 1.6768 - categorical_crossentropy: 1.6768 - acc: 0.4037 - val_loss: 1.6700 - val_categorical_crossentropy: 1.6700 - val_acc: 0.4023\n",
      "Epoch 41/100\n"
     ]
    },
    {
     "name": "stdout",
     "output_type": "stream",
     "text": [
      "50000/50000 [==============================] - 0s - loss: 1.6677 - categorical_crossentropy: 1.6677 - acc: 0.4060 - val_loss: 1.6586 - val_categorical_crossentropy: 1.6586 - val_acc: 0.4110\n",
      "Epoch 42/100\n",
      "50000/50000 [==============================] - 0s - loss: 1.6736 - categorical_crossentropy: 1.6736 - acc: 0.4060 - val_loss: 1.6898 - val_categorical_crossentropy: 1.6898 - val_acc: 0.3977\n",
      "Epoch 43/100\n",
      "50000/50000 [==============================] - 0s - loss: 1.6582 - categorical_crossentropy: 1.6582 - acc: 0.4122 - val_loss: 1.6588 - val_categorical_crossentropy: 1.6588 - val_acc: 0.4076\n",
      "Epoch 44/100\n",
      "50000/50000 [==============================] - 0s - loss: 1.6529 - categorical_crossentropy: 1.6529 - acc: 0.4143 - val_loss: 1.6482 - val_categorical_crossentropy: 1.6482 - val_acc: 0.4119\n",
      "Epoch 45/100\n",
      "50000/50000 [==============================] - 0s - loss: 1.6473 - categorical_crossentropy: 1.6473 - acc: 0.4156 - val_loss: 1.6800 - val_categorical_crossentropy: 1.6800 - val_acc: 0.3970\n",
      "Epoch 46/100\n",
      "50000/50000 [==============================] - 0s - loss: 1.6434 - categorical_crossentropy: 1.6434 - acc: 0.4155 - val_loss: 1.6465 - val_categorical_crossentropy: 1.6465 - val_acc: 0.4127\n",
      "Epoch 47/100\n",
      "50000/50000 [==============================] - 0s - loss: 1.6296 - categorical_crossentropy: 1.6296 - acc: 0.4206 - val_loss: 1.6680 - val_categorical_crossentropy: 1.6680 - val_acc: 0.4044\n",
      "Epoch 48/100\n",
      "50000/50000 [==============================] - 0s - loss: 1.6319 - categorical_crossentropy: 1.6319 - acc: 0.4222 - val_loss: 1.6314 - val_categorical_crossentropy: 1.6314 - val_acc: 0.4142\n",
      "Epoch 49/100\n",
      "50000/50000 [==============================] - 0s - loss: 1.6275 - categorical_crossentropy: 1.6275 - acc: 0.4190 - val_loss: 1.6339 - val_categorical_crossentropy: 1.6339 - val_acc: 0.4144\n",
      "Epoch 50/100\n",
      "50000/50000 [==============================] - 0s - loss: 1.6210 - categorical_crossentropy: 1.6210 - acc: 0.4225 - val_loss: 1.6391 - val_categorical_crossentropy: 1.6391 - val_acc: 0.4152\n",
      "Epoch 51/100\n",
      "50000/50000 [==============================] - 0s - loss: 1.6139 - categorical_crossentropy: 1.6139 - acc: 0.4260 - val_loss: 1.6954 - val_categorical_crossentropy: 1.6954 - val_acc: 0.3944\n",
      "Epoch 52/100\n",
      "50000/50000 [==============================] - 0s - loss: 1.6067 - categorical_crossentropy: 1.6067 - acc: 0.4294 - val_loss: 1.6108 - val_categorical_crossentropy: 1.6108 - val_acc: 0.4272\n",
      "Epoch 53/100\n",
      "50000/50000 [==============================] - 0s - loss: 1.5995 - categorical_crossentropy: 1.5995 - acc: 0.4291 - val_loss: 1.6140 - val_categorical_crossentropy: 1.6140 - val_acc: 0.4223\n",
      "Epoch 54/100\n",
      "50000/50000 [==============================] - 0s - loss: 1.5984 - categorical_crossentropy: 1.5984 - acc: 0.4325 - val_loss: 1.6093 - val_categorical_crossentropy: 1.6093 - val_acc: 0.4237\n",
      "Epoch 55/100\n",
      "50000/50000 [==============================] - 0s - loss: 1.5902 - categorical_crossentropy: 1.5902 - acc: 0.4331 - val_loss: 1.5949 - val_categorical_crossentropy: 1.5949 - val_acc: 0.4302\n",
      "Epoch 56/100\n",
      "50000/50000 [==============================] - 0s - loss: 1.5902 - categorical_crossentropy: 1.5902 - acc: 0.4352 - val_loss: 1.6140 - val_categorical_crossentropy: 1.6140 - val_acc: 0.4272\n",
      "Epoch 57/100\n",
      "50000/50000 [==============================] - 0s - loss: 1.5820 - categorical_crossentropy: 1.5820 - acc: 0.4386 - val_loss: 1.6383 - val_categorical_crossentropy: 1.6383 - val_acc: 0.4163\n",
      "Epoch 58/100\n",
      "50000/50000 [==============================] - 0s - loss: 1.5783 - categorical_crossentropy: 1.5783 - acc: 0.4392 - val_loss: 1.6108 - val_categorical_crossentropy: 1.6108 - val_acc: 0.4239\n",
      "Epoch 59/100\n",
      "50000/50000 [==============================] - 0s - loss: 1.5675 - categorical_crossentropy: 1.5675 - acc: 0.4442 - val_loss: 1.5833 - val_categorical_crossentropy: 1.5833 - val_acc: 0.4363\n",
      "Epoch 60/100\n",
      "50000/50000 [==============================] - 0s - loss: 1.5719 - categorical_crossentropy: 1.5719 - acc: 0.4417 - val_loss: 1.7648 - val_categorical_crossentropy: 1.7648 - val_acc: 0.3821\n",
      "Epoch 61/100\n",
      "50000/50000 [==============================] - 0s - loss: 1.5669 - categorical_crossentropy: 1.5669 - acc: 0.4437 - val_loss: 1.5809 - val_categorical_crossentropy: 1.5809 - val_acc: 0.4373\n",
      "Epoch 62/100\n",
      "50000/50000 [==============================] - 0s - loss: 1.5602 - categorical_crossentropy: 1.5602 - acc: 0.4440 - val_loss: 1.5903 - val_categorical_crossentropy: 1.5903 - val_acc: 0.4355\n",
      "Epoch 63/100\n",
      "50000/50000 [==============================] - 0s - loss: 1.5537 - categorical_crossentropy: 1.5537 - acc: 0.4492 - val_loss: 1.5693 - val_categorical_crossentropy: 1.5693 - val_acc: 0.4378\n",
      "Epoch 64/100\n",
      "50000/50000 [==============================] - 0s - loss: 1.5578 - categorical_crossentropy: 1.5578 - acc: 0.4443 - val_loss: 1.6554 - val_categorical_crossentropy: 1.6554 - val_acc: 0.4173\n",
      "Epoch 65/100\n",
      "50000/50000 [==============================] - 0s - loss: 1.5488 - categorical_crossentropy: 1.5488 - acc: 0.4515 - val_loss: 1.5856 - val_categorical_crossentropy: 1.5856 - val_acc: 0.4310\n",
      "Epoch 66/100\n",
      "50000/50000 [==============================] - 0s - loss: 1.5471 - categorical_crossentropy: 1.5471 - acc: 0.4506 - val_loss: 1.5684 - val_categorical_crossentropy: 1.5684 - val_acc: 0.4442\n",
      "Epoch 67/100\n",
      "50000/50000 [==============================] - 0s - loss: 1.5432 - categorical_crossentropy: 1.5432 - acc: 0.4519 - val_loss: 1.6338 - val_categorical_crossentropy: 1.6338 - val_acc: 0.4192\n",
      "Epoch 68/100\n",
      "50000/50000 [==============================] - 0s - loss: 1.5373 - categorical_crossentropy: 1.5373 - acc: 0.4544 - val_loss: 1.5577 - val_categorical_crossentropy: 1.5577 - val_acc: 0.4445\n",
      "Epoch 69/100\n",
      "50000/50000 [==============================] - 0s - loss: 1.5388 - categorical_crossentropy: 1.5388 - acc: 0.4538 - val_loss: 1.5578 - val_categorical_crossentropy: 1.5578 - val_acc: 0.4444\n",
      "Epoch 70/100\n",
      "50000/50000 [==============================] - 0s - loss: 1.5310 - categorical_crossentropy: 1.5310 - acc: 0.4576 - val_loss: 1.5518 - val_categorical_crossentropy: 1.5518 - val_acc: 0.4477\n",
      "Epoch 71/100\n",
      "50000/50000 [==============================] - 0s - loss: 1.5276 - categorical_crossentropy: 1.5276 - acc: 0.4574 - val_loss: 1.5558 - val_categorical_crossentropy: 1.5558 - val_acc: 0.4494\n",
      "Epoch 72/100\n",
      "50000/50000 [==============================] - 0s - loss: 1.5255 - categorical_crossentropy: 1.5255 - acc: 0.4610 - val_loss: 1.5522 - val_categorical_crossentropy: 1.5522 - val_acc: 0.4459\n",
      "Epoch 73/100\n",
      "50000/50000 [==============================] - 0s - loss: 1.5184 - categorical_crossentropy: 1.5184 - acc: 0.4632 - val_loss: 1.5442 - val_categorical_crossentropy: 1.5442 - val_acc: 0.4511\n",
      "Epoch 74/100\n",
      "50000/50000 [==============================] - 0s - loss: 1.5167 - categorical_crossentropy: 1.5167 - acc: 0.4626 - val_loss: 1.5772 - val_categorical_crossentropy: 1.5772 - val_acc: 0.4350\n",
      "Epoch 75/100\n",
      "50000/50000 [==============================] - 0s - loss: 1.5100 - categorical_crossentropy: 1.5100 - acc: 0.4662 - val_loss: 1.5474 - val_categorical_crossentropy: 1.5474 - val_acc: 0.4493\n",
      "Epoch 76/100\n",
      "50000/50000 [==============================] - 0s - loss: 1.5124 - categorical_crossentropy: 1.5124 - acc: 0.4643 - val_loss: 1.5373 - val_categorical_crossentropy: 1.5373 - val_acc: 0.4501\n",
      "Epoch 77/100\n",
      "50000/50000 [==============================] - 0s - loss: 1.5065 - categorical_crossentropy: 1.5065 - acc: 0.4657 - val_loss: 1.5387 - val_categorical_crossentropy: 1.5387 - val_acc: 0.4519\n",
      "Epoch 78/100\n",
      "50000/50000 [==============================] - 0s - loss: 1.4965 - categorical_crossentropy: 1.4965 - acc: 0.4713 - val_loss: 1.5370 - val_categorical_crossentropy: 1.5370 - val_acc: 0.4492\n",
      "Epoch 79/100\n",
      "50000/50000 [==============================] - 0s - loss: 1.4982 - categorical_crossentropy: 1.4982 - acc: 0.4694 - val_loss: 1.5236 - val_categorical_crossentropy: 1.5236 - val_acc: 0.4568\n",
      "Epoch 80/100\n",
      "50000/50000 [==============================] - 0s - loss: 1.4970 - categorical_crossentropy: 1.4970 - acc: 0.4713 - val_loss: 1.5229 - val_categorical_crossentropy: 1.5229 - val_acc: 0.4588\n",
      "Epoch 81/100\n"
     ]
    },
    {
     "name": "stdout",
     "output_type": "stream",
     "text": [
      "50000/50000 [==============================] - 0s - loss: 1.4855 - categorical_crossentropy: 1.4855 - acc: 0.4754 - val_loss: 1.5169 - val_categorical_crossentropy: 1.5169 - val_acc: 0.4632\n",
      "Epoch 82/100\n",
      "50000/50000 [==============================] - 0s - loss: 1.4892 - categorical_crossentropy: 1.4892 - acc: 0.4749 - val_loss: 1.5213 - val_categorical_crossentropy: 1.5213 - val_acc: 0.4631\n",
      "Epoch 83/100\n",
      "50000/50000 [==============================] - 0s - loss: 1.4896 - categorical_crossentropy: 1.4896 - acc: 0.4736 - val_loss: 1.5148 - val_categorical_crossentropy: 1.5148 - val_acc: 0.4605\n",
      "Epoch 84/100\n",
      "50000/50000 [==============================] - 0s - loss: 1.4792 - categorical_crossentropy: 1.4792 - acc: 0.4796 - val_loss: 1.5144 - val_categorical_crossentropy: 1.5144 - val_acc: 0.4644\n",
      "Epoch 85/100\n",
      "50000/50000 [==============================] - 0s - loss: 1.4757 - categorical_crossentropy: 1.4757 - acc: 0.4797 - val_loss: 1.5054 - val_categorical_crossentropy: 1.5054 - val_acc: 0.4645\n",
      "Epoch 86/100\n",
      "50000/50000 [==============================] - 0s - loss: 1.4768 - categorical_crossentropy: 1.4768 - acc: 0.4768 - val_loss: 1.5296 - val_categorical_crossentropy: 1.5296 - val_acc: 0.4541\n",
      "Epoch 87/100\n",
      "50000/50000 [==============================] - 0s - loss: 1.4746 - categorical_crossentropy: 1.4746 - acc: 0.4792 - val_loss: 1.5164 - val_categorical_crossentropy: 1.5164 - val_acc: 0.4582\n",
      "Epoch 88/100\n",
      "50000/50000 [==============================] - 0s - loss: 1.4705 - categorical_crossentropy: 1.4705 - acc: 0.4809 - val_loss: 1.5085 - val_categorical_crossentropy: 1.5085 - val_acc: 0.4665\n",
      "Epoch 89/100\n",
      "50000/50000 [==============================] - 0s - loss: 1.4645 - categorical_crossentropy: 1.4645 - acc: 0.4845 - val_loss: 1.5016 - val_categorical_crossentropy: 1.5016 - val_acc: 0.4652\n",
      "Epoch 90/100\n",
      "50000/50000 [==============================] - 0s - loss: 1.4660 - categorical_crossentropy: 1.4660 - acc: 0.4815 - val_loss: 1.5370 - val_categorical_crossentropy: 1.5370 - val_acc: 0.4559\n",
      "Epoch 91/100\n",
      "50000/50000 [==============================] - 0s - loss: 1.4628 - categorical_crossentropy: 1.4628 - acc: 0.4841 - val_loss: 1.5489 - val_categorical_crossentropy: 1.5489 - val_acc: 0.4513\n",
      "Epoch 92/100\n",
      "50000/50000 [==============================] - 0s - loss: 1.4579 - categorical_crossentropy: 1.4579 - acc: 0.4863 - val_loss: 1.5269 - val_categorical_crossentropy: 1.5269 - val_acc: 0.4633\n",
      "Epoch 93/100\n",
      "50000/50000 [==============================] - 0s - loss: 1.4548 - categorical_crossentropy: 1.4548 - acc: 0.4877 - val_loss: 1.5063 - val_categorical_crossentropy: 1.5063 - val_acc: 0.4633\n",
      "Epoch 94/100\n",
      "50000/50000 [==============================] - 0s - loss: 1.4515 - categorical_crossentropy: 1.4515 - acc: 0.4894 - val_loss: 1.4853 - val_categorical_crossentropy: 1.4853 - val_acc: 0.4752\n",
      "Epoch 95/100\n",
      "50000/50000 [==============================] - 0s - loss: 1.4409 - categorical_crossentropy: 1.4409 - acc: 0.4913 - val_loss: 1.5051 - val_categorical_crossentropy: 1.5051 - val_acc: 0.4636\n",
      "Epoch 96/100\n",
      "50000/50000 [==============================] - 0s - loss: 1.4447 - categorical_crossentropy: 1.4447 - acc: 0.4923 - val_loss: 1.4861 - val_categorical_crossentropy: 1.4861 - val_acc: 0.4723\n",
      "Epoch 97/100\n",
      "50000/50000 [==============================] - 0s - loss: 1.4401 - categorical_crossentropy: 1.4401 - acc: 0.4936 - val_loss: 1.4918 - val_categorical_crossentropy: 1.4918 - val_acc: 0.4711\n",
      "Epoch 98/100\n",
      "50000/50000 [==============================] - 0s - loss: 1.4365 - categorical_crossentropy: 1.4365 - acc: 0.4950 - val_loss: 1.4855 - val_categorical_crossentropy: 1.4855 - val_acc: 0.4763\n",
      "Epoch 99/100\n",
      "50000/50000 [==============================] - 0s - loss: 1.4395 - categorical_crossentropy: 1.4395 - acc: 0.4929 - val_loss: 1.4919 - val_categorical_crossentropy: 1.4919 - val_acc: 0.4703\n",
      "Epoch 100/100\n",
      "50000/50000 [==============================] - 0s - loss: 1.4317 - categorical_crossentropy: 1.4317 - acc: 0.4970 - val_loss: 1.4831 - val_categorical_crossentropy: 1.4831 - val_acc: 0.4757\n",
      "--- Training Time - 44.6912279129 seconds ---\n"
     ]
    }
   ],
   "source": [
    "import time\n",
    "start_time = time.time()\n",
    "history = model.fit(x_train, y_train,\n",
    "         batch_size=batch_size,\n",
    "         nb_epoch=epochs,\n",
    "         # show_accuracy=True,\n",
    "         validation_data=(x_test, y_test),\n",
    "         shuffle=True)\n",
    "print(\"--- Training Time - %s seconds ---\" % (time.time() - start_time))"
   ]
  },
  {
   "cell_type": "code",
   "execution_count": 49,
   "metadata": {},
   "outputs": [
    {
     "name": "stdout",
     "output_type": "stream",
     "text": [
      "['val_categorical_crossentropy', 'loss', 'val_loss', 'categorical_crossentropy', 'val_acc', 'acc']\n"
     ]
    }
   ],
   "source": [
    "print(history.history.keys())\n",
    "from scipy.ndimage.filters import gaussian_filter1d\n",
    "\n",
    "train_acc=gaussian_filter1d(history.history['acc'], sigma=0.5)\n",
    "train_loss=gaussian_filter1d(history.history['loss'], sigma=0.5)\n",
    "test_acc=gaussian_filter1d(history.history['val_acc'], sigma=0.5)\n",
    "test_loss=gaussian_filter1d(history.history['val_loss'], sigma=0.5)\n"
   ]
  },
  {
   "cell_type": "code",
   "execution_count": 50,
   "metadata": {},
   "outputs": [
    {
     "data": {
      "text/plain": [
       "array([2.26508975, 2.25381174, 2.23387574, 2.2094312 , 2.18442804,\n",
       "       2.16114158, 2.13978089, 2.11922602, 2.09815982, 2.07585625,\n",
       "       2.05239796, 2.0284755 , 2.00499224, 1.98269248, 1.96196268,\n",
       "       1.94282484, 1.92506325, 1.90840478, 1.89263758, 1.87761026,\n",
       "       1.86318391, 1.84920204, 1.83550113, 1.82203367, 1.80902069,\n",
       "       1.79683229, 1.78562222, 1.77518965, 1.76525875, 1.75575373,\n",
       "       1.74672488, 1.73816695, 1.73004068, 1.72236404, 1.71517159,\n",
       "       1.70840318, 1.70183001, 1.69511776, 1.68807514, 1.68084995,\n",
       "       1.67376392, 1.66696828, 1.66037939, 1.65389985, 1.6475685 ,\n",
       "       1.64151729, 1.63584599, 1.63048348, 1.6251602 , 1.61960104,\n",
       "       1.61377618, 1.6079282 , 1.6023509 , 1.59715846, 1.59223737,\n",
       "       1.58738981, 1.58253293, 1.57778035, 1.573307  , 1.56914419,\n",
       "       1.56517043, 1.5612916 , 1.55752022, 1.55386467, 1.55025926,\n",
       "       1.54664069, 1.54300571, 1.53936116, 1.53566799, 1.53187157,\n",
       "       1.52796416, 1.52400309, 1.52008241, 1.51627421, 1.51255691,\n",
       "       1.50882416, 1.50501538, 1.50121411, 1.49757319, 1.49418056,\n",
       "       1.49101438, 1.48795911, 1.4848777 , 1.48174929, 1.47869173,\n",
       "       1.47578866, 1.47297622, 1.47015095, 1.46727773, 1.46432451,\n",
       "       1.46118054, 1.45772779, 1.45398583, 1.45016708, 1.44658232,\n",
       "       1.44346482, 1.44087291, 1.43877192, 1.43720054, 1.43632876])"
      ]
     },
     "execution_count": 50,
     "metadata": {},
     "output_type": "execute_result"
    }
   ],
   "source": [
    "gaussian_filter1d(history.history['loss'], sigma=2)"
   ]
  },
  {
   "cell_type": "code",
   "execution_count": 52,
   "metadata": {
    "scrolled": true
   },
   "outputs": [
    {
     "data": {
      "text/plain": [
       "Text(0.5,1,'Test Accuracy: 0.48')"
      ]
     },
     "execution_count": 52,
     "metadata": {},
     "output_type": "execute_result"
    },
    {
     "data": {
      "image/png": "[encoded data removed]",
      "text/plain": [
       "<Figure size 432x288 with 2 Axes>"
      ]
     },
     "metadata": {
      "needs_background": "light"
     },
     "output_type": "display_data"
    }
   ],
   "source": [
    "_, ax1 = plt.subplots()\n",
    "ax2 = ax1.twinx()\n",
    "ax1.plot(range(epochs), train_loss)\n",
    "ax2.plot(range(len(test_acc)), test_acc, 'r')\n",
    "ax1.set_xlabel('epoch')\n",
    "ax1.set_ylabel('train loss')\n",
    "ax2.set_ylabel('test accuracy')\n",
    "ax2.set_title('Test Accuracy: {:.2f}'.format(test_acc[-1]))"
   ]
  },
  {
   "cell_type": "code",
   "execution_count": null,
   "metadata": {
    "collapsed": true
   },
   "outputs": [],
   "source": []
  }
 ],
 "metadata": {
  "kernelspec": {
   "display_name": "Python 2",
   "language": "python",
   "name": "python2"
  },
  "language_info": {
   "codemirror_mode": {
    "name": "ipython",
    "version": 2
   },
   "file_extension": ".py",
   "mimetype": "text/x-python",
   "name": "python",
   "nbconvert_exporter": "python",
   "pygments_lexer": "ipython2",
   "version": "2.7.18"
  }
 },
 "nbformat": 4,
 "nbformat_minor": 2
}
