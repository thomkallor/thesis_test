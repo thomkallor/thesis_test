{
 "cells": [
  {
   "cell_type": "markdown",
   "metadata": {},
   "source": [
    "# Solving in Python with LeNet\n",
    "\n",
    "In this example, we'll explore learning with Caffe in Python, using the fully-exposed `Solver` interface."
   ]
  },
  {
   "cell_type": "markdown",
   "metadata": {},
   "source": [
    "### 1. Setup"
   ]
  },
  {
   "cell_type": "markdown",
   "metadata": {},
   "source": [
    "* Set up the Python environment: we'll use the `pylab` import for numpy and plot inline."
   ]
  },
  {
   "cell_type": "code",
   "execution_count": 3,
   "metadata": {},
   "outputs": [],
   "source": [
    "from pylab import *\n",
    "%matplotlib inline"
   ]
  },
  {
   "cell_type": "markdown",
   "metadata": {},
   "source": [
    "* Import `caffe`, adding it to `sys.path` if needed. Make sure you've built pycaffe."
   ]
  },
  {
   "cell_type": "code",
   "execution_count": 4,
   "metadata": {},
   "outputs": [],
   "source": [
    "caffe_root = '../'  # this file should be run from {caffe_root}/examples (otherwise change this line)\n",
    "\n",
    "import sys\n",
    "sys.path.insert(0, caffe_root + 'python')\n",
    "import caffe"
   ]
  },
  {
   "cell_type": "markdown",
   "metadata": {},
   "source": [
    "* We'll be using the provided LeNet example data and networks (make sure you've downloaded the data and created the databases, as below)."
   ]
  },
  {
   "cell_type": "code",
   "execution_count": 5,
   "metadata": {},
   "outputs": [],
   "source": [
    "## set random seeds\n",
    "import numpy as np\n",
    "np.random.seed(10)\n",
    "caffe.set_random_seed(10)"
   ]
  },
  {
   "cell_type": "code",
   "execution_count": 6,
   "metadata": {},
   "outputs": [
    {
     "name": "stdout",
     "output_type": "stream",
     "text": [
      "Downloading...\n",
      "--2020-08-11 16:21:51--  http://www.cs.toronto.edu/~kriz/cifar-10-binary.tar.gz\n",
      "Resolving www.cs.toronto.edu (www.cs.toronto.edu)... 128.100.3.30\n",
      "Connecting to www.cs.toronto.edu (www.cs.toronto.edu)|128.100.3.30|:80... connected.\n",
      "HTTP request sent, awaiting response... 200 OK\n",
      "Length: 170052171 (162M) [application/x-gzip]\n",
      "Saving to: 'cifar-10-binary.tar.gz'\n",
      "\n",
      "100%[======================================>] 170,052,171 19.9MB/s   in 7.4s   \n",
      "\n",
      "2020-08-11 16:21:59 (21.8 MB/s) - 'cifar-10-binary.tar.gz' saved [170052171/170052171]\n",
      "\n",
      "Unzipping...\n",
      "Done.\n",
      "Creating lmdb...\n",
      "I0811 16:22:01.989315   322 db_lmdb.cpp:35] Opened lmdb examples/cifar10/cifar10_train_lmdb\n",
      "I0811 16:22:01.989567   322 convert_cifar_data.cpp:52] Writing Training data\n",
      "I0811 16:22:01.989571   322 convert_cifar_data.cpp:55] Training Batch 1\n",
      "I0811 16:22:02.016808   322 convert_cifar_data.cpp:55] Training Batch 2\n",
      "I0811 16:22:02.045200   322 convert_cifar_data.cpp:55] Training Batch 3\n",
      "I0811 16:22:02.074851   322 convert_cifar_data.cpp:55] Training Batch 4\n",
      "I0811 16:22:02.104910   322 convert_cifar_data.cpp:55] Training Batch 5\n",
      "I0811 16:22:02.786234   322 convert_cifar_data.cpp:73] Writing Testing data\n",
      "I0811 16:22:02.786489   322 db_lmdb.cpp:35] Opened lmdb examples/cifar10/cifar10_test_lmdb\n",
      "Computing image mean...\n",
      "I0811 16:22:03.397680   333 db_lmdb.cpp:35] Opened lmdb examples/cifar10/cifar10_train_lmdb\n",
      "I0811 16:22:03.397984   333 compute_image_mean.cpp:70] Starting iteration\n",
      "I0811 16:22:03.462920   333 compute_image_mean.cpp:95] Processed 10000 files.\n",
      "I0811 16:22:03.528009   333 compute_image_mean.cpp:95] Processed 20000 files.\n",
      "I0811 16:22:03.596235   333 compute_image_mean.cpp:95] Processed 30000 files.\n",
      "I0811 16:22:03.665274   333 compute_image_mean.cpp:95] Processed 40000 files.\n",
      "I0811 16:22:03.732102   333 compute_image_mean.cpp:95] Processed 50000 files.\n",
      "I0811 16:22:03.732125   333 compute_image_mean.cpp:108] Write to examples/cifar10/mean.binaryproto\n",
      "I0811 16:22:03.732271   333 compute_image_mean.cpp:114] Number of channels: 3\n",
      "I0811 16:22:03.732280   333 compute_image_mean.cpp:119] mean_value channel [0]: 125.307\n",
      "I0811 16:22:03.732296   333 compute_image_mean.cpp:119] mean_value channel [1]: 122.95\n",
      "I0811 16:22:03.732304   333 compute_image_mean.cpp:119] mean_value channel [2]: 113.865\n",
      "Done.\n"
     ]
    }
   ],
   "source": [
    "# run scripts from caffe root\n",
    "import os\n",
    "os.chdir(caffe_root)\n",
    "# Download data\n",
    "!data/cifar10/get_cifar10.sh\n",
    "# Prepare data\n",
    "!examples/cifar10/create_cifar10.sh\n",
    "# back to examples\n",
    "os.chdir('examples')"
   ]
  },
  {
   "cell_type": "markdown",
   "metadata": {},
   "source": [
    "### 2. Creating the net \n",
    "\n",
    "Now let's make a variant of LeNet, the classic 1989 convnet architecture.\n",
    "\n",
    "We'll need two external files to help out:\n",
    "* the net `prototxt`, defining the architecture and pointing to the train/test data\n",
    "* the solver `prototxt`, defining the learning parameters\n",
    "\n",
    "We start by creating the net. We'll write the net in a succinct and natural way as Python code that serializes to Caffe's protobuf model format.\n",
    "\n",
    "This network expects to read from pregenerated LMDBs, but reading directly from `ndarray`s is also possible using `MemoryDataLayer`."
   ]
  },
  {
   "cell_type": "code",
   "execution_count": 18,
   "metadata": {},
   "outputs": [],
   "source": [
    "from caffe import layers as L, params as P\n",
    "\n",
    "def lenet(lmdb, batch_size):\n",
    "    # our version of LeNet: a series of linear and simple nonlinear transformations\n",
    "    n = caffe.NetSpec()\n",
    "    \n",
    "    n.data, n.label = L.Data(batch_size=batch_size, backend=P.Data.LMDB, source=lmdb,\n",
    "                             transform_param=dict(scale=1./255),image_data_param=dict(is_color=False), ntop=2)\n",
    "    \n",
    "    n.conv1 = L.Convolution(n.data, kernel_size=5, num_output=6, weight_filler=dict(type='xavier'))\n",
    "    n.pool1 = L.Pooling(n.conv1, kernel_size=2, stride=2, pool=P.Pooling.MAX)\n",
    "    n.relu1 = L.ReLU(n.pool1, in_place=True)\n",
    "    n.conv2 = L.Convolution(n.relu1, kernel_size=5, num_output=16, weight_filler=dict(type='xavier'))\n",
    "    n.pool2 = L.Pooling(n.conv2, kernel_size=2, stride=2, pool=P.Pooling.MAX)\n",
    "    n.relu2 = L.ReLU(n.pool2, in_place=True)\n",
    "    n.fc1 =   L.InnerProduct(n.relu2, num_output=120, weight_filler=dict(type='xavier'))\n",
    "    n.relu3 = L.ReLU(n.fc1, in_place=True)\n",
    "    n.fc2 =   L.InnerProduct(n.relu3, num_output=84, weight_filler=dict(type='xavier'))\n",
    "    n.relu4 = L.ReLU(n.fc2, in_place=True)\n",
    "    n.score = L.InnerProduct(n.relu4, num_output=10, weight_filler=dict(type='xavier'))\n",
    "    n.loss =  L.SoftmaxWithLoss(n.score, n.label)\n",
    "    \n",
    "    return n.to_proto()\n",
    "    \n",
    "with open('cifar10/lenet_auto_train.prototxt', 'w') as f:\n",
    "    f.write(str(lenet('cifar10/cifar10_train_lmdb', 1000)))\n",
    "    \n",
    "with open('cifar10/lenet_auto_test.prototxt', 'w') as f:\n",
    "    f.write(str(lenet('cifar10/cifar10_test_lmdb', 10000)))"
   ]
  },
  {
   "cell_type": "markdown",
   "metadata": {},
   "source": [
    "The net has been written to disk in a more verbose but human-readable serialization format using Google's protobuf library. You can read, write, and modify this description directly. Let's take a look at the train net."
   ]
  },
  {
   "cell_type": "code",
   "execution_count": 19,
   "metadata": {},
   "outputs": [
    {
     "name": "stdout",
     "output_type": "stream",
     "text": [
      "layer {\r\n",
      "  name: \"data\"\r\n",
      "  type: \"Data\"\r\n",
      "  top: \"data\"\r\n",
      "  top: \"label\"\r\n",
      "  transform_param {\r\n",
      "    scale: 0.00392156862745\r\n",
      "  }\r\n",
      "  data_param {\r\n",
      "    source: \"cifar10/cifar10_train_lmdb\"\r\n",
      "    batch_size: 1000\r\n",
      "    backend: LMDB\r\n",
      "  }\r\n",
      "  image_data_param {\r\n",
      "    is_color: false\r\n",
      "  }\r\n",
      "}\r\n",
      "layer {\r\n",
      "  name: \"conv1\"\r\n",
      "  type: \"Convolution\"\r\n",
      "  bottom: \"data\"\r\n",
      "  top: \"conv1\"\r\n",
      "  convolution_param {\r\n",
      "    num_output: 6\r\n",
      "    kernel_size: 5\r\n",
      "    weight_filler {\r\n",
      "      type: \"xavier\"\r\n",
      "    }\r\n",
      "  }\r\n",
      "}\r\n",
      "layer {\r\n",
      "  name: \"pool1\"\r\n",
      "  type: \"Pooling\"\r\n",
      "  bottom: \"conv1\"\r\n",
      "  top: \"pool1\"\r\n",
      "  pooling_param {\r\n",
      "    pool: MAX\r\n",
      "    kernel_size: 2\r\n",
      "    stride: 2\r\n",
      "  }\r\n",
      "}\r\n",
      "layer {\r\n",
      "  name: \"relu1\"\r\n",
      "  type: \"ReLU\"\r\n",
      "  bottom: \"pool1\"\r\n",
      "  top: \"pool1\"\r\n",
      "}\r\n",
      "layer {\r\n",
      "  name: \"conv2\"\r\n",
      "  type: \"Convolution\"\r\n",
      "  bottom: \"pool1\"\r\n",
      "  top: \"conv2\"\r\n",
      "  convolution_param {\r\n",
      "    num_output: 16\r\n",
      "    kernel_size: 5\r\n",
      "    weight_filler {\r\n",
      "      type: \"xavier\"\r\n",
      "    }\r\n",
      "  }\r\n",
      "}\r\n",
      "layer {\r\n",
      "  name: \"pool2\"\r\n",
      "  type: \"Pooling\"\r\n",
      "  bottom: \"conv2\"\r\n",
      "  top: \"pool2\"\r\n",
      "  pooling_param {\r\n",
      "    pool: MAX\r\n",
      "    kernel_size: 2\r\n",
      "    stride: 2\r\n",
      "  }\r\n",
      "}\r\n",
      "layer {\r\n",
      "  name: \"relu2\"\r\n",
      "  type: \"ReLU\"\r\n",
      "  bottom: \"pool2\"\r\n",
      "  top: \"pool2\"\r\n",
      "}\r\n",
      "layer {\r\n",
      "  name: \"fc1\"\r\n",
      "  type: \"InnerProduct\"\r\n",
      "  bottom: \"pool2\"\r\n",
      "  top: \"fc1\"\r\n",
      "  inner_product_param {\r\n",
      "    num_output: 120\r\n",
      "    weight_filler {\r\n",
      "      type: \"xavier\"\r\n",
      "    }\r\n",
      "  }\r\n",
      "}\r\n",
      "layer {\r\n",
      "  name: \"relu3\"\r\n",
      "  type: \"ReLU\"\r\n",
      "  bottom: \"fc1\"\r\n",
      "  top: \"fc1\"\r\n",
      "}\r\n",
      "layer {\r\n",
      "  name: \"fc2\"\r\n",
      "  type: \"InnerProduct\"\r\n",
      "  bottom: \"fc1\"\r\n",
      "  top: \"fc2\"\r\n",
      "  inner_product_param {\r\n",
      "    num_output: 84\r\n",
      "    weight_filler {\r\n",
      "      type: \"xavier\"\r\n",
      "    }\r\n",
      "  }\r\n",
      "}\r\n",
      "layer {\r\n",
      "  name: \"relu4\"\r\n",
      "  type: \"ReLU\"\r\n",
      "  bottom: \"fc2\"\r\n",
      "  top: \"fc2\"\r\n",
      "}\r\n",
      "layer {\r\n",
      "  name: \"score\"\r\n",
      "  type: \"InnerProduct\"\r\n",
      "  bottom: \"fc2\"\r\n",
      "  top: \"score\"\r\n",
      "  inner_product_param {\r\n",
      "    num_output: 10\r\n",
      "    weight_filler {\r\n",
      "      type: \"xavier\"\r\n",
      "    }\r\n",
      "  }\r\n",
      "}\r\n",
      "layer {\r\n",
      "  name: \"loss\"\r\n",
      "  type: \"SoftmaxWithLoss\"\r\n",
      "  bottom: \"score\"\r\n",
      "  bottom: \"label\"\r\n",
      "  top: \"loss\"\r\n",
      "}\r\n"
     ]
    }
   ],
   "source": [
    "!cat cifar10/lenet_auto_train.prototxt"
   ]
  },
  {
   "cell_type": "markdown",
   "metadata": {},
   "source": [
    "Now let's see the learning parameters, which are also written as a `prototxt` file (already provided on disk). We're using SGD with momentum, weight decay, and a specific learning rate schedule."
   ]
  },
  {
   "cell_type": "code",
   "execution_count": 20,
   "metadata": {},
   "outputs": [
    {
     "name": "stdout",
     "output_type": "stream",
     "text": [
      "# The train/test net protocol buffer definition\r\n",
      "train_net: \"cifar10/lenet_auto_train.prototxt\"\r\n",
      "test_net: \"cifar10/lenet_auto_test.prototxt\"\r\n",
      "# test_iter specifies how many forward passes the test should carry out.\r\n",
      "# In the case of MNIST, we have test batch size 1000 and 10 test iterations,\r\n",
      "# covering the full 10,000 testing images.\r\n",
      "test_iter: 10\r\n",
      "# Carry out testing every 500 training iterations.\r\n",
      "test_interval: 50\r\n",
      "# The base learning rate, momentum and the weight decay of the network.\r\n",
      "base_lr: 0.1\r\n",
      "momentum: 0.5\r\n",
      "weight_decay: 0\r\n",
      "# The learning rate policy\r\n",
      "lr_policy: \"fixed\"\r\n",
      "gamma: 0\r\n",
      "power: 0.75\r\n",
      "# Display every 100 iterations\r\n",
      "display: 10\r\n",
      "# The maximum number of iterations\r\n",
      "max_iter: 10000\r\n",
      "# snapshot intermediate results\r\n",
      "snapshot: 5000\r\n",
      "snapshot_prefix: \"cifar10/lenet\"\r\n"
     ]
    }
   ],
   "source": [
    "!cat cifar10/lenet_auto_solver.prototxt"
   ]
  },
  {
   "cell_type": "markdown",
   "metadata": {},
   "source": [
    "### 3. Loading and checking the solver\n",
    "\n",
    "* Let's pick a device and load the solver. We'll use SGD (with momentum), but other methods (such as Adagrad and Nesterov's accelerated gradient) are also available."
   ]
  },
  {
   "cell_type": "code",
   "execution_count": 21,
   "metadata": {},
   "outputs": [],
   "source": [
    "## set gpu\n",
    "caffe.set_device(1)\n",
    "caffe.set_mode_gpu()\n",
    "\n",
    "### load the solver and create train and test nets\n",
    "solver = None  # ignore this workaround for lmdb data (can't instantiate two solvers on the same data)\n",
    "solver = caffe.SGDSolver('cifar10/lenet_auto_solver.prototxt')"
   ]
  },
  {
   "cell_type": "markdown",
   "metadata": {},
   "source": [
    "* To get an idea of the architecture of our net, we can check the dimensions of the intermediate features (blobs) and parameters (these will also be useful to refer to when manipulating data later)."
   ]
  },
  {
   "cell_type": "code",
   "execution_count": 22,
   "metadata": {
    "scrolled": false
   },
   "outputs": [
    {
     "data": {
      "text/plain": [
       "[('data', (1000, 3, 32, 32)),\n",
       " ('label', (1000,)),\n",
       " ('conv1', (1000, 6, 28, 28)),\n",
       " ('pool1', (1000, 6, 14, 14)),\n",
       " ('conv2', (1000, 16, 10, 10)),\n",
       " ('pool2', (1000, 16, 5, 5)),\n",
       " ('fc1', (1000, 120)),\n",
       " ('fc2', (1000, 84)),\n",
       " ('score', (1000, 10)),\n",
       " ('loss', ())]"
      ]
     },
     "execution_count": 22,
     "metadata": {},
     "output_type": "execute_result"
    }
   ],
   "source": [
    "# each output is (batch size, feature dim, spatial dim)\n",
    "[(k, v.data.shape) for k, v in solver.net.blobs.items()]"
   ]
  },
  {
   "cell_type": "code",
   "execution_count": 23,
   "metadata": {},
   "outputs": [
    {
     "data": {
      "text/plain": [
       "[('conv1', (6, 3, 5, 5)),\n",
       " ('conv2', (16, 6, 5, 5)),\n",
       " ('fc1', (120, 400)),\n",
       " ('fc2', (84, 120)),\n",
       " ('score', (10, 84))]"
      ]
     },
     "execution_count": 23,
     "metadata": {},
     "output_type": "execute_result"
    }
   ],
   "source": [
    "# just print the weight sizes (we'll omit the biases)\n",
    "[(k, v[0].data.shape) for k, v in solver.net.params.items()]"
   ]
  },
  {
   "cell_type": "code",
   "execution_count": 24,
   "metadata": {},
   "outputs": [],
   "source": [
    "# solver.net.forward()  # train net\n",
    "# solver.test_nets[0].forward()  # test net (there can be more than one)"
   ]
  },
  {
   "cell_type": "markdown",
   "metadata": {},
   "source": [
    "### 4. Stepping the solver\n",
    "\n",
    "Both train and test nets seem to be loading data, and to have correct labels.\n",
    "\n",
    "* Let's take one step of (minibatch) SGD and see what happens."
   ]
  },
  {
   "cell_type": "code",
   "execution_count": 25,
   "metadata": {},
   "outputs": [],
   "source": [
    "# solver.step(1)"
   ]
  },
  {
   "cell_type": "markdown",
   "metadata": {},
   "source": [
    "### 5. Writing a custom training loop\n",
    "\n",
    "Something is happening. Let's run the net for a while, keeping track of a few things as it goes.\n",
    "Note that this process will be the same as if training through the `caffe` binary. In particular:\n",
    "* logging will continue to happen as normal\n",
    "* snapshots will be taken at the interval specified in the solver prototxt (here, every 5000 iterations)\n",
    "* testing will happen at the interval specified (here, every 500 iterations)\n",
    "\n",
    "Since we have control of the loop in Python, we're free to compute additional things as we go, as we show below. We can do many other things as well, for example:\n",
    "* write a custom stopping criterion\n",
    "* change the solving process by updating the net in the loop"
   ]
  },
  {
   "cell_type": "code",
   "execution_count": 26,
   "metadata": {
    "scrolled": true
   },
   "outputs": [
    {
     "name": "stdout",
     "output_type": "stream",
     "text": [
      "('Iteration', 0, 'testing...')\n",
      "('Test accuracy :', 0.1071)\n",
      "('Train accuracy :', 0.107)\n",
      "('Iteration', 50, 'testing...')\n",
      "('Test accuracy :', 0.1983)\n",
      "('Train accuracy :', 0.171)\n",
      "('Iteration', 100, 'testing...')\n",
      "('Test accuracy :', 0.1864)\n",
      "('Train accuracy :', 0.185)\n",
      "('Iteration', 150, 'testing...')\n",
      "('Test accuracy :', 0.2614)\n",
      "('Train accuracy :', 0.29)\n",
      "('Iteration', 200, 'testing...')\n",
      "('Test accuracy :', 0.3077)\n",
      "('Train accuracy :', 0.28)\n",
      "('Iteration', 250, 'testing...')\n",
      "('Test accuracy :', 0.3329)\n",
      "('Train accuracy :', 0.345)\n",
      "('Iteration', 300, 'testing...')\n",
      "('Test accuracy :', 0.3994)\n",
      "('Train accuracy :', 0.389)\n",
      "('Iteration', 350, 'testing...')\n",
      "('Test accuracy :', 0.4343)\n",
      "('Train accuracy :', 0.434)\n",
      "('Iteration', 400, 'testing...')\n",
      "('Test accuracy :', 0.4324)\n",
      "('Train accuracy :', 0.441)\n",
      "('Iteration', 450, 'testing...')\n",
      "('Test accuracy :', 0.4551)\n",
      "('Train accuracy :', 0.451)\n",
      "('Iteration', 500, 'testing...')\n",
      "('Test accuracy :', 0.4399)\n",
      "('Train accuracy :', 0.457)\n",
      "('Iteration', 550, 'testing...')\n",
      "('Test accuracy :', 0.4337)\n",
      "('Train accuracy :', 0.448)\n",
      "('Iteration', 600, 'testing...')\n",
      "('Test accuracy :', 0.4803)\n",
      "('Train accuracy :', 0.497)\n",
      "('Iteration', 650, 'testing...')\n",
      "('Test accuracy :', 0.4741)\n",
      "('Train accuracy :', 0.474)\n",
      "('Iteration', 700, 'testing...')\n",
      "('Test accuracy :', 0.4896)\n",
      "('Train accuracy :', 0.508)\n",
      "('Iteration', 750, 'testing...')\n",
      "('Test accuracy :', 0.4968)\n",
      "('Train accuracy :', 0.522)\n",
      "('Iteration', 800, 'testing...')\n",
      "('Test accuracy :', 0.4531)\n",
      "('Train accuracy :', 0.512)\n",
      "('Iteration', 850, 'testing...')\n",
      "('Test accuracy :', 0.5021)\n",
      "('Train accuracy :', 0.527)\n",
      "('Iteration', 900, 'testing...')\n",
      "('Test accuracy :', 0.486)\n",
      "('Train accuracy :', 0.518)\n",
      "('Iteration', 950, 'testing...')\n",
      "('Test accuracy :', 0.5134)\n",
      "('Train accuracy :', 0.529)\n",
      "('Iteration', 1000, 'testing...')\n",
      "('Test accuracy :', 0.5177)\n",
      "('Train accuracy :', 0.545)\n",
      "('Iteration', 1050, 'testing...')\n",
      "('Test accuracy :', 0.5176)\n",
      "('Train accuracy :', 0.547)\n",
      "('Iteration', 1100, 'testing...')\n",
      "('Test accuracy :', 0.5195)\n",
      "('Train accuracy :', 0.57)\n",
      "('Iteration', 1150, 'testing...')\n",
      "('Test accuracy :', 0.4679)\n",
      "('Train accuracy :', 0.531)\n",
      "('Iteration', 1200, 'testing...')\n",
      "('Test accuracy :', 0.5052)\n",
      "('Train accuracy :', 0.562)\n",
      "('Iteration', 1250, 'testing...')\n",
      "('Test accuracy :', 0.523)\n",
      "('Train accuracy :', 0.559)\n",
      "('Iteration', 1300, 'testing...')\n",
      "('Test accuracy :', 0.5372)\n",
      "('Train accuracy :', 0.58)\n",
      "('Iteration', 1350, 'testing...')\n",
      "('Test accuracy :', 0.5337)\n",
      "('Train accuracy :', 0.578)\n",
      "('Iteration', 1400, 'testing...')\n",
      "('Test accuracy :', 0.5311)\n",
      "('Train accuracy :', 0.586)\n",
      "('Iteration', 1450, 'testing...')\n",
      "('Test accuracy :', 0.5407)\n",
      "('Train accuracy :', 0.591)\n",
      "('Iteration', 1500, 'testing...')\n",
      "('Test accuracy :', 0.4884)\n",
      "('Train accuracy :', 0.556)\n",
      "('Iteration', 1550, 'testing...')\n",
      "('Test accuracy :', 0.5355)\n",
      "('Train accuracy :', 0.6)\n",
      "('Iteration', 1600, 'testing...')\n",
      "('Test accuracy :', 0.5416)\n",
      "('Train accuracy :', 0.601)\n",
      "('Iteration', 1650, 'testing...')\n",
      "('Test accuracy :', 0.5397)\n",
      "('Train accuracy :', 0.612)\n",
      "('Iteration', 1700, 'testing...')\n",
      "('Test accuracy :', 0.5389)\n",
      "('Train accuracy :', 0.626)\n",
      "('Iteration', 1750, 'testing...')\n",
      "('Test accuracy :', 0.5398)\n",
      "('Train accuracy :', 0.63)\n",
      "('Iteration', 1800, 'testing...')\n",
      "('Test accuracy :', 0.4421)\n",
      "('Train accuracy :', 0.533)\n",
      "('Iteration', 1850, 'testing...')\n",
      "('Test accuracy :', 0.5181)\n",
      "('Train accuracy :', 0.616)\n",
      "('Iteration', 1900, 'testing...')\n",
      "('Test accuracy :', 0.3943)\n",
      "('Train accuracy :', 0.386)\n",
      "('Iteration', 1950, 'testing...')\n",
      "('Test accuracy :', 0.5298)\n",
      "('Train accuracy :', 0.599)\n",
      "('Iteration', 2000, 'testing...')\n",
      "('Test accuracy :', 0.4955)\n",
      "('Train accuracy :', 0.573)\n",
      "('Iteration', 2050, 'testing...')\n",
      "('Test accuracy :', 0.5344)\n",
      "('Train accuracy :', 0.633)\n",
      "('Iteration', 2100, 'testing...')\n",
      "('Test accuracy :', 0.4912)\n",
      "('Train accuracy :', 0.595)\n",
      "('Iteration', 2150, 'testing...')\n",
      "('Test accuracy :', 0.5236)\n",
      "('Train accuracy :', 0.619)\n",
      "('Iteration', 2200, 'testing...')\n",
      "('Test accuracy :', 0.5311)\n",
      "('Train accuracy :', 0.647)\n",
      "('Iteration', 2250, 'testing...')\n",
      "('Test accuracy :', 0.4994)\n",
      "('Train accuracy :', 0.591)\n",
      "('Iteration', 2300, 'testing...')\n",
      "('Test accuracy :', 0.4879)\n",
      "('Train accuracy :', 0.582)\n",
      "('Iteration', 2350, 'testing...')\n",
      "('Test accuracy :', 0.5274)\n",
      "('Train accuracy :', 0.629)\n",
      "('Iteration', 2400, 'testing...')\n",
      "('Test accuracy :', 0.5342)\n",
      "('Train accuracy :', 0.658)\n",
      "('Iteration', 2450, 'testing...')\n",
      "('Test accuracy :', 0.532)\n",
      "('Train accuracy :', 0.668)\n",
      "('Iteration', 2500, 'testing...')\n",
      "('Test accuracy :', 0.5306)\n",
      "('Train accuracy :', 0.685)\n",
      "('Iteration', 2550, 'testing...')\n",
      "('Test accuracy :', 0.5031)\n",
      "('Train accuracy :', 0.654)\n",
      "('Iteration', 2600, 'testing...')\n",
      "('Test accuracy :', 0.5192)\n",
      "('Train accuracy :', 0.663)\n",
      "('Iteration', 2650, 'testing...')\n",
      "('Test accuracy :', 0.5245)\n",
      "('Train accuracy :', 0.686)\n",
      "('Iteration', 2700, 'testing...')\n",
      "('Test accuracy :', 0.5174)\n",
      "('Train accuracy :', 0.677)\n",
      "('Iteration', 2750, 'testing...')\n",
      "('Test accuracy :', 0.5337)\n",
      "('Train accuracy :', 0.69)\n",
      "('Iteration', 2800, 'testing...')\n",
      "('Test accuracy :', 0.531)\n",
      "('Train accuracy :', 0.683)\n",
      "('Iteration', 2850, 'testing...')\n",
      "('Test accuracy :', 0.5329)\n",
      "('Train accuracy :', 0.685)\n",
      "('Iteration', 2900, 'testing...')\n",
      "('Test accuracy :', 0.5315)\n",
      "('Train accuracy :', 0.673)\n",
      "('Iteration', 2950, 'testing...')\n",
      "('Test accuracy :', 0.528)\n",
      "('Train accuracy :', 0.685)\n",
      "('Iteration', 3000, 'testing...')\n",
      "('Test accuracy :', 0.528)\n",
      "('Train accuracy :', 0.693)\n",
      "('Iteration', 3050, 'testing...')\n",
      "('Test accuracy :', 0.5309)\n",
      "('Train accuracy :', 0.695)\n",
      "('Iteration', 3100, 'testing...')\n",
      "('Test accuracy :', 0.5281)\n",
      "('Train accuracy :', 0.683)\n",
      "('Iteration', 3150, 'testing...')\n",
      "('Test accuracy :', 0.5285)\n",
      "('Train accuracy :', 0.684)\n",
      "('Iteration', 3200, 'testing...')\n",
      "('Test accuracy :', 0.5184)\n",
      "('Train accuracy :', 0.68)\n",
      "('Iteration', 3250, 'testing...')\n",
      "('Test accuracy :', 0.5218)\n",
      "('Train accuracy :', 0.699)\n",
      "('Iteration', 3300, 'testing...')\n",
      "('Test accuracy :', 0.5133)\n",
      "('Train accuracy :', 0.68)\n",
      "('Iteration', 3350, 'testing...')\n",
      "('Test accuracy :', 0.5025)\n",
      "('Train accuracy :', 0.675)\n",
      "('Iteration', 3400, 'testing...')\n",
      "('Test accuracy :', 0.5125)\n",
      "('Train accuracy :', 0.681)\n",
      "('Iteration', 3450, 'testing...')\n",
      "('Test accuracy :', 0.5231)\n",
      "('Train accuracy :', 0.684)\n",
      "('Iteration', 3500, 'testing...')\n",
      "('Test accuracy :', 0.5291)\n",
      "('Train accuracy :', 0.703)\n",
      "('Iteration', 3550, 'testing...')\n",
      "('Test accuracy :', 0.5224)\n",
      "('Train accuracy :', 0.707)\n",
      "('Iteration', 3600, 'testing...')\n",
      "('Test accuracy :', 0.5063)\n",
      "('Train accuracy :', 0.695)\n",
      "('Iteration', 3650, 'testing...')\n",
      "('Test accuracy :', 0.5224)\n",
      "('Train accuracy :', 0.722)\n",
      "('Iteration', 3700, 'testing...')\n",
      "('Test accuracy :', 0.5092)\n",
      "('Train accuracy :', 0.704)\n",
      "('Iteration', 3750, 'testing...')\n",
      "('Test accuracy :', 0.506)\n",
      "('Train accuracy :', 0.714)\n",
      "('Iteration', 3800, 'testing...')\n",
      "('Test accuracy :', 0.5136)\n",
      "('Train accuracy :', 0.732)\n",
      "('Iteration', 3850, 'testing...')\n",
      "('Test accuracy :', 0.5027)\n",
      "('Train accuracy :', 0.698)\n",
      "('Iteration', 3900, 'testing...')\n",
      "('Test accuracy :', 0.5196)\n",
      "('Train accuracy :', 0.715)\n",
      "('Iteration', 3950, 'testing...')\n",
      "('Test accuracy :', 0.522)\n",
      "('Train accuracy :', 0.722)\n",
      "('Iteration', 4000, 'testing...')\n",
      "('Test accuracy :', 0.5232)\n",
      "('Train accuracy :', 0.747)\n",
      "('Iteration', 4050, 'testing...')\n",
      "('Test accuracy :', 0.5105)\n",
      "('Train accuracy :', 0.764)\n",
      "('Iteration', 4100, 'testing...')\n",
      "('Test accuracy :', 0.5123)\n",
      "('Train accuracy :', 0.77)\n",
      "('Iteration', 4150, 'testing...')\n",
      "('Test accuracy :', 0.5087)\n",
      "('Train accuracy :', 0.763)\n",
      "('Iteration', 4200, 'testing...')\n",
      "('Test accuracy :', 0.5112)\n",
      "('Train accuracy :', 0.738)\n",
      "('Iteration', 4250, 'testing...')\n",
      "('Test accuracy :', 0.5042)\n",
      "('Train accuracy :', 0.773)\n",
      "('Iteration', 4300, 'testing...')\n",
      "('Test accuracy :', 0.4993)\n",
      "('Train accuracy :', 0.753)\n",
      "('Iteration', 4350, 'testing...')\n",
      "('Test accuracy :', 0.4996)\n",
      "('Train accuracy :', 0.759)\n",
      "('Iteration', 4400, 'testing...')\n",
      "('Test accuracy :', 0.5099)\n",
      "('Train accuracy :', 0.759)\n",
      "('Iteration', 4450, 'testing...')\n",
      "('Test accuracy :', 0.5116)\n",
      "('Train accuracy :', 0.752)\n",
      "('Iteration', 4500, 'testing...')\n",
      "('Test accuracy :', 0.5107)\n",
      "('Train accuracy :', 0.742)\n",
      "('Iteration', 4550, 'testing...')\n",
      "('Test accuracy :', 0.5088)\n",
      "('Train accuracy :', 0.778)\n",
      "('Iteration', 4600, 'testing...')\n",
      "('Test accuracy :', 0.5044)\n",
      "('Train accuracy :', 0.773)\n",
      "('Iteration', 4650, 'testing...')\n",
      "('Test accuracy :', 0.5081)\n",
      "('Train accuracy :', 0.777)\n",
      "('Iteration', 4700, 'testing...')\n",
      "('Test accuracy :', 0.5007)\n",
      "('Train accuracy :', 0.758)\n",
      "('Iteration', 4750, 'testing...')\n",
      "('Test accuracy :', 0.5034)\n",
      "('Train accuracy :', 0.756)\n",
      "('Iteration', 4800, 'testing...')\n",
      "('Test accuracy :', 0.4962)\n",
      "('Train accuracy :', 0.765)\n",
      "('Iteration', 4850, 'testing...')\n",
      "('Test accuracy :', 0.4972)\n",
      "('Train accuracy :', 0.76)\n",
      "('Iteration', 4900, 'testing...')\n",
      "('Test accuracy :', 0.5034)\n",
      "('Train accuracy :', 0.783)\n",
      "('Iteration', 4950, 'testing...')\n",
      "('Test accuracy :', 0.5077)\n",
      "('Train accuracy :', 0.756)\n",
      "--- Training Time - 142.271671057 seconds ---\n"
     ]
    }
   ],
   "source": [
    "niter = 5000\n",
    "test_interval = 50\n",
    "# losses will also be stored in the log\n",
    "train_loss = zeros(niter)\n",
    "test_loss = zeros(int(np.ceil(niter / test_interval)))\n",
    "test_acc = zeros(int(np.ceil(niter / test_interval)))\n",
    "train_acc = zeros(int(np.ceil(niter / test_interval)))\n",
    "output = zeros((niter, 8, 10))\n",
    "\n",
    "import time\n",
    "start_time = time.time()\n",
    "# the main solver loop\n",
    "for it in range(niter):\n",
    "    solver.step(1)  # SGD by Caffe\n",
    "    \n",
    "    # store the train loss\n",
    "    train_loss[it] = solver.net.blobs['loss'].data\n",
    "    if it % test_interval == 0:\n",
    "        idx = int(np.ceil(it/test_interval))\n",
    "        print('Iteration', it, 'testing...')\n",
    "        solver.test_nets[0].forward()\n",
    "        test_loss[idx] = solver.test_nets[0].blobs['loss'].data\n",
    "        correct = sum(solver.test_nets[0].blobs['score'].data.argmax(1)\n",
    "                                == solver.test_nets[0].blobs['label'].data)\n",
    "        test_acc[idx] = correct/10000.0\n",
    "        print('Test accuracy :',test_acc[idx])\n",
    "        correct = sum(solver.net.blobs['score'].data.argmax(1)\n",
    "                        == solver.net.blobs['label'].data)\n",
    "        train_acc[idx] = correct/1000.0\n",
    "        print('Train accuracy :',train_acc[idx])\n",
    "        \n",
    "        \n",
    "print(\"--- Training Time - %s seconds ---\" % (time.time() - start_time))"
   ]
  },
  {
   "cell_type": "code",
   "execution_count": 16,
   "metadata": {},
   "outputs": [
    {
     "name": "stdout",
     "output_type": "stream",
     "text": [
      "[0.0875 0.1563 0.1058 0.1795 0.2526 0.288  0.3575 0.3804 0.3925 0.3996\n",
      " 0.4294 0.3637 0.4383 0.377  0.3368 0.4842 0.3869 0.5002 0.5103 0.512\n",
      " 0.5011 0.4126 0.476  0.4637 0.4163 0.5164 0.4879 0.5257 0.5187 0.5162\n",
      " 0.5407 0.5514 0.5466 0.5482 0.5294 0.526  0.5533 0.536  0.5359 0.5407\n",
      " 0.5586 0.5526 0.5424 0.5504 0.5502 0.5351 0.5481 0.5351 0.5317 0.5448\n",
      " 0.5382 0.5187 0.5425 0.5399 0.5411 0.5305 0.5427 0.5371 0.542  0.543\n",
      " 0.5332 0.5286 0.5352 0.5333 0.5261 0.534  0.531  0.5364 0.5232 0.5283\n",
      " 0.5249 0.5238 0.5192 0.5157 0.5149 0.5046 0.516  0.5286 0.5282 0.5168\n",
      " 0.5285 0.5334 0.5258 0.5212 0.5137 0.5161 0.5177 0.508  0.5103 0.5151\n",
      " 0.515  0.5157 0.5149 0.5166 0.5094 0.5173 0.5119 0.5098 0.51   0.4958]\n"
     ]
    }
   ],
   "source": [
    "print(test_acc)"
   ]
  },
  {
   "cell_type": "code",
   "execution_count": 27,
   "metadata": {},
   "outputs": [
    {
     "name": "stdout",
     "output_type": "stream",
     "text": [
      "0.6901099681854248\n",
      "1.453701138496399\n"
     ]
    }
   ],
   "source": [
    "print(train_loss[4999])\n",
    "print(test_loss[49])"
   ]
  },
  {
   "cell_type": "markdown",
   "metadata": {},
   "source": [
    "* Let's plot the train loss and test accuracy."
   ]
  },
  {
   "cell_type": "code",
   "execution_count": 28,
   "metadata": {},
   "outputs": [
    {
     "data": {
      "text/plain": [
       "Text(0.5,1,'Test Accuracy: 0.51')"
      ]
     },
     "execution_count": 28,
     "metadata": {},
     "output_type": "execute_result"
    },
    {
     "data": {
      "image/png": "[encoded data removed]",
      "text/plain": [
       "<Figure size 432x288 with 2 Axes>"
      ]
     },
     "metadata": {
      "needs_background": "light"
     },
     "output_type": "display_data"
    }
   ],
   "source": [
    "_, ax1 = subplots()\n",
    "ax2 = ax1.twinx()\n",
    "ax1.plot(arange(niter), train_loss)\n",
    "ax2.plot(test_interval * arange(len(test_acc)), test_acc, 'r')\n",
    "ax1.set_xlabel('iteration')\n",
    "ax1.set_ylabel('train loss')\n",
    "ax2.set_ylabel('test accuracy')\n",
    "ax2.set_title('Test Accuracy: {:.2f}'.format(test_acc[-1]))"
   ]
  },
  {
   "cell_type": "code",
   "execution_count": 34,
   "metadata": {
    "scrolled": true
   },
   "outputs": [
    {
     "data": {
      "text/plain": [
       "Text(0.5,1,'Test Accuracy: 0.51')"
      ]
     },
     "execution_count": 34,
     "metadata": {},
     "output_type": "execute_result"
    },
    {
     "data": {
      "image/png": "[encoded data removed]",
      "text/plain": [
       "<Figure size 432x288 with 2 Axes>"
      ]
     },
     "metadata": {
      "needs_background": "light"
     },
     "output_type": "display_data"
    }
   ],
   "source": [
    "from scipy.ndimage.filters import gaussian_filter1d\n",
    "\n",
    "test_acc_smooth = gaussian_filter1d(test_acc, sigma=2)\n",
    "train_loss_smooth = gaussian_filter1d(train_loss, sigma=4)\n",
    "_, ax1 = subplots()\n",
    "ax2 = ax1.twinx()\n",
    "ax1.plot(arange(niter), train_loss_smooth)\n",
    "ax2.plot(test_interval * arange(len(test_acc_smooth)), test_acc_smooth, 'r')\n",
    "ax1.set_xlabel('iteration')\n",
    "ax1.set_ylabel('train loss')\n",
    "ax2.set_ylabel('test accuracy')\n",
    "ax2.set_title('Test Accuracy: {:.2f}'.format(test_acc[-1]))"
   ]
  },
  {
   "cell_type": "code",
   "execution_count": null,
   "metadata": {},
   "outputs": [],
   "source": []
  }
 ],
 "metadata": {
  "description": "Define, train, and test the classic LeNet with the Python interface.",
  "example_name": "Learning LeNet",
  "include_in_docs": true,
  "kernelspec": {
   "display_name": "Python 2",
   "language": "python",
   "name": "python2"
  },
  "language_info": {
   "codemirror_mode": {
    "name": "ipython",
    "version": 2
   },
   "file_extension": ".py",
   "mimetype": "text/x-python",
   "name": "python",
   "nbconvert_exporter": "python",
   "pygments_lexer": "ipython2",
   "version": "2.7.18"
  },
  "priority": 2
 },
 "nbformat": 4,
 "nbformat_minor": 1
}
