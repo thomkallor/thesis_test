{
 "cells": [
  {
   "cell_type": "code",
   "execution_count": 1,
   "metadata": {},
   "outputs": [
    {
     "data": {
      "text/plain": [
       "cifar-10-batches-bin/\n",
       "cifar-10-batches-bin/data_batch_1.bin\n"
      ]
     },
     "execution_count": 1,
     "metadata": {},
     "output_type": "execute_result"
    },
    {
     "data": {
      "text/plain": [
       "cifar-10-batches-bin/batches.meta.txt\n",
       "cifar-10-batches-bin/data_batch_3.bin\n"
      ]
     },
     "execution_count": 1,
     "metadata": {},
     "output_type": "execute_result"
    },
    {
     "data": {
      "text/plain": [
       "cifar-10-batches-bin/data_batch_4.bin\n"
      ]
     },
     "execution_count": 1,
     "metadata": {},
     "output_type": "execute_result"
    },
    {
     "data": {
      "text/plain": [
       "cifar-10-batches-bin/test_batch.bin\n"
      ]
     },
     "execution_count": 1,
     "metadata": {},
     "output_type": "execute_result"
    },
    {
     "data": {
      "text/plain": [
       "cifar-10-batches-bin/readme.html\n",
       "cifar-10-batches-bin/data_batch_5.bin\n"
      ]
     },
     "execution_count": 1,
     "metadata": {},
     "output_type": "execute_result"
    },
    {
     "data": {
      "text/plain": [
       "cifar-10-batches-bin/data_batch_2.bin\n"
      ]
     },
     "execution_count": 1,
     "metadata": {},
     "output_type": "execute_result"
    },
    {
     "data": {
      "text/plain": [
       "{\n",
       "  data : ByteTensor - size: 50000x3x32x32\n",
       "  label : ByteTensor - size: 50000\n",
       "}\n"
      ]
     },
     "execution_count": 1,
     "metadata": {},
     "output_type": "execute_result"
    },
    {
     "data": {
      "text/plain": [
       "{\n",
       "  data : ByteTensor - size: 10000x3x32x32\n",
       "  label : ByteTensor - size: 10000\n",
       "}\n"
      ]
     },
     "execution_count": 1,
     "metadata": {},
     "output_type": "execute_result"
    }
   ],
   "source": [
    "require 'torch'\n",
    "\n",
    "os.execute('wget -c http://www.cs.toronto.edu/~kriz/cifar-10-binary.tar.gz')\n",
    "os.execute('tar -xvf cifar-10-binary.tar.gz')\n",
    "local function convertCifar10BinToTorchTensor(inputFnames, outputFname)\n",
    "   local nSamples = 0\n",
    "   for i=1,#inputFnames do\n",
    "      local inputFname = inputFnames[i]\n",
    "      local m=torch.DiskFile(inputFname, 'r'):binary()\n",
    "      m:seekEnd()\n",
    "      local length = m:position() - 1\n",
    "      local nSamplesF = length / 3073 -- 1 label byte, 3072 pixel bytes\n",
    "      assert(nSamplesF == math.floor(nSamplesF), 'expecting numSamples to be an exact integer')\n",
    "      nSamples = nSamples + nSamplesF\n",
    "      m:close()\n",
    "   end\n",
    "\n",
    "   local label = torch.ByteTensor(nSamples)\n",
    "   local data = torch.ByteTensor(nSamples, 3, 32, 32)\n",
    "\n",
    "   local index = 1\n",
    "   for i=1,#inputFnames do\n",
    "      local inputFname = inputFnames[i]\n",
    "      local m=torch.DiskFile(inputFname, 'r'):binary()\n",
    "      m:seekEnd()\n",
    "      local length = m:position() - 1\n",
    "      local nSamplesF = length / 3073 -- 1 label byte, 3072 pixel bytes\n",
    "      m:seek(1)\n",
    "      for j=1,nSamplesF do\n",
    "         label[index] = m:readByte()\n",
    "         local store = m:readByte(3072)\n",
    "         data[index]:copy(torch.ByteTensor(store))\n",
    "         index = index + 1\n",
    "      end\n",
    "      m:close()\n",
    "   end\n",
    "\n",
    "   local out = {}\n",
    "   out.data = data\n",
    "   out.label = label\n",
    "   print(out)\n",
    "   torch.save(outputFname, out)\n",
    "end\n",
    "\n",
    "convertCifar10BinToTorchTensor({'cifar-10-batches-bin/data_batch_1.bin',\n",
    "                                'cifar-10-batches-bin/data_batch_2.bin',\n",
    "                                'cifar-10-batches-bin/data_batch_3.bin',\n",
    "                                'cifar-10-batches-bin/data_batch_4.bin',\n",
    "                                'cifar-10-batches-bin/data_batch_5.bin'},\n",
    "   'cifar10-train.t7')\n",
    "\n",
    "convertCifar10BinToTorchTensor({'cifar-10-batches-bin/test_batch.bin'},\n",
    "   'cifar10-test.t7')"
   ]
  },
  {
   "cell_type": "code",
   "execution_count": 2,
   "metadata": {},
   "outputs": [],
   "source": [
    "require 'nn';\n",
    "require 'paths'\n",
    "trainset = torch.load('cifar10-train.t7')\n",
    "testset = torch.load('cifar10-test.t7')\n",
    "classes = {'airplane', 'automobile', 'bird', 'cat',\n",
    "           'deer', 'dog', 'frog', 'horse', 'ship', 'truck'}"
   ]
  },
  {
   "cell_type": "code",
   "execution_count": 3,
   "metadata": {},
   "outputs": [],
   "source": [
    "trainset.label = trainset.label+1\n",
    "testset.label = testset.label+1"
   ]
  },
  {
   "cell_type": "code",
   "execution_count": 4,
   "metadata": {},
   "outputs": [],
   "source": [
    "-- ignore setmetatable for now, it is a feature beyond the scope of this tutorial. It sets the index operator.\n",
    "setmetatable(trainset, \n",
    "    {__index = function(t, i) \n",
    "                    return {t.data[i], t.label[i]} \n",
    "                end}\n",
    ");\n",
    "trainset.data = trainset.data:double() -- convert the data from a ByteTensor to a DoubleTensor.\n",
    "\n",
    "function trainset:size() \n",
    "    return self.data:size(1) \n",
    "end\n",
    "\n",
    "-- ignore setmetatable for now, it is a feature beyond the scope of this tutorial. It sets the index operator.\n",
    "setmetatable(testset, \n",
    "    {__index = function(t, i) \n",
    "                    return {t.data[i], t.label[i]} \n",
    "                end}\n",
    ");\n",
    "testset.data = testset.data:double() -- convert the data from a ByteTensor to a DoubleTensor.\n",
    "\n",
    "function testset:size() \n",
    "    return self.data:size(1) \n",
    "end"
   ]
  },
  {
   "cell_type": "code",
   "execution_count": 5,
   "metadata": {},
   "outputs": [],
   "source": [
    "r = trainset.data[{ {}, {1}, {}, {}  }]*0.2989\n",
    "g = trainset.data[{ {}, {2}, {}, {}  }]*0.5870\n",
    "b = trainset.data[{ {}, {3}, {}, {}  }]*0.1140\n",
    "trainset.data = r+g+b\n",
    "r = testset.data[{ {}, {1}, {}, {}  }]*0.2989\n",
    "g = testset.data[{ {}, {2}, {}, {}  }]*0.5870\n",
    "b = testset.data[{ {}, {3}, {}, {}  }]*0.1140\n",
    "testset.data = r+g+b"
   ]
  },
  {
   "cell_type": "code",
   "execution_count": 6,
   "metadata": {},
   "outputs": [],
   "source": [
    "trainset.data = trainset.data/255\n",
    "testset.data = testset.data/255"
   ]
  },
  {
   "cell_type": "code",
   "execution_count": 7,
   "metadata": {},
   "outputs": [
    {
     "data": {
      "image/png": "[encoded data removed]",
      "text/plain": [
       "Console does not support images"
      ]
     },
     "metadata": {
      "image/png": {
       "height": 32,
       "width": 32
      }
     },
     "output_type": "display_data"
    },
    {
     "data": {
      "text/plain": [
       "automobile\t\n",
       "2\t\n"
      ]
     },
     "execution_count": 7,
     "metadata": {},
     "output_type": "execute_result"
    },
    {
     "data": {
      "image/png": "[encoded data removed]",
      "text/plain": [
       "Console does not support images"
      ]
     },
     "metadata": {
      "image/png": {
       "height": 32,
       "width": 32
      }
     },
     "output_type": "display_data"
    },
    {
     "data": {
      "text/plain": [
       "horse\t\n",
       "8\t\n"
      ]
     },
     "execution_count": 7,
     "metadata": {},
     "output_type": "execute_result"
    }
   ],
   "source": [
    "itorch.image(trainset.data[100]) -- display the 100-th image in dataset\n",
    "print(classes[trainset.label[100]])\n",
    "print(trainset.label[100])\n",
    "itorch.image(testset.data[100]) -- display the 100-th image in dataset\n",
    "print(classes[testset.label[100]])\n",
    "print(testset.label[100])"
   ]
  },
  {
   "cell_type": "code",
   "execution_count": 8,
   "metadata": {},
   "outputs": [],
   "source": [
    "net = nn.Sequential()\n",
    "net:add(nn.SpatialConvolution(1, 6, 5, 5)) -- 3 input image channels, 6 output channels, 5x5 convolution kernel\n",
    "net:add(nn.ReLU())                       -- non-linearity \n",
    "net:add(nn.SpatialMaxPooling(2,2,2,2))     -- A max-pooling operation that looks at 2x2 windows and finds the max.\n",
    "net:add(nn.SpatialConvolution(6, 16, 5, 5))\n",
    "net:add(nn.ReLU())                       -- non-linearity \n",
    "net:add(nn.SpatialMaxPooling(2,2,2,2))\n",
    "net:add(nn.View(16*5*5))                    -- reshapes from a 3D tensor of 16x5x5 into 1D tensor of 16*5*5\n",
    "net:add(nn.Linear(16*5*5, 120))             -- fully connected layer (matrix multiplication between input and weights)\n",
    "net:add(nn.ReLU())                       -- non-linearity \n",
    "net:add(nn.Linear(120, 84))\n",
    "net:add(nn.ReLU())                       -- non-linearity \n",
    "net:add(nn.Linear(84, 10))                   -- 10 is the number of outputs of the network (in this case, 10 digits)\n",
    "net:add(nn.LogSoftMax(1)) "
   ]
  },
  {
   "cell_type": "code",
   "execution_count": 9,
   "metadata": {},
   "outputs": [],
   "source": [
    "criterion = nn.ClassNLLCriterion()"
   ]
  },
  {
   "cell_type": "code",
   "execution_count": 10,
   "metadata": {},
   "outputs": [
    {
     "data": {
      "text/plain": [
       "2\t\n"
      ]
     },
     "execution_count": 10,
     "metadata": {},
     "output_type": "execute_result"
    }
   ],
   "source": [
    "require 'cunn';\n",
    "require 'cutorch';\n",
    "cutorch.setDevice(2)\n",
    "print(cutorch.getDevice())"
   ]
  },
  {
   "cell_type": "code",
   "execution_count": 11,
   "metadata": {},
   "outputs": [],
   "source": [
    "net = net:cuda()"
   ]
  },
  {
   "cell_type": "code",
   "execution_count": 12,
   "metadata": {},
   "outputs": [],
   "source": [
    "criterion = criterion:cuda()"
   ]
  },
  {
   "cell_type": "code",
   "execution_count": 13,
   "metadata": {},
   "outputs": [],
   "source": [
    "targets=trainset.label:long()\n",
    "one_hot_train = torch.eye(10):index(1, targets)\n",
    "--targets=testset.label:long()\n",
    "--one_hot_test = torch.eye(10):index(1, targets)"
   ]
  },
  {
   "cell_type": "code",
   "execution_count": 14,
   "metadata": {},
   "outputs": [],
   "source": [
    "trainset.data = trainset.data:cuda()\n",
    "--trainset.label = one_hot_train:cuda()\n",
    "trainset.label = trainset.label:cuda()\n",
    "testset.data = testset.data:cuda()\n",
    "testset.label = testset.label:cuda()"
   ]
  },
  {
   "cell_type": "code",
   "execution_count": 15,
   "metadata": {},
   "outputs": [],
   "source": [
    "parameters, gradParameters = net:getParameters()"
   ]
  },
  {
   "cell_type": "code",
   "execution_count": 38,
   "metadata": {},
   "outputs": [],
   "source": [
    "dl = require 'dataload'\n",
    "optim = require 'optim';\n",
    "\n",
    "train_loss={}\n",
    "train_acc={}\n",
    "test_loss={}\n",
    "test_acc={}\n",
    "function eval_train(epoch)\n",
    "    local correct = 0\n",
    "    local loss = 0\n",
    "    local predictions = net:forward(trainset.data)\n",
    "    local ll=criterion:forward(predictions, trainset.label)\n",
    "    \n",
    "    for i=1,10000 do\n",
    "        local groundtruth = trainset.label[i]\n",
    "        local prediction = predictions[i]\n",
    "        -- loss = loss + ll[i]\n",
    "        local confidences, indices = torch.sort(prediction, true)  -- true means sort in descending order\n",
    "        if groundtruth == indices[1] then\n",
    "            correct = correct + 1\n",
    "        end\n",
    "    end\n",
    "    --train_loss[epoch]=loss/10000\n",
    "    train_loss[epoch]=ll\n",
    "    train_acc[epoch]=correct/10000\n",
    "    print('Train loss :' .. train_loss[epoch])\n",
    "    print('Train Accuracy :' ,correct, 100*train_acc[epoch] .. ' % ')\n",
    "end\n",
    "function eval_test(epoch)\n",
    "    local correct = 0\n",
    "    local loss = 0\n",
    "    local predictions = net:forward(testset.data)\n",
    "    local ll=criterion:forward(predictions, testset.label)\n",
    "\n",
    "    for i=1,10000 do\n",
    "        local prediction = predictions[i]\n",
    "        local groundtruth = testset.label[i]\n",
    "        --loss = loss + ll[i]\n",
    "        local confidences, indices = torch.sort(prediction, true)  -- true means sort in descending order\n",
    "        if groundtruth == indices[1] then\n",
    "            correct = correct + 1\n",
    "        end\n",
    "    end\n",
    "    --test_loss[epoch]=loss/10000\n",
    "    test_loss[epoch]=ll\n",
    "    test_acc[epoch]=correct/10000\n",
    "    print('Test loss :' ..test_loss[epoch])\n",
    "    print('Test Accuracy', correct, 100*test_acc[epoch] .. ' % ')\n",
    "end"
   ]
  },
  {
   "cell_type": "code",
   "execution_count": 39,
   "metadata": {},
   "outputs": [
    {
     "data": {
      "text/plain": [
       "------ epoch - 1 ----- \t\n"
      ]
     },
     "execution_count": 39,
     "metadata": {},
     "output_type": "execute_result"
    },
    {
     "data": {
      "text/plain": [
       "Train loss :2.1080279350281\t\n",
       "Train Accuracy :\t2300\t23 % \t\n"
      ]
     },
     "execution_count": 39,
     "metadata": {},
     "output_type": "execute_result"
    },
    {
     "data": {
      "text/plain": [
       "Test loss :2.107449054718\t\n",
       "Test Accuracy\t2320\t23.2 % \t\n",
       "------ epoch - 2 ----- \t\n"
      ]
     },
     "execution_count": 39,
     "metadata": {},
     "output_type": "execute_result"
    },
    {
     "data": {
      "text/plain": [
       "Train loss :2.061977148056\t\n",
       "Train Accuracy :\t2510\t25.1 % \t\n"
      ]
     },
     "execution_count": 39,
     "metadata": {},
     "output_type": "execute_result"
    },
    {
     "data": {
      "text/plain": [
       "Test loss :2.0610885620117\t\n",
       "Test Accuracy\t2500\t25 % \t\n",
       "------ epoch - 3 ----- \t\n"
      ]
     },
     "execution_count": 39,
     "metadata": {},
     "output_type": "execute_result"
    },
    {
     "data": {
      "text/plain": [
       "Train loss :2.0211532115936\t\n",
       "Train Accuracy :\t2739\t27.39 % \t\n"
      ]
     },
     "execution_count": 39,
     "metadata": {},
     "output_type": "execute_result"
    },
    {
     "data": {
      "text/plain": [
       "Test loss :2.0215485095978\t\n",
       "Test Accuracy\t2726\t27.26 % \t\n",
       "------ epoch - 4 ----- \t\n"
      ]
     },
     "execution_count": 39,
     "metadata": {},
     "output_type": "execute_result"
    },
    {
     "data": {
      "text/plain": [
       "Train loss :1.9546384811401\t\n",
       "Train Accuracy :\t3016\t30.16 % \t\n"
      ]
     },
     "execution_count": 39,
     "metadata": {},
     "output_type": "execute_result"
    },
    {
     "data": {
      "text/plain": [
       "Test loss :1.9542533159256\t\n",
       "Test Accuracy\t3000\t30 % \t\n",
       "------ epoch - 5 ----- \t\n"
      ]
     },
     "execution_count": 39,
     "metadata": {},
     "output_type": "execute_result"
    },
    {
     "data": {
      "text/plain": [
       "Train loss :1.8975735902786\t\n",
       "Train Accuracy :\t3320\t33.2 % \t\n"
      ]
     },
     "execution_count": 39,
     "metadata": {},
     "output_type": "execute_result"
    },
    {
     "data": {
      "text/plain": [
       "Test loss :1.8962111473083\t\n",
       "Test Accuracy\t3268\t32.68 % \t\n",
       "------ epoch - 6 ----- \t\n"
      ]
     },
     "execution_count": 39,
     "metadata": {},
     "output_type": "execute_result"
    },
    {
     "data": {
      "text/plain": [
       "Train loss :1.8593620061874\t\n",
       "Train Accuracy :\t3471\t34.71 % \t\n"
      ]
     },
     "execution_count": 39,
     "metadata": {},
     "output_type": "execute_result"
    },
    {
     "data": {
      "text/plain": [
       "Test loss :1.8593300580978\t\n",
       "Test Accuracy\t3425\t34.25 % \t\n",
       "------ epoch - 7 ----- \t\n"
      ]
     },
     "execution_count": 39,
     "metadata": {},
     "output_type": "execute_result"
    },
    {
     "data": {
      "text/plain": [
       "Train loss :1.8224713802338\t\n",
       "Train Accuracy :\t3582\t35.82 % \t\n"
      ]
     },
     "execution_count": 39,
     "metadata": {},
     "output_type": "execute_result"
    },
    {
     "data": {
      "text/plain": [
       "Test loss :1.8244668245316\t\n",
       "Test Accuracy\t3525\t35.25 % \t\n",
       "------ epoch - 8 ----- \t\n"
      ]
     },
     "execution_count": 39,
     "metadata": {},
     "output_type": "execute_result"
    },
    {
     "data": {
      "text/plain": [
       "Train loss :1.7751950025558\t\n",
       "Train Accuracy :\t3744\t37.44 % \t\n"
      ]
     },
     "execution_count": 39,
     "metadata": {},
     "output_type": "execute_result"
    },
    {
     "data": {
      "text/plain": [
       "Test loss :1.7804554700851\t\n",
       "Test Accuracy\t3620\t36.2 % \t\n",
       "------ epoch - 9 ----- \t\n"
      ]
     },
     "execution_count": 39,
     "metadata": {},
     "output_type": "execute_result"
    },
    {
     "data": {
      "text/plain": [
       "Train loss :1.7978239059448\t\n",
       "Train Accuracy :\t3673\t36.73 % \t\n"
      ]
     },
     "execution_count": 39,
     "metadata": {},
     "output_type": "execute_result"
    },
    {
     "data": {
      "text/plain": [
       "Test loss :1.8030467033386\t\n",
       "Test Accuracy\t3502\t35.02 % \t\n",
       "------ epoch - 10 ----- \t\n"
      ]
     },
     "execution_count": 39,
     "metadata": {},
     "output_type": "execute_result"
    },
    {
     "data": {
      "text/plain": [
       "Train loss :1.7105070352554\t\n",
       "Train Accuracy :\t3946\t39.46 % \t\n"
      ]
     },
     "execution_count": 39,
     "metadata": {},
     "output_type": "execute_result"
    },
    {
     "data": {
      "text/plain": [
       "Test loss :1.7176856994629\t\n",
       "Test Accuracy\t3862\t38.62 % \t\n",
       "------ epoch - 11 ----- \t\n"
      ]
     },
     "execution_count": 39,
     "metadata": {},
     "output_type": "execute_result"
    },
    {
     "data": {
      "text/plain": [
       "Train loss :1.7013514041901\t\n",
       "Train Accuracy :\t3955\t39.55 % \t\n"
      ]
     },
     "execution_count": 39,
     "metadata": {},
     "output_type": "execute_result"
    },
    {
     "data": {
      "text/plain": [
       "Test loss :1.7117708921432\t\n",
       "Test Accuracy\t3865\t38.65 % \t\n",
       "------ epoch - 12 ----- \t\n"
      ]
     },
     "execution_count": 39,
     "metadata": {},
     "output_type": "execute_result"
    },
    {
     "data": {
      "text/plain": [
       "Train loss :1.6602512598038\t\n",
       "Train Accuracy :\t4120\t41.2 % \t\n"
      ]
     },
     "execution_count": 39,
     "metadata": {},
     "output_type": "execute_result"
    },
    {
     "data": {
      "text/plain": [
       "Test loss :1.6736392974854\t\n",
       "Test Accuracy\t4038\t40.38 % \t\n",
       "------ epoch - 13 ----- \t\n"
      ]
     },
     "execution_count": 39,
     "metadata": {},
     "output_type": "execute_result"
    },
    {
     "data": {
      "text/plain": [
       "Train loss :1.6346927881241\t\n",
       "Train Accuracy :\t4238\t42.38 % \t\n"
      ]
     },
     "execution_count": 39,
     "metadata": {},
     "output_type": "execute_result"
    },
    {
     "data": {
      "text/plain": [
       "Test loss :1.6509138345718\t\n",
       "Test Accuracy\t4125\t41.25 % \t\n",
       "------ epoch - 14 ----- \t\n"
      ]
     },
     "execution_count": 39,
     "metadata": {},
     "output_type": "execute_result"
    },
    {
     "data": {
      "text/plain": [
       "Train loss :1.6209050416946\t\n",
       "Train Accuracy :\t4266\t42.66 % \t\n"
      ]
     },
     "execution_count": 39,
     "metadata": {},
     "output_type": "execute_result"
    },
    {
     "data": {
      "text/plain": [
       "Test loss :1.6404374837875\t\n",
       "Test Accuracy\t4130\t41.3 % \t\n",
       "------ epoch - 15 ----- \t\n"
      ]
     },
     "execution_count": 39,
     "metadata": {},
     "output_type": "execute_result"
    },
    {
     "data": {
      "text/plain": [
       "Train loss :1.6074376106262\t\n",
       "Train Accuracy :\t4318\t43.18 % \t\n"
      ]
     },
     "execution_count": 39,
     "metadata": {},
     "output_type": "execute_result"
    },
    {
     "data": {
      "text/plain": [
       "Test loss :1.6299139261246\t\n",
       "Test Accuracy\t4193\t41.93 % \t\n",
       "------ epoch - 16 ----- \t\n"
      ]
     },
     "execution_count": 39,
     "metadata": {},
     "output_type": "execute_result"
    },
    {
     "data": {
      "text/plain": [
       "Train loss :1.7114635705948\t\n",
       "Train Accuracy :\t3931\t39.31 % \t\n"
      ]
     },
     "execution_count": 39,
     "metadata": {},
     "output_type": "execute_result"
    },
    {
     "data": {
      "text/plain": [
       "Test loss :1.7337417602539\t\n",
       "Test Accuracy\t3870\t38.7 % \t\n",
       "------ epoch - 17 ----- \t\n"
      ]
     },
     "execution_count": 39,
     "metadata": {},
     "output_type": "execute_result"
    },
    {
     "data": {
      "text/plain": [
       "Train loss :1.565745472908\t\n",
       "Train Accuracy :\t4459\t44.59 % \t\n"
      ]
     },
     "execution_count": 39,
     "metadata": {},
     "output_type": "execute_result"
    },
    {
     "data": {
      "text/plain": [
       "Test loss :1.5952477455139\t\n",
       "Test Accuracy\t4307\t43.07 % \t\n",
       "------ epoch - 18 ----- \t\n"
      ]
     },
     "execution_count": 39,
     "metadata": {},
     "output_type": "execute_result"
    },
    {
     "data": {
      "text/plain": [
       "Train loss :1.5633101463318\t\n",
       "Train Accuracy :\t4487\t44.87 % \t\n"
      ]
     },
     "execution_count": 39,
     "metadata": {},
     "output_type": "execute_result"
    },
    {
     "data": {
      "text/plain": [
       "Test loss :1.5952149629593\t\n",
       "Test Accuracy\t4309\t43.09 % \t\n",
       "------ epoch - 19 ----- \t\n"
      ]
     },
     "execution_count": 39,
     "metadata": {},
     "output_type": "execute_result"
    },
    {
     "data": {
      "text/plain": [
       "Train loss :1.5674134492874\t\n",
       "Train Accuracy :\t4413\t44.13 % \t\n"
      ]
     },
     "execution_count": 39,
     "metadata": {},
     "output_type": "execute_result"
    },
    {
     "data": {
      "text/plain": [
       "Test loss :1.601971745491\t\n",
       "Test Accuracy\t"
      ]
     },
     "execution_count": 39,
     "metadata": {},
     "output_type": "execute_result"
    },
    {
     "data": {
      "text/plain": [
       "4276\t42.76 % \t\n",
       "------ epoch - 20 ----- \t\n"
      ]
     },
     "execution_count": 39,
     "metadata": {},
     "output_type": "execute_result"
    },
    {
     "data": {
      "text/plain": [
       "Train loss :1.6265230178833\t\n",
       "Train Accuracy :\t4271\t42.71 % \t\n"
      ]
     },
     "execution_count": 39,
     "metadata": {},
     "output_type": "execute_result"
    },
    {
     "data": {
      "text/plain": [
       "Test loss :1.6609958410263\t\n",
       "Test Accuracy\t4185\t41.85 % \t\n",
       "------ epoch - 21 ----- \t\n"
      ]
     },
     "execution_count": 39,
     "metadata": {},
     "output_type": "execute_result"
    },
    {
     "data": {
      "text/plain": [
       "Train loss :1.4869416952133\t\n",
       "Train Accuracy :\t4815\t48.15 % \t\n"
      ]
     },
     "execution_count": 39,
     "metadata": {},
     "output_type": "execute_result"
    },
    {
     "data": {
      "text/plain": [
       "Test loss :1.5290632247925\t\n",
       "Test Accuracy\t4607\t46.07 % \t\n",
       "------ epoch - 22 ----- \t\n"
      ]
     },
     "execution_count": 39,
     "metadata": {},
     "output_type": "execute_result"
    },
    {
     "data": {
      "text/plain": [
       "Train loss :1.4871245622635\t\n",
       "Train Accuracy :\t4748\t47.48 % \t\n"
      ]
     },
     "execution_count": 39,
     "metadata": {},
     "output_type": "execute_result"
    },
    {
     "data": {
      "text/plain": [
       "Test loss :1.5331612825394\t\n",
       "Test Accuracy\t"
      ]
     },
     "execution_count": 39,
     "metadata": {},
     "output_type": "execute_result"
    },
    {
     "data": {
      "text/plain": [
       "4608\t46.08 % \t\n",
       "------ epoch - 23 ----- \t\n"
      ]
     },
     "execution_count": 39,
     "metadata": {},
     "output_type": "execute_result"
    },
    {
     "data": {
      "text/plain": [
       "Train loss :1.4719285964966\t\n",
       "Train Accuracy :\t4796\t47.96 % \t\n"
      ]
     },
     "execution_count": 39,
     "metadata": {},
     "output_type": "execute_result"
    },
    {
     "data": {
      "text/plain": [
       "Test loss :1.5229340791702\t\n",
       "Test Accuracy\t4643\t46.43 % \t\n",
       "------ epoch - 24 ----- \t\n"
      ]
     },
     "execution_count": 39,
     "metadata": {},
     "output_type": "execute_result"
    },
    {
     "data": {
      "text/plain": [
       "Train loss :1.4372947216034\t\n",
       "Train Accuracy :\t4959\t49.59 % \t\n"
      ]
     },
     "execution_count": 39,
     "metadata": {},
     "output_type": "execute_result"
    },
    {
     "data": {
      "text/plain": [
       "Test loss :1.4942018985748\t\n",
       "Test Accuracy\t4719\t47.19 % \t\n",
       "------ epoch - 25 ----- \t\n"
      ]
     },
     "execution_count": 39,
     "metadata": {},
     "output_type": "execute_result"
    },
    {
     "data": {
      "text/plain": [
       "Train loss :1.4904774427414\t\n",
       "Train Accuracy :\t4772\t47.72 % \t\n"
      ]
     },
     "execution_count": 39,
     "metadata": {},
     "output_type": "execute_result"
    },
    {
     "data": {
      "text/plain": [
       "Test loss :1.5483973026276\t\n",
       "Test Accuracy\t4555\t45.55 % \t"
      ]
     },
     "execution_count": 39,
     "metadata": {},
     "output_type": "execute_result"
    },
    {
     "data": {
      "text/plain": [
       "\n",
       "------ epoch - 26 ----- \t\n"
      ]
     },
     "execution_count": 39,
     "metadata": {},
     "output_type": "execute_result"
    },
    {
     "data": {
      "text/plain": [
       "Train loss :1.3988127708435\t\n",
       "Train Accuracy :\t5139\t51.39 % \t\n"
      ]
     },
     "execution_count": 39,
     "metadata": {},
     "output_type": "execute_result"
    },
    {
     "data": {
      "text/plain": [
       "Test loss :1.4653655290604\t\n",
       "Test Accuracy\t4818\t48.18 % \t\n",
       "------ epoch - 27 ----- \t\n"
      ]
     },
     "execution_count": 39,
     "metadata": {},
     "output_type": "execute_result"
    },
    {
     "data": {
      "text/plain": [
       "Train loss :1.3990684747696\t\n",
       "Train Accuracy :\t5112\t51.12 % \t\n"
      ]
     },
     "execution_count": 39,
     "metadata": {},
     "output_type": "execute_result"
    },
    {
     "data": {
      "text/plain": [
       "Test loss :1.4688755273819\t\n",
       "Test Accuracy\t4830\t48.3 % \t\n",
       "------ epoch - 28 ----- \t\n"
      ]
     },
     "execution_count": 39,
     "metadata": {},
     "output_type": "execute_result"
    },
    {
     "data": {
      "text/plain": [
       "Train loss :1.4024914503098\t\n",
       "Train Accuracy :\t5095\t50.95 % \t\n"
      ]
     },
     "execution_count": 39,
     "metadata": {},
     "output_type": "execute_result"
    },
    {
     "data": {
      "text/plain": [
       "Test loss :1.4760383367538\t\n",
       "Test Accuracy\t4820\t48.2 % \t\n",
       "------ epoch - 29 ----- \t\n"
      ]
     },
     "execution_count": 39,
     "metadata": {},
     "output_type": "execute_result"
    },
    {
     "data": {
      "text/plain": [
       "Train loss :1.4272475242615\t\n",
       "Train Accuracy :\t5028\t50.28 % \t\n"
      ]
     },
     "execution_count": 39,
     "metadata": {},
     "output_type": "execute_result"
    },
    {
     "data": {
      "text/plain": [
       "Test loss :1.5036183595657\t\n",
       "Test Accuracy\t4701\t47.01 % \t\n",
       "------ epoch - 30 ----- \t\n"
      ]
     },
     "execution_count": 39,
     "metadata": {},
     "output_type": "execute_result"
    },
    {
     "data": {
      "text/plain": [
       "Train loss :1.4365051984787\t\n",
       "Train Accuracy :\t4992\t49.92 % \t\n"
      ]
     },
     "execution_count": 39,
     "metadata": {},
     "output_type": "execute_result"
    },
    {
     "data": {
      "text/plain": [
       "Test loss :1.5158379077911\t\n",
       "Test Accuracy\t4695\t46.95 % \t\n",
       "------ epoch - 31 ----- \t\n"
      ]
     },
     "execution_count": 39,
     "metadata": {},
     "output_type": "execute_result"
    },
    {
     "data": {
      "text/plain": [
       "Train loss :1.4544851779938\t\n",
       "Train Accuracy :\t4947\t49.47 % \t\n"
      ]
     },
     "execution_count": 39,
     "metadata": {},
     "output_type": "execute_result"
    },
    {
     "data": {
      "text/plain": [
       "Test loss :1.5386847257614\t\n",
       "Test Accuracy\t4669\t46.69 % \t\n",
       "------ epoch - 32 ----- \t\n"
      ]
     },
     "execution_count": 39,
     "metadata": {},
     "output_type": "execute_result"
    },
    {
     "data": {
      "text/plain": [
       "Train loss :1.4179475307465\t\n",
       "Train Accuracy :\t5044\t50.44 % \t\n"
      ]
     },
     "execution_count": 39,
     "metadata": {},
     "output_type": "execute_result"
    },
    {
     "data": {
      "text/plain": [
       "Test loss :1.5069355964661\t\n",
       "Test Accuracy\t4675\t46.75 % \t\n",
       "------ epoch - 33 ----- \t\n"
      ]
     },
     "execution_count": 39,
     "metadata": {},
     "output_type": "execute_result"
    },
    {
     "data": {
      "text/plain": [
       "Train loss :1.4278298616409\t\n",
       "Train Accuracy :\t5018\t50.18 % \t\n"
      ]
     },
     "execution_count": 39,
     "metadata": {},
     "output_type": "execute_result"
    },
    {
     "data": {
      "text/plain": [
       "Test loss :1.5208743810654\t\n",
       "Test Accuracy\t4726\t47.26 % \t\n",
       "------ epoch - 34 ----- \t\n"
      ]
     },
     "execution_count": 39,
     "metadata": {},
     "output_type": "execute_result"
    },
    {
     "data": {
      "text/plain": [
       "Train loss :1.4217745065689\t\n",
       "Train Accuracy :\t5094\t50.94 % \t\n"
      ]
     },
     "execution_count": 39,
     "metadata": {},
     "output_type": "execute_result"
    },
    {
     "data": {
      "text/plain": [
       "Test loss :1.519219994545\t\n",
       "Test Accuracy\t4759\t47.59 % \t\n",
       "------ epoch - 35 ----- \t\n"
      ]
     },
     "execution_count": 39,
     "metadata": {},
     "output_type": "execute_result"
    },
    {
     "data": {
      "text/plain": [
       "Train loss :1.403506398201\t\n",
       "Train Accuracy :\t5058\t50.58 % \t\n"
      ]
     },
     "execution_count": 39,
     "metadata": {},
     "output_type": "execute_result"
    },
    {
     "data": {
      "text/plain": [
       "Test loss :1.5032780170441\t\n",
       "Test Accuracy\t4696\t46.96 % \t\n",
       "------ epoch - 36 ----- \t\n"
      ]
     },
     "execution_count": 39,
     "metadata": {},
     "output_type": "execute_result"
    },
    {
     "data": {
      "text/plain": [
       "Train loss :1.3596841096878\t\n",
       "Train Accuracy :\t5270\t52.7 % \t\n"
      ]
     },
     "execution_count": 39,
     "metadata": {},
     "output_type": "execute_result"
    },
    {
     "data": {
      "text/plain": [
       "Test loss :1.4678000211716\t\n",
       "Test Accuracy\t4875\t48.75 % \t\n",
       "------ epoch - 37 ----- \t\n"
      ]
     },
     "execution_count": 39,
     "metadata": {},
     "output_type": "execute_result"
    },
    {
     "data": {
      "text/plain": [
       "Train loss :1.3628442287445\t\n",
       "Train Accuracy :\t5241\t52.41 % \t\n"
      ]
     },
     "execution_count": 39,
     "metadata": {},
     "output_type": "execute_result"
    },
    {
     "data": {
      "text/plain": [
       "Test loss :1.4759151935577\t\n",
       "Test Accuracy\t4834\t48.34 % \t\n",
       "------ epoch - 38 ----- \t\n"
      ]
     },
     "execution_count": 39,
     "metadata": {},
     "output_type": "execute_result"
    },
    {
     "data": {
      "text/plain": [
       "Train loss :1.3352122306824\t\n",
       "Train Accuracy :\t5394\t53.94 % \t\n"
      ]
     },
     "execution_count": 39,
     "metadata": {},
     "output_type": "execute_result"
    },
    {
     "data": {
      "text/plain": [
       "Test loss :1.456632733345\t\n",
       "Test Accuracy\t4941\t49.41 % \t\n",
       "------ epoch - 39 ----- \t\n"
      ]
     },
     "execution_count": 39,
     "metadata": {},
     "output_type": "execute_result"
    },
    {
     "data": {
      "text/plain": [
       "Train loss :1.2967214584351\t\n",
       "Train Accuracy :\t5481\t54.81 % \t\n"
      ]
     },
     "execution_count": 39,
     "metadata": {},
     "output_type": "execute_result"
    },
    {
     "data": {
      "text/plain": [
       "Test loss :1.4242564439774\t\n",
       "Test Accuracy\t5023\t50.23 % \t\n",
       "------ epoch - 40 ----- \t\n"
      ]
     },
     "execution_count": 39,
     "metadata": {},
     "output_type": "execute_result"
    },
    {
     "data": {
      "text/plain": [
       "Train loss :1.3111579418182\t\n",
       "Train Accuracy :\t5474\t54.74 % \t\n"
      ]
     },
     "execution_count": 39,
     "metadata": {},
     "output_type": "execute_result"
    },
    {
     "data": {
      "text/plain": [
       "Test loss :1.4453673362732\t\n",
       "Test Accuracy\t4984\t49.84 % \t\n",
       "------ epoch - 41 ----- \t\n"
      ]
     },
     "execution_count": 39,
     "metadata": {},
     "output_type": "execute_result"
    },
    {
     "data": {
      "text/plain": [
       "Train loss :1.2823483943939\t\n",
       "Train Accuracy :\t5532\t55.32 % \t\n"
      ]
     },
     "execution_count": 39,
     "metadata": {},
     "output_type": "execute_result"
    },
    {
     "data": {
      "text/plain": [
       "Test loss :1.4187451601028\t\n",
       "Test Accuracy\t5079\t50.79 % \t\n",
       "------ epoch - 42 ----- \t\n"
      ]
     },
     "execution_count": 39,
     "metadata": {},
     "output_type": "execute_result"
    },
    {
     "data": {
      "text/plain": [
       "Train loss :1.3570747375488\t\n",
       "Train Accuracy :\t5205\t52.05 % \t\n"
      ]
     },
     "execution_count": 39,
     "metadata": {},
     "output_type": "execute_result"
    },
    {
     "data": {
      "text/plain": [
       "Test loss :1.4957085847855\t\n",
       "Test Accuracy\t4845\t48.45 % \t\n",
       "------ epoch - 43 ----- \t\n"
      ]
     },
     "execution_count": 39,
     "metadata": {},
     "output_type": "execute_result"
    },
    {
     "data": {
      "text/plain": [
       "Train loss :1.4192926883698\t\n"
      ]
     },
     "execution_count": 39,
     "metadata": {},
     "output_type": "execute_result"
    },
    {
     "data": {
      "text/plain": [
       "Train Accuracy :\t5135\t51.35 % \t\n"
      ]
     },
     "execution_count": 39,
     "metadata": {},
     "output_type": "execute_result"
    },
    {
     "data": {
      "text/plain": [
       "Test loss :1.562136888504\t\n",
       "Test Accuracy\t4772\t47.72 % \t\n",
       "------ epoch - 44 ----- \t\n"
      ]
     },
     "execution_count": 39,
     "metadata": {},
     "output_type": "execute_result"
    },
    {
     "data": {
      "text/plain": [
       "Train loss :1.2140390872955\t\n",
       "Train Accuracy :\t5824\t58.24 % \t\n"
      ]
     },
     "execution_count": 39,
     "metadata": {},
     "output_type": "execute_result"
    },
    {
     "data": {
      "text/plain": [
       "Test loss :1.372753739357\t\n",
       "Test Accuracy\t5252\t52.52 % \t\n",
       "------ epoch - 45 ----- \t\n"
      ]
     },
     "execution_count": 39,
     "metadata": {},
     "output_type": "execute_result"
    },
    {
     "data": {
      "text/plain": [
       "Train loss :1.2501375675201\t\n",
       "Train Accuracy :\t5642\t56.42 % \t\n"
      ]
     },
     "execution_count": 39,
     "metadata": {},
     "output_type": "execute_result"
    },
    {
     "data": {
      "text/plain": [
       "Test loss :1.4095002412796\t\n",
       "Test Accuracy\t5123\t51.23 % \t\n",
       "------ epoch - 46 ----- \t\n"
      ]
     },
     "execution_count": 39,
     "metadata": {},
     "output_type": "execute_result"
    },
    {
     "data": {
      "text/plain": [
       "Train loss :1.2307957410812\t\n",
       "Train Accuracy :\t5730\t57.3 % \t\n"
      ]
     },
     "execution_count": 39,
     "metadata": {},
     "output_type": "execute_result"
    },
    {
     "data": {
      "text/plain": [
       "Test loss :1.394920706749\t\n",
       "Test Accuracy\t5145\t51.45 % \t\n",
       "------ epoch - 47 ----- \t\n"
      ]
     },
     "execution_count": 39,
     "metadata": {},
     "output_type": "execute_result"
    },
    {
     "data": {
      "text/plain": [
       "Train loss :1.3220932483673\t\n",
       "Train Accuracy :\t5471\t54.71 % \t\n"
      ]
     },
     "execution_count": 39,
     "metadata": {},
     "output_type": "execute_result"
    },
    {
     "data": {
      "text/plain": [
       "Test loss :1.4905593395233\t\n",
       "Test Accuracy\t4963\t49.63 % \t\n",
       "------ epoch - 48 ----- \t\n"
      ]
     },
     "execution_count": 39,
     "metadata": {},
     "output_type": "execute_result"
    },
    {
     "data": {
      "text/plain": [
       "Train loss :1.1779927015305\t\n",
       "Train Accuracy :\t5929\t59.29 % \t\n"
      ]
     },
     "execution_count": 39,
     "metadata": {},
     "output_type": "execute_result"
    },
    {
     "data": {
      "text/plain": [
       "Test loss :1.3606818914413\t\n",
       "Test Accuracy\t5327\t53.27 % \t\n",
       "------ epoch - 49 ----- \t\n"
      ]
     },
     "execution_count": 39,
     "metadata": {},
     "output_type": "execute_result"
    },
    {
     "data": {
      "text/plain": [
       "Train loss :1.1656579971313\t\n",
       "Train Accuracy :\t5998\t59.98 % \t\n"
      ]
     },
     "execution_count": 39,
     "metadata": {},
     "output_type": "execute_result"
    },
    {
     "data": {
      "text/plain": [
       "Test loss :1.3475488424301\t\n",
       "Test Accuracy\t5375\t53.75 % \t\n",
       "------ epoch - 50 ----- \t\n"
      ]
     },
     "execution_count": 39,
     "metadata": {},
     "output_type": "execute_result"
    },
    {
     "data": {
      "text/plain": [
       "Train loss :1.1634619235992\t\n",
       "Train Accuracy :\t6021\t60.21 % \t\n"
      ]
     },
     "execution_count": 39,
     "metadata": {},
     "output_type": "execute_result"
    },
    {
     "data": {
      "text/plain": [
       "Test loss :1.3557733297348\t\n",
       "Test Accuracy\t5354\t53.54 % \t\n",
       "------ epoch - 51 ----- \t\n"
      ]
     },
     "execution_count": 39,
     "metadata": {},
     "output_type": "execute_result"
    },
    {
     "data": {
      "text/plain": [
       "Train loss :1.140897154808\t\n",
       "Train Accuracy :\t6098\t60.98 % \t\n"
      ]
     },
     "execution_count": 39,
     "metadata": {},
     "output_type": "execute_result"
    },
    {
     "data": {
      "text/plain": [
       "Test loss :1.3363176584244\t\n",
       "Test Accuracy\t5425\t54.25 % \t\n",
       "------ epoch - 52 ----- \t\n"
      ]
     },
     "execution_count": 39,
     "metadata": {},
     "output_type": "execute_result"
    },
    {
     "data": {
      "text/plain": [
       "Train loss :1.1409751176834\t\n",
       "Train Accuracy :\t6122\t61.22 % \t\n"
      ]
     },
     "execution_count": 39,
     "metadata": {},
     "output_type": "execute_result"
    },
    {
     "data": {
      "text/plain": [
       "Test loss :1.3487908840179\t\n",
       "Test Accuracy\t5390\t53.9 % \t\n",
       "------ epoch - 53 ----- \t\n"
      ]
     },
     "execution_count": 39,
     "metadata": {},
     "output_type": "execute_result"
    },
    {
     "data": {
      "text/plain": [
       "Train loss :1.1894446611404\t\n",
       "Train Accuracy :\t5906\t59.06 % \t\n"
      ]
     },
     "execution_count": 39,
     "metadata": {},
     "output_type": "execute_result"
    },
    {
     "data": {
      "text/plain": [
       "Test loss :1.3878583908081\t\n",
       "Test Accuracy\t5259\t52.59 % \t\n",
       "------ epoch - 54 ----- \t\n"
      ]
     },
     "execution_count": 39,
     "metadata": {},
     "output_type": "execute_result"
    },
    {
     "data": {
      "text/plain": [
       "Train loss :1.1436355113983\t\n",
       "Train Accuracy :\t6049\t60.49 % \t\n"
      ]
     },
     "execution_count": 39,
     "metadata": {},
     "output_type": "execute_result"
    },
    {
     "data": {
      "text/plain": [
       "Test loss :1.3533028364182\t\n",
       "Test Accuracy\t5402\t54.02 % \t\n",
       "------ epoch - 55 ----- \t\n"
      ]
     },
     "execution_count": 39,
     "metadata": {},
     "output_type": "execute_result"
    },
    {
     "data": {
      "text/plain": [
       "Train loss :1.0982567071915\t\n",
       "Train Accuracy :\t6227\t62.27 % \t\n"
      ]
     },
     "execution_count": 39,
     "metadata": {},
     "output_type": "execute_result"
    },
    {
     "data": {
      "text/plain": [
       "Test loss :1.3249977827072\t\n",
       "Test Accuracy\t5456\t54.56 % \t\n",
       "------ epoch - 56 ----- \t\n"
      ]
     },
     "execution_count": 39,
     "metadata": {},
     "output_type": "execute_result"
    },
    {
     "data": {
      "text/plain": [
       "Train loss :1.1071215867996\t\n",
       "Train Accuracy :\t6211\t62.11 % \t\n"
      ]
     },
     "execution_count": 39,
     "metadata": {},
     "output_type": "execute_result"
    },
    {
     "data": {
      "text/plain": [
       "Test loss :1.3332127332687\t\n",
       "Test Accuracy\t5434\t54.34 % \t\n",
       "------ epoch - 57 ----- \t\n"
      ]
     },
     "execution_count": 39,
     "metadata": {},
     "output_type": "execute_result"
    },
    {
     "data": {
      "text/plain": [
       "Train loss :1.1008266210556\t\n",
       "Train Accuracy :\t6249\t62.49 % \t\n"
      ]
     },
     "execution_count": 39,
     "metadata": {},
     "output_type": "execute_result"
    },
    {
     "data": {
      "text/plain": [
       "Test loss :1.3325884342194\t\n",
       "Test Accuracy\t5471\t54.71 % \t\n",
       "------ epoch - 58 ----- \t\n"
      ]
     },
     "execution_count": 39,
     "metadata": {},
     "output_type": "execute_result"
    },
    {
     "data": {
      "text/plain": [
       "Train loss :1.1534266471863\t\n",
       "Train Accuracy :\t6019\t60.19 % \t\n"
      ]
     },
     "execution_count": 39,
     "metadata": {},
     "output_type": "execute_result"
    },
    {
     "data": {
      "text/plain": [
       "Test loss :1.3804793357849\t\n",
       "Test Accuracy\t5296\t52.96 % \t\n",
       "------ epoch - 59 ----- \t\n"
      ]
     },
     "execution_count": 39,
     "metadata": {},
     "output_type": "execute_result"
    },
    {
     "data": {
      "text/plain": [
       "Train loss :1.0871057510376\t\n",
       "Train Accuracy :\t6282\t62.82 % \t\n"
      ]
     },
     "execution_count": 39,
     "metadata": {},
     "output_type": "execute_result"
    },
    {
     "data": {
      "text/plain": [
       "Test loss :1.3297307491302\t\n",
       "Test Accuracy\t5511\t55.11 % \t\n",
       "------ epoch - 60 ----- \t\n"
      ]
     },
     "execution_count": 39,
     "metadata": {},
     "output_type": "execute_result"
    },
    {
     "data": {
      "text/plain": [
       "Train loss :1.1299967765808\t\n",
       "Train Accuracy :\t6106\t61.06 % \t\n"
      ]
     },
     "execution_count": 39,
     "metadata": {},
     "output_type": "execute_result"
    },
    {
     "data": {
      "text/plain": [
       "Test loss :1.383015871048\t\n",
       "Test Accuracy\t5355\t53.55 % \t\n",
       "------ epoch - 61 ----- \t\n"
      ]
     },
     "execution_count": 39,
     "metadata": {},
     "output_type": "execute_result"
    },
    {
     "data": {
      "text/plain": [
       "Train loss :1.0818886756897\t\n",
       "Train Accuracy :\t6279\t62.79 % \t\n"
      ]
     },
     "execution_count": 39,
     "metadata": {},
     "output_type": "execute_result"
    },
    {
     "data": {
      "text/plain": [
       "Test loss :1.3393703699112\t\n",
       "Test Accuracy\t5483\t54.83 % \t\n",
       "------ epoch - 62 ----- \t\n"
      ]
     },
     "execution_count": 39,
     "metadata": {},
     "output_type": "execute_result"
    },
    {
     "data": {
      "text/plain": [
       "Train loss :1.0583213567734\t\n",
       "Train Accuracy :\t6392\t63.92 % \t\n"
      ]
     },
     "execution_count": 39,
     "metadata": {},
     "output_type": "execute_result"
    },
    {
     "data": {
      "text/plain": [
       "Test loss :1.3283191919327\t\n",
       "Test Accuracy\t5540\t55.4 % \t\n",
       "------ epoch - 63 ----- \t\n"
      ]
     },
     "execution_count": 39,
     "metadata": {},
     "output_type": "execute_result"
    },
    {
     "data": {
      "text/plain": [
       "Train loss :1.0492142438889\t\n",
       "Train Accuracy :\t6414\t64.14 % \t\n"
      ]
     },
     "execution_count": 39,
     "metadata": {},
     "output_type": "execute_result"
    },
    {
     "data": {
      "text/plain": [
       "Test loss :1.3242617845535\t\n",
       "Test Accuracy\t5542\t55.42 % \t\n",
       "------ epoch - 64 ----- \t\n"
      ]
     },
     "execution_count": 39,
     "metadata": {},
     "output_type": "execute_result"
    },
    {
     "data": {
      "text/plain": [
       "Train loss :1.0744645595551\t\n",
       "Train Accuracy :\t6330\t63.3 % \t\n"
      ]
     },
     "execution_count": 39,
     "metadata": {},
     "output_type": "execute_result"
    },
    {
     "data": {
      "text/plain": [
       "Test loss :1.3462529182434\t\n",
       "Test Accuracy\t5472\t54.72 % \t\n",
       "------ epoch - 65 ----- \t\n"
      ]
     },
     "execution_count": 39,
     "metadata": {},
     "output_type": "execute_result"
    },
    {
     "data": {
      "text/plain": [
       "Train loss :1.0537128448486\t\n",
       "Train Accuracy :\t6425\t64.25 % \t\n"
      ]
     },
     "execution_count": 39,
     "metadata": {},
     "output_type": "execute_result"
    },
    {
     "data": {
      "text/plain": [
       "Test loss :1.3336375951767\t\n",
       "Test Accuracy\t5526\t55.26 % \t\n",
       "------ epoch - 66 ----- \t\n"
      ]
     },
     "execution_count": 39,
     "metadata": {},
     "output_type": "execute_result"
    },
    {
     "data": {
      "text/plain": [
       "Train loss :1.022360086441\t\n",
       "Train Accuracy :\t6558\t65.58 % \t\n"
      ]
     },
     "execution_count": 39,
     "metadata": {},
     "output_type": "execute_result"
    },
    {
     "data": {
      "text/plain": [
       "Test loss :1.3150609731674\t\n",
       "Test Accuracy\t"
      ]
     },
     "execution_count": 39,
     "metadata": {},
     "output_type": "execute_result"
    },
    {
     "data": {
      "text/plain": [
       "5599\t55.99 % \t\n",
       "------ epoch - 67 ----- \t\n"
      ]
     },
     "execution_count": 39,
     "metadata": {},
     "output_type": "execute_result"
    },
    {
     "data": {
      "text/plain": [
       "Train loss :1.011426448822\t\n",
       "Train Accuracy :\t"
      ]
     },
     "execution_count": 39,
     "metadata": {},
     "output_type": "execute_result"
    },
    {
     "data": {
      "text/plain": [
       "6589\t65.89 % \t\n"
      ]
     },
     "execution_count": 39,
     "metadata": {},
     "output_type": "execute_result"
    },
    {
     "data": {
      "text/plain": [
       "Test loss :1.3114167451859\t\n",
       "Test Accuracy\t5611\t56.11 % \t\n",
       "------ epoch - 68 ----- \t\n"
      ]
     },
     "execution_count": 39,
     "metadata": {},
     "output_type": "execute_result"
    },
    {
     "data": {
      "text/plain": [
       "Train loss :1.017419219017\t\n",
       "Train Accuracy :\t6519\t65.19 % \t\n"
      ]
     },
     "execution_count": 39,
     "metadata": {},
     "output_type": "execute_result"
    },
    {
     "data": {
      "text/plain": [
       "Test loss :1.3222913742065\t\n",
       "Test Accuracy\t5599\t55.99 % \t\n",
       "------ epoch - 69 ----- \t\n"
      ]
     },
     "execution_count": 39,
     "metadata": {},
     "output_type": "execute_result"
    },
    {
     "data": {
      "text/plain": [
       "Train loss :0.99830365180969\t\n",
       "Train Accuracy :\t6595\t65.95 % \t\n"
      ]
     },
     "execution_count": 39,
     "metadata": {},
     "output_type": "execute_result"
    },
    {
     "data": {
      "text/plain": [
       "Test loss :1.3118181228638\t\n",
       "Test Accuracy\t5643\t56.43 % \t\n",
       "------ epoch - 70 ----- \t\n"
      ]
     },
     "execution_count": 39,
     "metadata": {},
     "output_type": "execute_result"
    },
    {
     "data": {
      "text/plain": [
       "Train loss :1.0093340873718\t\n",
       "Train Accuracy :\t6586\t65.86 % \t\n"
      ]
     },
     "execution_count": 39,
     "metadata": {},
     "output_type": "execute_result"
    },
    {
     "data": {
      "text/plain": [
       "Test loss :1.3281899690628\t\n"
      ]
     },
     "execution_count": 39,
     "metadata": {},
     "output_type": "execute_result"
    },
    {
     "data": {
      "text/plain": [
       "Test Accuracy\t5606\t56.06 % \t\n",
       "------ epoch - 71 ----- \t\n"
      ]
     },
     "execution_count": 39,
     "metadata": {},
     "output_type": "execute_result"
    },
    {
     "data": {
      "text/plain": [
       "Train loss :1.0358601808548\t\n",
       "Train Accuracy :\t6436\t64.36 % \t\n"
      ]
     },
     "execution_count": 39,
     "metadata": {},
     "output_type": "execute_result"
    },
    {
     "data": {
      "text/plain": [
       "Test loss :1.3473600149155\t\n",
       "Test Accuracy\t5504\t55.04 % \t\n",
       "------ epoch - 72 ----- \t\n"
      ]
     },
     "execution_count": 39,
     "metadata": {},
     "output_type": "execute_result"
    },
    {
     "data": {
      "text/plain": [
       "Train loss :1.0052007436752\t\n",
       "Train Accuracy :\t6580\t65.8 % \t\n"
      ]
     },
     "execution_count": 39,
     "metadata": {},
     "output_type": "execute_result"
    },
    {
     "data": {
      "text/plain": [
       "Test loss :1.3346801996231\t\n",
       "Test Accuracy\t5590\t55.9 % \t\n",
       "------ epoch - 73 ----- \t\n"
      ]
     },
     "execution_count": 39,
     "metadata": {},
     "output_type": "execute_result"
    },
    {
     "data": {
      "text/plain": [
       "Train loss :1.0294107198715\t\n",
       "Train Accuracy :\t6439\t64.39 % \t\n"
      ]
     },
     "execution_count": 39,
     "metadata": {},
     "output_type": "execute_result"
    },
    {
     "data": {
      "text/plain": [
       "Test loss :1.3679474592209\t\n",
       "Test Accuracy\t5472\t54.72 % \t\n",
       "------ epoch - 74 ----- \t\n"
      ]
     },
     "execution_count": 39,
     "metadata": {},
     "output_type": "execute_result"
    },
    {
     "data": {
      "text/plain": [
       "Train loss :0.9541802406311\t\n",
       "Train Accuracy :\t6761\t67.61 % \t\n"
      ]
     },
     "execution_count": 39,
     "metadata": {},
     "output_type": "execute_result"
    },
    {
     "data": {
      "text/plain": [
       "Test loss :1.3104202747345\t\n",
       "Test Accuracy\t5651\t56.51 % \t\n",
       "------ epoch - 75 ----- \t\n"
      ]
     },
     "execution_count": 39,
     "metadata": {},
     "output_type": "execute_result"
    },
    {
     "data": {
      "text/plain": [
       "Train loss :0.97839915752411\t\n",
       "Train Accuracy :\t6648\t66.48 % \t\n"
      ]
     },
     "execution_count": 39,
     "metadata": {},
     "output_type": "execute_result"
    },
    {
     "data": {
      "text/plain": [
       "Test loss :1.3383224010468\t\n",
       "Test Accuracy\t5597\t55.97 % \t\n",
       "------ epoch - 76 ----- \t\n"
      ]
     },
     "execution_count": 39,
     "metadata": {},
     "output_type": "execute_result"
    },
    {
     "data": {
      "text/plain": [
       "Train loss :0.99180364608765\t\n",
       "Train Accuracy :\t6608\t66.08 % \t\n"
      ]
     },
     "execution_count": 39,
     "metadata": {},
     "output_type": "execute_result"
    },
    {
     "data": {
      "text/plain": [
       "Test loss :1.3635976314545\t\n",
       "Test Accuracy\t"
      ]
     },
     "execution_count": 39,
     "metadata": {},
     "output_type": "execute_result"
    },
    {
     "data": {
      "text/plain": [
       "5569\t55.69 % \t\n",
       "------ epoch - 77 ----- \t\n"
      ]
     },
     "execution_count": 39,
     "metadata": {},
     "output_type": "execute_result"
    },
    {
     "data": {
      "text/plain": [
       "Train loss :1.0202234983444\t\n",
       "Train Accuracy :\t6457\t64.57 % \t\n"
      ]
     },
     "execution_count": 39,
     "metadata": {},
     "output_type": "execute_result"
    },
    {
     "data": {
      "text/plain": [
       "Test loss :1.3768206834793\t\n",
       "Test Accuracy\t5446\t54.46 % \t\n",
       "------ epoch - 78 ----- \t\n"
      ]
     },
     "execution_count": 39,
     "metadata": {},
     "output_type": "execute_result"
    },
    {
     "data": {
      "text/plain": [
       "Train loss :1.0323392152786\t\n",
       "Train Accuracy :\t6435\t64.35 % \t\n"
      ]
     },
     "execution_count": 39,
     "metadata": {},
     "output_type": "execute_result"
    },
    {
     "data": {
      "text/plain": [
       "Test loss :1.4075692892075\t\n",
       "Test Accuracy\t5403\t54.03 % \t\n",
       "------ epoch - 79 ----- \t\n"
      ]
     },
     "execution_count": 39,
     "metadata": {},
     "output_type": "execute_result"
    },
    {
     "data": {
      "text/plain": [
       "Train loss :0.95831906795502\t\n",
       "Train Accuracy :\t"
      ]
     },
     "execution_count": 39,
     "metadata": {},
     "output_type": "execute_result"
    },
    {
     "data": {
      "text/plain": [
       "6701\t67.01 % \t\n"
      ]
     },
     "execution_count": 39,
     "metadata": {},
     "output_type": "execute_result"
    },
    {
     "data": {
      "text/plain": [
       "Test loss :1.3547673225403\t\n"
      ]
     },
     "execution_count": 39,
     "metadata": {},
     "output_type": "execute_result"
    },
    {
     "data": {
      "text/plain": [
       "Test Accuracy\t5615\t56.15 % \t\n",
       "------ epoch - 80 ----- \t\n"
      ]
     },
     "execution_count": 39,
     "metadata": {},
     "output_type": "execute_result"
    },
    {
     "data": {
      "text/plain": [
       "Train loss :0.98849296569824\t\n",
       "Train Accuracy :\t6600\t66 % \t\n"
      ]
     },
     "execution_count": 39,
     "metadata": {},
     "output_type": "execute_result"
    },
    {
     "data": {
      "text/plain": [
       "Test loss :1.3851588964462\t\n",
       "Test Accuracy\t5534\t55.34 % \t\n",
       "------ epoch - 81 ----- \t\n"
      ]
     },
     "execution_count": 39,
     "metadata": {},
     "output_type": "execute_result"
    },
    {
     "data": {
      "text/plain": [
       "Train loss :1.0290036201477\t\n",
       "Train Accuracy :\t6461\t64.61 % \t\n"
      ]
     },
     "execution_count": 39,
     "metadata": {},
     "output_type": "execute_result"
    },
    {
     "data": {
      "text/plain": [
       "Test loss :1.4340944290161\t\n",
       "Test Accuracy\t5410\t54.1 % \t\n",
       "------ epoch - 82 ----- \t\n"
      ]
     },
     "execution_count": 39,
     "metadata": {},
     "output_type": "execute_result"
    },
    {
     "data": {
      "text/plain": [
       "Train loss :1.026350736618\t\n",
       "Train Accuracy :\t6422\t64.22 % \t\n"
      ]
     },
     "execution_count": 39,
     "metadata": {},
     "output_type": "execute_result"
    },
    {
     "data": {
      "text/plain": [
       "Test loss :1.4181478023529\t\n",
       "Test Accuracy\t5350\t53.5 % \t\n",
       "------ epoch - 83 ----- \t\n"
      ]
     },
     "execution_count": 39,
     "metadata": {},
     "output_type": "execute_result"
    },
    {
     "data": {
      "text/plain": [
       "Train loss :0.99596530199051\t\n",
       "Train Accuracy :\t6545\t65.45 % \t\n"
      ]
     },
     "execution_count": 39,
     "metadata": {},
     "output_type": "execute_result"
    },
    {
     "data": {
      "text/plain": [
       "Test loss :1.412057518959\t\n",
       "Test Accuracy\t5451\t54.51 % \t\n",
       "------ epoch - 84 ----- \t\n"
      ]
     },
     "execution_count": 39,
     "metadata": {},
     "output_type": "execute_result"
    },
    {
     "data": {
      "text/plain": [
       "Train loss :0.99873512983322\t\n",
       "Train Accuracy :\t6531\t65.31 % \t\n"
      ]
     },
     "execution_count": 39,
     "metadata": {},
     "output_type": "execute_result"
    },
    {
     "data": {
      "text/plain": [
       "Test loss :1.4065606594086\t\n",
       "Test Accuracy\t5403\t54.03 % \t\n",
       "------ epoch - 85 ----- \t\n"
      ]
     },
     "execution_count": 39,
     "metadata": {},
     "output_type": "execute_result"
    },
    {
     "data": {
      "text/plain": [
       "Train loss :0.97606241703033\t\n",
       "Train Accuracy :\t6609\t66.09 % \t\n"
      ]
     },
     "execution_count": 39,
     "metadata": {},
     "output_type": "execute_result"
    },
    {
     "data": {
      "text/plain": [
       "Test loss :1.4023289680481\t\n",
       "Test Accuracy\t5467\t54.67 % \t\n",
       "------ epoch - 86 ----- \t\n"
      ]
     },
     "execution_count": 39,
     "metadata": {},
     "output_type": "execute_result"
    },
    {
     "data": {
      "text/plain": [
       "Train loss :0.92775446176529\t\n",
       "Train Accuracy :\t6770\t67.7 % \t\n"
      ]
     },
     "execution_count": 39,
     "metadata": {},
     "output_type": "execute_result"
    },
    {
     "data": {
      "text/plain": [
       "Test loss :1.3708666563034\t\n",
       "Test Accuracy\t5612\t56.12 % \t\n",
       "------ epoch - 87 ----- \t\n"
      ]
     },
     "execution_count": 39,
     "metadata": {},
     "output_type": "execute_result"
    },
    {
     "data": {
      "text/plain": [
       "Train loss :0.9045478105545\t\n",
       "Train Accuracy :\t6842\t68.42 % \t\n"
      ]
     },
     "execution_count": 39,
     "metadata": {},
     "output_type": "execute_result"
    },
    {
     "data": {
      "text/plain": [
       "Test loss :1.3597695827484\t\n",
       "Test Accuracy\t5671\t56.71 % \t\n",
       "------ epoch - 88 ----- \t\n"
      ]
     },
     "execution_count": 39,
     "metadata": {},
     "output_type": "execute_result"
    },
    {
     "data": {
      "text/plain": [
       "Train loss :0.93443548679352\t\n",
       "Train Accuracy :\t6761\t67.61 % \t\n"
      ]
     },
     "execution_count": 39,
     "metadata": {},
     "output_type": "execute_result"
    },
    {
     "data": {
      "text/plain": [
       "Test loss :1.3970283269882\t\n",
       "Test Accuracy\t5536\t55.36 % \t\n",
       "------ epoch - 89 ----- \t\n"
      ]
     },
     "execution_count": 39,
     "metadata": {},
     "output_type": "execute_result"
    },
    {
     "data": {
      "text/plain": [
       "Train loss :0.9099263548851\t\n",
       "Train Accuracy :\t6816\t68.16 % \t"
      ]
     },
     "execution_count": 39,
     "metadata": {},
     "output_type": "execute_result"
    },
    {
     "data": {
      "text/plain": [
       "\n"
      ]
     },
     "execution_count": 39,
     "metadata": {},
     "output_type": "execute_result"
    },
    {
     "data": {
      "text/plain": [
       "Test loss :1.386661529541\t\n",
       "Test Accuracy\t5612\t56.12 % \t\n",
       "------ epoch - 90 ----- \t\n"
      ]
     },
     "execution_count": 39,
     "metadata": {},
     "output_type": "execute_result"
    },
    {
     "data": {
      "text/plain": [
       "Train loss :0.92658311128616\t\n",
       "Train Accuracy :\t6738\t67.38 % \t\n"
      ]
     },
     "execution_count": 39,
     "metadata": {},
     "output_type": "execute_result"
    },
    {
     "data": {
      "text/plain": [
       "Test loss :1.4041332006454\t\n",
       "Test Accuracy\t5522\t55.22 % \t\n",
       "------ epoch - 91 ----- \t\n"
      ]
     },
     "execution_count": 39,
     "metadata": {},
     "output_type": "execute_result"
    },
    {
     "data": {
      "text/plain": [
       "Train loss :0.89911437034607\t\n",
       "Train Accuracy :\t6857\t68.57 % \t\n"
      ]
     },
     "execution_count": 39,
     "metadata": {},
     "output_type": "execute_result"
    },
    {
     "data": {
      "text/plain": [
       "Test loss :1.392795920372\t\n",
       "Test Accuracy\t5616\t56.16 % \t\n"
      ]
     },
     "execution_count": 39,
     "metadata": {},
     "output_type": "execute_result"
    },
    {
     "data": {
      "text/plain": [
       "------ epoch - 92 ----- \t\n"
      ]
     },
     "execution_count": 39,
     "metadata": {},
     "output_type": "execute_result"
    },
    {
     "data": {
      "text/plain": [
       "Train loss :0.86170142889023\t\n",
       "Train Accuracy :\t7005\t70.05 % \t\n"
      ]
     },
     "execution_count": 39,
     "metadata": {},
     "output_type": "execute_result"
    },
    {
     "data": {
      "text/plain": [
       "Test loss :1.3708385229111\t\n",
       "Test Accuracy\t5684\t56.84 % \t\n",
       "------ epoch - 93 ----- \t\n"
      ]
     },
     "execution_count": 39,
     "metadata": {},
     "output_type": "execute_result"
    },
    {
     "data": {
      "text/plain": [
       "Train loss :0.87331318855286\t\n",
       "Train Accuracy :\t6966\t69.66 % \t\n"
      ]
     },
     "execution_count": 39,
     "metadata": {},
     "output_type": "execute_result"
    },
    {
     "data": {
      "text/plain": [
       "Test loss :1.3924006223679\t\n",
       "Test Accuracy\t5640\t56.4 % \t\n",
       "------ epoch - 94 ----- \t\n"
      ]
     },
     "execution_count": 39,
     "metadata": {},
     "output_type": "execute_result"
    },
    {
     "data": {
      "text/plain": [
       "Train loss :0.90175473690033\t\n",
       "Train Accuracy :\t6836\t68.36 % \t\n"
      ]
     },
     "execution_count": 39,
     "metadata": {},
     "output_type": "execute_result"
    },
    {
     "data": {
      "text/plain": [
       "Test loss :1.415115237236\t\n",
       "Test Accuracy\t5580\t55.8 % \t\n",
       "------ epoch - 95 ----- \t\n"
      ]
     },
     "execution_count": 39,
     "metadata": {},
     "output_type": "execute_result"
    },
    {
     "data": {
      "text/plain": [
       "Train loss :0.91830593347549\t\n",
       "Train Accuracy :\t6795\t67.95 % \t\n"
      ]
     },
     "execution_count": 39,
     "metadata": {},
     "output_type": "execute_result"
    },
    {
     "data": {
      "text/plain": [
       "Test loss :1.4509551525116\t\n",
       "Test Accuracy\t5533\t55.33 % \t\n",
       "------ epoch - 96 ----- \t\n"
      ]
     },
     "execution_count": 39,
     "metadata": {},
     "output_type": "execute_result"
    },
    {
     "data": {
      "text/plain": [
       "Train loss :0.87892329692841\t\n",
       "Train Accuracy :\t6888\t68.88 % \t\n"
      ]
     },
     "execution_count": 39,
     "metadata": {},
     "output_type": "execute_result"
    },
    {
     "data": {
      "text/plain": [
       "Test loss :1.4317035675049\t\n",
       "Test Accuracy\t5590\t55.9 % \t\n",
       "------ epoch - 97 ----- \t\n"
      ]
     },
     "execution_count": 39,
     "metadata": {},
     "output_type": "execute_result"
    },
    {
     "data": {
      "text/plain": [
       "Train loss :0.8554989695549\t\n",
       "Train Accuracy :\t6994\t69.94 % \t\n"
      ]
     },
     "execution_count": 39,
     "metadata": {},
     "output_type": "execute_result"
    },
    {
     "data": {
      "text/plain": [
       "Test loss :1.4188206195831\t\n",
       "Test Accuracy\t5624\t56.24 % \t\n",
       "------ epoch - 98 ----- \t\n"
      ]
     },
     "execution_count": 39,
     "metadata": {},
     "output_type": "execute_result"
    },
    {
     "data": {
      "text/plain": [
       "Train loss :0.91047525405884\t\n",
       "Train Accuracy :\t6802\t68.02 % \t\n"
      ]
     },
     "execution_count": 39,
     "metadata": {},
     "output_type": "execute_result"
    },
    {
     "data": {
      "text/plain": [
       "Test loss :1.4811009168625\t\n",
       "Test Accuracy\t5550\t55.5 % \t\n",
       "------ epoch - 99 ----- \t\n"
      ]
     },
     "execution_count": 39,
     "metadata": {},
     "output_type": "execute_result"
    },
    {
     "data": {
      "text/plain": [
       "Train loss :0.83866757154465\t\n",
       "Train Accuracy :\t7080\t70.8 % \t\n"
      ]
     },
     "execution_count": 39,
     "metadata": {},
     "output_type": "execute_result"
    },
    {
     "data": {
      "text/plain": [
       "Test loss :1.4240040779114\t\n",
       "Test Accuracy\t5660\t56.6 % \t\n",
       "------ epoch - 100 ----- \t\n"
      ]
     },
     "execution_count": 39,
     "metadata": {},
     "output_type": "execute_result"
    },
    {
     "data": {
      "text/plain": [
       "Train loss :0.82278138399124\t\n",
       "Train Accuracy :\t7119\t71.19 % \t\n"
      ]
     },
     "execution_count": 39,
     "metadata": {},
     "output_type": "execute_result"
    },
    {
     "data": {
      "text/plain": [
       "Test loss :1.406568646431\t\n",
       "Test Accuracy\t5679\t56.79 % \t\n",
       "------ Time taken :\t760\t\n"
      ]
     },
     "execution_count": 39,
     "metadata": {},
     "output_type": "execute_result"
    }
   ],
   "source": [
    "\n",
    "one_hot = torch.eye(10):index(1, targets)\n",
    "dataloader = dl.TensorLoader(trainset.data, trainset.label)\n",
    "i=0\n",
    "batch_size=1000\n",
    "epochs=100\n",
    "\n",
    "-- Define SGD parameters.\n",
    "sgd_params = {\n",
    "    learningRate = 0.1,\n",
    "    weightDecay = 0,\n",
    "    momentum = 0.5\n",
    "}\n",
    "tstart=os.time()\n",
    "\n",
    "for j=1,epochs do\n",
    "    print(\"------ epoch - \" ..j.. \" ----- \")\n",
    "    tot_loss=0\n",
    "    for k, inputs, targets in dataloader:subiter(batch_size,50000) do\n",
    "        -- Define a closure that computes the loss and dloss/dx.\n",
    "        feval = function()\n",
    "            -- reset gradients\n",
    "            gradParameters:zero()\n",
    "            output=net:forward(inputs)\n",
    "            loss=criterion:forward(output, targets)\n",
    "            gradients = criterion:backward(output, targets)\n",
    "            net:backward(inputs, gradients)\n",
    "            return loss, gradParameters\n",
    "        end\n",
    "        _,local_loss = optim.sgd(feval, parameters, sgd_params)\n",
    "        ---tot_loss = tot_loss + local_loss[1]\n",
    "    end\n",
    "    eval_train(j)\n",
    "    eval_test(j)\n",
    "    ---print(\"------- loss - \" ..(tot_loss/50).. \" ------ \")\n",
    "end\n",
    "\n",
    "tend=os.time()\n",
    "print(\"------ Time taken :\",os.difftime (tend , tstart))"
   ]
  },
  {
   "cell_type": "code",
   "execution_count": 45,
   "metadata": {},
   "outputs": [
    {
     "ename": "[string \"luarocks install json...\"]:1: '=' expected near 'install'",
     "evalue": "",
     "output_type": "error",
     "traceback": [
      "[string \"luarocks install json...\"]:1: '=' expected near 'install'"
     ]
    }
   ],
   "source": [
    "luarocks install json"
   ]
  },
  {
   "cell_type": "code",
   "execution_count": 46,
   "metadata": {},
   "outputs": [
    {
     "data": {
      "text/plain": [
       "{\n",
       "  1 : 2.1080279350281\n",
       "  2 : 2.061977148056\n",
       "  3 : 2.0211532115936\n",
       "  4 : 1.9546384811401\n",
       "  5 : 1.8975735902786\n",
       "  6 : 1.8593620061874\n",
       "  7 : 1.8224713802338\n",
       "  8 : 1.7751950025558\n",
       "  9 : 1.7978239059448\n",
       "  10 : 1.7105070352554\n",
       "  11 : 1.7013514041901\n",
       "  12 : 1.6602512598038\n",
       "  13 : 1.6346927881241\n",
       "  14 : 1.6209050416946\n",
       "  15 : 1.6074376106262\n",
       "  16 : 1.7114635705948\n",
       "  17 : 1.565745472908\n",
       "  18 : 1.5633101463318\n",
       "  19 : 1.5674134492874\n",
       "  20 : 1.6265230178833\n",
       "  21 : 1.4869416952133\n",
       "  22 : 1.4871245622635\n",
       "  23 : 1.4719285964966\n",
       "  24 : 1.4372947216034\n",
       "  25 : 1.4904774427414\n",
       "  26 : 1.3988127708435\n",
       "  27 : 1.3990684747696\n",
       "  28 : 1.4024914503098\n",
       "  29 : 1.4272475242615\n",
       "  30 : 1.4365051984787\n",
       "  31 : 1.4544851779938\n",
       "  32 : 1.4179475307465\n",
       "  33 : 1.4278298616409\n",
       "  34 : 1.4217745065689\n",
       "  35 : 1.403506398201\n",
       "  36 : 1.3596841096878\n",
       "  37 : 1.3628442287445\n",
       "  38 : 1.3352122306824\n",
       "  39 : 1.2967214584351\n",
       "  40 : 1.3111579418182\n",
       "  41 : 1.2823483943939\n",
       "  42 : 1.3570747375488\n",
       "  43 : 1.4192926883698\n",
       "  44 : 1.2140390872955\n",
       "  45 : 1.2501375675201\n",
       "  46 : 1.2307957410812\n",
       "  47 : 1.3220932483673\n",
       "  48 : 1.1779927015305\n",
       "  49 : 1.1656579971313\n",
       "  50 : 1.1634619235992\n",
       "  51 : 1.140897154808\n",
       "  52 : 1.1409751176834\n",
       "  53 : 1.1894446611404\n",
       "  54 : 1.1436355113983\n",
       "  55 : 1.0982567071915\n",
       "  56 : 1.1071215867996\n",
       "  57 : 1.1008266210556\n",
       "  58 : 1.1534266471863\n",
       "  59 : 1.0871057510376\n",
       "  60 : 1.1299967765808\n",
       "  61 : 1.0818886756897\n",
       "  62 : 1.0583213567734\n",
       "  63 : 1.0492142438889\n",
       "  64 : 1.0744645595551\n",
       "  65 : 1.0537128448486\n",
       "  66 : 1.022360086441\n",
       "  67 : 1.011426448822\n",
       "  68 : 1.017419219017\n",
       "  69 : 0.99830365180969\n",
       "  70 : 1.0093340873718\n",
       "  71 : 1.0358601808548\n",
       "  72 : 1.0052007436752\n",
       "  73 : 1.0294107198715\n",
       "  74 : 0.9541802406311\n",
       "  75 : 0.97839915752411\n",
       "  76 : 0.99180364608765\n",
       "  77 : 1.0202234983444\n",
       "  78 : 1.0323392152786\n",
       "  79 : 0.95831906795502\n",
       "  80 : 0.98849296569824\n",
       "  81 : 1.0290036201477\n",
       "  82 : 1.026350736618\n",
       "  83 : 0.99596530199051\n",
       "  84 : 0.99873512983322\n",
       "  85 : 0.97606241703033\n",
       "  86 : 0.92775446176529\n",
       "  87 : 0.9045478105545\n",
       "  88 : 0.93443548679352\n",
       "  89 : 0.9099263548851\n",
       "  90 : 0.92658311128616\n",
       "  91 : 0.89911437034607\n",
       "  92 : 0.86170142889023\n",
       "  93 : 0.87331318855286\n",
       "  94 : 0.90175473690033\n",
       "  95 : 0.91830593347549\n",
       "  96 : 0.87892329692841\n",
       "  97 : 0.8554989695549\n",
       "  98 : 0.91047525405884\n",
       "  99 : 0.83866757154465\n",
       "  100 : 0.82278138399124\n",
       "}\n"
      ]
     },
     "execution_count": 46,
     "metadata": {},
     "output_type": "execute_result"
    }
   ],
   "source": [
    "local Json = require(\"json\")\n",
    "\n",
    "-- Function to save a table.&nbsp; Since game settings need to be saved from session to session, we will\n",
    "-- use the Documents Directory\n",
    "function saveJSON(t, filename)\n",
    "    local path = system.pathForFile( filename, system.DocumentsDirectory)\n",
    "    local file = io.open(path, \"w\")\n",
    "\n",
    "    if file then\n",
    "        local contents = Json.encode(t)\n",
    "        file:write( contents )\n",
    "        io.close( file )\n",
    "        return true\n",
    "    else\n",
    "        return false\n",
    "    end\n",
    "end"
   ]
  },
  {
   "cell_type": "code",
   "execution_count": 48,
   "metadata": {},
   "outputs": [
    {
     "ename": "[string \"...\"]:2: attempt to call global 'saveJSON' (a nil value)\nstack traceback:\n\t[string \"...\"]:2: in main chunk\n\t[C]: in function 'xpcall'\n\t/usr/local/torch/install/share/lua/5.1/itorch/main.lua:210: in function </usr/local/torch/install/share/lua/5.1/itorch/main.lua:174>\n\t/usr/local/torch/install/share/lua/5.1/lzmq/poller.lua:80: in function 'poll'\n\t/usr/local/torch/install/share/lua/5.1/lzmq/impl/loop.lua:307: in function 'poll'\n\t/usr/local/torch/install/share/lua/5.1/lzmq/impl/loop.lua:325: in function 'sleep_ex'\n\t/usr/local/torch/install/share/lua/5.1/lzmq/impl/loop.lua:370: in function 'start'\n\t/usr/local/torch/install/share/lua/5.1/itorch/main.lua:389: in main chunk\n\t[C]: in function 'require'\n\t(command line):1: in main chunk\n\t[C]: at 0x00406670",
     "evalue": "",
     "output_type": "error",
     "traceback": [
      "[string \"...\"]:2: attempt to call global 'saveJSON' (a nil value)\nstack traceback:\n\t[string \"...\"]:2: in main chunk\n\t[C]: in function 'xpcall'\n\t/usr/local/torch/install/share/lua/5.1/itorch/main.lua:210: in function </usr/local/torch/install/share/lua/5.1/itorch/main.lua:174>\n\t/usr/local/torch/install/share/lua/5.1/lzmq/poller.lua:80: in function 'poll'\n\t/usr/local/torch/install/share/lua/5.1/lzmq/impl/loop.lua:307: in function 'poll'\n\t/usr/local/torch/install/share/lua/5.1/lzmq/impl/loop.lua:325: in function 'sleep_ex'\n\t/usr/local/torch/install/share/lua/5.1/lzmq/impl/loop.lua:370: in function 'start'\n\t/usr/local/torch/install/share/lua/5.1/itorch/main.lua:389: in main chunk\n\t[C]: in function 'require'\n\t(command line):1: in main chunk\n\t[C]: at 0x00406670"
     ]
    }
   ],
   "source": [
    "saveJSON(train_acc, 'train_acc.json')\n",
    "saveJSON(test_acc, 'test_acc.json')\n",
    "saveJSON(train_loss, 'train_loss.json')\n",
    "saveJSON(test_loss, 'test_loss.json')"
   ]
  },
  {
   "cell_type": "code",
   "execution_count": 28,
   "metadata": {},
   "outputs": [
    {
     "data": {
      "text/plain": [
       "airplane\t54.6 %\t\n",
       "automobile\t85.8 %\t\n",
       "bird\t0 %\t\n",
       "cat\t8.9 %\t\n",
       "deer\t0 %\t\n",
       "dog\t50.7 %\t\n",
       "frog\t0 %\t\n",
       "horse\t32.7 %\t\n",
       "ship\t27.3 %\t\n",
       "truck\t34.1 %\t\n"
      ]
     },
     "execution_count": 28,
     "metadata": {},
     "output_type": "execute_result"
    }
   ],
   "source": [
    "class_performance = {0, 0, 0, 0, 0, 0, 0, 0, 0, 0}\n",
    "for i=1,10000 do\n",
    "    local groundtruth = testset.label[i]\n",
    "    local prediction = net:forward(testset.data[i])\n",
    "    local confidences, indices = torch.sort(prediction, true)  -- true means sort in descending order\n",
    "    if groundtruth == indices[1] then\n",
    "        class_performance[groundtruth] = class_performance[groundtruth] + 1\n",
    "    end\n",
    "end\n",
    "for i=1,#classes do\n",
    "    print(classes[i], 100*class_performance[i]/1000 .. ' %')\n",
    "end"
   ]
  },
  {
   "cell_type": "code",
   "execution_count": null,
   "metadata": {
    "collapsed": true
   },
   "outputs": [],
   "source": []
  }
 ],
 "metadata": {
  "kernelspec": {
   "display_name": "iTorch",
   "language": "lua",
   "name": "itorch"
  },
  "language_info": {
   "name": "lua",
   "version": "5.1"
  }
 },
 "nbformat": 4,
 "nbformat_minor": 2
}
