{
 "cells": [
  {
   "cell_type": "code",
   "execution_count": 9,
   "metadata": {},
   "outputs": [
    {
     "data": {
      "text/plain": [
       "cifar-10-batches-bin/\n"
      ]
     },
     "execution_count": 9,
     "metadata": {},
     "output_type": "execute_result"
    },
    {
     "data": {
      "text/plain": [
       "cifar-10-batches-bin/data_batch_1.bin\n"
      ]
     },
     "execution_count": 9,
     "metadata": {},
     "output_type": "execute_result"
    },
    {
     "data": {
      "text/plain": [
       "cifar-10-batches-bin/batches.meta.txt\n",
       "cifar-10-batches-bin/data_batch_3.bin\n"
      ]
     },
     "execution_count": 9,
     "metadata": {},
     "output_type": "execute_result"
    },
    {
     "data": {
      "text/plain": [
       "cifar-10-batches-bin/data_batch_4.bin\n"
      ]
     },
     "execution_count": 9,
     "metadata": {},
     "output_type": "execute_result"
    },
    {
     "data": {
      "text/plain": [
       "cifar-10-batches-bin/test_batch.bin\n"
      ]
     },
     "execution_count": 9,
     "metadata": {},
     "output_type": "execute_result"
    },
    {
     "data": {
      "text/plain": [
       "cifar-10-batches-bin/readme.html\n",
       "cifar-10-batches-bin/data_batch_5.bin\n"
      ]
     },
     "execution_count": 9,
     "metadata": {},
     "output_type": "execute_result"
    },
    {
     "data": {
      "text/plain": [
       "cifar-10-batches-bin/data_batch_2.bin\n"
      ]
     },
     "execution_count": 9,
     "metadata": {},
     "output_type": "execute_result"
    },
    {
     "data": {
      "text/plain": [
       "{\n",
       "  data : ByteTensor - size: 50000x3x32x32\n"
      ]
     },
     "execution_count": 9,
     "metadata": {},
     "output_type": "execute_result"
    },
    {
     "data": {
      "text/plain": [
       "  label : ByteTensor - size: 50000\n",
       "}\n"
      ]
     },
     "execution_count": 9,
     "metadata": {},
     "output_type": "execute_result"
    },
    {
     "data": {
      "text/plain": [
       "{\n",
       "  data : ByteTensor - size: 10000x3x32x32\n",
       "  label : ByteTensor - size: 10000\n",
       "}\n"
      ]
     },
     "execution_count": 9,
     "metadata": {},
     "output_type": "execute_result"
    }
   ],
   "source": [
    "require 'torch'\n",
    "\n",
    "os.execute('wget -c http://www.cs.toronto.edu/~kriz/cifar-10-binary.tar.gz')\n",
    "os.execute('tar -xvf cifar-10-binary.tar.gz')\n",
    "local function convertCifar10BinToTorchTensor(inputFnames, outputFname)\n",
    "   local nSamples = 0\n",
    "   for i=1,#inputFnames do\n",
    "      local inputFname = inputFnames[i]\n",
    "      local m=torch.DiskFile(inputFname, 'r'):binary()\n",
    "      m:seekEnd()\n",
    "      local length = m:position() - 1\n",
    "      local nSamplesF = length / 3073 -- 1 label byte, 3072 pixel bytes\n",
    "      assert(nSamplesF == math.floor(nSamplesF), 'expecting numSamples to be an exact integer')\n",
    "      nSamples = nSamples + nSamplesF\n",
    "      m:close()\n",
    "   end\n",
    "\n",
    "   local label = torch.ByteTensor(nSamples)\n",
    "   local data = torch.ByteTensor(nSamples, 3, 32, 32)\n",
    "\n",
    "   local index = 1\n",
    "   for i=1,#inputFnames do\n",
    "      local inputFname = inputFnames[i]\n",
    "      local m=torch.DiskFile(inputFname, 'r'):binary()\n",
    "      m:seekEnd()\n",
    "      local length = m:position() - 1\n",
    "      local nSamplesF = length / 3073 -- 1 label byte, 3072 pixel bytes\n",
    "      m:seek(1)\n",
    "      for j=1,nSamplesF do\n",
    "         label[index] = m:readByte()\n",
    "         local store = m:readByte(3072)\n",
    "         data[index]:copy(torch.ByteTensor(store))\n",
    "         index = index + 1\n",
    "      end\n",
    "      m:close()\n",
    "   end\n",
    "\n",
    "   local out = {}\n",
    "   out.data = data\n",
    "   out.label = label\n",
    "   print(out)\n",
    "   torch.save(outputFname, out)\n",
    "end\n",
    "\n",
    "convertCifar10BinToTorchTensor({'cifar-10-batches-bin/data_batch_1.bin',\n",
    "                                'cifar-10-batches-bin/data_batch_2.bin',\n",
    "                                'cifar-10-batches-bin/data_batch_3.bin',\n",
    "                                'cifar-10-batches-bin/data_batch_4.bin',\n",
    "                                'cifar-10-batches-bin/data_batch_5.bin'},\n",
    "   'cifar10-train.t7')\n",
    "\n",
    "convertCifar10BinToTorchTensor({'cifar-10-batches-bin/test_batch.bin'},\n",
    "   'cifar10-test.t7')"
   ]
  },
  {
   "cell_type": "code",
   "execution_count": 1,
   "metadata": {},
   "outputs": [],
   "source": [
    "require 'nn';\n",
    "require 'paths'\n",
    "trainset = torch.load('cifar10-train.t7')\n",
    "testset = torch.load('cifar10-test.t7')\n",
    "classes = {'airplane', 'automobile', 'bird', 'cat',\n",
    "           'deer', 'dog', 'frog', 'horse', 'ship', 'truck'}"
   ]
  },
  {
   "cell_type": "code",
   "execution_count": 2,
   "metadata": {},
   "outputs": [],
   "source": [
    "trainset.label = trainset.label+1\n",
    "testset.label = testset.label+1"
   ]
  },
  {
   "cell_type": "code",
   "execution_count": 3,
   "metadata": {},
   "outputs": [],
   "source": [
    "-- ignore setmetatable for now, it is a feature beyond the scope of this tutorial. It sets the index operator.\n",
    "setmetatable(trainset, \n",
    "    {__index = function(t, i) \n",
    "                    return {t.data[i], t.label[i]} \n",
    "                end}\n",
    ");\n",
    "trainset.data = trainset.data:double() -- convert the data from a ByteTensor to a DoubleTensor.\n",
    "\n",
    "function trainset:size() \n",
    "    return self.data:size(1) \n",
    "end\n",
    "\n",
    "-- ignore setmetatable for now, it is a feature beyond the scope of this tutorial. It sets the index operator.\n",
    "setmetatable(testset, \n",
    "    {__index = function(t, i) \n",
    "                    return {t.data[i], t.label[i]} \n",
    "                end}\n",
    ");\n",
    "testset.data = testset.data:double() -- convert the data from a ByteTensor to a DoubleTensor.\n",
    "\n",
    "function testset:size() \n",
    "    return self.data:size(1) \n",
    "end"
   ]
  },
  {
   "cell_type": "code",
   "execution_count": 4,
   "metadata": {},
   "outputs": [],
   "source": [
    "r = trainset.data[{ {}, {1}, {}, {}  }]*0.21\n",
    "g = trainset.data[{ {}, {2}, {}, {}  }]*0.72\n",
    "b = trainset.data[{ {}, {3}, {}, {}  }]*0.07\n",
    "trainset.data = r+g+b\n",
    "r = testset.data[{ {}, {1}, {}, {}  }]*0.21\n",
    "g = testset.data[{ {}, {2}, {}, {}  }]*0.72\n",
    "b = testset.data[{ {}, {3}, {}, {}  }]*0.07\n",
    "testset.data = r+g+b"
   ]
  },
  {
   "cell_type": "code",
   "execution_count": 5,
   "metadata": {},
   "outputs": [
    {
     "data": {
      "image/png": "[encoded data removed]",
      "text/plain": [
       "Console does not support images"
      ]
     },
     "metadata": {
      "image/png": {
       "height": 32,
       "width": 32
      }
     },
     "output_type": "display_data"
    },
    {
     "data": {
      "text/plain": [
       "automobile\t\n",
       "2\t\n"
      ]
     },
     "execution_count": 5,
     "metadata": {},
     "output_type": "execute_result"
    },
    {
     "data": {
      "image/png": "[encoded data removed]",
      "text/plain": [
       "Console does not support images"
      ]
     },
     "metadata": {
      "image/png": {
       "height": 32,
       "width": 32
      }
     },
     "output_type": "display_data"
    },
    {
     "data": {
      "text/plain": [
       "horse\t\n",
       "8\t\n"
      ]
     },
     "execution_count": 5,
     "metadata": {},
     "output_type": "execute_result"
    }
   ],
   "source": [
    "itorch.image(trainset.data[100]) -- display the 100-th image in dataset\n",
    "print(classes[trainset.label[100]])\n",
    "print(trainset.label[100])\n",
    "itorch.image(testset.data[100]) -- display the 100-th image in dataset\n",
    "print(classes[testset.label[100]])\n",
    "print(testset.label[100])"
   ]
  },
  {
   "cell_type": "code",
   "execution_count": 6,
   "metadata": {},
   "outputs": [
    {
     "data": {
      "text/plain": [
       "Channel 1, Mean: 122.80931339391\t\n"
      ]
     },
     "execution_count": 6,
     "metadata": {},
     "output_type": "execute_result"
    },
    {
     "data": {
      "text/plain": [
       "Channel 1, Standard Deviation: 61.229392750446\t\n"
      ]
     },
     "execution_count": 6,
     "metadata": {},
     "output_type": "execute_result"
    }
   ],
   "source": [
    "mean = {} -- store the mean, to normalize the test set in the future\n",
    "stdv  = {} -- store the standard-deviation for the future\n",
    "for i=1,1 do -- over each image channel\n",
    "    mean[i] = trainset.data[{ {}, {i}, {}, {}  }]:mean() -- mean estimation\n",
    "    print('Channel ' .. i .. ', Mean: ' .. mean[i])\n",
    "    trainset.data[{ {}, {i}, {}, {}  }]:add(-mean[i]) -- mean subtraction\n",
    "    \n",
    "    stdv[i] = trainset.data[{ {}, {i}, {}, {}  }]:std() -- std estimation\n",
    "    print('Channel ' .. i .. ', Standard Deviation: ' .. stdv[i])\n",
    "    trainset.data[{ {}, {i}, {}, {}  }]:div(stdv[i]) -- std scaling\n",
    "end\n",
    "mean = {} -- store the mean, to normalize the test set in the future\n",
    "stdv  = {} -- store the standard-deviation for the future"
   ]
  },
  {
   "cell_type": "code",
   "execution_count": 7,
   "metadata": {},
   "outputs": [],
   "source": [
    "net = nn.Sequential()\n",
    "net:add(nn.SpatialConvolution(1, 6, 5, 5)) -- 3 input image channels, 6 output channels, 5x5 convolution kernel\n",
    "net:add(nn.ReLU())                       -- non-linearity \n",
    "net:add(nn.SpatialMaxPooling(2,2,2,2))     -- A max-pooling operation that looks at 2x2 windows and finds the max.\n",
    "net:add(nn.SpatialConvolution(6, 16, 5, 5))\n",
    "net:add(nn.ReLU())                       -- non-linearity \n",
    "net:add(nn.SpatialMaxPooling(2,2,2,2))\n",
    "net:add(nn.View(16*5*5))                    -- reshapes from a 3D tensor of 16x5x5 into 1D tensor of 16*5*5\n",
    "net:add(nn.Linear(16*5*5, 120))             -- fully connected layer (matrix multiplication between input and weights)\n",
    "net:add(nn.ReLU())                       -- non-linearity \n",
    "net:add(nn.Linear(120, 84))\n",
    "net:add(nn.ReLU())                       -- non-linearity \n",
    "net:add(nn.Linear(84, 10))                   -- 10 is the number of outputs of the network (in this case, 10 digits)\n",
    "net:add(nn.LogSoftMax(1)) "
   ]
  },
  {
   "cell_type": "code",
   "execution_count": 8,
   "metadata": {},
   "outputs": [],
   "source": [
    "criterion = nn.ClassNLLCriterion()"
   ]
  },
  {
   "cell_type": "code",
   "execution_count": 9,
   "metadata": {},
   "outputs": [],
   "source": [
    "require 'cunn';"
   ]
  },
  {
   "cell_type": "code",
   "execution_count": 10,
   "metadata": {},
   "outputs": [],
   "source": [
    "net = net:cuda()"
   ]
  },
  {
   "cell_type": "code",
   "execution_count": 11,
   "metadata": {},
   "outputs": [],
   "source": [
    "criterion = criterion:cuda()"
   ]
  },
  {
   "cell_type": "code",
   "execution_count": 12,
   "metadata": {},
   "outputs": [],
   "source": [
    "targets=trainset.label:long()\n",
    "one_hot_train = torch.eye(10):index(1, targets)\n",
    "--targets=testset.label:long()\n",
    "--one_hot_test = torch.eye(10):index(1, targets)"
   ]
  },
  {
   "cell_type": "code",
   "execution_count": 13,
   "metadata": {},
   "outputs": [],
   "source": [
    "trainset.data = trainset.data:cuda()\n",
    "--trainset.label = one_hot_train:cuda()\n",
    "trainset.label = trainset.label:cuda()\n",
    "testset.data = testset.data:cuda()\n",
    "testset.label = testset.label:cuda()"
   ]
  },
  {
   "cell_type": "code",
   "execution_count": 14,
   "metadata": {},
   "outputs": [],
   "source": [
    "trainer = nn.StochasticGradient(net, criterion)\n",
    "trainer.learningRate = 0.001\n",
    "trainer.maxIteration = 5 -- just do 5 epochs of training."
   ]
  },
  {
   "cell_type": "code",
   "execution_count": null,
   "metadata": {},
   "outputs": [
    {
     "data": {
      "text/plain": [
       "# StochasticGradient: training\t\n"
      ]
     },
     "execution_count": 36,
     "metadata": {},
     "output_type": "execute_result"
    }
   ],
   "source": [
    "tstart=os.time()\n",
    "trainer:train(trainset)\n",
    "tend=os.time()\n",
    "print(os.difftime (tend , tstart))"
   ]
  },
  {
   "cell_type": "code",
   "execution_count": 20,
   "metadata": {},
   "outputs": [
    {
     "data": {
      "text/plain": [
       "3447\t34.47 % \t\n"
      ]
     },
     "execution_count": 20,
     "metadata": {},
     "output_type": "execute_result"
    }
   ],
   "source": [
    "correct = 0\n",
    "for i=1,10000 do\n",
    "    local groundtruth = testset.label[i]\n",
    "    local prediction = net:forward(testset.data[i])\n",
    "    local confidences, indices = torch.sort(prediction, true)  -- true means sort in descending order\n",
    "    if groundtruth == indices[1] then\n",
    "        correct = correct + 1\n",
    "    end\n",
    "end\n",
    "print(correct, 100*correct/10000 .. ' % ')"
   ]
  },
  {
   "cell_type": "code",
   "execution_count": 26,
   "metadata": {},
   "outputs": [
    {
     "data": {
      "text/plain": [
       "airplane\t53.4 %\t\n",
       "automobile\t40.9 %\t\n",
       "bird\t7 %\t\n",
       "cat\t63.9 %\t\n",
       "deer\t1.1 %\t\n",
       "dog\t32.6 %\t\n",
       "frog\t13 %\t\n",
       "horse\t35.6 %\t\n",
       "ship\t58 %\t\n",
       "truck\t39.3 %\t\n"
      ]
     },
     "execution_count": 26,
     "metadata": {},
     "output_type": "execute_result"
    }
   ],
   "source": [
    "class_performance = {0, 0, 0, 0, 0, 0, 0, 0, 0, 0}\n",
    "for i=1,10000 do\n",
    "    local groundtruth = testset.label[i]\n",
    "    local prediction = net:forward(testset.data[i])\n",
    "    local confidences, indices = torch.sort(prediction, true)  -- true means sort in descending order\n",
    "    if groundtruth == indices[1] then\n",
    "        class_performance[groundtruth] = class_performance[groundtruth] + 1\n",
    "    end\n",
    "end\n",
    "for i=1,#classes do\n",
    "    print(classes[i], 100*class_performance[i]/1000 .. ' %')\n",
    "end"
   ]
  },
  {
   "cell_type": "code",
   "execution_count": 18,
   "metadata": {},
   "outputs": [],
   "source": [
    "parameters, gradParameters = net:getParameters()"
   ]
  },
  {
   "cell_type": "code",
   "execution_count": 26,
   "metadata": {},
   "outputs": [
    {
     "data": {
      "text/plain": [
       "------ epoch - 1 ----- \t\n"
      ]
     },
     "execution_count": 26,
     "metadata": {},
     "output_type": "execute_result"
    },
    {
     "data": {
      "text/plain": [
       "------- loss - 1.5445520114899 ------ \t\n",
       "------ epoch - 2 ----- \t\n"
      ]
     },
     "execution_count": 26,
     "metadata": {},
     "output_type": "execute_result"
    },
    {
     "data": {
      "text/plain": [
       "------- loss - 1.5161946678162 ------ \t\n",
       "------ epoch - 3 ----- \t\n"
      ]
     },
     "execution_count": 26,
     "metadata": {},
     "output_type": "execute_result"
    },
    {
     "data": {
      "text/plain": [
       "------- loss - 1.5084426474571 ------ \t\n",
       "------ epoch - 4 ----- \t\n"
      ]
     },
     "execution_count": 26,
     "metadata": {},
     "output_type": "execute_result"
    },
    {
     "data": {
      "text/plain": [
       "------- loss - 1.5021010661125 ------ \t\n",
       "------ epoch - 5 ----- \t\n"
      ]
     },
     "execution_count": 26,
     "metadata": {},
     "output_type": "execute_result"
    },
    {
     "data": {
      "text/plain": [
       "------- loss - 1.4963849210739 ------ \t\n",
       "------ epoch - 6 ----- \t\n"
      ]
     },
     "execution_count": 26,
     "metadata": {},
     "output_type": "execute_result"
    },
    {
     "data": {
      "text/plain": [
       "------- loss - 1.4910190582275 ------ \t\n",
       "------ epoch - 7 ----- \t\n"
      ]
     },
     "execution_count": 26,
     "metadata": {},
     "output_type": "execute_result"
    },
    {
     "data": {
      "text/plain": [
       "------- loss - 1.4859037804604 ------ \t\n",
       "------ epoch - 8 ----- \t\n"
      ]
     },
     "execution_count": 26,
     "metadata": {},
     "output_type": "execute_result"
    },
    {
     "data": {
      "text/plain": [
       "------- loss - 1.480972328186 ------ \t\n",
       "------ epoch - 9 ----- \t\n"
      ]
     },
     "execution_count": 26,
     "metadata": {},
     "output_type": "execute_result"
    },
    {
     "data": {
      "text/plain": [
       "------- loss - 1.4761478900909 ------ \t\n",
       "------ epoch - 10 ----- \t\n"
      ]
     },
     "execution_count": 26,
     "metadata": {},
     "output_type": "execute_result"
    },
    {
     "data": {
      "text/plain": [
       "------- loss - 1.4714289736748 ------ \t\n",
       "------ epoch - 11 ----- \t\n"
      ]
     },
     "execution_count": 26,
     "metadata": {},
     "output_type": "execute_result"
    },
    {
     "data": {
      "text/plain": [
       "------- loss - 1.4668012571335 ------ \t\n",
       "------ epoch - 12 ----- \t\n"
      ]
     },
     "execution_count": 26,
     "metadata": {},
     "output_type": "execute_result"
    },
    {
     "data": {
      "text/plain": [
       "------- loss - 1.4622626471519 ------ \t\n",
       "------ epoch - 13 ----- \t\n"
      ]
     },
     "execution_count": 26,
     "metadata": {},
     "output_type": "execute_result"
    },
    {
     "data": {
      "text/plain": [
       "------- loss - 1.4577530169487 ------ \t\n",
       "------ epoch - 14 ----- \t\n"
      ]
     },
     "execution_count": 26,
     "metadata": {},
     "output_type": "execute_result"
    },
    {
     "data": {
      "text/plain": [
       "------- loss - 1.4533131432533 ------ \t\n",
       "------ epoch - 15 ----- \t\n"
      ]
     },
     "execution_count": 26,
     "metadata": {},
     "output_type": "execute_result"
    },
    {
     "data": {
      "text/plain": [
       "------- loss - 1.4489145112038 ------ \t\n",
       "------ epoch - 16 ----- \t\n"
      ]
     },
     "execution_count": 26,
     "metadata": {},
     "output_type": "execute_result"
    },
    {
     "data": {
      "text/plain": [
       "------- loss - 1.4446056079865 ------ \t\n",
       "------ epoch - 17 ----- \t\n"
      ]
     },
     "execution_count": 26,
     "metadata": {},
     "output_type": "execute_result"
    },
    {
     "data": {
      "text/plain": [
       "------- loss - 1.4403595519066 ------ \t\n",
       "------ epoch - 18 ----- \t\n"
      ]
     },
     "execution_count": 26,
     "metadata": {},
     "output_type": "execute_result"
    },
    {
     "data": {
      "text/plain": [
       "------- loss - 1.4361528372765 ------ \t\n",
       "------ epoch - 19 ----- \t\n"
      ]
     },
     "execution_count": 26,
     "metadata": {},
     "output_type": "execute_result"
    },
    {
     "data": {
      "text/plain": [
       "------- loss - 1.431984834671 ------ \t\n",
       "------ epoch - 20 ----- \t\n"
      ]
     },
     "execution_count": 26,
     "metadata": {},
     "output_type": "execute_result"
    },
    {
     "data": {
      "text/plain": [
       "------- loss - 1.4278655958176 ------ \t\n",
       "------ epoch - 21 ----- \t\n"
      ]
     },
     "execution_count": 26,
     "metadata": {},
     "output_type": "execute_result"
    },
    {
     "data": {
      "text/plain": [
       "------- loss - 1.4237718605995 ------ \t\n",
       "------ epoch - 22 ----- \t\n"
      ]
     },
     "execution_count": 26,
     "metadata": {},
     "output_type": "execute_result"
    },
    {
     "data": {
      "text/plain": [
       "------- loss - 1.4197201061249 ------ \t\n",
       "------ epoch - 23 ----- \t\n"
      ]
     },
     "execution_count": 26,
     "metadata": {},
     "output_type": "execute_result"
    },
    {
     "data": {
      "text/plain": [
       "------- loss - 1.4156726527214 ------ \t\n",
       "------ epoch - 24 ----- \t\n"
      ]
     },
     "execution_count": 26,
     "metadata": {},
     "output_type": "execute_result"
    },
    {
     "data": {
      "text/plain": [
       "------- loss - 1.4116623234749 ------ \t\n",
       "------ epoch - 25 ----- \t\n"
      ]
     },
     "execution_count": 26,
     "metadata": {},
     "output_type": "execute_result"
    },
    {
     "data": {
      "text/plain": [
       "------- loss - 1.4076785302162 ------ \t\n",
       "------ epoch - 26 ----- \t\n"
      ]
     },
     "execution_count": 26,
     "metadata": {},
     "output_type": "execute_result"
    },
    {
     "data": {
      "text/plain": [
       "------- loss - 1.403733754158 ------ \t\n",
       "------ epoch - 27 ----- \t\n"
      ]
     },
     "execution_count": 26,
     "metadata": {},
     "output_type": "execute_result"
    },
    {
     "data": {
      "text/plain": [
       "------- loss - 1.3998172831535 ------ \t\n",
       "------ epoch - 28 ----- \t\n"
      ]
     },
     "execution_count": 26,
     "metadata": {},
     "output_type": "execute_result"
    },
    {
     "data": {
      "text/plain": [
       "------- loss - 1.3959399390221 ------ \t\n",
       "------ epoch - 29 ----- \t\n"
      ]
     },
     "execution_count": 26,
     "metadata": {},
     "output_type": "execute_result"
    },
    {
     "data": {
      "text/plain": [
       "------- loss - 1.3920574975014 ------ \t\n",
       "------ epoch - 30 ----- \t\n"
      ]
     },
     "execution_count": 26,
     "metadata": {},
     "output_type": "execute_result"
    },
    {
     "data": {
      "text/plain": [
       "------- loss - 1.3882205271721 ------ \t\n",
       "------ epoch - 31 ----- \t\n"
      ]
     },
     "execution_count": 26,
     "metadata": {},
     "output_type": "execute_result"
    },
    {
     "data": {
      "text/plain": [
       "------- loss - 1.3844121217728 ------ \t\n",
       "------ epoch - 32 ----- \t\n"
      ]
     },
     "execution_count": 26,
     "metadata": {},
     "output_type": "execute_result"
    },
    {
     "data": {
      "text/plain": [
       "------- loss - 1.3806583046913 ------ \t\n",
       "------ epoch - 33 ----- \t\n"
      ]
     },
     "execution_count": 26,
     "metadata": {},
     "output_type": "execute_result"
    },
    {
     "data": {
      "text/plain": [
       "------- loss - 1.3769038319588 ------ \t\n",
       "------ epoch - 34 ----- \t\n"
      ]
     },
     "execution_count": 26,
     "metadata": {},
     "output_type": "execute_result"
    },
    {
     "data": {
      "text/plain": [
       "------- loss - 1.3732007670403 ------ \t\n",
       "------ epoch - 35 ----- \t\n"
      ]
     },
     "execution_count": 26,
     "metadata": {},
     "output_type": "execute_result"
    },
    {
     "data": {
      "text/plain": [
       "------- loss - 1.3695106387138 ------ \t\n",
       "------ epoch - 36 ----- \t\n"
      ]
     },
     "execution_count": 26,
     "metadata": {},
     "output_type": "execute_result"
    },
    {
     "data": {
      "text/plain": [
       "------- loss - 1.3658824896812 ------ \t\n",
       "------ epoch - 37 ----- \t\n"
      ]
     },
     "execution_count": 26,
     "metadata": {},
     "output_type": "execute_result"
    },
    {
     "data": {
      "text/plain": [
       "------- loss - 1.3622556138039 ------ \t\n",
       "------ epoch - 38 ----- \t\n"
      ]
     },
     "execution_count": 26,
     "metadata": {},
     "output_type": "execute_result"
    },
    {
     "data": {
      "text/plain": [
       "------- loss - 1.3586653232574 ------ \t\n",
       "------ epoch - 39 ----- \t\n"
      ]
     },
     "execution_count": 26,
     "metadata": {},
     "output_type": "execute_result"
    },
    {
     "data": {
      "text/plain": [
       "------- loss - 1.3551062488556 ------ \t\n",
       "------ epoch - 40 ----- \t\n"
      ]
     },
     "execution_count": 26,
     "metadata": {},
     "output_type": "execute_result"
    },
    {
     "data": {
      "text/plain": [
       "------- loss - 1.3515806102753 ------ \t\n",
       "------ epoch - 41 ----- \t\n"
      ]
     },
     "execution_count": 26,
     "metadata": {},
     "output_type": "execute_result"
    },
    {
     "data": {
      "text/plain": [
       "------- loss - 1.3480650401115 ------ \t\n",
       "------ epoch - 42 ----- \t\n"
      ]
     },
     "execution_count": 26,
     "metadata": {},
     "output_type": "execute_result"
    },
    {
     "data": {
      "text/plain": [
       "------- loss - 1.3445839047432 ------ \t\n",
       "------ epoch - 43 ----- \t\n"
      ]
     },
     "execution_count": 26,
     "metadata": {},
     "output_type": "execute_result"
    },
    {
     "data": {
      "text/plain": [
       "------- loss - 1.341130657196 ------ \t\n",
       "------ epoch - 44 ----- \t\n"
      ]
     },
     "execution_count": 26,
     "metadata": {},
     "output_type": "execute_result"
    },
    {
     "data": {
      "text/plain": [
       "------- loss - 1.3377148342133 ------ \t\n",
       "------ epoch - 45 ----- \t\n"
      ]
     },
     "execution_count": 26,
     "metadata": {},
     "output_type": "execute_result"
    },
    {
     "data": {
      "text/plain": [
       "------- loss - 1.3343263721466 ------ \t\n",
       "------ epoch - 46 ----- \t\n"
      ]
     },
     "execution_count": 26,
     "metadata": {},
     "output_type": "execute_result"
    },
    {
     "data": {
      "text/plain": [
       "------- loss - 1.3309943962097 ------ \t\n",
       "------ epoch - 47 ----- \t\n"
      ]
     },
     "execution_count": 26,
     "metadata": {},
     "output_type": "execute_result"
    },
    {
     "data": {
      "text/plain": [
       "------- loss - 1.3276665306091 ------ \t\n",
       "------ epoch - 48 ----- \t\n"
      ]
     },
     "execution_count": 26,
     "metadata": {},
     "output_type": "execute_result"
    },
    {
     "data": {
      "text/plain": [
       "------- loss - 1.3243865990639 ------ \t\n",
       "------ epoch - 49 ----- \t\n"
      ]
     },
     "execution_count": 26,
     "metadata": {},
     "output_type": "execute_result"
    },
    {
     "data": {
      "text/plain": [
       "------- loss - 1.3211324882507 ------ \t\n",
       "------ epoch - 50 ----- \t\n"
      ]
     },
     "execution_count": 26,
     "metadata": {},
     "output_type": "execute_result"
    },
    {
     "data": {
      "text/plain": [
       "------- loss - 1.3179351878166 ------ \t\n",
       "------ epoch - 51 ----- \t\n"
      ]
     },
     "execution_count": 26,
     "metadata": {},
     "output_type": "execute_result"
    },
    {
     "data": {
      "text/plain": [
       "------- loss - 1.314750828743 ------ \t\n",
       "------ epoch - 52 ----- \t\n"
      ]
     },
     "execution_count": 26,
     "metadata": {},
     "output_type": "execute_result"
    },
    {
     "data": {
      "text/plain": [
       "------- loss - 1.3116173100471 ------ \t\n",
       "------ epoch - 53 ----- \t\n"
      ]
     },
     "execution_count": 26,
     "metadata": {},
     "output_type": "execute_result"
    },
    {
     "data": {
      "text/plain": [
       "------- loss - 1.3085201072693 ------ \t\n",
       "------ epoch - 54 ----- \t"
      ]
     },
     "execution_count": 26,
     "metadata": {},
     "output_type": "execute_result"
    },
    {
     "data": {
      "text/plain": [
       "\n"
      ]
     },
     "execution_count": 26,
     "metadata": {},
     "output_type": "execute_result"
    },
    {
     "data": {
      "text/plain": [
       "------- loss - 1.3054322385788 ------ \t\n",
       "------ epoch - 55 ----- \t"
      ]
     },
     "execution_count": 26,
     "metadata": {},
     "output_type": "execute_result"
    },
    {
     "data": {
      "text/plain": [
       "\n"
      ]
     },
     "execution_count": 26,
     "metadata": {},
     "output_type": "execute_result"
    },
    {
     "data": {
      "text/plain": [
       "------- loss - 1.302368555069 ------ \t\n",
       "------ epoch - 56 ----- \t\n"
      ]
     },
     "execution_count": 26,
     "metadata": {},
     "output_type": "execute_result"
    },
    {
     "data": {
      "text/plain": [
       "------- loss - 1.299304523468 ------ \t\n",
       "------ epoch - 57 ----- \t\n"
      ]
     },
     "execution_count": 26,
     "metadata": {},
     "output_type": "execute_result"
    },
    {
     "data": {
      "text/plain": [
       "------- loss - 1.2963310742378 ------ \t\n",
       "------ epoch - 58 ----- \t\n"
      ]
     },
     "execution_count": 26,
     "metadata": {},
     "output_type": "execute_result"
    },
    {
     "data": {
      "text/plain": [
       "------- loss - 1.2933792996407 ------ \t\n",
       "------ epoch - 59 ----- \t\n"
      ]
     },
     "execution_count": 26,
     "metadata": {},
     "output_type": "execute_result"
    },
    {
     "data": {
      "text/plain": [
       "------- loss - 1.2905257916451 ------ \t\n",
       "------ epoch - 60 ----- \t\n"
      ]
     },
     "execution_count": 26,
     "metadata": {},
     "output_type": "execute_result"
    },
    {
     "data": {
      "text/plain": [
       "------- loss - 1.2876408600807 ------ \t\n",
       "------ epoch - 61 ----- \t\n"
      ]
     },
     "execution_count": 26,
     "metadata": {},
     "output_type": "execute_result"
    },
    {
     "data": {
      "text/plain": [
       "------- loss - 1.2848504781723 ------ \t\n",
       "------ epoch - 62 ----- \t\n"
      ]
     },
     "execution_count": 26,
     "metadata": {},
     "output_type": "execute_result"
    },
    {
     "data": {
      "text/plain": [
       "------- loss - 1.2821293377876 ------ \t\n",
       "------ epoch - 63 ----- \t\n"
      ]
     },
     "execution_count": 26,
     "metadata": {},
     "output_type": "execute_result"
    },
    {
     "data": {
      "text/plain": [
       "------- loss - 1.2794712519646 ------ \t\n",
       "------ epoch - 64 ----- \t\n"
      ]
     },
     "execution_count": 26,
     "metadata": {},
     "output_type": "execute_result"
    },
    {
     "data": {
      "text/plain": [
       "------- loss - 1.2767864203453 ------ \t\n",
       "------ epoch - 65 ----- \t\n"
      ]
     },
     "execution_count": 26,
     "metadata": {},
     "output_type": "execute_result"
    },
    {
     "data": {
      "text/plain": [
       "------- loss - 1.2742010521889 ------ \t\n",
       "------ epoch - 66 ----- \t\n"
      ]
     },
     "execution_count": 26,
     "metadata": {},
     "output_type": "execute_result"
    },
    {
     "data": {
      "text/plain": [
       "------- loss - 1.271840531826 ------ \t\n",
       "------ epoch - 67 ----- \t\n"
      ]
     },
     "execution_count": 26,
     "metadata": {},
     "output_type": "execute_result"
    },
    {
     "data": {
      "text/plain": [
       "------- loss - 1.2692185258865 ------ \t\n",
       "------ epoch - 68 ----- \t\n"
      ]
     },
     "execution_count": 26,
     "metadata": {},
     "output_type": "execute_result"
    },
    {
     "data": {
      "text/plain": [
       "------- loss - 1.2667292761803 ------ \t\n",
       "------ epoch - 69 ----- \t\n"
      ]
     },
     "execution_count": 26,
     "metadata": {},
     "output_type": "execute_result"
    },
    {
     "data": {
      "text/plain": [
       "------- loss - 1.2638710403442 ------ \t\n",
       "------ epoch - 70 ----- \t\n"
      ]
     },
     "execution_count": 26,
     "metadata": {},
     "output_type": "execute_result"
    },
    {
     "data": {
      "text/plain": [
       "------- loss - 1.2614130735397 ------ \t\n",
       "------ epoch - 71 ----- \t\n"
      ]
     },
     "execution_count": 26,
     "metadata": {},
     "output_type": "execute_result"
    },
    {
     "data": {
      "text/plain": [
       "------- loss - 1.2592467975616 ------ \t\n",
       "------ epoch - 72 ----- \t\n"
      ]
     },
     "execution_count": 26,
     "metadata": {},
     "output_type": "execute_result"
    },
    {
     "data": {
      "text/plain": [
       "------- loss - 1.2566194438934 ------ \t\n",
       "------ epoch - 73 ----- \t\n"
      ]
     },
     "execution_count": 26,
     "metadata": {},
     "output_type": "execute_result"
    },
    {
     "data": {
      "text/plain": [
       "------- loss - 1.2540092611313 ------ \t\n",
       "------ epoch - 74 ----- \t\n"
      ]
     },
     "execution_count": 26,
     "metadata": {},
     "output_type": "execute_result"
    },
    {
     "data": {
      "text/plain": [
       "------- loss - 1.2517423796654 ------ \t\n",
       "------ epoch - 75 ----- \t\n"
      ]
     },
     "execution_count": 26,
     "metadata": {},
     "output_type": "execute_result"
    },
    {
     "data": {
      "text/plain": [
       "------- loss - 1.2491884970665 ------ \t\n",
       "------ epoch - 76 ----- \t\n"
      ]
     },
     "execution_count": 26,
     "metadata": {},
     "output_type": "execute_result"
    },
    {
     "data": {
      "text/plain": [
       "------- loss - 1.2468348383904 ------ \t\n",
       "------ epoch - 77 ----- \t\n"
      ]
     },
     "execution_count": 26,
     "metadata": {},
     "output_type": "execute_result"
    },
    {
     "data": {
      "text/plain": [
       "------- loss - 1.2447370505333 ------ \t\n",
       "------ epoch - 78 ----- \t\n"
      ]
     },
     "execution_count": 26,
     "metadata": {},
     "output_type": "execute_result"
    },
    {
     "data": {
      "text/plain": [
       "------- loss - 1.2422370362282 ------ \t\n",
       "------ epoch - 79 ----- \t\n"
      ]
     },
     "execution_count": 26,
     "metadata": {},
     "output_type": "execute_result"
    },
    {
     "data": {
      "text/plain": [
       "------- loss - 1.2394675970078 ------ \t\n",
       "------ epoch - 80 ----- \t\n"
      ]
     },
     "execution_count": 26,
     "metadata": {},
     "output_type": "execute_result"
    },
    {
     "data": {
      "text/plain": [
       "------- loss - 1.2372800803185 ------ \t\n",
       "------ epoch - 81 ----- \t\n"
      ]
     },
     "execution_count": 26,
     "metadata": {},
     "output_type": "execute_result"
    },
    {
     "data": {
      "text/plain": [
       "------- loss - 1.2347007918358 ------ \t\n",
       "------ epoch - 82 ----- \t\n"
      ]
     },
     "execution_count": 26,
     "metadata": {},
     "output_type": "execute_result"
    },
    {
     "data": {
      "text/plain": [
       "------- loss - 1.2319804286957 ------ \t\n",
       "------ epoch - 83 ----- \t\n"
      ]
     },
     "execution_count": 26,
     "metadata": {},
     "output_type": "execute_result"
    },
    {
     "data": {
      "text/plain": [
       "------- loss - 1.2298572015762 ------ \t\n",
       "------ epoch - 84 ----- \t\n"
      ]
     },
     "execution_count": 26,
     "metadata": {},
     "output_type": "execute_result"
    },
    {
     "data": {
      "text/plain": [
       "------- loss - 1.2268166851997 ------ \t\n",
       "------ epoch - 85 ----- \t\n"
      ]
     },
     "execution_count": 26,
     "metadata": {},
     "output_type": "execute_result"
    },
    {
     "data": {
      "text/plain": [
       "------- loss - 1.2249116563797 ------ \t\n",
       "------ epoch - 86 ----- \t\n"
      ]
     },
     "execution_count": 26,
     "metadata": {},
     "output_type": "execute_result"
    },
    {
     "data": {
      "text/plain": [
       "------- loss - 1.2218527007103 ------ \t\n",
       "------ epoch - 87 ----- \t\n"
      ]
     },
     "execution_count": 26,
     "metadata": {},
     "output_type": "execute_result"
    },
    {
     "data": {
      "text/plain": [
       "------- loss - 1.2209546995163 ------ \t\n",
       "------ epoch - 88 ----- \t\n"
      ]
     },
     "execution_count": 26,
     "metadata": {},
     "output_type": "execute_result"
    },
    {
     "data": {
      "text/plain": [
       "------- loss - 1.2166326451302 ------ \t\n",
       "------ epoch - 89 ----- \t\n"
      ]
     },
     "execution_count": 26,
     "metadata": {},
     "output_type": "execute_result"
    },
    {
     "data": {
      "text/plain": [
       "------- loss - 1.2157779216766 ------ \t\n",
       "------ epoch - 90 ----- \t\n"
      ]
     },
     "execution_count": 26,
     "metadata": {},
     "output_type": "execute_result"
    },
    {
     "data": {
      "text/plain": [
       "------- loss - 1.2127021360397 ------ \t\n",
       "------ epoch - 91 ----- \t\n"
      ]
     },
     "execution_count": 26,
     "metadata": {},
     "output_type": "execute_result"
    },
    {
     "data": {
      "text/plain": [
       "------- loss - 1.2111831569672 ------ \t\n",
       "------ epoch - 92 ----- \t\n"
      ]
     },
     "execution_count": 26,
     "metadata": {},
     "output_type": "execute_result"
    },
    {
     "data": {
      "text/plain": [
       "------- loss - 1.2050402545929 ------ \t\n",
       "------ epoch - 93 ----- \t\n"
      ]
     },
     "execution_count": 26,
     "metadata": {},
     "output_type": "execute_result"
    },
    {
     "data": {
      "text/plain": [
       "------- loss - 1.2074022126198 ------ \t\n",
       "------ epoch - 94 ----- \t\n"
      ]
     },
     "execution_count": 26,
     "metadata": {},
     "output_type": "execute_result"
    },
    {
     "data": {
      "text/plain": [
       "------- loss - 1.2020180511475 ------ \t\n",
       "------ epoch - 95 ----- \t\n"
      ]
     },
     "execution_count": 26,
     "metadata": {},
     "output_type": "execute_result"
    },
    {
     "data": {
      "text/plain": [
       "------- loss - 1.2025539183617 ------ \t\n",
       "------ epoch - 96 ----- \t\n"
      ]
     },
     "execution_count": 26,
     "metadata": {},
     "output_type": "execute_result"
    },
    {
     "data": {
      "text/plain": [
       "------- loss - 1.1945766234398 ------ \t\n",
       "------ epoch - 97 ----- \t\n"
      ]
     },
     "execution_count": 26,
     "metadata": {},
     "output_type": "execute_result"
    },
    {
     "data": {
      "text/plain": [
       "------- loss - 1.194972243309 ------ \t\n",
       "------ epoch - 98 ----- \t\n"
      ]
     },
     "execution_count": 26,
     "metadata": {},
     "output_type": "execute_result"
    },
    {
     "data": {
      "text/plain": [
       "------- loss - 1.1972498631477 ------ \t\n",
       "------ epoch - 99 ----- \t\n"
      ]
     },
     "execution_count": 26,
     "metadata": {},
     "output_type": "execute_result"
    },
    {
     "data": {
      "text/plain": [
       "------- loss - 1.1870352268219 ------ \t\n",
       "------ epoch - 100 ----- \t\n"
      ]
     },
     "execution_count": 26,
     "metadata": {},
     "output_type": "execute_result"
    },
    {
     "data": {
      "text/plain": [
       "------- loss - 1.1916127991676 ------ \t\n",
       "------ Time taken :\t537\t\n"
      ]
     },
     "execution_count": 26,
     "metadata": {},
     "output_type": "execute_result"
    }
   ],
   "source": [
    "dl = require 'dataload'\n",
    "optim = require 'optim';\n",
    "one_hot = torch.eye(10):index(1, targets)\n",
    "dataloader = dl.TensorLoader(trainset.data, trainset.label)\n",
    "i=0\n",
    "batch_size=1000\n",
    "epochs=100\n",
    "tstart=os.time()\n",
    "\n",
    "-- Define SGD parameters.\n",
    "sgd_params = {\n",
    "    learningRate = 0.01,\n",
    "    weightDecay = 0,\n",
    "    momentum = 0\n",
    "}\n",
    "for j=1,epochs do\n",
    "    print(\"------ epoch - \" ..j.. \" ----- \")\n",
    "    tot_loss=0\n",
    "    for k, inputs, targets in dataloader:subiter(batch_size,50000) do\n",
    "        -- Define a closure that computes the loss and dloss/dx.\n",
    "        feval = function()\n",
    "            -- reset gradients\n",
    "            gradParameters:zero()\n",
    "            output=net:forward(inputs)\n",
    "            loss=criterion:forward(output, targets)\n",
    "            gradients = criterion:backward(output, targets)\n",
    "            net:backward(inputs, gradients)\n",
    "            return loss, gradParameters\n",
    "        end\n",
    "        _,local_loss = optim.sgd(feval, parameters, sgd_params)\n",
    "        tot_loss = tot_loss + local_loss[1]\n",
    "    end\n",
    "    print(\"------- loss - \" ..(tot_loss/50).. \" ------ \")\n",
    "end\n",
    "\n",
    "tend=os.time()\n",
    "print(\"------ Time taken :\",os.difftime (tend , tstart))"
   ]
  },
  {
   "cell_type": "code",
   "execution_count": 27,
   "metadata": {},
   "outputs": [
    {
     "data": {
      "text/plain": [
       "2941\t29.41 % \t\n"
      ]
     },
     "execution_count": 27,
     "metadata": {},
     "output_type": "execute_result"
    }
   ],
   "source": [
    "correct = 0\n",
    "for i=1,10000 do\n",
    "    local groundtruth = testset.label[i]\n",
    "    local prediction = net:forward(testset.data[i])\n",
    "    local confidences, indices = torch.sort(prediction, true)  -- true means sort in descending order\n",
    "    if groundtruth == indices[1] then\n",
    "        correct = correct + 1\n",
    "    end\n",
    "end\n",
    "print(correct, 100*correct/10000 .. ' % ')"
   ]
  },
  {
   "cell_type": "code",
   "execution_count": 28,
   "metadata": {},
   "outputs": [
    {
     "data": {
      "text/plain": [
       "airplane\t54.6 %\t\n",
       "automobile\t85.8 %\t\n",
       "bird\t0 %\t\n",
       "cat\t8.9 %\t\n",
       "deer\t0 %\t\n",
       "dog\t50.7 %\t\n",
       "frog\t0 %\t\n",
       "horse\t32.7 %\t\n",
       "ship\t27.3 %\t\n",
       "truck\t34.1 %\t\n"
      ]
     },
     "execution_count": 28,
     "metadata": {},
     "output_type": "execute_result"
    }
   ],
   "source": [
    "class_performance = {0, 0, 0, 0, 0, 0, 0, 0, 0, 0}\n",
    "for i=1,10000 do\n",
    "    local groundtruth = testset.label[i]\n",
    "    local prediction = net:forward(testset.data[i])\n",
    "    local confidences, indices = torch.sort(prediction, true)  -- true means sort in descending order\n",
    "    if groundtruth == indices[1] then\n",
    "        class_performance[groundtruth] = class_performance[groundtruth] + 1\n",
    "    end\n",
    "end\n",
    "for i=1,#classes do\n",
    "    print(classes[i], 100*class_performance[i]/1000 .. ' %')\n",
    "end"
   ]
  },
  {
   "cell_type": "code",
   "execution_count": null,
   "metadata": {},
   "outputs": [],
   "source": []
  }
 ],
 "metadata": {
  "kernelspec": {
   "display_name": "iTorch",
   "language": "lua",
   "name": "itorch"
  },
  "language_info": {
   "name": "lua",
   "version": "5.1"
  }
 },
 "nbformat": 4,
 "nbformat_minor": 2
}
