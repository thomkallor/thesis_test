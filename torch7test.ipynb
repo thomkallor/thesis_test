{
 "cells": [
  {
   "cell_type": "code",
   "execution_count": 1,
   "metadata": {},
   "outputs": [
    {
     "data": {
      "text/plain": [
       "cifar-10-batches-bin/\n",
       "cifar-10-batches-bin/data_batch_1.bin\n"
      ]
     },
     "execution_count": 1,
     "metadata": {},
     "output_type": "execute_result"
    },
    {
     "data": {
      "text/plain": [
       "cifar-10-batches-bin/batches.meta.txt\n",
       "cifar-10-batches-bin/data_batch_3.bin\n"
      ]
     },
     "execution_count": 1,
     "metadata": {},
     "output_type": "execute_result"
    },
    {
     "data": {
      "text/plain": [
       "cifar-10-batches-bin/data_batch_4.bin\n"
      ]
     },
     "execution_count": 1,
     "metadata": {},
     "output_type": "execute_result"
    },
    {
     "data": {
      "text/plain": [
       "cifar-10-batches-bin/test_batch.bin\n"
      ]
     },
     "execution_count": 1,
     "metadata": {},
     "output_type": "execute_result"
    },
    {
     "data": {
      "text/plain": [
       "cifar-10-batches-bin/readme.html\n",
       "cifar-10-batches-bin/data_batch_5.bin\n"
      ]
     },
     "execution_count": 1,
     "metadata": {},
     "output_type": "execute_result"
    },
    {
     "data": {
      "text/plain": [
       "cifar-10-batches-bin/data_batch_2.bin\n"
      ]
     },
     "execution_count": 1,
     "metadata": {},
     "output_type": "execute_result"
    },
    {
     "data": {
      "text/plain": [
       "{\n",
       "  data : ByteTensor - size: 50000x3x32x32\n",
       "  label : ByteTensor - size: 50000\n",
       "}\n"
      ]
     },
     "execution_count": 1,
     "metadata": {},
     "output_type": "execute_result"
    },
    {
     "data": {
      "text/plain": [
       "{\n",
       "  data : ByteTensor - size: 10000x3x32x32\n",
       "  label : ByteTensor - size: 10000\n",
       "}\n"
      ]
     },
     "execution_count": 1,
     "metadata": {},
     "output_type": "execute_result"
    }
   ],
   "source": [
    "require 'torch'\n",
    "\n",
    "os.execute('wget -c http://www.cs.toronto.edu/~kriz/cifar-10-binary.tar.gz')\n",
    "os.execute('tar -xvf cifar-10-binary.tar.gz')\n",
    "local function convertCifar10BinToTorchTensor(inputFnames, outputFname)\n",
    "   local nSamples = 0\n",
    "   for i=1,#inputFnames do\n",
    "      local inputFname = inputFnames[i]\n",
    "      local m=torch.DiskFile(inputFname, 'r'):binary()\n",
    "      m:seekEnd()\n",
    "      local length = m:position() - 1\n",
    "      local nSamplesF = length / 3073 -- 1 label byte, 3072 pixel bytes\n",
    "      assert(nSamplesF == math.floor(nSamplesF), 'expecting numSamples to be an exact integer')\n",
    "      nSamples = nSamples + nSamplesF\n",
    "      m:close()\n",
    "   end\n",
    "\n",
    "   local label = torch.ByteTensor(nSamples)\n",
    "   local data = torch.ByteTensor(nSamples, 3, 32, 32)\n",
    "\n",
    "   local index = 1\n",
    "   for i=1,#inputFnames do\n",
    "      local inputFname = inputFnames[i]\n",
    "      local m=torch.DiskFile(inputFname, 'r'):binary()\n",
    "      m:seekEnd()\n",
    "      local length = m:position() - 1\n",
    "      local nSamplesF = length / 3073 -- 1 label byte, 3072 pixel bytes\n",
    "      m:seek(1)\n",
    "      for j=1,nSamplesF do\n",
    "         label[index] = m:readByte()\n",
    "         local store = m:readByte(3072)\n",
    "         data[index]:copy(torch.ByteTensor(store))\n",
    "         index = index + 1\n",
    "      end\n",
    "      m:close()\n",
    "   end\n",
    "\n",
    "   local out = {}\n",
    "   out.data = data\n",
    "   out.label = label\n",
    "   print(out)\n",
    "   torch.save(outputFname, out)\n",
    "end\n",
    "\n",
    "convertCifar10BinToTorchTensor({'cifar-10-batches-bin/data_batch_1.bin',\n",
    "                                'cifar-10-batches-bin/data_batch_2.bin',\n",
    "                                'cifar-10-batches-bin/data_batch_3.bin',\n",
    "                                'cifar-10-batches-bin/data_batch_4.bin',\n",
    "                                'cifar-10-batches-bin/data_batch_5.bin'},\n",
    "   'cifar10-train.t7')\n",
    "\n",
    "convertCifar10BinToTorchTensor({'cifar-10-batches-bin/test_batch.bin'},\n",
    "   'cifar10-test.t7')"
   ]
  },
  {
   "cell_type": "code",
   "execution_count": 2,
   "metadata": {},
   "outputs": [],
   "source": [
    "require 'nn';\n",
    "require 'paths'\n",
    "trainset = torch.load('cifar10-train.t7')\n",
    "testset = torch.load('cifar10-test.t7')\n",
    "classes = {'airplane', 'automobile', 'bird', 'cat',\n",
    "           'deer', 'dog', 'frog', 'horse', 'ship', 'truck'}"
   ]
  },
  {
   "cell_type": "code",
   "execution_count": 3,
   "metadata": {},
   "outputs": [],
   "source": [
    "trainset.label = trainset.label+1\n",
    "testset.label = testset.label+1"
   ]
  },
  {
   "cell_type": "code",
   "execution_count": 4,
   "metadata": {},
   "outputs": [],
   "source": [
    "-- ignore setmetatable for now, it is a feature beyond the scope of this tutorial. It sets the index operator.\n",
    "setmetatable(trainset, \n",
    "    {__index = function(t, i) \n",
    "                    return {t.data[i], t.label[i]} \n",
    "                end}\n",
    ");\n",
    "trainset.data = trainset.data:double() -- convert the data from a ByteTensor to a DoubleTensor.\n",
    "\n",
    "function trainset:size() \n",
    "    return self.data:size(1) \n",
    "end\n",
    "\n",
    "-- ignore setmetatable for now, it is a feature beyond the scope of this tutorial. It sets the index operator.\n",
    "setmetatable(testset, \n",
    "    {__index = function(t, i) \n",
    "                    return {t.data[i], t.label[i]} \n",
    "                end}\n",
    ");\n",
    "testset.data = testset.data:double() -- convert the data from a ByteTensor to a DoubleTensor.\n",
    "\n",
    "function testset:size() \n",
    "    return self.data:size(1) \n",
    "end"
   ]
  },
  {
   "cell_type": "code",
   "execution_count": 5,
   "metadata": {},
   "outputs": [],
   "source": [
    "r = trainset.data[{ {}, {1}, {}, {}  }]*0.21\n",
    "g = trainset.data[{ {}, {2}, {}, {}  }]*0.72\n",
    "b = trainset.data[{ {}, {3}, {}, {}  }]*0.07\n",
    "trainset.data = r+g+b\n",
    "r = testset.data[{ {}, {1}, {}, {}  }]*0.21\n",
    "g = testset.data[{ {}, {2}, {}, {}  }]*0.72\n",
    "b = testset.data[{ {}, {3}, {}, {}  }]*0.07\n",
    "testset.data = r+g+b"
   ]
  },
  {
   "cell_type": "code",
   "execution_count": 6,
   "metadata": {},
   "outputs": [
    {
     "data": {
      "image/png": "[encoded data removed]",
      "text/plain": [
       "Console does not support images"
      ]
     },
     "metadata": {
      "image/png": {
       "height": 32,
       "width": 32
      }
     },
     "output_type": "display_data"
    },
    {
     "data": {
      "text/plain": [
       "automobile\t\n",
       "2\t\n"
      ]
     },
     "execution_count": 6,
     "metadata": {},
     "output_type": "execute_result"
    },
    {
     "data": {
      "image/png": "[encoded data removed]",
      "text/plain": [
       "Console does not support images"
      ]
     },
     "metadata": {
      "image/png": {
       "height": 32,
       "width": 32
      }
     },
     "output_type": "display_data"
    },
    {
     "data": {
      "text/plain": [
       "horse\t\n",
       "8\t\n"
      ]
     },
     "execution_count": 6,
     "metadata": {},
     "output_type": "execute_result"
    }
   ],
   "source": [
    "itorch.image(trainset.data[100]) -- display the 100-th image in dataset\n",
    "print(classes[trainset.label[100]])\n",
    "print(trainset.label[100])\n",
    "itorch.image(testset.data[100]) -- display the 100-th image in dataset\n",
    "print(classes[testset.label[100]])\n",
    "print(testset.label[100])"
   ]
  },
  {
   "cell_type": "code",
   "execution_count": 7,
   "metadata": {},
   "outputs": [
    {
     "data": {
      "text/plain": [
       "Channel 1, Mean: 122.80931339391\t\n"
      ]
     },
     "execution_count": 7,
     "metadata": {},
     "output_type": "execute_result"
    },
    {
     "data": {
      "text/plain": [
       "Channel 1, Standard Deviation: 61.229392750446\t\n"
      ]
     },
     "execution_count": 7,
     "metadata": {},
     "output_type": "execute_result"
    }
   ],
   "source": [
    "mean = {} -- store the mean, to normalize the test set in the future\n",
    "stdv  = {} -- store the standard-deviation for the future\n",
    "for i=1,1 do -- over each image channel\n",
    "    mean[i] = trainset.data[{ {}, {i}, {}, {}  }]:mean() -- mean estimation\n",
    "    print('Channel ' .. i .. ', Mean: ' .. mean[i])\n",
    "    trainset.data[{ {}, {i}, {}, {}  }]:add(-mean[i]) -- mean subtraction\n",
    "    \n",
    "    stdv[i] = trainset.data[{ {}, {i}, {}, {}  }]:std() -- std estimation\n",
    "    print('Channel ' .. i .. ', Standard Deviation: ' .. stdv[i])\n",
    "    trainset.data[{ {}, {i}, {}, {}  }]:div(stdv[i]) -- std scaling\n",
    "end\n",
    "mean = {} -- store the mean, to normalize the test set in the future\n",
    "stdv  = {} -- store the standard-deviation for the future"
   ]
  },
  {
   "cell_type": "code",
   "execution_count": 8,
   "metadata": {},
   "outputs": [],
   "source": [
    "net = nn.Sequential()\n",
    "net:add(nn.SpatialConvolution(1, 6, 5, 5)) -- 3 input image channels, 6 output channels, 5x5 convolution kernel\n",
    "net:add(nn.ReLU())                       -- non-linearity \n",
    "net:add(nn.SpatialMaxPooling(2,2,2,2))     -- A max-pooling operation that looks at 2x2 windows and finds the max.\n",
    "net:add(nn.SpatialConvolution(6, 16, 5, 5))\n",
    "net:add(nn.ReLU())                       -- non-linearity \n",
    "net:add(nn.SpatialMaxPooling(2,2,2,2))\n",
    "net:add(nn.View(16*5*5))                    -- reshapes from a 3D tensor of 16x5x5 into 1D tensor of 16*5*5\n",
    "net:add(nn.Linear(16*5*5, 120))             -- fully connected layer (matrix multiplication between input and weights)\n",
    "net:add(nn.ReLU())                       -- non-linearity \n",
    "net:add(nn.Linear(120, 84))\n",
    "net:add(nn.ReLU())                       -- non-linearity \n",
    "net:add(nn.Linear(84, 10))                   -- 10 is the number of outputs of the network (in this case, 10 digits)\n",
    "net:add(nn.LogSoftMax(1)) "
   ]
  },
  {
   "cell_type": "code",
   "execution_count": 9,
   "metadata": {},
   "outputs": [],
   "source": [
    "criterion = nn.ClassNLLCriterion()"
   ]
  },
  {
   "cell_type": "code",
   "execution_count": 10,
   "metadata": {},
   "outputs": [
    {
     "data": {
      "text/plain": [
       "2\t\n"
      ]
     },
     "execution_count": 10,
     "metadata": {},
     "output_type": "execute_result"
    }
   ],
   "source": [
    "require 'cunn';\n",
    "require 'cutorch';\n",
    "cutorch.setDevice(2)\n",
    "print(cutorch.getDevice())"
   ]
  },
  {
   "cell_type": "code",
   "execution_count": 11,
   "metadata": {},
   "outputs": [],
   "source": [
    "net = net:cuda()"
   ]
  },
  {
   "cell_type": "code",
   "execution_count": 12,
   "metadata": {},
   "outputs": [],
   "source": [
    "criterion = criterion:cuda()"
   ]
  },
  {
   "cell_type": "code",
   "execution_count": 13,
   "metadata": {},
   "outputs": [],
   "source": [
    "targets=trainset.label:long()\n",
    "one_hot_train = torch.eye(10):index(1, targets)\n",
    "--targets=testset.label:long()\n",
    "--one_hot_test = torch.eye(10):index(1, targets)"
   ]
  },
  {
   "cell_type": "code",
   "execution_count": 14,
   "metadata": {},
   "outputs": [],
   "source": [
    "trainset.data = trainset.data:cuda()\n",
    "--trainset.label = one_hot_train:cuda()\n",
    "trainset.label = trainset.label:cuda()\n",
    "testset.data = testset.data:cuda()\n",
    "testset.label = testset.label:cuda()"
   ]
  },
  {
   "cell_type": "code",
   "execution_count": 15,
   "metadata": {},
   "outputs": [],
   "source": [
    "trainer = nn.StochasticGradient(net, criterion)\n",
    "trainer.learningRate = 0.01\n",
    "trainer.maxIteration = 1 -- just do 5 epochs of training."
   ]
  },
  {
   "cell_type": "code",
   "execution_count": null,
   "metadata": {},
   "outputs": [
    {
     "data": {
      "text/plain": [
       "# StochasticGradient: training\t\n"
      ]
     },
     "execution_count": 36,
     "metadata": {},
     "output_type": "execute_result"
    }
   ],
   "source": [
    "tstart=os.time()\n",
    "trainer:train(trainset)\n",
    "tend=os.time()\n",
    "print(os.difftime (tend , tstart))"
   ]
  },
  {
   "cell_type": "code",
   "execution_count": 20,
   "metadata": {},
   "outputs": [
    {
     "data": {
      "text/plain": [
       "3447\t34.47 % \t\n"
      ]
     },
     "execution_count": 20,
     "metadata": {},
     "output_type": "execute_result"
    }
   ],
   "source": [
    "correct = 0\n",
    "for i=1,10000 do\n",
    "    local groundtruth = testset.label[i]\n",
    "    local prediction = net:forward(testset.data[i])\n",
    "    local confidences, indices = torch.sort(prediction, true)  -- true means sort in descending order\n",
    "    if groundtruth == indices[1] then\n",
    "        correct = correct + 1\n",
    "    end\n",
    "end\n",
    "print(correct, 100*correct/10000 .. ' % ')"
   ]
  },
  {
   "cell_type": "code",
   "execution_count": 26,
   "metadata": {},
   "outputs": [
    {
     "data": {
      "text/plain": [
       "airplane\t53.4 %\t\n",
       "automobile\t40.9 %\t\n",
       "bird\t7 %\t\n",
       "cat\t63.9 %\t\n",
       "deer\t1.1 %\t\n",
       "dog\t32.6 %\t\n",
       "frog\t13 %\t\n",
       "horse\t35.6 %\t\n",
       "ship\t58 %\t\n",
       "truck\t39.3 %\t\n"
      ]
     },
     "execution_count": 26,
     "metadata": {},
     "output_type": "execute_result"
    }
   ],
   "source": [
    "class_performance = {0, 0, 0, 0, 0, 0, 0, 0, 0, 0}\n",
    "for i=1,10000 do\n",
    "    local groundtruth = testset.label[i]\n",
    "    local prediction = net:forward(testset.data[i])\n",
    "    local confidences, indices = torch.sort(prediction, true)  -- true means sort in descending order\n",
    "    if groundtruth == indices[1] then\n",
    "        class_performance[groundtruth] = class_performance[groundtruth] + 1\n",
    "    end\n",
    "end\n",
    "for i=1,#classes do\n",
    "    print(classes[i], 100*class_performance[i]/1000 .. ' %')\n",
    "end"
   ]
  },
  {
   "cell_type": "code",
   "execution_count": 16,
   "metadata": {},
   "outputs": [],
   "source": [
    "parameters, gradParameters = net:getParameters()"
   ]
  },
  {
   "cell_type": "code",
   "execution_count": 21,
   "metadata": {},
   "outputs": [
    {
     "data": {
      "text/plain": [
       "------ epoch - 1 ----- \t\n"
      ]
     },
     "execution_count": 21,
     "metadata": {},
     "output_type": "execute_result"
    },
    {
     "data": {
      "text/plain": [
       "------- loss - 10.605719903708 ------ \t\n",
       "------ epoch - 2 ----- \t\n"
      ]
     },
     "execution_count": 21,
     "metadata": {},
     "output_type": "execute_result"
    },
    {
     "data": {
      "text/plain": [
       "------- loss - 9.0273423564434 ------ \t\n",
       "------ epoch - 3 ----- \t\n"
      ]
     },
     "execution_count": 21,
     "metadata": {},
     "output_type": "execute_result"
    },
    {
     "data": {
      "text/plain": [
       "------- loss - 8.4805366933346 ------ \t\n",
       "------ epoch - 4 ----- \t\n"
      ]
     },
     "execution_count": 21,
     "metadata": {},
     "output_type": "execute_result"
    },
    {
     "data": {
      "text/plain": [
       "------- loss - 8.0844659739733 ------ \t\n",
       "------ epoch - 5 ----- \t\n"
      ]
     },
     "execution_count": 21,
     "metadata": {},
     "output_type": "execute_result"
    },
    {
     "data": {
      "text/plain": [
       "------- loss - 7.7680968660116 ------ \t\n",
       "------ epoch - 6 ----- \t\n"
      ]
     },
     "execution_count": 21,
     "metadata": {},
     "output_type": "execute_result"
    },
    {
     "data": {
      "text/plain": [
       "------- loss - 7.4988136720657 ------ \t\n",
       "------ epoch - 7 ----- \t\n"
      ]
     },
     "execution_count": 21,
     "metadata": {},
     "output_type": "execute_result"
    },
    {
     "data": {
      "text/plain": [
       "------- loss - 7.2781827294827 ------ \t\n",
       "------ epoch - 8 ----- \t\n"
      ]
     },
     "execution_count": 21,
     "metadata": {},
     "output_type": "execute_result"
    },
    {
     "data": {
      "text/plain": [
       "------- loss - 7.0941875141859 ------ \t\n",
       "------ epoch - 9 ----- \t\n"
      ]
     },
     "execution_count": 21,
     "metadata": {},
     "output_type": "execute_result"
    },
    {
     "data": {
      "text/plain": [
       "------- loss - 6.855348200202 ------ \t\n",
       "------ epoch - 10 ----- \t\n"
      ]
     },
     "execution_count": 21,
     "metadata": {},
     "output_type": "execute_result"
    },
    {
     "data": {
      "text/plain": [
       "------- loss - 6.7410977965593 ------ \t\n",
       "------ epoch - 11 ----- \t\n"
      ]
     },
     "execution_count": 21,
     "metadata": {},
     "output_type": "execute_result"
    },
    {
     "data": {
      "text/plain": [
       "------- loss - 6.5618409121037 ------ \t\n",
       "------ epoch - 12 ----- \t\n"
      ]
     },
     "execution_count": 21,
     "metadata": {},
     "output_type": "execute_result"
    },
    {
     "data": {
      "text/plain": [
       "------- loss - 6.4015192842484 ------ \t\n",
       "------ epoch - 13 ----- \t\n"
      ]
     },
     "execution_count": 21,
     "metadata": {},
     "output_type": "execute_result"
    },
    {
     "data": {
      "text/plain": [
       "------- loss - 6.2881452041864 ------ \t\n",
       "------ epoch - 14 ----- \t\n"
      ]
     },
     "execution_count": 21,
     "metadata": {},
     "output_type": "execute_result"
    },
    {
     "data": {
      "text/plain": [
       "------- loss - 6.1762988770008 ------ \t\n",
       "------ epoch - 15 ----- \t\n"
      ]
     },
     "execution_count": 21,
     "metadata": {},
     "output_type": "execute_result"
    },
    {
     "data": {
      "text/plain": [
       "------- loss - 5.993175149858 ------ \t\n",
       "------ epoch - 16 ----- \t\n"
      ]
     },
     "execution_count": 21,
     "metadata": {},
     "output_type": "execute_result"
    },
    {
     "data": {
      "text/plain": [
       "------- loss - 5.9487379294634 ------ \t\n",
       "------ epoch - 17 ----- \t"
      ]
     },
     "execution_count": 21,
     "metadata": {},
     "output_type": "execute_result"
    },
    {
     "data": {
      "text/plain": [
       "\n"
      ]
     },
     "execution_count": 21,
     "metadata": {},
     "output_type": "execute_result"
    },
    {
     "data": {
      "text/plain": [
       "------- loss - 5.8985304111242 ------ \t\n",
       "------ epoch - 18 ----- \t\n"
      ]
     },
     "execution_count": 21,
     "metadata": {},
     "output_type": "execute_result"
    },
    {
     "data": {
      "text/plain": [
       "------- loss - 5.7990435349941 ------ \t\n",
       "------ epoch - 19 ----- \t\n"
      ]
     },
     "execution_count": 21,
     "metadata": {},
     "output_type": "execute_result"
    },
    {
     "data": {
      "text/plain": [
       "------- loss - 5.6787304770946 ------ \t\n",
       "------ epoch - 20 ----- \t\n"
      ]
     },
     "execution_count": 21,
     "metadata": {},
     "output_type": "execute_result"
    },
    {
     "data": {
      "text/plain": [
       "------- loss - 5.6575275021791 ------ \t\n",
       "------ epoch - 21 ----- \t\n"
      ]
     },
     "execution_count": 21,
     "metadata": {},
     "output_type": "execute_result"
    },
    {
     "data": {
      "text/plain": [
       "------- loss - 5.561338468194 ------ \t\n",
       "------ epoch - 22 ----- \t\n"
      ]
     },
     "execution_count": 21,
     "metadata": {},
     "output_type": "execute_result"
    },
    {
     "data": {
      "text/plain": [
       "------- loss - 5.5435123962164 ------ \t\n",
       "------ epoch - 23 ----- \t\n"
      ]
     },
     "execution_count": 21,
     "metadata": {},
     "output_type": "execute_result"
    },
    {
     "data": {
      "text/plain": [
       "------- loss - 5.3836343294382 ------ \t\n",
       "------ epoch - 24 ----- \t\n"
      ]
     },
     "execution_count": 21,
     "metadata": {},
     "output_type": "execute_result"
    },
    {
     "data": {
      "text/plain": [
       "------- loss - 5.321825517416 ------ \t\n",
       "------ epoch - 25 ----- \t\n"
      ]
     },
     "execution_count": 21,
     "metadata": {},
     "output_type": "execute_result"
    },
    {
     "data": {
      "text/plain": [
       "------- loss - 5.2977972626686 ------ \t\n",
       "------ epoch - 26 ----- \t\n"
      ]
     },
     "execution_count": 21,
     "metadata": {},
     "output_type": "execute_result"
    },
    {
     "data": {
      "text/plain": [
       "------- loss - 5.2327437478304 ------ \t\n",
       "------ epoch - 27 ----- \t\n"
      ]
     },
     "execution_count": 21,
     "metadata": {},
     "output_type": "execute_result"
    },
    {
     "data": {
      "text/plain": [
       "------- loss - 5.1259099209309 ------ \t\n",
       "------ epoch - 28 ----- \t\n"
      ]
     },
     "execution_count": 21,
     "metadata": {},
     "output_type": "execute_result"
    },
    {
     "data": {
      "text/plain": [
       "------- loss - 5.1925744065642 ------ \t\n",
       "------ epoch - 29 ----- \t\n"
      ]
     },
     "execution_count": 21,
     "metadata": {},
     "output_type": "execute_result"
    },
    {
     "data": {
      "text/plain": [
       "------- loss - 5.1854295367002 ------ \t\n",
       "------ epoch - 30 ----- \t\n"
      ]
     },
     "execution_count": 21,
     "metadata": {},
     "output_type": "execute_result"
    },
    {
     "data": {
      "text/plain": [
       "------- loss - 5.1079594430327 ------ \t\n",
       "------ epoch - 31 ----- \t\n"
      ]
     },
     "execution_count": 21,
     "metadata": {},
     "output_type": "execute_result"
    },
    {
     "data": {
      "text/plain": [
       "------- loss - 5.0502288267016 ------ \t\n",
       "------ epoch - 32 ----- \t\n"
      ]
     },
     "execution_count": 21,
     "metadata": {},
     "output_type": "execute_result"
    },
    {
     "data": {
      "text/plain": [
       "------- loss - 4.9577088588476 ------ \t\n",
       "------ epoch - 33 ----- \t\n"
      ]
     },
     "execution_count": 21,
     "metadata": {},
     "output_type": "execute_result"
    },
    {
     "data": {
      "text/plain": [
       "------- loss - 4.9618208163977 ------ \t\n",
       "------ epoch - 34 ----- \t\n"
      ]
     },
     "execution_count": 21,
     "metadata": {},
     "output_type": "execute_result"
    },
    {
     "data": {
      "text/plain": [
       "------- loss - 4.7953096219897 ------ \t\n",
       "------ epoch - 35 ----- \t\n"
      ]
     },
     "execution_count": 21,
     "metadata": {},
     "output_type": "execute_result"
    },
    {
     "data": {
      "text/plain": [
       "------- loss - 4.9097877234221 ------ \t\n",
       "------ epoch - 36 ----- \t\n"
      ]
     },
     "execution_count": 21,
     "metadata": {},
     "output_type": "execute_result"
    },
    {
     "data": {
      "text/plain": [
       "------- loss - 4.8981939151883 ------ \t\n",
       "------ epoch - 37 ----- \t\n"
      ]
     },
     "execution_count": 21,
     "metadata": {},
     "output_type": "execute_result"
    },
    {
     "data": {
      "text/plain": [
       "------- loss - 4.7280921727419 ------ \t\n",
       "------ epoch - 38 ----- \t\n"
      ]
     },
     "execution_count": 21,
     "metadata": {},
     "output_type": "execute_result"
    },
    {
     "data": {
      "text/plain": [
       "------- loss - 4.8118181303144 ------ \t\n",
       "------ epoch - 39 ----- \t\n"
      ]
     },
     "execution_count": 21,
     "metadata": {},
     "output_type": "execute_result"
    },
    {
     "data": {
      "text/plain": [
       "------- loss - 4.8557353666425 ------ \t\n",
       "------ epoch - 40 ----- \t\n"
      ]
     },
     "execution_count": 21,
     "metadata": {},
     "output_type": "execute_result"
    },
    {
     "data": {
      "text/plain": [
       "------- loss - 4.7680844002962 ------ \t\n",
       "------ epoch - 41 ----- \t\n"
      ]
     },
     "execution_count": 21,
     "metadata": {},
     "output_type": "execute_result"
    },
    {
     "data": {
      "text/plain": [
       "------- loss - 4.7423217996955 ------ \t"
      ]
     },
     "execution_count": 21,
     "metadata": {},
     "output_type": "execute_result"
    },
    {
     "data": {
      "text/plain": [
       "\n",
       "------ epoch - 42 ----- \t\n"
      ]
     },
     "execution_count": 21,
     "metadata": {},
     "output_type": "execute_result"
    },
    {
     "data": {
      "text/plain": [
       "------- loss - 4.6050477612019 ------ \t\n",
       "------ epoch - 43 ----- \t\n"
      ]
     },
     "execution_count": 21,
     "metadata": {},
     "output_type": "execute_result"
    },
    {
     "data": {
      "text/plain": [
       "------- loss - 4.6603565868735 ------ \t\n",
       "------ epoch - 44 ----- \t\n"
      ]
     },
     "execution_count": 21,
     "metadata": {},
     "output_type": "execute_result"
    },
    {
     "data": {
      "text/plain": [
       "------- loss - 4.6196740084887 ------ \t\n",
       "------ epoch - 45 ----- \t\n"
      ]
     },
     "execution_count": 21,
     "metadata": {},
     "output_type": "execute_result"
    },
    {
     "data": {
      "text/plain": [
       "------- loss - 4.6604900637269 ------ \t\n",
       "------ epoch - 46 ----- \t\n"
      ]
     },
     "execution_count": 21,
     "metadata": {},
     "output_type": "execute_result"
    },
    {
     "data": {
      "text/plain": [
       "------- loss - 4.614581822753 ------ \t\n",
       "------ epoch - 47 ----- \t\n"
      ]
     },
     "execution_count": 21,
     "metadata": {},
     "output_type": "execute_result"
    },
    {
     "data": {
      "text/plain": [
       "------- loss - 4.6739003697038 ------ \t\n",
       "------ epoch - 48 ----- \t\n"
      ]
     },
     "execution_count": 21,
     "metadata": {},
     "output_type": "execute_result"
    },
    {
     "data": {
      "text/plain": [
       "------- loss - 4.6465876182914 ------ \t\n",
       "------ epoch - 49 ----- \t\n"
      ]
     },
     "execution_count": 21,
     "metadata": {},
     "output_type": "execute_result"
    },
    {
     "data": {
      "text/plain": [
       "------- loss - 4.6285672479868 ------ \t\n",
       "------ epoch - 50 ----- \t\n"
      ]
     },
     "execution_count": 21,
     "metadata": {},
     "output_type": "execute_result"
    },
    {
     "data": {
      "text/plain": [
       "------- loss - 4.4077235487103 ------ \t\n",
       "------ epoch - 51 ----- \t\n"
      ]
     },
     "execution_count": 21,
     "metadata": {},
     "output_type": "execute_result"
    },
    {
     "data": {
      "text/plain": [
       "------- loss - 4.7060255670547 ------ \t\n",
       "------ epoch - 52 ----- \t\n"
      ]
     },
     "execution_count": 21,
     "metadata": {},
     "output_type": "execute_result"
    },
    {
     "data": {
      "text/plain": [
       "------- loss - 4.5893839976192 ------ \t\n",
       "------ epoch - 53 ----- \t\n"
      ]
     },
     "execution_count": 21,
     "metadata": {},
     "output_type": "execute_result"
    },
    {
     "data": {
      "text/plain": [
       "------- loss - 4.4304247525334 ------ \t\n",
       "------ epoch - 54 ----- \t\n"
      ]
     },
     "execution_count": 21,
     "metadata": {},
     "output_type": "execute_result"
    },
    {
     "data": {
      "text/plain": [
       "------- loss - 4.4517907300591 ------ \t\n",
       "------ epoch - 55 ----- \t\n"
      ]
     },
     "execution_count": 21,
     "metadata": {},
     "output_type": "execute_result"
    },
    {
     "data": {
      "text/plain": [
       "------- loss - 4.7052310699224 ------ \t\n",
       "------ epoch - 56 ----- \t\n"
      ]
     },
     "execution_count": 21,
     "metadata": {},
     "output_type": "execute_result"
    },
    {
     "data": {
      "text/plain": [
       "------- loss - 4.5425941681862 ------ \t\n",
       "------ epoch - 57 ----- \t\n"
      ]
     },
     "execution_count": 21,
     "metadata": {},
     "output_type": "execute_result"
    },
    {
     "data": {
      "text/plain": [
       "------- loss - 4.6390249881148 ------ \t\n",
       "------ epoch - 58 ----- \t\n"
      ]
     },
     "execution_count": 21,
     "metadata": {},
     "output_type": "execute_result"
    },
    {
     "data": {
      "text/plain": [
       "------- loss - 4.3117685520649 ------ \t\n",
       "------ epoch - 59 ----- \t\n"
      ]
     },
     "execution_count": 21,
     "metadata": {},
     "output_type": "execute_result"
    },
    {
     "data": {
      "text/plain": [
       "------- loss - 4.4613403820992 ------ \t\n",
       "------ epoch - 60 ----- \t\n"
      ]
     },
     "execution_count": 21,
     "metadata": {},
     "output_type": "execute_result"
    },
    {
     "data": {
      "text/plain": [
       "------- loss - 4.5459276896715 ------ \t\n",
       "------ epoch - 61 ----- \t\n"
      ]
     },
     "execution_count": 21,
     "metadata": {},
     "output_type": "execute_result"
    },
    {
     "data": {
      "text/plain": [
       "------- loss - 4.4318095254898 ------ \t\n",
       "------ epoch - 62 ----- \t\n"
      ]
     },
     "execution_count": 21,
     "metadata": {},
     "output_type": "execute_result"
    },
    {
     "data": {
      "text/plain": [
       "------- loss - 4.445640642643 ------ \t\n",
       "------ epoch - 63 ----- \t\n"
      ]
     },
     "execution_count": 21,
     "metadata": {},
     "output_type": "execute_result"
    },
    {
     "data": {
      "text/plain": [
       "------- loss - 4.5044390639663 ------ \t\n",
       "------ epoch - 64 ----- \t\n"
      ]
     },
     "execution_count": 21,
     "metadata": {},
     "output_type": "execute_result"
    },
    {
     "data": {
      "text/plain": [
       "------- loss - 4.4582143294811 ------ \t\n",
       "------ epoch - 65 ----- \t\n"
      ]
     },
     "execution_count": 21,
     "metadata": {},
     "output_type": "execute_result"
    },
    {
     "data": {
      "text/plain": [
       "------- loss - 4.3956278991699 ------ \t\n",
       "------ epoch - 66 ----- \t\n"
      ]
     },
     "execution_count": 21,
     "metadata": {},
     "output_type": "execute_result"
    },
    {
     "data": {
      "text/plain": [
       "------- loss - 4.490467441678 ------ \t\n",
       "------ epoch - 67 ----- \t\n"
      ]
     },
     "execution_count": 21,
     "metadata": {},
     "output_type": "execute_result"
    },
    {
     "data": {
      "text/plain": [
       "------- loss - 4.3992339676619 ------ \t\n",
       "------ epoch - 68 ----- \t\n"
      ]
     },
     "execution_count": 21,
     "metadata": {},
     "output_type": "execute_result"
    },
    {
     "data": {
      "text/plain": [
       "------- loss - 4.4968259510398 ------ \t\n",
       "------ epoch - 69 ----- \t\n"
      ]
     },
     "execution_count": 21,
     "metadata": {},
     "output_type": "execute_result"
    },
    {
     "data": {
      "text/plain": [
       "------- loss - 4.4151119720936 ------ \t\n",
       "------ epoch - 70 ----- \t\n"
      ]
     },
     "execution_count": 21,
     "metadata": {},
     "output_type": "execute_result"
    },
    {
     "data": {
      "text/plain": [
       "------- loss - 4.3507314693928 ------ \t\n",
       "------ epoch - 71 ----- \t\n"
      ]
     },
     "execution_count": 21,
     "metadata": {},
     "output_type": "execute_result"
    },
    {
     "data": {
      "text/plain": [
       "------- loss - 4.4257406324148 ------ \t\n",
       "------ epoch - 72 ----- \t\n"
      ]
     },
     "execution_count": 21,
     "metadata": {},
     "output_type": "execute_result"
    },
    {
     "data": {
      "text/plain": [
       "------- loss - 4.6602768865228 ------ \t\n",
       "------ epoch - 73 ----- \t\n"
      ]
     },
     "execution_count": 21,
     "metadata": {},
     "output_type": "execute_result"
    },
    {
     "data": {
      "text/plain": [
       "------- loss - 4.5829111325741 ------ \t\n",
       "------ epoch - 74 ----- \t\n"
      ]
     },
     "execution_count": 21,
     "metadata": {},
     "output_type": "execute_result"
    },
    {
     "data": {
      "text/plain": [
       "------- loss - 4.4224324592948 ------ \t\n",
       "------ epoch - 75 ----- \t\n"
      ]
     },
     "execution_count": 21,
     "metadata": {},
     "output_type": "execute_result"
    },
    {
     "data": {
      "text/plain": [
       "------- loss - 4.4279375219345 ------ \t\n",
       "------ epoch - 76 ----- \t\n"
      ]
     },
     "execution_count": 21,
     "metadata": {},
     "output_type": "execute_result"
    },
    {
     "data": {
      "text/plain": [
       "------- loss - 4.48933550179 ------ \t\n",
       "------ epoch - 77 ----- \t\n"
      ]
     },
     "execution_count": 21,
     "metadata": {},
     "output_type": "execute_result"
    },
    {
     "data": {
      "text/plain": [
       "------- loss - 4.3408428269625 ------ \t\n",
       "------ epoch - 78 ----- \t\n"
      ]
     },
     "execution_count": 21,
     "metadata": {},
     "output_type": "execute_result"
    },
    {
     "data": {
      "text/plain": [
       "------- loss - 4.4578201276064 ------ \t\n",
       "------ epoch - 79 ----- \t\n"
      ]
     },
     "execution_count": 21,
     "metadata": {},
     "output_type": "execute_result"
    },
    {
     "data": {
      "text/plain": [
       "------- loss - 4.462415830493 ------ \t\n",
       "------ epoch - 80 ----- \t\n"
      ]
     },
     "execution_count": 21,
     "metadata": {},
     "output_type": "execute_result"
    },
    {
     "data": {
      "text/plain": [
       "------- loss - 4.4053453421593 ------ \t\n",
       "------ epoch - 81 ----- \t\n"
      ]
     },
     "execution_count": 21,
     "metadata": {},
     "output_type": "execute_result"
    },
    {
     "data": {
      "text/plain": [
       "------- loss - 4.3502171871066 ------ \t\n",
       "------ epoch - 82 ----- \t\n"
      ]
     },
     "execution_count": 21,
     "metadata": {},
     "output_type": "execute_result"
    },
    {
     "data": {
      "text/plain": [
       "------- loss - 4.5524319210649 ------ \t\n",
       "------ epoch - 83 ----- \t\n"
      ]
     },
     "execution_count": 21,
     "metadata": {},
     "output_type": "execute_result"
    },
    {
     "data": {
      "text/plain": [
       "------- loss - 4.3418977165222 ------ \t\n",
       "------ epoch - 84 ----- \t\n"
      ]
     },
     "execution_count": 21,
     "metadata": {},
     "output_type": "execute_result"
    },
    {
     "data": {
      "text/plain": [
       "------- loss - 4.35017457515 ------ \t\n",
       "------ epoch - 85 ----- \t\n"
      ]
     },
     "execution_count": 21,
     "metadata": {},
     "output_type": "execute_result"
    },
    {
     "data": {
      "text/plain": [
       "------- loss - 4.5276246997714 ------ \t\n",
       "------ epoch - 86 ----- \t\n"
      ]
     },
     "execution_count": 21,
     "metadata": {},
     "output_type": "execute_result"
    },
    {
     "data": {
      "text/plain": [
       "------- loss - 4.3446378460526 ------ \t\n",
       "------ epoch - 87 ----- \t\n"
      ]
     },
     "execution_count": 21,
     "metadata": {},
     "output_type": "execute_result"
    },
    {
     "data": {
      "text/plain": [
       "------- loss - 4.4028799986839 ------ \t\n",
       "------ epoch - 88 ----- \t\n"
      ]
     },
     "execution_count": 21,
     "metadata": {},
     "output_type": "execute_result"
    },
    {
     "data": {
      "text/plain": [
       "------- loss - 4.2460634124279 ------ \t\n",
       "------ epoch - 89 ----- \t\n"
      ]
     },
     "execution_count": 21,
     "metadata": {},
     "output_type": "execute_result"
    },
    {
     "data": {
      "text/plain": [
       "------- loss - 4.5670421999693 ------ \t\n",
       "------ epoch - 90 ----- \t\n"
      ]
     },
     "execution_count": 21,
     "metadata": {},
     "output_type": "execute_result"
    },
    {
     "data": {
      "text/plain": [
       "------- loss - 4.4435975623131 ------ \t\n",
       "------ epoch - 91 ----- \t\n"
      ]
     },
     "execution_count": 21,
     "metadata": {},
     "output_type": "execute_result"
    },
    {
     "data": {
      "text/plain": [
       "------- loss - 4.3106656122208 ------ \t\n",
       "------ epoch - 92 ----- \t\n"
      ]
     },
     "execution_count": 21,
     "metadata": {},
     "output_type": "execute_result"
    },
    {
     "data": {
      "text/plain": [
       "------- loss - 4.475711774826 ------ \t\n",
       "------ epoch - 93 ----- \t\n"
      ]
     },
     "execution_count": 21,
     "metadata": {},
     "output_type": "execute_result"
    },
    {
     "data": {
      "text/plain": [
       "------- loss - 4.3720166903734 ------ \t\n",
       "------ epoch - 94 ----- \t\n"
      ]
     },
     "execution_count": 21,
     "metadata": {},
     "output_type": "execute_result"
    },
    {
     "data": {
      "text/plain": [
       "------- loss - 4.4333079299331 ------ \t\n",
       "------ epoch - 95 ----- \t\n"
      ]
     },
     "execution_count": 21,
     "metadata": {},
     "output_type": "execute_result"
    },
    {
     "data": {
      "text/plain": [
       "------- loss - 4.4053180789948 ------ \t\n",
       "------ epoch - 96 ----- \t\n"
      ]
     },
     "execution_count": 21,
     "metadata": {},
     "output_type": "execute_result"
    },
    {
     "data": {
      "text/plain": [
       "------- loss - 4.4118469312787 ------ \t\n",
       "------ epoch - 97 ----- \t\n"
      ]
     },
     "execution_count": 21,
     "metadata": {},
     "output_type": "execute_result"
    },
    {
     "data": {
      "text/plain": [
       "------- loss - 4.4034542778134 ------ \t\n",
       "------ epoch - 98 ----- \t\n"
      ]
     },
     "execution_count": 21,
     "metadata": {},
     "output_type": "execute_result"
    },
    {
     "data": {
      "text/plain": [
       "------- loss - 4.3028210070729 ------ \t\n",
       "------ epoch - 99 ----- \t\n"
      ]
     },
     "execution_count": 21,
     "metadata": {},
     "output_type": "execute_result"
    },
    {
     "data": {
      "text/plain": [
       "------- loss - 4.486180332005 ------ \t\n",
       "------ epoch - 100 ----- \t\n"
      ]
     },
     "execution_count": 21,
     "metadata": {},
     "output_type": "execute_result"
    },
    {
     "data": {
      "text/plain": [
       "------- loss - 4.3771967348456 ------ \t\n",
       "------ Time taken :\t531\t\n"
      ]
     },
     "execution_count": 21,
     "metadata": {},
     "output_type": "execute_result"
    }
   ],
   "source": [
    "dl = require 'dataload'\n",
    "optim = require 'optim';\n",
    "one_hot = torch.eye(10):index(1, targets)\n",
    "dataloader = dl.TensorLoader(trainset.data, trainset.label)\n",
    "i=0\n",
    "batch_size=1000\n",
    "epochs=100\n",
    "\n",
    "-- Define SGD parameters.\n",
    "sgd_params = {\n",
    "    learningRate = 0.1,\n",
    "    weightDecay = 0,\n",
    "    momentum = 0.5\n",
    "}\n",
    "tstart=os.time()\n",
    "for j=1,epochs do\n",
    "    print(\"------ epoch - \" ..j.. \" ----- \")\n",
    "    tot_loss=0\n",
    "    for k, inputs, targets in dataloader:subiter(batch_size,50000) do\n",
    "        -- Define a closure that computes the loss and dloss/dx.\n",
    "        feval = function()\n",
    "            -- reset gradients\n",
    "            gradParameters:zero()\n",
    "            output=net:forward(inputs)\n",
    "            loss=criterion:forward(output, targets)\n",
    "            gradients = criterion:backward(output, targets)\n",
    "            net:backward(inputs, gradients)\n",
    "            return loss, gradParameters\n",
    "        end\n",
    "        _,local_loss = optim.sgd(feval, parameters, sgd_params)\n",
    "        tot_loss = tot_loss + local_loss[1]\n",
    "    end\n",
    "    print(\"------- loss - \" ..(tot_loss/50).. \" ------ \")\n",
    "end\n",
    "\n",
    "tend=os.time()\n",
    "print(\"------ Time taken :\",os.difftime (tend , tstart))"
   ]
  },
  {
   "cell_type": "code",
   "execution_count": 22,
   "metadata": {},
   "outputs": [
    {
     "data": {
      "text/plain": [
       "loss :0\t\n",
       "3146\t31.46 % \t\n"
      ]
     },
     "execution_count": 22,
     "metadata": {},
     "output_type": "execute_result"
    }
   ],
   "source": [
    "correct = 0\n",
    "loss = 0\n",
    "for i=1,10000 do\n",
    "    local groundtruth = testset.label[i]\n",
    "    local prediction = net:forward(testset.data[i])\n",
    "    local confidences, indices = torch.sort(prediction, true)  -- true means sort in descending order\n",
    "    if groundtruth == indices[1] then\n",
    "        correct = correct + 1\n",
    "    end\n",
    "end\n",
    "print('loss :' ..loss/10000)\n",
    "print(correct, 100*correct/10000 .. ' % ')"
   ]
  },
  {
   "cell_type": "code",
   "execution_count": 19,
   "metadata": {},
   "outputs": [
    {
     "data": {
      "text/plain": [
       "loss :0.54417613754272\t\n",
       "8052\t80.52 % \t\n"
      ]
     },
     "execution_count": 19,
     "metadata": {},
     "output_type": "execute_result"
    }
   ],
   "source": [
    "correct = 0\n",
    "loss = 0\n",
    "for i=1,10000 do\n",
    "    local groundtruth = trainset.label[i]\n",
    "    local prediction = net:forward(trainset.data[i])\n",
    "    local ll=criterion:forward(prediction, groundtruth)\n",
    "    loss = loss + ll\n",
    "    local confidences, indices = torch.sort(prediction, true)  -- true means sort in descending order\n",
    "    if groundtruth == indices[1] then\n",
    "        correct = correct + 1\n",
    "    end\n",
    "end\n",
    "print('loss :' ..loss/10000)\n",
    "print(correct, 100*correct/10000 .. ' % ')"
   ]
  },
  {
   "cell_type": "code",
   "execution_count": 20,
   "metadata": {},
   "outputs": [
    {
     "data": {
      "text/plain": [
       "loss :181.17823791504\t\n"
      ]
     },
     "execution_count": 20,
     "metadata": {},
     "output_type": "execute_result"
    }
   ],
   "source": [
    "local predictions = net:forward(testset.data)\n",
    "local loss=criterion:forward(predictions, testset.label)\n",
    "print('loss :' ..loss)"
   ]
  },
  {
   "cell_type": "code",
   "execution_count": 28,
   "metadata": {},
   "outputs": [
    {
     "data": {
      "text/plain": [
       "airplane\t54.6 %\t\n",
       "automobile\t85.8 %\t\n",
       "bird\t0 %\t\n",
       "cat\t8.9 %\t\n",
       "deer\t0 %\t\n",
       "dog\t50.7 %\t\n",
       "frog\t0 %\t\n",
       "horse\t32.7 %\t\n",
       "ship\t27.3 %\t\n",
       "truck\t34.1 %\t\n"
      ]
     },
     "execution_count": 28,
     "metadata": {},
     "output_type": "execute_result"
    }
   ],
   "source": [
    "class_performance = {0, 0, 0, 0, 0, 0, 0, 0, 0, 0}\n",
    "for i=1,10000 do\n",
    "    local groundtruth = testset.label[i]\n",
    "    local prediction = net:forward(testset.data[i])\n",
    "    local confidences, indices = torch.sort(prediction, true)  -- true means sort in descending order\n",
    "    if groundtruth == indices[1] then\n",
    "        class_performance[groundtruth] = class_performance[groundtruth] + 1\n",
    "    end\n",
    "end\n",
    "for i=1,#classes do\n",
    "    print(classes[i], 100*class_performance[i]/1000 .. ' %')\n",
    "end"
   ]
  },
  {
   "cell_type": "code",
   "execution_count": null,
   "metadata": {
    "collapsed": true
   },
   "outputs": [],
   "source": []
  }
 ],
 "metadata": {
  "kernelspec": {
   "display_name": "iTorch",
   "language": "lua",
   "name": "itorch"
  },
  "language_info": {
   "name": "lua",
   "version": "5.1"
  }
 },
 "nbformat": 4,
 "nbformat_minor": 2
}
