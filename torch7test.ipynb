{
 "cells": [
  {
   "cell_type": "code",
   "execution_count": 3,
   "metadata": {},
   "outputs": [
    {
     "data": {
      "text/plain": [
       "cifar-10-batches-bin/\n",
       "cifar-10-batches-bin/data_batch_1.bin\n"
      ]
     },
     "execution_count": 3,
     "metadata": {},
     "output_type": "execute_result"
    },
    {
     "data": {
      "text/plain": [
       "cifar-10-batches-bin/batches.meta.txt\n",
       "cifar-10-batches-bin/data_batch_3.bin\n"
      ]
     },
     "execution_count": 3,
     "metadata": {},
     "output_type": "execute_result"
    },
    {
     "data": {
      "text/plain": [
       "cifar-10-batches-bin/data_batch_4.bin\n"
      ]
     },
     "execution_count": 3,
     "metadata": {},
     "output_type": "execute_result"
    },
    {
     "data": {
      "text/plain": [
       "cifar-10-batches-bin/test_batch.bin\n"
      ]
     },
     "execution_count": 3,
     "metadata": {},
     "output_type": "execute_result"
    },
    {
     "data": {
      "text/plain": [
       "cifar-10-batches-bin/readme.html\n"
      ]
     },
     "execution_count": 3,
     "metadata": {},
     "output_type": "execute_result"
    },
    {
     "data": {
      "text/plain": [
       "cifar-10-batches-bin/data_batch_5.bin\n"
      ]
     },
     "execution_count": 3,
     "metadata": {},
     "output_type": "execute_result"
    },
    {
     "data": {
      "text/plain": [
       "cifar-10-batches-bin/data_batch_2.bin\n"
      ]
     },
     "execution_count": 3,
     "metadata": {},
     "output_type": "execute_result"
    },
    {
     "data": {
      "text/plain": [
       "{\n",
       "  data : ByteTensor - size: 50000x3x32x32\n",
       "  label : ByteTensor - size: 50000\n",
       "}\n"
      ]
     },
     "execution_count": 3,
     "metadata": {},
     "output_type": "execute_result"
    },
    {
     "data": {
      "text/plain": [
       "{\n",
       "  data : ByteTensor - size: 10000x3x32x32\n",
       "  label : ByteTensor - size: 10000\n",
       "}\n"
      ]
     },
     "execution_count": 3,
     "metadata": {},
     "output_type": "execute_result"
    }
   ],
   "source": [
    "require 'torch'\n",
    "\n",
    "os.execute('wget -c http://www.cs.toronto.edu/~kriz/cifar-10-binary.tar.gz')\n",
    "os.execute('tar -xvf cifar-10-binary.tar.gz')\n",
    "local function convertCifar10BinToTorchTensor(inputFnames, outputFname)\n",
    "   local nSamples = 0\n",
    "   for i=1,#inputFnames do\n",
    "      local inputFname = inputFnames[i]\n",
    "      local m=torch.DiskFile(inputFname, 'r'):binary()\n",
    "      m:seekEnd()\n",
    "      local length = m:position() - 1\n",
    "      local nSamplesF = length / 3073 -- 1 label byte, 3072 pixel bytes\n",
    "      assert(nSamplesF == math.floor(nSamplesF), 'expecting numSamples to be an exact integer')\n",
    "      nSamples = nSamples + nSamplesF\n",
    "      m:close()\n",
    "   end\n",
    "\n",
    "   local label = torch.ByteTensor(nSamples)\n",
    "   local data = torch.ByteTensor(nSamples, 3, 32, 32)\n",
    "\n",
    "   local index = 1\n",
    "   for i=1,#inputFnames do\n",
    "      local inputFname = inputFnames[i]\n",
    "      local m=torch.DiskFile(inputFname, 'r'):binary()\n",
    "      m:seekEnd()\n",
    "      local length = m:position() - 1\n",
    "      local nSamplesF = length / 3073 -- 1 label byte, 3072 pixel bytes\n",
    "      m:seek(1)\n",
    "      for j=1,nSamplesF do\n",
    "         label[index] = m:readByte()\n",
    "         local store = m:readByte(3072)\n",
    "         data[index]:copy(torch.ByteTensor(store))\n",
    "         index = index + 1\n",
    "      end\n",
    "      m:close()\n",
    "   end\n",
    "\n",
    "   local out = {}\n",
    "   out.data = data\n",
    "   out.label = label\n",
    "   print(out)\n",
    "   torch.save(outputFname, out)\n",
    "end\n",
    "\n",
    "convertCifar10BinToTorchTensor({'cifar-10-batches-bin/data_batch_1.bin',\n",
    "                                'cifar-10-batches-bin/data_batch_2.bin',\n",
    "                                'cifar-10-batches-bin/data_batch_3.bin',\n",
    "                                'cifar-10-batches-bin/data_batch_4.bin',\n",
    "                                'cifar-10-batches-bin/data_batch_5.bin'},\n",
    "   'cifar10-train.t7')\n",
    "\n",
    "convertCifar10BinToTorchTensor({'cifar-10-batches-bin/test_batch.bin'},\n",
    "   'cifar10-test.t7')"
   ]
  },
  {
   "cell_type": "code",
   "execution_count": 4,
   "metadata": {},
   "outputs": [],
   "source": [
    "require 'nn';\n",
    "require 'paths'\n",
    "trainset = torch.load('cifar10-train.t7')\n",
    "testset = torch.load('cifar10-test.t7')\n",
    "classes = {'airplane', 'automobile', 'bird', 'cat',\n",
    "           'deer', 'dog', 'frog', 'horse', 'ship', 'truck'}"
   ]
  },
  {
   "cell_type": "code",
   "execution_count": 5,
   "metadata": {},
   "outputs": [],
   "source": [
    "trainset.label = trainset.label+1\n",
    "testset.label = testset.label+1"
   ]
  },
  {
   "cell_type": "code",
   "execution_count": 6,
   "metadata": {},
   "outputs": [],
   "source": [
    "-- ignore setmetatable for now, it is a feature beyond the scope of this tutorial. It sets the index operator.\n",
    "setmetatable(trainset, \n",
    "    {__index = function(t, i) \n",
    "                    return {t.data[i], t.label[i]} \n",
    "                end}\n",
    ");\n",
    "trainset.data = trainset.data:double() -- convert the data from a ByteTensor to a DoubleTensor.\n",
    "\n",
    "function trainset:size() \n",
    "    return self.data:size(1) \n",
    "end\n",
    "\n",
    "-- ignore setmetatable for now, it is a feature beyond the scope of this tutorial. It sets the index operator.\n",
    "setmetatable(testset, \n",
    "    {__index = function(t, i) \n",
    "                    return {t.data[i], t.label[i]} \n",
    "                end}\n",
    ");\n",
    "testset.data = testset.data:double() -- convert the data from a ByteTensor to a DoubleTensor.\n",
    "\n",
    "function testset:size() \n",
    "    return self.data:size(1) \n",
    "end"
   ]
  },
  {
   "cell_type": "code",
   "execution_count": 7,
   "metadata": {},
   "outputs": [],
   "source": [
    "r = trainset.data[{ {}, {1}, {}, {}  }]*0.2989\n",
    "g = trainset.data[{ {}, {2}, {}, {}  }]*0.5870\n",
    "b = trainset.data[{ {}, {3}, {}, {}  }]*0.1140\n",
    "trainset.data = r+g+b\n",
    "r = testset.data[{ {}, {1}, {}, {}  }]*0.2989\n",
    "g = testset.data[{ {}, {2}, {}, {}  }]*0.5870\n",
    "b = testset.data[{ {}, {3}, {}, {}  }]*0.1140\n",
    "testset.data = r+g+b"
   ]
  },
  {
   "cell_type": "code",
   "execution_count": 8,
   "metadata": {},
   "outputs": [],
   "source": [
    "trainset.data = trainset.data/255\n",
    "testset.data = testset.data/255"
   ]
  },
  {
   "cell_type": "code",
   "execution_count": 9,
   "metadata": {},
   "outputs": [
    {
     "data": {
      "image/png": "[encoded data removed]",
      "text/plain": [
       "Console does not support images"
      ]
     },
     "metadata": {
      "image/png": {
       "height": 32,
       "width": 32
      }
     },
     "output_type": "display_data"
    },
    {
     "data": {
      "text/plain": [
       "automobile\t\n",
       "2\t\n"
      ]
     },
     "execution_count": 9,
     "metadata": {},
     "output_type": "execute_result"
    },
    {
     "data": {
      "text/plain": [
       "horse\t\n",
       "8\t\n"
      ]
     },
     "execution_count": 9,
     "metadata": {},
     "output_type": "execute_result"
    },
    {
     "data": {
      "image/png": "[encoded data removed]",
      "text/plain": [
       "Console does not support images"
      ]
     },
     "metadata": {
      "image/png": {
       "height": 32,
       "width": 32
      }
     },
     "output_type": "display_data"
    }
   ],
   "source": [
    "itorch.image(trainset.data[100]) -- display the 100-th image in dataset\n",
    "print(classes[trainset.label[100]])\n",
    "print(trainset.label[100])\n",
    "itorch.image(testset.data[100]) -- display the 100-th image in dataset\n",
    "print(classes[testset.label[100]])\n",
    "print(testset.label[100])"
   ]
  },
  {
   "cell_type": "code",
   "execution_count": 10,
   "metadata": {},
   "outputs": [],
   "source": [
    "net = nn.Sequential()\n",
    "net:add(nn.SpatialConvolution(1, 6, 5, 5)) -- 3 input image channels, 6 output channels, 5x5 convolution kernel\n",
    "net:add(nn.ReLU())                       -- non-linearity \n",
    "net:add(nn.SpatialMaxPooling(2,2,2,2))     -- A max-pooling operation that looks at 2x2 windows and finds the max.\n",
    "net:add(nn.SpatialConvolution(6, 16, 5, 5))\n",
    "net:add(nn.ReLU())                       -- non-linearity \n",
    "net:add(nn.SpatialMaxPooling(2,2,2,2))\n",
    "net:add(nn.View(16*5*5))                    -- reshapes from a 3D tensor of 16x5x5 into 1D tensor of 16*5*5\n",
    "net:add(nn.Linear(16*5*5, 120))             -- fully connected layer (matrix multiplication between input and weights)\n",
    "net:add(nn.ReLU())                       -- non-linearity \n",
    "net:add(nn.Linear(120, 84))\n",
    "net:add(nn.ReLU())                       -- non-linearity \n",
    "net:add(nn.Linear(84, 10))                   -- 10 is the number of outputs of the network (in this case, 10 digits)\n",
    "net:add(nn.LogSoftMax(1)) "
   ]
  },
  {
   "cell_type": "code",
   "execution_count": 11,
   "metadata": {},
   "outputs": [],
   "source": [
    "criterion = nn.ClassNLLCriterion()"
   ]
  },
  {
   "cell_type": "code",
   "execution_count": 12,
   "metadata": {},
   "outputs": [
    {
     "data": {
      "text/plain": [
       "2\t\n"
      ]
     },
     "execution_count": 12,
     "metadata": {},
     "output_type": "execute_result"
    }
   ],
   "source": [
    "require 'cunn';\n",
    "require 'cutorch';\n",
    "cutorch.setDevice(2)\n",
    "print(cutorch.getDevice())"
   ]
  },
  {
   "cell_type": "code",
   "execution_count": 13,
   "metadata": {},
   "outputs": [],
   "source": [
    "net = net:cuda()"
   ]
  },
  {
   "cell_type": "code",
   "execution_count": 14,
   "metadata": {},
   "outputs": [],
   "source": [
    "criterion = criterion:cuda()"
   ]
  },
  {
   "cell_type": "code",
   "execution_count": 15,
   "metadata": {},
   "outputs": [],
   "source": [
    "targets=trainset.label:long()\n",
    "one_hot_train = torch.eye(10):index(1, targets)\n",
    "--targets=testset.label:long()\n",
    "--one_hot_test = torch.eye(10):index(1, targets)"
   ]
  },
  {
   "cell_type": "code",
   "execution_count": 16,
   "metadata": {},
   "outputs": [],
   "source": [
    "trainset.data = trainset.data:cuda()\n",
    "--trainset.label = one_hot_train:cuda()\n",
    "trainset.label = trainset.label:cuda()\n",
    "testset.data = testset.data:cuda()\n",
    "testset.label = testset.label:cuda()"
   ]
  },
  {
   "cell_type": "code",
   "execution_count": 17,
   "metadata": {},
   "outputs": [],
   "source": [
    "parameters, gradParameters = net:getParameters()"
   ]
  },
  {
   "cell_type": "code",
   "execution_count": 18,
   "metadata": {},
   "outputs": [],
   "source": [
    "dl = require 'dataload'\n",
    "optim = require 'optim';\n",
    "\n",
    "train_loss={}\n",
    "train_acc={}\n",
    "test_loss={}\n",
    "test_acc={}\n",
    "function eval_train(epoch)\n",
    "    local correct = 0\n",
    "    local loss = 0\n",
    "    local predictions = net:forward(trainset.data)\n",
    "    local ll=criterion:forward(predictions, trainset.label)\n",
    "    \n",
    "    for i=1,10000 do\n",
    "        local groundtruth = trainset.label[i]\n",
    "        local prediction = predictions[i]\n",
    "        -- loss = loss + ll[i]\n",
    "        local confidences, indices = torch.sort(prediction, true)  -- true means sort in descending order\n",
    "        if groundtruth == indices[1] then\n",
    "            correct = correct + 1\n",
    "        end\n",
    "    end\n",
    "    --train_loss[epoch]=loss/10000\n",
    "    train_loss[epoch]=ll\n",
    "    train_acc[epoch]=correct/10000\n",
    "    print('Train loss :' .. train_loss[epoch])\n",
    "    print('Train Accuracy :' ,correct, 100*train_acc[epoch] .. ' % ')\n",
    "end\n",
    "function eval_test(epoch)\n",
    "    local correct = 0\n",
    "    local loss = 0\n",
    "    local predictions = net:forward(testset.data)\n",
    "    local ll=criterion:forward(predictions, testset.label)\n",
    "\n",
    "    for i=1,10000 do\n",
    "        local prediction = predictions[i]\n",
    "        local groundtruth = testset.label[i]\n",
    "        --loss = loss + ll[i]\n",
    "        local confidences, indices = torch.sort(prediction, true)  -- true means sort in descending order\n",
    "        if groundtruth == indices[1] then\n",
    "            correct = correct + 1\n",
    "        end\n",
    "    end\n",
    "    --test_loss[epoch]=loss/10000\n",
    "    test_loss[epoch]=ll\n",
    "    test_acc[epoch]=correct/10000\n",
    "    print('Test loss :' ..test_loss[epoch])\n",
    "    print('Test Accuracy', correct, 100*test_acc[epoch] .. ' % ')\n",
    "end"
   ]
  },
  {
   "cell_type": "code",
   "execution_count": 19,
   "metadata": {},
   "outputs": [
    {
     "data": {
      "text/plain": [
       "------ epoch - 1 ----- \t\n"
      ]
     },
     "execution_count": 19,
     "metadata": {},
     "output_type": "execute_result"
    },
    {
     "data": {
      "text/plain": [
       "Train loss :2.3027191162109\t\n",
       "Train Accuracy :\t974\t9.74 % \t\n"
      ]
     },
     "execution_count": 19,
     "metadata": {},
     "output_type": "execute_result"
    },
    {
     "data": {
      "text/plain": [
       "Test loss :2.3027155399323\t\n",
       "Test Accuracy\t1000\t10 % \t\n",
       "------ epoch - 2 ----- \t\n"
      ]
     },
     "execution_count": 19,
     "metadata": {},
     "output_type": "execute_result"
    },
    {
     "data": {
      "text/plain": [
       "Train loss :2.3018841743469\t\n",
       "Train Accuracy :\t974\t9.74 % \t\n"
      ]
     },
     "execution_count": 19,
     "metadata": {},
     "output_type": "execute_result"
    },
    {
     "data": {
      "text/plain": [
       "Test loss :2.3018856048584\t\n",
       "Test Accuracy\t1000\t10 % \t\n",
       "------ epoch - 3 ----- \t\n"
      ]
     },
     "execution_count": 19,
     "metadata": {},
     "output_type": "execute_result"
    },
    {
     "data": {
      "text/plain": [
       "Train loss :2.3012630939484\t\n",
       "Train Accuracy :\t975\t9.75 % \t\n"
      ]
     },
     "execution_count": 19,
     "metadata": {},
     "output_type": "execute_result"
    },
    {
     "data": {
      "text/plain": [
       "Test loss :2.3012685775757\t\n",
       "Test Accuracy\t1000\t10 % \t\n",
       "------ epoch - 4 ----- \t\n"
      ]
     },
     "execution_count": 19,
     "metadata": {},
     "output_type": "execute_result"
    },
    {
     "data": {
      "text/plain": [
       "Train loss :2.3004014492035\t\n",
       "Train Accuracy :\t1063\t10.63 % \t\n"
      ]
     },
     "execution_count": 19,
     "metadata": {},
     "output_type": "execute_result"
    },
    {
     "data": {
      "text/plain": [
       "Test loss :2.3004190921783\t\n",
       "Test Accuracy\t1081\t10.81 % \t\n",
       "------ epoch - 5 ----- \t\n"
      ]
     },
     "execution_count": 19,
     "metadata": {},
     "output_type": "execute_result"
    },
    {
     "data": {
      "text/plain": [
       "Train loss :2.299008846283\t\n",
       "Train Accuracy :\t1414\t14.14 % \t\n"
      ]
     },
     "execution_count": 19,
     "metadata": {},
     "output_type": "execute_result"
    },
    {
     "data": {
      "text/plain": [
       "Test loss :2.2990400791168\t\n",
       "Test Accuracy\t1455\t14.55 % \t\n",
       "------ epoch - 6 ----- \t\n"
      ]
     },
     "execution_count": 19,
     "metadata": {},
     "output_type": "execute_result"
    },
    {
     "data": {
      "text/plain": [
       "Train loss :2.2961065769196\t\n",
       "Train Accuracy :\t1538\t15.38 % \t\n"
      ]
     },
     "execution_count": 19,
     "metadata": {},
     "output_type": "execute_result"
    },
    {
     "data": {
      "text/plain": [
       "Test loss :2.2961595058441\t\n",
       "Test Accuracy\t1534\t15.34 % \t\n",
       "------ epoch - 7 ----- \t\n"
      ]
     },
     "execution_count": 19,
     "metadata": {},
     "output_type": "execute_result"
    },
    {
     "data": {
      "text/plain": [
       "Train loss :2.2894208431244\t\n",
       "Train Accuracy :\t1698\t16.98 % \t\n"
      ]
     },
     "execution_count": 19,
     "metadata": {},
     "output_type": "execute_result"
    },
    {
     "data": {
      "text/plain": [
       "Test loss :2.2895109653473\t\n",
       "Test Accuracy\t1714\t17.14 % \t\n",
       "------ epoch - 8 ----- \t\n"
      ]
     },
     "execution_count": 19,
     "metadata": {},
     "output_type": "execute_result"
    },
    {
     "data": {
      "text/plain": [
       "Train loss :2.2671687602997\t\n",
       "Train Accuracy :\t1747\t17.47 % \t\n"
      ]
     },
     "execution_count": 19,
     "metadata": {},
     "output_type": "execute_result"
    },
    {
     "data": {
      "text/plain": [
       "Test loss :2.2673389911652\t\n",
       "Test Accuracy\t1746\t17.46 % \t\n",
       "------ epoch - 9 ----- \t\n"
      ]
     },
     "execution_count": 19,
     "metadata": {},
     "output_type": "execute_result"
    },
    {
     "data": {
      "text/plain": [
       "Train loss :2.1914064884186\t\n",
       "Train Accuracy :\t1910\t19.1 % \t\n"
      ]
     },
     "execution_count": 19,
     "metadata": {},
     "output_type": "execute_result"
    },
    {
     "data": {
      "text/plain": [
       "Test loss :2.1910812854767\t\n",
       "Test Accuracy\t1941\t19.41 % \t\n",
       "------ epoch - 10 ----- \t\n"
      ]
     },
     "execution_count": 19,
     "metadata": {},
     "output_type": "execute_result"
    },
    {
     "data": {
      "text/plain": [
       "Train loss :2.1252851486206\t\n",
       "Train Accuracy :\t2249\t22.49 % \t\n"
      ]
     },
     "execution_count": 19,
     "metadata": {},
     "output_type": "execute_result"
    },
    {
     "data": {
      "text/plain": [
       "Test loss :2.1246776580811\t\n",
       "Test Accuracy\t2210\t22.1 % \t\n",
       "------ epoch - 11 ----- \t\n"
      ]
     },
     "execution_count": 19,
     "metadata": {},
     "output_type": "execute_result"
    },
    {
     "data": {
      "text/plain": [
       "Train loss :2.0788753032684\t\n",
       "Train Accuracy :\t2471\t24.71 % \t\n"
      ]
     },
     "execution_count": 19,
     "metadata": {},
     "output_type": "execute_result"
    },
    {
     "data": {
      "text/plain": [
       "Test loss :2.0785295963287\t\n",
       "Test Accuracy\t2460\t24.6 % \t\n",
       "------ epoch - 12 ----- \t\n"
      ]
     },
     "execution_count": 19,
     "metadata": {},
     "output_type": "execute_result"
    },
    {
     "data": {
      "text/plain": [
       "Train loss :2.268833398819\t\n",
       "Train Accuracy :\t1481\t14.81 % \t\n"
      ]
     },
     "execution_count": 19,
     "metadata": {},
     "output_type": "execute_result"
    },
    {
     "data": {
      "text/plain": [
       "Test loss :2.2676870822906\t\n",
       "Test Accuracy\t1476\t14.76 % \t\n",
       "------ epoch - 13 ----- \t\n"
      ]
     },
     "execution_count": 19,
     "metadata": {},
     "output_type": "execute_result"
    },
    {
     "data": {
      "text/plain": [
       "Train loss :2.0446004867554\t\n",
       "Train Accuracy :\t2531\t25.31 % \t\n"
      ]
     },
     "execution_count": 19,
     "metadata": {},
     "output_type": "execute_result"
    },
    {
     "data": {
      "text/plain": [
       "Test loss :2.0460481643677\t\n",
       "Test Accuracy\t2545\t25.45 % \t\n",
       "------ epoch - 14 ----- \t\n"
      ]
     },
     "execution_count": 19,
     "metadata": {},
     "output_type": "execute_result"
    },
    {
     "data": {
      "text/plain": [
       "Train loss :2.0507884025574\t\n",
       "Train Accuracy :\t2548\t25.48 % \t\n"
      ]
     },
     "execution_count": 19,
     "metadata": {},
     "output_type": "execute_result"
    },
    {
     "data": {
      "text/plain": [
       "Test loss :2.0541441440582\t\n",
       "Test Accuracy\t2543\t25.43 % \t\n",
       "------ epoch - 15 ----- \t\n"
      ]
     },
     "execution_count": 19,
     "metadata": {},
     "output_type": "execute_result"
    },
    {
     "data": {
      "text/plain": [
       "Train loss :1.9773544073105\t\n",
       "Train Accuracy :\t2760\t27.6 % \t\n"
      ]
     },
     "execution_count": 19,
     "metadata": {},
     "output_type": "execute_result"
    },
    {
     "data": {
      "text/plain": [
       "Test loss :1.982360959053\t\n",
       "Test Accuracy\t2741\t27.41 % \t\n",
       "------ epoch - 16 ----- \t\n"
      ]
     },
     "execution_count": 19,
     "metadata": {},
     "output_type": "execute_result"
    },
    {
     "data": {
      "text/plain": [
       "Train loss :1.9340188503265\t\n",
       "Train Accuracy :\t2956\t29.56 % \t\n"
      ]
     },
     "execution_count": 19,
     "metadata": {},
     "output_type": "execute_result"
    },
    {
     "data": {
      "text/plain": [
       "Test loss :1.9404596090317\t\n",
       "Test Accuracy\t2917\t29.17 % \t\n",
       "------ epoch - 17 ----- \t\n"
      ]
     },
     "execution_count": 19,
     "metadata": {},
     "output_type": "execute_result"
    },
    {
     "data": {
      "text/plain": [
       "Train loss :1.9151613712311\t\n",
       "Train Accuracy :\t3083\t30.83 % \t\n"
      ]
     },
     "execution_count": 19,
     "metadata": {},
     "output_type": "execute_result"
    },
    {
     "data": {
      "text/plain": [
       "Test loss :1.922572016716\t\n",
       "Test Accuracy\t3027\t30.27 % \t\n",
       "------ epoch - 18 ----- \t\n"
      ]
     },
     "execution_count": 19,
     "metadata": {},
     "output_type": "execute_result"
    },
    {
     "data": {
      "text/plain": [
       "Train loss :1.8255916833878\t\n",
       "Train Accuracy :\t3406\t34.06 % \t\n"
      ]
     },
     "execution_count": 19,
     "metadata": {},
     "output_type": "execute_result"
    },
    {
     "data": {
      "text/plain": [
       "Test loss :1.8325556516647\t\n",
       "Test Accuracy\t3347\t33.47 % \t\n",
       "------ epoch - 19 ----- \t\n"
      ]
     },
     "execution_count": 19,
     "metadata": {},
     "output_type": "execute_result"
    },
    {
     "data": {
      "text/plain": [
       "Train loss :1.8320891857147\t\n",
       "Train Accuracy :\t3464\t34.64 % \t\n"
      ]
     },
     "execution_count": 19,
     "metadata": {},
     "output_type": "execute_result"
    },
    {
     "data": {
      "text/plain": [
       "Test loss :1.8405640125275\t\n",
       "Test Accuracy\t3336\t33.36 % \t\n",
       "------ epoch - 20 ----- \t\n"
      ]
     },
     "execution_count": 19,
     "metadata": {},
     "output_type": "execute_result"
    },
    {
     "data": {
      "text/plain": [
       "Train loss :1.7706813812256\t\n",
       "Train Accuracy :\t3646\t36.46 % \t\n"
      ]
     },
     "execution_count": 19,
     "metadata": {},
     "output_type": "execute_result"
    },
    {
     "data": {
      "text/plain": [
       "Test loss :1.7790677547455\t\n",
       "Test Accuracy\t3525\t35.25 % \t\n",
       "------ epoch - 21 ----- \t\n"
      ]
     },
     "execution_count": 19,
     "metadata": {},
     "output_type": "execute_result"
    },
    {
     "data": {
      "text/plain": [
       "Train loss :1.8357092142105\t\n",
       "Train Accuracy :\t3476\t34.76 % \t\n"
      ]
     },
     "execution_count": 19,
     "metadata": {},
     "output_type": "execute_result"
    },
    {
     "data": {
      "text/plain": [
       "Test loss :1.8466771841049\t\n",
       "Test Accuracy\t3395\t33.95 % \t\n"
      ]
     },
     "execution_count": 19,
     "metadata": {},
     "output_type": "execute_result"
    },
    {
     "data": {
      "text/plain": [
       "------ epoch - 22 ----- \t\n"
      ]
     },
     "execution_count": 19,
     "metadata": {},
     "output_type": "execute_result"
    },
    {
     "data": {
      "text/plain": [
       "Train loss :1.7375901937485\t\n",
       "Train Accuracy :\t3786\t37.86 % \t\n"
      ]
     },
     "execution_count": 19,
     "metadata": {},
     "output_type": "execute_result"
    },
    {
     "data": {
      "text/plain": [
       "Test loss :1.7489671707153\t\n",
       "Test Accuracy\t3691\t36.91 % \t\n",
       "------ epoch - 23 ----- \t\n"
      ]
     },
     "execution_count": 19,
     "metadata": {},
     "output_type": "execute_result"
    },
    {
     "data": {
      "text/plain": [
       "Train loss :1.7068822383881\t\n",
       "Train Accuracy :\t3867\t38.67 % \t\n"
      ]
     },
     "execution_count": 19,
     "metadata": {},
     "output_type": "execute_result"
    },
    {
     "data": {
      "text/plain": [
       "Test loss :1.7186037302017\t\n",
       "Test Accuracy\t3762\t37.62 % \t\n",
       "------ epoch - 24 ----- \t\n"
      ]
     },
     "execution_count": 19,
     "metadata": {},
     "output_type": "execute_result"
    },
    {
     "data": {
      "text/plain": [
       "Train loss :1.8433481454849\t\n",
       "Train Accuracy :\t3504\t35.04 % \t\n"
      ]
     },
     "execution_count": 19,
     "metadata": {},
     "output_type": "execute_result"
    },
    {
     "data": {
      "text/plain": [
       "Test loss :1.8583668470383\t\n",
       "Test Accuracy\t3469\t34.69 % \t\n",
       "------ epoch - 25 ----- \t\n"
      ]
     },
     "execution_count": 19,
     "metadata": {},
     "output_type": "execute_result"
    },
    {
     "data": {
      "text/plain": [
       "Train loss :1.6794853210449\t\n",
       "Train Accuracy :\t3972\t39.72 % \t\n"
      ]
     },
     "execution_count": 19,
     "metadata": {},
     "output_type": "execute_result"
    },
    {
     "data": {
      "text/plain": [
       "Test loss :1.6940740346909\t\n",
       "Test Accuracy\t3849\t38.49 % \t\n",
       "------ epoch - 26 ----- \t\n"
      ]
     },
     "execution_count": 19,
     "metadata": {},
     "output_type": "execute_result"
    },
    {
     "data": {
      "text/plain": [
       "Train loss :1.7958999872208\t\n",
       "Train Accuracy :\t3671\t36.71 % \t\n"
      ]
     },
     "execution_count": 19,
     "metadata": {},
     "output_type": "execute_result"
    },
    {
     "data": {
      "text/plain": [
       "Test loss :1.813645362854\t\n",
       "Test Accuracy\t3608\t36.08 % \t\n",
       "------ epoch - 27 ----- \t\n"
      ]
     },
     "execution_count": 19,
     "metadata": {},
     "output_type": "execute_result"
    },
    {
     "data": {
      "text/plain": [
       "Train loss :1.6248395442963\t\n",
       "Train Accuracy :\t4213\t42.13 % \t\n"
      ]
     },
     "execution_count": 19,
     "metadata": {},
     "output_type": "execute_result"
    },
    {
     "data": {
      "text/plain": [
       "Test loss :1.6443115472794\t\n",
       "Test Accuracy\t4078\t40.78 % \t\n",
       "------ epoch - 28 ----- \t\n"
      ]
     },
     "execution_count": 19,
     "metadata": {},
     "output_type": "execute_result"
    },
    {
     "data": {
      "text/plain": [
       "Train loss :1.6769418716431\t\n",
       "Train Accuracy :\t4015\t40.15 % \t\n"
      ]
     },
     "execution_count": 19,
     "metadata": {},
     "output_type": "execute_result"
    },
    {
     "data": {
      "text/plain": [
       "Test loss :1.6938273906708\t\n",
       "Test Accuracy\t3886\t38.86 % \t\n",
       "------ epoch - 29 ----- \t\n"
      ]
     },
     "execution_count": 19,
     "metadata": {},
     "output_type": "execute_result"
    },
    {
     "data": {
      "text/plain": [
       "Train loss :1.6213546991348\t\n",
       "Train Accuracy :\t4238\t42.38 % \t\n"
      ]
     },
     "execution_count": 19,
     "metadata": {},
     "output_type": "execute_result"
    },
    {
     "data": {
      "text/plain": [
       "Test loss :1.6425607204437\t\n",
       "Test Accuracy\t4114\t41.14 % \t\n",
       "------ epoch - 30 ----- \t\n"
      ]
     },
     "execution_count": 19,
     "metadata": {},
     "output_type": "execute_result"
    },
    {
     "data": {
      "text/plain": [
       "Train loss :1.5632338523865\t\n",
       "Train Accuracy :\t4413\t44.13 % \t\n"
      ]
     },
     "execution_count": 19,
     "metadata": {},
     "output_type": "execute_result"
    },
    {
     "data": {
      "text/plain": [
       "Test loss :1.5925838947296\t\n",
       "Test Accuracy\t4221\t42.21 % \t\n",
       "------ epoch - 31 ----- \t\n"
      ]
     },
     "execution_count": 19,
     "metadata": {},
     "output_type": "execute_result"
    },
    {
     "data": {
      "text/plain": [
       "Train loss :1.5685560703278\t\n",
       "Train Accuracy :\t4422\t44.22 % \t\n"
      ]
     },
     "execution_count": 19,
     "metadata": {},
     "output_type": "execute_result"
    },
    {
     "data": {
      "text/plain": [
       "Test loss :1.5986832380295\t\n",
       "Test Accuracy\t4251\t42.51 % \t\n",
       "------ epoch - 32 ----- \t\n"
      ]
     },
     "execution_count": 19,
     "metadata": {},
     "output_type": "execute_result"
    },
    {
     "data": {
      "text/plain": [
       "Train loss :1.5237175226212\t\n",
       "Train Accuracy :\t4600\t46 % \t\n"
      ]
     },
     "execution_count": 19,
     "metadata": {},
     "output_type": "execute_result"
    },
    {
     "data": {
      "text/plain": [
       "Test loss :1.5602514743805\t\n",
       "Test Accuracy\t4385\t43.85 % \t\n",
       "------ epoch - 33 ----- \t\n"
      ]
     },
     "execution_count": 19,
     "metadata": {},
     "output_type": "execute_result"
    },
    {
     "data": {
      "text/plain": [
       "Train loss :1.4995419979095\t\n",
       "Train Accuracy :\t4685\t46.85 % \t\n"
      ]
     },
     "execution_count": 19,
     "metadata": {},
     "output_type": "execute_result"
    },
    {
     "data": {
      "text/plain": [
       "Test loss :1.5406984090805\t\n",
       "Test Accuracy\t4467\t44.67 % \t\n",
       "------ epoch - 34 ----- \t\n"
      ]
     },
     "execution_count": 19,
     "metadata": {},
     "output_type": "execute_result"
    },
    {
     "data": {
      "text/plain": [
       "Train loss :1.4722526073456\t\n",
       "Train Accuracy :\t4796\t47.96 % \t\n"
      ]
     },
     "execution_count": 19,
     "metadata": {},
     "output_type": "execute_result"
    },
    {
     "data": {
      "text/plain": [
       "Test loss :1.5177887678146\t\n",
       "Test Accuracy\t4594\t45.94 % \t\n",
       "------ epoch - 35 ----- \t\n"
      ]
     },
     "execution_count": 19,
     "metadata": {},
     "output_type": "execute_result"
    },
    {
     "data": {
      "text/plain": [
       "Train loss :1.4679315090179\t\n",
       "Train Accuracy :\t4792\t47.92 % \t\n"
      ]
     },
     "execution_count": 19,
     "metadata": {},
     "output_type": "execute_result"
    },
    {
     "data": {
      "text/plain": [
       "Test loss :1.5164903402328\t\n",
       "Test Accuracy\t4574\t45.74 % \t\n",
       "------ epoch - 36 ----- \t\n"
      ]
     },
     "execution_count": 19,
     "metadata": {},
     "output_type": "execute_result"
    },
    {
     "data": {
      "text/plain": [
       "Train loss :1.4502984285355\t\n",
       "Train Accuracy :\t4882\t48.82 % \t\n"
      ]
     },
     "execution_count": 19,
     "metadata": {},
     "output_type": "execute_result"
    },
    {
     "data": {
      "text/plain": [
       "Test loss :1.5026487112045\t\n",
       "Test Accuracy\t4643\t46.43 % \t\n",
       "------ epoch - 37 ----- \t\n"
      ]
     },
     "execution_count": 19,
     "metadata": {},
     "output_type": "execute_result"
    },
    {
     "data": {
      "text/plain": [
       "Train loss :1.4292786121368\t\n",
       "Train Accuracy :\t4930\t49.3 % \t\n"
      ]
     },
     "execution_count": 19,
     "metadata": {},
     "output_type": "execute_result"
    },
    {
     "data": {
      "text/plain": [
       "Test loss :1.4860293865204\t\n",
       "Test Accuracy\t4705\t47.05 % \t\n",
       "------ epoch - 38 ----- \t\n"
      ]
     },
     "execution_count": 19,
     "metadata": {},
     "output_type": "execute_result"
    },
    {
     "data": {
      "text/plain": [
       "Train loss :1.4068131446838\t\n",
       "Train Accuracy :\t5010\t50.1 % \t\n"
      ]
     },
     "execution_count": 19,
     "metadata": {},
     "output_type": "execute_result"
    },
    {
     "data": {
      "text/plain": [
       "Test loss :1.4676203727722\t\n",
       "Test Accuracy\t4823\t48.23 % \t\n",
       "------ epoch - 39 ----- \t\n"
      ]
     },
     "execution_count": 19,
     "metadata": {},
     "output_type": "execute_result"
    },
    {
     "data": {
      "text/plain": [
       "Train loss :1.4037199020386\t\n",
       "Train Accuracy :\t5044\t50.44 % \t\n"
      ]
     },
     "execution_count": 19,
     "metadata": {},
     "output_type": "execute_result"
    },
    {
     "data": {
      "text/plain": [
       "Test loss :1.4684436321259\t\n",
       "Test Accuracy\t4788\t47.88 % \t\n",
       "------ epoch - 40 ----- \t\n"
      ]
     },
     "execution_count": 19,
     "metadata": {},
     "output_type": "execute_result"
    },
    {
     "data": {
      "text/plain": [
       "Train loss :1.3937624692917\t\n",
       "Train Accuracy :\t5094\t50.94 % \t\n"
      ]
     },
     "execution_count": 19,
     "metadata": {},
     "output_type": "execute_result"
    },
    {
     "data": {
      "text/plain": [
       "Test loss :1.4617609977722\t\n",
       "Test Accuracy\t4857\t48.57 % \t\n",
       "------ epoch - 41 ----- \t\n"
      ]
     },
     "execution_count": 19,
     "metadata": {},
     "output_type": "execute_result"
    },
    {
     "data": {
      "text/plain": [
       "Train loss :1.3827078342438\t\n",
       "Train Accuracy :\t5175\t51.75 % \t\n"
      ]
     },
     "execution_count": 19,
     "metadata": {},
     "output_type": "execute_result"
    },
    {
     "data": {
      "text/plain": [
       "Test loss :1.4540256261826\t\n",
       "Test Accuracy\t4866\t48.66 % \t\n",
       "------ epoch - 42 ----- \t\n"
      ]
     },
     "execution_count": 19,
     "metadata": {},
     "output_type": "execute_result"
    },
    {
     "data": {
      "text/plain": [
       "Train loss :1.3722027540207\t\n",
       "Train Accuracy :\t5197\t51.97 % \t\n"
      ]
     },
     "execution_count": 19,
     "metadata": {},
     "output_type": "execute_result"
    },
    {
     "data": {
      "text/plain": [
       "Test loss :1.4479478597641\t\n",
       "Test Accuracy\t4891\t48.91 % \t\n",
       "------ epoch - 43 ----- \t\n"
      ]
     },
     "execution_count": 19,
     "metadata": {},
     "output_type": "execute_result"
    },
    {
     "data": {
      "text/plain": [
       "Train loss :1.346221446991\t\n",
       "Train Accuracy :\t5337\t53.37 % \t\n"
      ]
     },
     "execution_count": 19,
     "metadata": {},
     "output_type": "execute_result"
    },
    {
     "data": {
      "text/plain": [
       "Test loss :1.4265753030777\t\n",
       "Test Accuracy\t4976\t49.76 % \t\n",
       "------ epoch - 44 ----- \t\n"
      ]
     },
     "execution_count": 19,
     "metadata": {},
     "output_type": "execute_result"
    },
    {
     "data": {
      "text/plain": [
       "Train loss :1.3091216087341\t\n",
       "Train Accuracy :\t5477\t54.77 % \t\n"
      ]
     },
     "execution_count": 19,
     "metadata": {},
     "output_type": "execute_result"
    },
    {
     "data": {
      "text/plain": [
       "Test loss :1.3957425355911\t\n",
       "Test Accuracy\t5097\t50.97 % \t\n",
       "------ epoch - 45 ----- \t\n"
      ]
     },
     "execution_count": 19,
     "metadata": {},
     "output_type": "execute_result"
    },
    {
     "data": {
      "text/plain": [
       "Train loss :1.3112326860428\t\n",
       "Train Accuracy :\t5472\t54.72 % \t\n"
      ]
     },
     "execution_count": 19,
     "metadata": {},
     "output_type": "execute_result"
    },
    {
     "data": {
      "text/plain": [
       "Test loss :1.4000104665756\t\n",
       "Test Accuracy\t5069\t50.69 % \t\n",
       "------ epoch - 46 ----- \t\n"
      ]
     },
     "execution_count": 19,
     "metadata": {},
     "output_type": "execute_result"
    },
    {
     "data": {
      "text/plain": [
       "Train loss :1.3005572557449\t\n",
       "Train Accuracy :\t5498\t54.98 % \t\n"
      ]
     },
     "execution_count": 19,
     "metadata": {},
     "output_type": "execute_result"
    },
    {
     "data": {
      "text/plain": [
       "Test loss :1.3933717012405\t\n",
       "Test Accuracy\t5127\t51.27 % \t\n",
       "------ epoch - 47 ----- \t\n"
      ]
     },
     "execution_count": 19,
     "metadata": {},
     "output_type": "execute_result"
    },
    {
     "data": {
      "text/plain": [
       "Train loss :1.2746829986572\t\n",
       "Train Accuracy :\t5630\t56.3 % \t\n"
      ]
     },
     "execution_count": 19,
     "metadata": {},
     "output_type": "execute_result"
    },
    {
     "data": {
      "text/plain": [
       "Test loss :1.373304605484\t\n",
       "Test Accuracy\t5194\t51.94 % \t\n",
       "------ epoch - 48 ----- \t\n"
      ]
     },
     "execution_count": 19,
     "metadata": {},
     "output_type": "execute_result"
    },
    {
     "data": {
      "text/plain": [
       "Train loss :1.2570682764053\t\n",
       "Train Accuracy :\t"
      ]
     },
     "execution_count": 19,
     "metadata": {},
     "output_type": "execute_result"
    },
    {
     "data": {
      "text/plain": [
       "5699\t56.99 % \t\n"
      ]
     },
     "execution_count": 19,
     "metadata": {},
     "output_type": "execute_result"
    },
    {
     "data": {
      "text/plain": [
       "Test loss :1.3614186048508\t\n",
       "Test Accuracy\t5221\t52.21 % \t\n",
       "------ epoch - 49 ----- \t\n"
      ]
     },
     "execution_count": 19,
     "metadata": {},
     "output_type": "execute_result"
    },
    {
     "data": {
      "text/plain": [
       "Train loss :1.2638515233994\t\n",
       "Train Accuracy :\t5652\t56.52 % \t\n"
      ]
     },
     "execution_count": 19,
     "metadata": {},
     "output_type": "execute_result"
    },
    {
     "data": {
      "text/plain": [
       "Test loss :1.368990778923\t\n",
       "Test Accuracy\t5178\t51.78 % \t\n",
       "------ epoch - 50 ----- \t\n"
      ]
     },
     "execution_count": 19,
     "metadata": {},
     "output_type": "execute_result"
    },
    {
     "data": {
      "text/plain": [
       "Train loss :1.2327289581299\t\n",
       "Train Accuracy :\t5781\t57.81 % \t\n"
      ]
     },
     "execution_count": 19,
     "metadata": {},
     "output_type": "execute_result"
    },
    {
     "data": {
      "text/plain": [
       "Test loss :1.3466057777405\t\n",
       "Test Accuracy\t5275\t52.75 % \t\n",
       "------ epoch - 51 ----- \t\n"
      ]
     },
     "execution_count": 19,
     "metadata": {},
     "output_type": "execute_result"
    },
    {
     "data": {
      "text/plain": [
       "Train loss :1.2396075725555\t\n",
       "Train Accuracy :\t5720\t57.2 % \t\n"
      ]
     },
     "execution_count": 19,
     "metadata": {},
     "output_type": "execute_result"
    },
    {
     "data": {
      "text/plain": [
       "Test loss :1.355477809906\t\n",
       "Test Accuracy\t5240\t52.4 % \t\n",
       "------ epoch - 52 ----- \t\n"
      ]
     },
     "execution_count": 19,
     "metadata": {},
     "output_type": "execute_result"
    },
    {
     "data": {
      "text/plain": [
       "Train loss :1.2173401117325\t\n",
       "Train Accuracy :\t5797\t57.97 % \t\n"
      ]
     },
     "execution_count": 19,
     "metadata": {},
     "output_type": "execute_result"
    },
    {
     "data": {
      "text/plain": [
       "Test loss :1.3415908813477\t\n",
       "Test Accuracy\t5319\t53.19 % \t\n",
       "------ epoch - 53 ----- \t\n"
      ]
     },
     "execution_count": 19,
     "metadata": {},
     "output_type": "execute_result"
    },
    {
     "data": {
      "text/plain": [
       "Train loss :1.2020218372345\t\n",
       "Train Accuracy :\t5858\t58.58 % \t\n"
      ]
     },
     "execution_count": 19,
     "metadata": {},
     "output_type": "execute_result"
    },
    {
     "data": {
      "text/plain": [
       "Test loss :1.3300853967667\t\n",
       "Test Accuracy\t5355\t53.55 % \t\n",
       "------ epoch - 54 ----- \t\n"
      ]
     },
     "execution_count": 19,
     "metadata": {},
     "output_type": "execute_result"
    },
    {
     "data": {
      "text/plain": [
       "Train loss :1.2250835895538\t\n",
       "Train Accuracy :\t5768\t57.68 % \t\n"
      ]
     },
     "execution_count": 19,
     "metadata": {},
     "output_type": "execute_result"
    },
    {
     "data": {
      "text/plain": [
       "Test loss :1.3550684452057\t\n",
       "Test Accuracy\t5303\t53.03 % \t\n"
      ]
     },
     "execution_count": 19,
     "metadata": {},
     "output_type": "execute_result"
    },
    {
     "data": {
      "text/plain": [
       "------ epoch - 55 ----- \t\n"
      ]
     },
     "execution_count": 19,
     "metadata": {},
     "output_type": "execute_result"
    },
    {
     "data": {
      "text/plain": [
       "Train loss :1.1851263046265\t\n",
       "Train Accuracy :\t5921\t59.21 % \t\n"
      ]
     },
     "execution_count": 19,
     "metadata": {},
     "output_type": "execute_result"
    },
    {
     "data": {
      "text/plain": [
       "Test loss :1.3237665891647\t\n",
       "Test Accuracy\t5380\t53.8 % \t\n",
       "------ epoch - 56 ----- \t\n"
      ]
     },
     "execution_count": 19,
     "metadata": {},
     "output_type": "execute_result"
    },
    {
     "data": {
      "text/plain": [
       "Train loss :1.17318379879\t\n",
       "Train Accuracy :\t5950\t59.5 % \t\n"
      ]
     },
     "execution_count": 19,
     "metadata": {},
     "output_type": "execute_result"
    },
    {
     "data": {
      "text/plain": [
       "Test loss :1.3190894126892\t\n",
       "Test Accuracy\t5417\t54.17 % \t\n",
       "------ epoch - 57 ----- \t\n"
      ]
     },
     "execution_count": 19,
     "metadata": {},
     "output_type": "execute_result"
    },
    {
     "data": {
      "text/plain": [
       "Train loss :1.1599016189575\t\n",
       "Train Accuracy :\t6005\t60.05 % \t\n"
      ]
     },
     "execution_count": 19,
     "metadata": {},
     "output_type": "execute_result"
    },
    {
     "data": {
      "text/plain": [
       "Test loss :1.3093626499176\t\n",
       "Test Accuracy\t5477\t54.77 % \t\n",
       "------ epoch - 58 ----- \t\n"
      ]
     },
     "execution_count": 19,
     "metadata": {},
     "output_type": "execute_result"
    },
    {
     "data": {
      "text/plain": [
       "Train loss :1.1760448217392\t\n",
       "Train Accuracy :\t5977\t59.77 % \t\n"
      ]
     },
     "execution_count": 19,
     "metadata": {},
     "output_type": "execute_result"
    },
    {
     "data": {
      "text/plain": [
       "Test loss :1.3333072662354\t\n",
       "Test Accuracy\t5380\t53.8 % \t\n",
       "------ epoch - 59 ----- \t\n"
      ]
     },
     "execution_count": 19,
     "metadata": {},
     "output_type": "execute_result"
    },
    {
     "data": {
      "text/plain": [
       "Train loss :1.1271241903305\t\n",
       "Train Accuracy :\t6137\t61.37 % \t\n"
      ]
     },
     "execution_count": 19,
     "metadata": {},
     "output_type": "execute_result"
    },
    {
     "data": {
      "text/plain": [
       "Test loss :1.2894294261932\t\n",
       "Test Accuracy\t5518\t55.18 % \t\n",
       "------ epoch - 60 ----- \t\n"
      ]
     },
     "execution_count": 19,
     "metadata": {},
     "output_type": "execute_result"
    },
    {
     "data": {
      "text/plain": [
       "Train loss :1.1399520635605\t\n",
       "Train Accuracy :\t6097\t60.97 % \t\n"
      ]
     },
     "execution_count": 19,
     "metadata": {},
     "output_type": "execute_result"
    },
    {
     "data": {
      "text/plain": [
       "Test loss :1.3069688081741\t\n",
       "Test Accuracy\t5512\t55.12 % \t\n",
       "------ epoch - 61 ----- \t\n"
      ]
     },
     "execution_count": 19,
     "metadata": {},
     "output_type": "execute_result"
    },
    {
     "data": {
      "text/plain": [
       "Train loss :1.1224049329758\t\n",
       "Train Accuracy :\t6149\t61.49 % \t\n"
      ]
     },
     "execution_count": 19,
     "metadata": {},
     "output_type": "execute_result"
    },
    {
     "data": {
      "text/plain": [
       "Test loss :1.2964442968369\t\n",
       "Test Accuracy\t5522\t55.22 % \t\n",
       "------ epoch - 62 ----- \t\n"
      ]
     },
     "execution_count": 19,
     "metadata": {},
     "output_type": "execute_result"
    },
    {
     "data": {
      "text/plain": [
       "Train loss :1.1162377595901\t\n",
       "Train Accuracy :\t6170\t61.7 % \t\n"
      ]
     },
     "execution_count": 19,
     "metadata": {},
     "output_type": "execute_result"
    },
    {
     "data": {
      "text/plain": [
       "Test loss :1.2955317497253\t\n",
       "Test Accuracy\t5510\t55.1 % \t\n",
       "------ epoch - 63 ----- \t\n"
      ]
     },
     "execution_count": 19,
     "metadata": {},
     "output_type": "execute_result"
    },
    {
     "data": {
      "text/plain": [
       "Train loss :1.0786309242249\t\n",
       "Train Accuracy :\t6308\t63.08 % \t\n"
      ]
     },
     "execution_count": 19,
     "metadata": {},
     "output_type": "execute_result"
    },
    {
     "data": {
      "text/plain": [
       "Test loss :1.2651352882385\t\n",
       "Test Accuracy\t5641\t56.41 % \t\n",
       "------ epoch - 64 ----- \t\n"
      ]
     },
     "execution_count": 19,
     "metadata": {},
     "output_type": "execute_result"
    },
    {
     "data": {
      "text/plain": [
       "Train loss :1.077063202858\t\n",
       "Train Accuracy :\t6353\t63.53 % \t\n"
      ]
     },
     "execution_count": 19,
     "metadata": {},
     "output_type": "execute_result"
    },
    {
     "data": {
      "text/plain": [
       "Test loss :1.2701056003571\t\n",
       "Test Accuracy\t5616\t56.16 % \t\n",
       "------ epoch - 65 ----- \t\n"
      ]
     },
     "execution_count": 19,
     "metadata": {},
     "output_type": "execute_result"
    },
    {
     "data": {
      "text/plain": [
       "Train loss :1.0745723247528\t\n",
       "Train Accuracy :\t6356\t63.56 % \t\n"
      ]
     },
     "execution_count": 19,
     "metadata": {},
     "output_type": "execute_result"
    },
    {
     "data": {
      "text/plain": [
       "Test loss :1.2713793516159\t\n",
       "Test Accuracy\t5638\t56.38 % \t\n",
       "------ epoch - 66 ----- \t\n"
      ]
     },
     "execution_count": 19,
     "metadata": {},
     "output_type": "execute_result"
    },
    {
     "data": {
      "text/plain": [
       "Train loss :1.0719760656357\t\n",
       "Train Accuracy :\t6338\t63.38 % \t\n"
      ]
     },
     "execution_count": 19,
     "metadata": {},
     "output_type": "execute_result"
    },
    {
     "data": {
      "text/plain": [
       "Test loss :1.2763235569\t\n",
       "Test Accuracy\t5605\t56.05 % \t\n",
       "------ epoch - 67 ----- \t\n"
      ]
     },
     "execution_count": 19,
     "metadata": {},
     "output_type": "execute_result"
    },
    {
     "data": {
      "text/plain": [
       "Train loss :1.0495764017105\t\n",
       "Train Accuracy :\t"
      ]
     },
     "execution_count": 19,
     "metadata": {},
     "output_type": "execute_result"
    },
    {
     "data": {
      "text/plain": [
       "6431\t64.31 % \t\n"
      ]
     },
     "execution_count": 19,
     "metadata": {},
     "output_type": "execute_result"
    },
    {
     "data": {
      "text/plain": [
       "Test loss :1.2615375518799\t\n",
       "Test Accuracy\t5678\t56.78 % \t\n",
       "------ epoch - 68 ----- \t\n"
      ]
     },
     "execution_count": 19,
     "metadata": {},
     "output_type": "execute_result"
    },
    {
     "data": {
      "text/plain": [
       "Train loss :1.0426602363586\t\n",
       "Train Accuracy :\t6455\t64.55 % \t\n"
      ]
     },
     "execution_count": 19,
     "metadata": {},
     "output_type": "execute_result"
    },
    {
     "data": {
      "text/plain": [
       "Test loss :1.2612451314926\t\n",
       "Test Accuracy\t5678\t56.78 % \t\n",
       "------ epoch - 69 ----- \t\n"
      ]
     },
     "execution_count": 19,
     "metadata": {},
     "output_type": "execute_result"
    },
    {
     "data": {
      "text/plain": [
       "Train loss :1.0278517007828\t\n",
       "Train Accuracy :\t6470\t64.7 % \t\n"
      ]
     },
     "execution_count": 19,
     "metadata": {},
     "output_type": "execute_result"
    },
    {
     "data": {
      "text/plain": [
       "Test loss :1.2528458833694\t\n",
       "Test Accuracy\t5706\t57.06 % \t\n",
       "------ epoch - 70 ----- \t\n"
      ]
     },
     "execution_count": 19,
     "metadata": {},
     "output_type": "execute_result"
    },
    {
     "data": {
      "text/plain": [
       "Train loss :1.0344178676605\t\n",
       "Train Accuracy :\t6474\t64.74 % \t\n"
      ]
     },
     "execution_count": 19,
     "metadata": {},
     "output_type": "execute_result"
    },
    {
     "data": {
      "text/plain": [
       "Test loss :1.265137553215\t\n",
       "Test Accuracy\t5690\t56.9 % \t\n",
       "------ epoch - 71 ----- \t\n"
      ]
     },
     "execution_count": 19,
     "metadata": {},
     "output_type": "execute_result"
    },
    {
     "data": {
      "text/plain": [
       "Train loss :1.0238521099091\t\n",
       "Train Accuracy :\t6510\t65.1 % \t\n"
      ]
     },
     "execution_count": 19,
     "metadata": {},
     "output_type": "execute_result"
    },
    {
     "data": {
      "text/plain": [
       "Test loss :1.2599130868912\t\n",
       "Test Accuracy\t5690\t56.9 % \t\n",
       "------ epoch - 72 ----- \t\n"
      ]
     },
     "execution_count": 19,
     "metadata": {},
     "output_type": "execute_result"
    },
    {
     "data": {
      "text/plain": [
       "Train loss :1.0180447101593\t\n",
       "Train Accuracy :\t6512\t65.12 % \t\n"
      ]
     },
     "execution_count": 19,
     "metadata": {},
     "output_type": "execute_result"
    },
    {
     "data": {
      "text/plain": [
       "Test loss :1.2657210826874\t\n",
       "Test Accuracy\t5694\t56.94 % \t\n",
       "------ epoch - 73 ----- \t\n"
      ]
     },
     "execution_count": 19,
     "metadata": {},
     "output_type": "execute_result"
    },
    {
     "data": {
      "text/plain": [
       "Train loss :0.99585741758347\t\n",
       "Train Accuracy :\t6579\t65.79 % \t\n"
      ]
     },
     "execution_count": 19,
     "metadata": {},
     "output_type": "execute_result"
    },
    {
     "data": {
      "text/plain": [
       "Test loss :1.2518215179443\t\n",
       "Test Accuracy\t5751\t57.51 % \t\n",
       "------ epoch - 74 ----- \t\n"
      ]
     },
     "execution_count": 19,
     "metadata": {},
     "output_type": "execute_result"
    },
    {
     "data": {
      "text/plain": [
       "Train loss :1.0171359777451\t\n",
       "Train Accuracy :\t6499\t64.99 % \t\n"
      ]
     },
     "execution_count": 19,
     "metadata": {},
     "output_type": "execute_result"
    },
    {
     "data": {
      "text/plain": [
       "Test loss :1.2720264196396\t\n",
       "Test Accuracy\t5686\t56.86 % \t\n",
       "------ epoch - 75 ----- \t\n"
      ]
     },
     "execution_count": 19,
     "metadata": {},
     "output_type": "execute_result"
    },
    {
     "data": {
      "text/plain": [
       "Train loss :1.0017927885056\t\n",
       "Train Accuracy :\t6554\t65.54 % \t\n"
      ]
     },
     "execution_count": 19,
     "metadata": {},
     "output_type": "execute_result"
    },
    {
     "data": {
      "text/plain": [
       "Test loss :1.2676995992661\t\n",
       "Test Accuracy\t5700\t57 % \t\n",
       "------ epoch - 76 ----- \t\n"
      ]
     },
     "execution_count": 19,
     "metadata": {},
     "output_type": "execute_result"
    },
    {
     "data": {
      "text/plain": [
       "Train loss :0.99209630489349\t\n",
       "Train Accuracy :\t6574\t65.74 % \t\n"
      ]
     },
     "execution_count": 19,
     "metadata": {},
     "output_type": "execute_result"
    },
    {
     "data": {
      "text/plain": [
       "Test loss :1.2673114538193\t\n",
       "Test Accuracy\t5687\t56.87 % \t\n",
       "------ epoch - 77 ----- \t\n"
      ]
     },
     "execution_count": 19,
     "metadata": {},
     "output_type": "execute_result"
    },
    {
     "data": {
      "text/plain": [
       "Train loss :0.98230296373367\t\n",
       "Train Accuracy :\t6611\t66.11 % \t\n"
      ]
     },
     "execution_count": 19,
     "metadata": {},
     "output_type": "execute_result"
    },
    {
     "data": {
      "text/plain": [
       "Test loss :1.2642760276794\t\n",
       "Test Accuracy\t5706\t57.06 % \t\n",
       "------ epoch - 78 ----- \t\n"
      ]
     },
     "execution_count": 19,
     "metadata": {},
     "output_type": "execute_result"
    },
    {
     "data": {
      "text/plain": [
       "Train loss :0.98245966434479\t\n",
       "Train Accuracy :\t6606\t66.06 % \t\n"
      ]
     },
     "execution_count": 19,
     "metadata": {},
     "output_type": "execute_result"
    },
    {
     "data": {
      "text/plain": [
       "Test loss :1.2737337350845\t\n",
       "Test Accuracy\t5709\t57.09 % \t\n",
       "------ epoch - 79 ----- \t\n"
      ]
     },
     "execution_count": 19,
     "metadata": {},
     "output_type": "execute_result"
    },
    {
     "data": {
      "text/plain": [
       "Train loss :0.95923578739166\t\n",
       "Train Accuracy :\t6691\t66.91 % \t\n"
      ]
     },
     "execution_count": 19,
     "metadata": {},
     "output_type": "execute_result"
    },
    {
     "data": {
      "text/plain": [
       "Test loss :1.2643340826035\t\n",
       "Test Accuracy\t5737\t57.37 % \t\n",
       "------ epoch - 80 ----- \t\n"
      ]
     },
     "execution_count": 19,
     "metadata": {},
     "output_type": "execute_result"
    },
    {
     "data": {
      "text/plain": [
       "Train loss :0.96429115533829\t\n",
       "Train Accuracy :\t6661\t66.61 % \t\n"
      ]
     },
     "execution_count": 19,
     "metadata": {},
     "output_type": "execute_result"
    },
    {
     "data": {
      "text/plain": [
       "Test loss :1.2732847929001\t\n",
       "Test Accuracy\t5719\t57.19 % \t\n",
       "------ epoch - 81 ----- \t\n"
      ]
     },
     "execution_count": 19,
     "metadata": {},
     "output_type": "execute_result"
    },
    {
     "data": {
      "text/plain": [
       "Train loss :0.94473415613174\t\n",
       "Train Accuracy :\t6757\t67.57 % \t\n"
      ]
     },
     "execution_count": 19,
     "metadata": {},
     "output_type": "execute_result"
    },
    {
     "data": {
      "text/plain": [
       "Test loss :1.2658414840698\t\n",
       "Test Accuracy\t5745\t57.45 % \t\n",
       "------ epoch - 82 ----- \t\n"
      ]
     },
     "execution_count": 19,
     "metadata": {},
     "output_type": "execute_result"
    },
    {
     "data": {
      "text/plain": [
       "Train loss :0.96399903297424\t\n",
       "Train Accuracy :\t6718\t67.18 % \t\n"
      ]
     },
     "execution_count": 19,
     "metadata": {},
     "output_type": "execute_result"
    },
    {
     "data": {
      "text/plain": [
       "Test loss :1.2827504873276\t\n",
       "Test Accuracy\t5698\t56.98 % \t\n",
       "------ epoch - 83 ----- \t"
      ]
     },
     "execution_count": 19,
     "metadata": {},
     "output_type": "execute_result"
    },
    {
     "data": {
      "text/plain": [
       "\n"
      ]
     },
     "execution_count": 19,
     "metadata": {},
     "output_type": "execute_result"
    },
    {
     "data": {
      "text/plain": [
       "Train loss :0.93487703800201\t\n",
       "Train Accuracy :\t6776\t67.76 % \t\n"
      ]
     },
     "execution_count": 19,
     "metadata": {},
     "output_type": "execute_result"
    },
    {
     "data": {
      "text/plain": [
       "Test loss :1.2693767547607\t\n",
       "Test Accuracy\t5753\t57.53 % \t\n",
       "------ epoch - 84 ----- \t\n"
      ]
     },
     "execution_count": 19,
     "metadata": {},
     "output_type": "execute_result"
    },
    {
     "data": {
      "text/plain": [
       "Train loss :0.91427344083786\t\n",
       "Train Accuracy :\t6842\t"
      ]
     },
     "execution_count": 19,
     "metadata": {},
     "output_type": "execute_result"
    },
    {
     "data": {
      "text/plain": [
       "68.42 % \t\n"
      ]
     },
     "execution_count": 19,
     "metadata": {},
     "output_type": "execute_result"
    },
    {
     "data": {
      "text/plain": [
       "Test loss :1.2563625574112\t\n",
       "Test Accuracy\t5802\t58.02 % \t\n",
       "------ epoch - 85 ----- \t\n"
      ]
     },
     "execution_count": 19,
     "metadata": {},
     "output_type": "execute_result"
    },
    {
     "data": {
      "text/plain": [
       "Train loss :0.92034560441971\t\n",
       "Train Accuracy :\t6810\t68.1 % \t\n"
      ]
     },
     "execution_count": 19,
     "metadata": {},
     "output_type": "execute_result"
    },
    {
     "data": {
      "text/plain": [
       "Test loss :1.2662644386292\t\n"
      ]
     },
     "execution_count": 19,
     "metadata": {},
     "output_type": "execute_result"
    },
    {
     "data": {
      "text/plain": [
       "Test Accuracy\t5745\t57.45 % \t\n",
       "------ epoch - 86 ----- \t\n"
      ]
     },
     "execution_count": 19,
     "metadata": {},
     "output_type": "execute_result"
    },
    {
     "data": {
      "text/plain": [
       "Train loss :0.93806874752045\t\n",
       "Train Accuracy :\t6733\t67.33 % \t\n"
      ]
     },
     "execution_count": 19,
     "metadata": {},
     "output_type": "execute_result"
    },
    {
     "data": {
      "text/plain": [
       "Test loss :1.2935771942139\t\n",
       "Test Accuracy\t5689\t56.89 % \t\n",
       "------ epoch - 87 ----- \t\n"
      ]
     },
     "execution_count": 19,
     "metadata": {},
     "output_type": "execute_result"
    },
    {
     "data": {
      "text/plain": [
       "Train loss :0.91185122728348\t\n",
       "Train Accuracy :\t6827\t68.27 % \t\n"
      ]
     },
     "execution_count": 19,
     "metadata": {},
     "output_type": "execute_result"
    },
    {
     "data": {
      "text/plain": [
       "Test loss :1.2782697677612\t\n",
       "Test Accuracy\t5728\t57.28 % \t\n",
       "------ epoch - 88 ----- \t\n"
      ]
     },
     "execution_count": 19,
     "metadata": {},
     "output_type": "execute_result"
    },
    {
     "data": {
      "text/plain": [
       "Train loss :0.90512585639954\t\n",
       "Train Accuracy :\t6883\t68.83 % \t\n"
      ]
     },
     "execution_count": 19,
     "metadata": {},
     "output_type": "execute_result"
    },
    {
     "data": {
      "text/plain": [
       "Test loss :1.2778151035309\t\n",
       "Test Accuracy\t5747\t57.47 % \t\n",
       "------ epoch - 89 ----- \t\n"
      ]
     },
     "execution_count": 19,
     "metadata": {},
     "output_type": "execute_result"
    },
    {
     "data": {
      "text/plain": [
       "Train loss :0.92829531431198\t\n",
       "Train Accuracy :\t6754\t67.54 % \t\n"
      ]
     },
     "execution_count": 19,
     "metadata": {},
     "output_type": "execute_result"
    },
    {
     "data": {
      "text/plain": [
       "Test loss :1.3122291564941\t\n",
       "Test Accuracy\t5619\t56.19 % \t\n",
       "------ epoch - 90 ----- \t\n"
      ]
     },
     "execution_count": 19,
     "metadata": {},
     "output_type": "execute_result"
    },
    {
     "data": {
      "text/plain": [
       "Train loss :0.93357443809509\t\n",
       "Train Accuracy :\t6774\t67.74 % \t\n"
      ]
     },
     "execution_count": 19,
     "metadata": {},
     "output_type": "execute_result"
    },
    {
     "data": {
      "text/plain": [
       "Test loss :1.314457654953\t\n",
       "Test Accuracy\t5666\t56.66 % \t\n"
      ]
     },
     "execution_count": 19,
     "metadata": {},
     "output_type": "execute_result"
    },
    {
     "data": {
      "text/plain": [
       "------ epoch - 91 ----- \t\n"
      ]
     },
     "execution_count": 19,
     "metadata": {},
     "output_type": "execute_result"
    },
    {
     "data": {
      "text/plain": [
       "Train loss :0.96618288755417\t\n",
       "Train Accuracy :\t6648\t66.48 % \t\n"
      ]
     },
     "execution_count": 19,
     "metadata": {},
     "output_type": "execute_result"
    },
    {
     "data": {
      "text/plain": [
       "Test loss :1.363493680954\t\n",
       "Test Accuracy\t5534\t55.34 % \t\n",
       "------ epoch - 92 ----- \t\n"
      ]
     },
     "execution_count": 19,
     "metadata": {},
     "output_type": "execute_result"
    },
    {
     "data": {
      "text/plain": [
       "Train loss :0.8864768743515\t\n",
       "Train Accuracy :\t6927\t69.27 % \t\n"
      ]
     },
     "execution_count": 19,
     "metadata": {},
     "output_type": "execute_result"
    },
    {
     "data": {
      "text/plain": [
       "Test loss :1.2939040660858\t\n",
       "Test Accuracy\t5719\t57.19 % \t\n",
       "------ epoch - 93 ----- \t\n"
      ]
     },
     "execution_count": 19,
     "metadata": {},
     "output_type": "execute_result"
    },
    {
     "data": {
      "text/plain": [
       "Train loss :0.95534718036652\t\n",
       "Train Accuracy :\t6696\t66.96 % \t\n"
      ]
     },
     "execution_count": 19,
     "metadata": {},
     "output_type": "execute_result"
    },
    {
     "data": {
      "text/plain": [
       "Test loss :1.3689504861832\t\n",
       "Test Accuracy\t5534\t55.34 % \t\n",
       "------ epoch - 94 ----- \t\n"
      ]
     },
     "execution_count": 19,
     "metadata": {},
     "output_type": "execute_result"
    },
    {
     "data": {
      "text/plain": [
       "Train loss :0.91157978773117\t\n",
       "Train Accuracy :\t6862\t68.62 % \t\n"
      ]
     },
     "execution_count": 19,
     "metadata": {},
     "output_type": "execute_result"
    },
    {
     "data": {
      "text/plain": [
       "Test loss :1.3298976421356\t\n",
       "Test Accuracy\t5653\t56.53 % \t\n",
       "------ epoch - 95 ----- \t\n"
      ]
     },
     "execution_count": 19,
     "metadata": {},
     "output_type": "execute_result"
    },
    {
     "data": {
      "text/plain": [
       "Train loss :0.87512594461441\t\n",
       "Train Accuracy :\t"
      ]
     },
     "execution_count": 19,
     "metadata": {},
     "output_type": "execute_result"
    },
    {
     "data": {
      "text/plain": [
       "6967\t69.67 % \t\n"
      ]
     },
     "execution_count": 19,
     "metadata": {},
     "output_type": "execute_result"
    },
    {
     "data": {
      "text/plain": [
       "Test loss :1.3138011693954\t\n",
       "Test Accuracy\t5680\t56.8 % \t\n",
       "------ epoch - 96 ----- \t\n"
      ]
     },
     "execution_count": 19,
     "metadata": {},
     "output_type": "execute_result"
    },
    {
     "data": {
      "text/plain": [
       "Train loss :0.9572691321373\t\n",
       "Train Accuracy :\t6730\t67.3 % \t\n"
      ]
     },
     "execution_count": 19,
     "metadata": {},
     "output_type": "execute_result"
    },
    {
     "data": {
      "text/plain": [
       "Test loss :1.3889111280441\t\n",
       "Test Accuracy\t5527\t55.27 % \t\n",
       "------ epoch - 97 ----- \t\n"
      ]
     },
     "execution_count": 19,
     "metadata": {},
     "output_type": "execute_result"
    },
    {
     "data": {
      "text/plain": [
       "Train loss :0.92234396934509\t\n",
       "Train Accuracy :\t6841\t68.41 % \t\n"
      ]
     },
     "execution_count": 19,
     "metadata": {},
     "output_type": "execute_result"
    },
    {
     "data": {
      "text/plain": [
       "Test loss :1.362322807312\t\n",
       "Test Accuracy\t5621\t56.21 % \t\n",
       "------ epoch - 98 ----- \t\n"
      ]
     },
     "execution_count": 19,
     "metadata": {},
     "output_type": "execute_result"
    },
    {
     "data": {
      "text/plain": [
       "Train loss :0.9625044465065\t\n",
       "Train Accuracy :\t6715\t67.15 % \t\n"
      ]
     },
     "execution_count": 19,
     "metadata": {},
     "output_type": "execute_result"
    },
    {
     "data": {
      "text/plain": [
       "Test loss :1.4065593481064\t\n",
       "Test Accuracy\t5490\t54.9 % \t\n",
       "------ epoch - 99 ----- \t\n"
      ]
     },
     "execution_count": 19,
     "metadata": {},
     "output_type": "execute_result"
    },
    {
     "data": {
      "text/plain": [
       "Train loss :0.95573633909225\t\n",
       "Train Accuracy :\t6725\t67.25 % \t\n"
      ]
     },
     "execution_count": 19,
     "metadata": {},
     "output_type": "execute_result"
    },
    {
     "data": {
      "text/plain": [
       "Test loss :1.4174801111221\t\n",
       "Test Accuracy\t5492\t54.92 % \t\n",
       "------ epoch - 100 ----- \t\n"
      ]
     },
     "execution_count": 19,
     "metadata": {},
     "output_type": "execute_result"
    },
    {
     "data": {
      "text/plain": [
       "Train loss :0.93409049510956\t\n",
       "Train Accuracy :\t6795\t67.95 % \t\n"
      ]
     },
     "execution_count": 19,
     "metadata": {},
     "output_type": "execute_result"
    },
    {
     "data": {
      "text/plain": [
       "Test loss :1.4017479419708\t\n",
       "Test Accuracy\t5494\t54.94 % \t\n",
       "------ Time taken :\t761\t\n"
      ]
     },
     "execution_count": 19,
     "metadata": {},
     "output_type": "execute_result"
    }
   ],
   "source": [
    "\n",
    "one_hot = torch.eye(10):index(1, targets)\n",
    "dataloader = dl.TensorLoader(trainset.data, trainset.label)\n",
    "i=0\n",
    "batch_size=1000\n",
    "epochs=100\n",
    "\n",
    "-- Define SGD parameters.\n",
    "sgd_params = {\n",
    "    learningRate = 0.1,\n",
    "    weightDecay = 0,\n",
    "    momentum = 0.5\n",
    "}\n",
    "tstart=os.time()\n",
    "\n",
    "for j=1,epochs do\n",
    "    print(\"------ epoch - \" ..j.. \" ----- \")\n",
    "    tot_loss=0\n",
    "    for k, inputs, targets in dataloader:subiter(batch_size,50000) do\n",
    "        -- Define a closure that computes the loss and dloss/dx.\n",
    "        feval = function()\n",
    "            -- reset gradients\n",
    "            gradParameters:zero()\n",
    "            output=net:forward(inputs)\n",
    "            loss=criterion:forward(output, targets)\n",
    "            gradients = criterion:backward(output, targets)\n",
    "            net:backward(inputs, gradients)\n",
    "            return loss, gradParameters\n",
    "        end\n",
    "        _,local_loss = optim.sgd(feval, parameters, sgd_params)\n",
    "        ---tot_loss = tot_loss + local_loss[1]\n",
    "    end\n",
    "    eval_train(j)\n",
    "    eval_test(j)\n",
    "    ---print(\"------- loss - \" ..(tot_loss/50).. \" ------ \")\n",
    "end\n",
    "\n",
    "tend=os.time()\n",
    "print(\"------ Time taken :\",os.difftime (tend , tstart))"
   ]
  },
  {
   "cell_type": "code",
   "execution_count": 21,
   "metadata": {},
   "outputs": [],
   "source": [
    "Json = require(\"json\")\n",
    "-- Function to save a table.&nbsp; Since game settings need to be saved from session to session, we will\n",
    "-- use the Documents Directory\n",
    "function saveJSON(t, filename)\n",
    "    local path = '/root/'..filename\n",
    "    local file = io.open(path, \"w\")\n",
    "    \n",
    "    if file then\n",
    "        local contents = Json.encode(t)\n",
    "        file:write( contents )\n",
    "        io.close( file )\n",
    "        return true\n",
    "    else\n",
    "        return false\n",
    "    end\n",
    "end"
   ]
  },
  {
   "cell_type": "code",
   "execution_count": 22,
   "metadata": {},
   "outputs": [],
   "source": [
    "saveJSON(train_acc, 'train_acc.json')\n",
    "saveJSON(test_acc, 'test_acc.json')\n",
    "saveJSON(train_loss, 'train_loss.json')\n",
    "saveJSON(test_loss, 'test_loss.json')"
   ]
  },
  {
   "cell_type": "code",
   "execution_count": 28,
   "metadata": {},
   "outputs": [
    {
     "data": {
      "text/plain": [
       "airplane\t54.6 %\t\n",
       "automobile\t85.8 %\t\n",
       "bird\t0 %\t\n",
       "cat\t8.9 %\t\n",
       "deer\t0 %\t\n",
       "dog\t50.7 %\t\n",
       "frog\t0 %\t\n",
       "horse\t32.7 %\t\n",
       "ship\t27.3 %\t\n",
       "truck\t34.1 %\t\n"
      ]
     },
     "execution_count": 28,
     "metadata": {},
     "output_type": "execute_result"
    }
   ],
   "source": [
    "class_performance = {0, 0, 0, 0, 0, 0, 0, 0, 0, 0}\n",
    "for i=1,10000 do\n",
    "    local groundtruth = testset.label[i]\n",
    "    local prediction = net:forward(testset.data[i])\n",
    "    local confidences, indices = torch.sort(prediction, true)  -- true means sort in descending order\n",
    "    if groundtruth == indices[1] then\n",
    "        class_performance[groundtruth] = class_performance[groundtruth] + 1\n",
    "    end\n",
    "end\n",
    "for i=1,#classes do\n",
    "    print(classes[i], 100*class_performance[i]/1000 .. ' %')\n",
    "end"
   ]
  },
  {
   "cell_type": "code",
   "execution_count": null,
   "metadata": {
    "collapsed": true
   },
   "outputs": [],
   "source": []
  }
 ],
 "metadata": {
  "kernelspec": {
   "display_name": "iTorch",
   "language": "lua",
   "name": "itorch"
  },
  "language_info": {
   "name": "lua",
   "version": "5.1"
  }
 },
 "nbformat": 4,
 "nbformat_minor": 2
}
