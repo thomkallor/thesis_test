{
 "cells": [
  {
   "cell_type": "code",
   "execution_count": 1,
   "metadata": {},
   "outputs": [],
   "source": [
    "import os\n",
    "os.environ[\"CUDA_VISIBLE_DEVICES\"]=\"1\"\n",
    "## set random seeds\n",
    "import numpy as np\n",
    "np.random.seed(10)"
   ]
  },
  {
   "cell_type": "code",
   "execution_count": 2,
   "metadata": {},
   "outputs": [],
   "source": [
    "import tensorflow as tf"
   ]
  },
  {
   "cell_type": "code",
   "execution_count": 3,
   "metadata": {},
   "outputs": [
    {
     "name": "stdout",
     "output_type": "stream",
     "text": [
      "x_train shape: (50000, 32, 32, 3)\n",
      "50000 train samples\n",
      "10000 test samples\n"
     ]
    }
   ],
   "source": [
    "'''\n",
    "#Train a simple deep CNN on the CIFAR10 small images dataset.\n",
    "\n",
    "It gets to 75% validation accuracy in 25 epochs, and 79% after 50 epochs.\n",
    "(it's still underfitting at that point, though).\n",
    "'''\n",
    "\n",
    "from __future__ import print_function\n",
    "from tensorflow.keras.datasets import cifar10\n",
    "from tensorflow.keras.preprocessing.image import ImageDataGenerator\n",
    "from tensorflow.keras.models import Sequential\n",
    "from tensorflow.keras.layers import Dense, Dropout, Activation, Flatten\n",
    "from tensorflow.keras.layers import Convolution2D, MaxPooling2D\n",
    "from tensorflow.keras.optimizers import SGD\n",
    "from tensorflow.keras import utils\n",
    "import os\n",
    "\n",
    "batch_size = 1000\n",
    "num_classes = 10\n",
    "epochs = 100\n",
    "data_augmentation = True\n",
    "num_predictions = 20\n",
    "save_dir = os.path.join(os.getcwd(), 'saved_models')\n",
    "model_name = 'keras_cifar10_trained_model.h5'\n",
    "\n",
    "# The data, split between train and test sets:\n",
    "(x_train, y_train), (x_test, y_test) = cifar10.load_data()\n",
    "print('x_train shape:', x_train.shape)\n",
    "print(x_train.shape[0], 'train samples')\n",
    "print(x_test.shape[0], 'test samples')\n",
    "\n",
    "# Convert class vectors to binary class matrices.\n",
    "y_train = utils.to_categorical(y_train, num_classes)\n",
    "y_test = utils.to_categorical(y_test, num_classes)\n"
   ]
  },
  {
   "cell_type": "code",
   "execution_count": 4,
   "metadata": {},
   "outputs": [
    {
     "name": "stdout",
     "output_type": "stream",
     "text": [
      "(32, 32, 3)\n",
      "<class 'numpy.ndarray'>\n"
     ]
    }
   ],
   "source": [
    "print(x_train.shape[1:])\n",
    "print(type(x_train))"
   ]
  },
  {
   "cell_type": "code",
   "execution_count": 5,
   "metadata": {},
   "outputs": [],
   "source": [
    "import numpy as np"
   ]
  },
  {
   "cell_type": "code",
   "execution_count": 6,
   "metadata": {},
   "outputs": [],
   "source": [
    "def rgb2gray(rgb):\n",
    "    r, g, b = rgb[:,:,:,0], rgb[:,:,:,1], rgb[:,:,:,2]\n",
    "    gray = 0.2989 * r + 0.5870 * g + 0.1140 * b\n",
    "    gray = np.expand_dims(gray, axis=3)\n",
    "    print(gray.shape)\n",
    "    return gray"
   ]
  },
  {
   "cell_type": "code",
   "execution_count": 7,
   "metadata": {},
   "outputs": [
    {
     "name": "stdout",
     "output_type": "stream",
     "text": [
      "(50000, 32, 32, 1)\n",
      "(10000, 32, 32, 1)\n"
     ]
    }
   ],
   "source": [
    "x_train=rgb2gray(x_train)\n",
    "x_test=rgb2gray(x_test)"
   ]
  },
  {
   "cell_type": "code",
   "execution_count": 8,
   "metadata": {},
   "outputs": [
    {
     "name": "stdout",
     "output_type": "stream",
     "text": [
      "(32, 32, 1)\n"
     ]
    }
   ],
   "source": [
    "print(x_train[0].shape)"
   ]
  },
  {
   "cell_type": "code",
   "execution_count": 9,
   "metadata": {},
   "outputs": [
    {
     "name": "stdout",
     "output_type": "stream",
     "text": [
      "(10000, 32, 32, 1)\n"
     ]
    }
   ],
   "source": [
    "print(x_test.shape)"
   ]
  },
  {
   "cell_type": "code",
   "execution_count": 10,
   "metadata": {
    "scrolled": true
   },
   "outputs": [],
   "source": [
    "model = Sequential()\n",
    "model.add(Convolution2D(6, (5, 5), padding='valid', data_format=\"channels_last\", input_shape=(32, 32, 1)))\n",
    "model.add(MaxPooling2D(pool_size=(2, 2)))\n",
    "model.add(Activation('relu'))   \n",
    "model.add(Convolution2D(16, (5, 5), padding='valid', data_format=\"channels_last\"))\n",
    "model.add(MaxPooling2D(pool_size=(2, 2)))\n",
    "model.add(Activation('relu'))\n",
    "model.add(Flatten())\n",
    "model.add(Dense(120))\n",
    "model.add(Activation('relu'))\n",
    "model.add(Dense(84))\n",
    "model.add(Activation('relu'))\n",
    "model.add(Dense(10))\n",
    "model.add(Activation('softmax'))"
   ]
  },
  {
   "cell_type": "code",
   "execution_count": 11,
   "metadata": {},
   "outputs": [
    {
     "data": {
      "text/plain": [
       "10"
      ]
     },
     "execution_count": 11,
     "metadata": {},
     "output_type": "execute_result"
    }
   ],
   "source": [
    "y_test.shape[1]"
   ]
  },
  {
   "cell_type": "code",
   "execution_count": 12,
   "metadata": {},
   "outputs": [],
   "source": [
    "# initiate RMSprop optimizer\n",
    "sgd = SGD(lr=0.01, decay=0, momentum=0.5, nesterov=False)\n",
    "\n",
    "# Let's train the model using RMSprop\n",
    "model.compile(loss='categorical_crossentropy',\n",
    "              optimizer=sgd,\n",
    "              metrics=['categorical_crossentropy', 'accuracy'])\n",
    "\n",
    "x_train = x_train.astype('float32')\n",
    "x_test = x_test.astype('float32')\n",
    "x_train /= 255\n",
    "x_test /= 255"
   ]
  },
  {
   "cell_type": "code",
   "execution_count": 13,
   "metadata": {},
   "outputs": [
    {
     "data": {
      "text/plain": [
       "numpy.ndarray"
      ]
     },
     "execution_count": 13,
     "metadata": {},
     "output_type": "execute_result"
    }
   ],
   "source": [
    "type(x_train)"
   ]
  },
  {
   "cell_type": "code",
   "execution_count": 14,
   "metadata": {},
   "outputs": [
    {
     "name": "stdout",
     "output_type": "stream",
     "text": [
      "Epoch 1/100\n",
      "50/50 [==============================] - 0s 10ms/step - loss: 2.2998 - categorical_crossentropy: 2.2998 - accuracy: 0.1127 - val_loss: 2.2959 - val_categorical_crossentropy: 2.2959 - val_accuracy: 0.1223\n",
      "Epoch 2/100\n",
      "50/50 [==============================] - 0s 7ms/step - loss: 2.2921 - categorical_crossentropy: 2.2921 - accuracy: 0.1388 - val_loss: 2.2875 - val_categorical_crossentropy: 2.2875 - val_accuracy: 0.1522\n",
      "Epoch 3/100\n",
      "50/50 [==============================] - 0s 6ms/step - loss: 2.2807 - categorical_crossentropy: 2.2807 - accuracy: 0.1605 - val_loss: 2.2717 - val_categorical_crossentropy: 2.2717 - val_accuracy: 0.1735\n",
      "Epoch 4/100\n",
      "50/50 [==============================] - 0s 6ms/step - loss: 2.2579 - categorical_crossentropy: 2.2579 - accuracy: 0.1747 - val_loss: 2.2401 - val_categorical_crossentropy: 2.2401 - val_accuracy: 0.1833\n",
      "Epoch 5/100\n",
      "50/50 [==============================] - 0s 6ms/step - loss: 2.2190 - categorical_crossentropy: 2.2190 - accuracy: 0.1859 - val_loss: 2.1958 - val_categorical_crossentropy: 2.1958 - val_accuracy: 0.1906\n",
      "Epoch 6/100\n",
      "50/50 [==============================] - 0s 6ms/step - loss: 2.1779 - categorical_crossentropy: 2.1779 - accuracy: 0.1986 - val_loss: 2.1606 - val_categorical_crossentropy: 2.1606 - val_accuracy: 0.2184\n",
      "Epoch 7/100\n",
      "50/50 [==============================] - 0s 6ms/step - loss: 2.1466 - categorical_crossentropy: 2.1466 - accuracy: 0.2184 - val_loss: 2.1359 - val_categorical_crossentropy: 2.1359 - val_accuracy: 0.2175\n",
      "Epoch 8/100\n",
      "50/50 [==============================] - 0s 6ms/step - loss: 2.1218 - categorical_crossentropy: 2.1218 - accuracy: 0.2329 - val_loss: 2.1119 - val_categorical_crossentropy: 2.1119 - val_accuracy: 0.2388\n",
      "Epoch 9/100\n",
      "50/50 [==============================] - 0s 6ms/step - loss: 2.0997 - categorical_crossentropy: 2.0997 - accuracy: 0.2466 - val_loss: 2.0894 - val_categorical_crossentropy: 2.0894 - val_accuracy: 0.2543\n",
      "Epoch 10/100\n",
      "50/50 [==============================] - 0s 6ms/step - loss: 2.0781 - categorical_crossentropy: 2.0781 - accuracy: 0.2577 - val_loss: 2.0685 - val_categorical_crossentropy: 2.0685 - val_accuracy: 0.2725\n",
      "Epoch 11/100\n",
      "50/50 [==============================] - 0s 7ms/step - loss: 2.0620 - categorical_crossentropy: 2.0620 - accuracy: 0.2638 - val_loss: 2.0569 - val_categorical_crossentropy: 2.0569 - val_accuracy: 0.2731\n",
      "Epoch 12/100\n",
      "50/50 [==============================] - 0s 6ms/step - loss: 2.0450 - categorical_crossentropy: 2.0450 - accuracy: 0.2705 - val_loss: 2.0311 - val_categorical_crossentropy: 2.0311 - val_accuracy: 0.2694\n",
      "Epoch 13/100\n",
      "50/50 [==============================] - 0s 6ms/step - loss: 2.0319 - categorical_crossentropy: 2.0319 - accuracy: 0.2764 - val_loss: 2.0800 - val_categorical_crossentropy: 2.0800 - val_accuracy: 0.2629\n",
      "Epoch 14/100\n",
      "50/50 [==============================] - 0s 6ms/step - loss: 2.0145 - categorical_crossentropy: 2.0145 - accuracy: 0.2821 - val_loss: 2.0298 - val_categorical_crossentropy: 2.0298 - val_accuracy: 0.2692\n",
      "Epoch 15/100\n",
      "50/50 [==============================] - 0s 6ms/step - loss: 1.9918 - categorical_crossentropy: 1.9918 - accuracy: 0.2933 - val_loss: 1.9713 - val_categorical_crossentropy: 1.9713 - val_accuracy: 0.3097\n",
      "Epoch 16/100\n",
      "50/50 [==============================] - 0s 6ms/step - loss: 1.9677 - categorical_crossentropy: 1.9677 - accuracy: 0.3036 - val_loss: 1.9523 - val_categorical_crossentropy: 1.9523 - val_accuracy: 0.3094\n",
      "Epoch 17/100\n",
      "50/50 [==============================] - 0s 6ms/step - loss: 1.9487 - categorical_crossentropy: 1.9487 - accuracy: 0.3081 - val_loss: 1.9197 - val_categorical_crossentropy: 1.9197 - val_accuracy: 0.3230\n",
      "Epoch 18/100\n",
      "50/50 [==============================] - 0s 6ms/step - loss: 1.9274 - categorical_crossentropy: 1.9274 - accuracy: 0.3166 - val_loss: 1.9177 - val_categorical_crossentropy: 1.9177 - val_accuracy: 0.3151\n",
      "Epoch 19/100\n",
      "50/50 [==============================] - 0s 6ms/step - loss: 1.9086 - categorical_crossentropy: 1.9086 - accuracy: 0.3223 - val_loss: 1.8811 - val_categorical_crossentropy: 1.8811 - val_accuracy: 0.3340\n",
      "Epoch 20/100\n",
      "50/50 [==============================] - 0s 6ms/step - loss: 1.8873 - categorical_crossentropy: 1.8873 - accuracy: 0.3311 - val_loss: 1.8772 - val_categorical_crossentropy: 1.8772 - val_accuracy: 0.3300\n",
      "Epoch 21/100\n",
      "50/50 [==============================] - 0s 6ms/step - loss: 1.8725 - categorical_crossentropy: 1.8725 - accuracy: 0.3345 - val_loss: 1.9286 - val_categorical_crossentropy: 1.9286 - val_accuracy: 0.3023\n",
      "Epoch 22/100\n",
      "50/50 [==============================] - 0s 6ms/step - loss: 1.8489 - categorical_crossentropy: 1.8489 - accuracy: 0.3408 - val_loss: 1.8216 - val_categorical_crossentropy: 1.8216 - val_accuracy: 0.3514\n",
      "Epoch 23/100\n",
      "50/50 [==============================] - 0s 7ms/step - loss: 1.8366 - categorical_crossentropy: 1.8366 - accuracy: 0.3456 - val_loss: 1.8312 - val_categorical_crossentropy: 1.8312 - val_accuracy: 0.3496\n",
      "Epoch 24/100\n",
      "50/50 [==============================] - 0s 6ms/step - loss: 1.8112 - categorical_crossentropy: 1.8112 - accuracy: 0.3559 - val_loss: 1.8065 - val_categorical_crossentropy: 1.8065 - val_accuracy: 0.3491\n",
      "Epoch 25/100\n",
      "50/50 [==============================] - 0s 6ms/step - loss: 1.8052 - categorical_crossentropy: 1.8052 - accuracy: 0.3573 - val_loss: 1.7844 - val_categorical_crossentropy: 1.7844 - val_accuracy: 0.3613\n",
      "Epoch 26/100\n",
      "50/50 [==============================] - 0s 6ms/step - loss: 1.7898 - categorical_crossentropy: 1.7898 - accuracy: 0.3637 - val_loss: 1.8672 - val_categorical_crossentropy: 1.8672 - val_accuracy: 0.3290\n",
      "Epoch 27/100\n",
      "50/50 [==============================] - 0s 6ms/step - loss: 1.7795 - categorical_crossentropy: 1.7795 - accuracy: 0.3671 - val_loss: 1.7564 - val_categorical_crossentropy: 1.7564 - val_accuracy: 0.3766\n",
      "Epoch 28/100\n",
      "50/50 [==============================] - 0s 6ms/step - loss: 1.7654 - categorical_crossentropy: 1.7654 - accuracy: 0.3727 - val_loss: 1.7469 - val_categorical_crossentropy: 1.7469 - val_accuracy: 0.3779\n",
      "Epoch 29/100\n",
      "50/50 [==============================] - 0s 6ms/step - loss: 1.7579 - categorical_crossentropy: 1.7579 - accuracy: 0.3745 - val_loss: 1.7344 - val_categorical_crossentropy: 1.7344 - val_accuracy: 0.3805\n",
      "Epoch 30/100\n",
      "50/50 [==============================] - 0s 7ms/step - loss: 1.7370 - categorical_crossentropy: 1.7370 - accuracy: 0.3849 - val_loss: 1.7311 - val_categorical_crossentropy: 1.7311 - val_accuracy: 0.3793\n",
      "Epoch 31/100\n",
      "50/50 [==============================] - 0s 6ms/step - loss: 1.7371 - categorical_crossentropy: 1.7371 - accuracy: 0.3828 - val_loss: 1.7600 - val_categorical_crossentropy: 1.7600 - val_accuracy: 0.3693\n",
      "Epoch 32/100\n",
      "50/50 [==============================] - 0s 6ms/step - loss: 1.7229 - categorical_crossentropy: 1.7229 - accuracy: 0.3890 - val_loss: 1.7102 - val_categorical_crossentropy: 1.7102 - val_accuracy: 0.3926\n",
      "Epoch 33/100\n",
      "50/50 [==============================] - 0s 6ms/step - loss: 1.7163 - categorical_crossentropy: 1.7163 - accuracy: 0.3916 - val_loss: 1.6990 - val_categorical_crossentropy: 1.6990 - val_accuracy: 0.3969\n",
      "Epoch 34/100\n",
      "50/50 [==============================] - 0s 6ms/step - loss: 1.7081 - categorical_crossentropy: 1.7081 - accuracy: 0.3935 - val_loss: 1.6970 - val_categorical_crossentropy: 1.6970 - val_accuracy: 0.3952\n",
      "Epoch 35/100\n",
      "50/50 [==============================] - 0s 6ms/step - loss: 1.6989 - categorical_crossentropy: 1.6989 - accuracy: 0.3987 - val_loss: 1.7004 - val_categorical_crossentropy: 1.7004 - val_accuracy: 0.3936\n",
      "Epoch 36/100\n",
      "50/50 [==============================] - 0s 6ms/step - loss: 1.6992 - categorical_crossentropy: 1.6992 - accuracy: 0.3976 - val_loss: 1.6829 - val_categorical_crossentropy: 1.6829 - val_accuracy: 0.4042\n",
      "Epoch 37/100\n",
      "50/50 [==============================] - 0s 6ms/step - loss: 1.6784 - categorical_crossentropy: 1.6784 - accuracy: 0.4057 - val_loss: 1.6730 - val_categorical_crossentropy: 1.6730 - val_accuracy: 0.4030\n",
      "Epoch 38/100\n",
      "50/50 [==============================] - 0s 6ms/step - loss: 1.6709 - categorical_crossentropy: 1.6709 - accuracy: 0.4101 - val_loss: 1.6738 - val_categorical_crossentropy: 1.6738 - val_accuracy: 0.4063\n",
      "Epoch 39/100\n",
      "50/50 [==============================] - 0s 7ms/step - loss: 1.6622 - categorical_crossentropy: 1.6622 - accuracy: 0.4097 - val_loss: 1.6514 - val_categorical_crossentropy: 1.6514 - val_accuracy: 0.4117\n",
      "Epoch 40/100\n",
      "50/50 [==============================] - 0s 6ms/step - loss: 1.6636 - categorical_crossentropy: 1.6636 - accuracy: 0.4099 - val_loss: 1.6635 - val_categorical_crossentropy: 1.6635 - val_accuracy: 0.4093\n",
      "Epoch 41/100\n",
      "50/50 [==============================] - 0s 6ms/step - loss: 1.6515 - categorical_crossentropy: 1.6515 - accuracy: 0.4153 - val_loss: 1.6495 - val_categorical_crossentropy: 1.6495 - val_accuracy: 0.4130\n",
      "Epoch 42/100\n",
      "50/50 [==============================] - 0s 6ms/step - loss: 1.6485 - categorical_crossentropy: 1.6485 - accuracy: 0.4208 - val_loss: 1.6476 - val_categorical_crossentropy: 1.6476 - val_accuracy: 0.4137\n",
      "Epoch 43/100\n",
      "50/50 [==============================] - 0s 6ms/step - loss: 1.6330 - categorical_crossentropy: 1.6330 - accuracy: 0.4213 - val_loss: 1.6356 - val_categorical_crossentropy: 1.6356 - val_accuracy: 0.4177\n",
      "Epoch 44/100\n",
      "50/50 [==============================] - 0s 6ms/step - loss: 1.6290 - categorical_crossentropy: 1.6290 - accuracy: 0.4245 - val_loss: 1.6545 - val_categorical_crossentropy: 1.6545 - val_accuracy: 0.4153\n",
      "Epoch 45/100\n",
      "50/50 [==============================] - 0s 6ms/step - loss: 1.6226 - categorical_crossentropy: 1.6226 - accuracy: 0.4258 - val_loss: 1.6144 - val_categorical_crossentropy: 1.6144 - val_accuracy: 0.4283\n",
      "Epoch 46/100\n",
      "50/50 [==============================] - 0s 6ms/step - loss: 1.6147 - categorical_crossentropy: 1.6147 - accuracy: 0.4305 - val_loss: 1.6123 - val_categorical_crossentropy: 1.6123 - val_accuracy: 0.4262\n",
      "Epoch 47/100\n",
      "50/50 [==============================] - 0s 6ms/step - loss: 1.6207 - categorical_crossentropy: 1.6207 - accuracy: 0.4282 - val_loss: 1.6070 - val_categorical_crossentropy: 1.6070 - val_accuracy: 0.4272\n",
      "Epoch 48/100\n",
      "50/50 [==============================] - 0s 6ms/step - loss: 1.6032 - categorical_crossentropy: 1.6032 - accuracy: 0.4346 - val_loss: 1.6328 - val_categorical_crossentropy: 1.6328 - val_accuracy: 0.4181\n",
      "Epoch 49/100\n",
      "50/50 [==============================] - 0s 7ms/step - loss: 1.5963 - categorical_crossentropy: 1.5963 - accuracy: 0.4377 - val_loss: 1.7278 - val_categorical_crossentropy: 1.7278 - val_accuracy: 0.3908\n",
      "Epoch 50/100\n",
      "50/50 [==============================] - 0s 6ms/step - loss: 1.5899 - categorical_crossentropy: 1.5899 - accuracy: 0.4394 - val_loss: 1.5921 - val_categorical_crossentropy: 1.5921 - val_accuracy: 0.4342\n",
      "Epoch 51/100\n",
      "50/50 [==============================] - 0s 6ms/step - loss: 1.5826 - categorical_crossentropy: 1.5826 - accuracy: 0.4400 - val_loss: 1.5906 - val_categorical_crossentropy: 1.5906 - val_accuracy: 0.4314\n",
      "Epoch 52/100\n",
      "50/50 [==============================] - 0s 6ms/step - loss: 1.5914 - categorical_crossentropy: 1.5914 - accuracy: 0.4378 - val_loss: 1.5791 - val_categorical_crossentropy: 1.5791 - val_accuracy: 0.4398\n",
      "Epoch 53/100\n",
      "50/50 [==============================] - 0s 6ms/step - loss: 1.5723 - categorical_crossentropy: 1.5723 - accuracy: 0.4434 - val_loss: 1.5790 - val_categorical_crossentropy: 1.5790 - val_accuracy: 0.4378\n",
      "Epoch 54/100\n",
      "50/50 [==============================] - 0s 6ms/step - loss: 1.5718 - categorical_crossentropy: 1.5718 - accuracy: 0.4441 - val_loss: 1.5667 - val_categorical_crossentropy: 1.5667 - val_accuracy: 0.4446\n",
      "Epoch 55/100\n",
      "50/50 [==============================] - 0s 6ms/step - loss: 1.5628 - categorical_crossentropy: 1.5628 - accuracy: 0.4485 - val_loss: 1.5627 - val_categorical_crossentropy: 1.5627 - val_accuracy: 0.4424\n",
      "Epoch 56/100\n",
      "50/50 [==============================] - 0s 6ms/step - loss: 1.5583 - categorical_crossentropy: 1.5583 - accuracy: 0.4506 - val_loss: 1.5583 - val_categorical_crossentropy: 1.5583 - val_accuracy: 0.4465\n",
      "Epoch 57/100\n",
      "50/50 [==============================] - 0s 6ms/step - loss: 1.5535 - categorical_crossentropy: 1.5535 - accuracy: 0.4514 - val_loss: 1.5731 - val_categorical_crossentropy: 1.5731 - val_accuracy: 0.4429\n",
      "Epoch 58/100\n",
      "50/50 [==============================] - 0s 6ms/step - loss: 1.5476 - categorical_crossentropy: 1.5476 - accuracy: 0.4529 - val_loss: 1.5525 - val_categorical_crossentropy: 1.5525 - val_accuracy: 0.4456\n",
      "Epoch 59/100\n",
      "50/50 [==============================] - 0s 7ms/step - loss: 1.5427 - categorical_crossentropy: 1.5427 - accuracy: 0.4564 - val_loss: 1.5648 - val_categorical_crossentropy: 1.5648 - val_accuracy: 0.4448\n",
      "Epoch 60/100\n",
      "50/50 [==============================] - 0s 6ms/step - loss: 1.5308 - categorical_crossentropy: 1.5308 - accuracy: 0.4608 - val_loss: 1.5387 - val_categorical_crossentropy: 1.5387 - val_accuracy: 0.4554\n",
      "Epoch 61/100\n",
      "50/50 [==============================] - 0s 6ms/step - loss: 1.5322 - categorical_crossentropy: 1.5322 - accuracy: 0.4608 - val_loss: 1.5450 - val_categorical_crossentropy: 1.5450 - val_accuracy: 0.4514\n",
      "Epoch 62/100\n",
      "50/50 [==============================] - 0s 6ms/step - loss: 1.5254 - categorical_crossentropy: 1.5254 - accuracy: 0.4612 - val_loss: 1.5568 - val_categorical_crossentropy: 1.5568 - val_accuracy: 0.4479\n",
      "Epoch 63/100\n",
      "50/50 [==============================] - 0s 6ms/step - loss: 1.5239 - categorical_crossentropy: 1.5239 - accuracy: 0.4619 - val_loss: 1.5395 - val_categorical_crossentropy: 1.5395 - val_accuracy: 0.4550\n",
      "Epoch 64/100\n",
      "50/50 [==============================] - 0s 6ms/step - loss: 1.5171 - categorical_crossentropy: 1.5171 - accuracy: 0.4629 - val_loss: 1.5292 - val_categorical_crossentropy: 1.5292 - val_accuracy: 0.4589\n",
      "Epoch 65/100\n",
      "50/50 [==============================] - 0s 6ms/step - loss: 1.5117 - categorical_crossentropy: 1.5117 - accuracy: 0.4666 - val_loss: 1.5213 - val_categorical_crossentropy: 1.5213 - val_accuracy: 0.4599\n",
      "Epoch 66/100\n",
      "50/50 [==============================] - 0s 6ms/step - loss: 1.5029 - categorical_crossentropy: 1.5029 - accuracy: 0.4712 - val_loss: 1.5222 - val_categorical_crossentropy: 1.5222 - val_accuracy: 0.4592\n",
      "Epoch 67/100\n",
      "50/50 [==============================] - 0s 7ms/step - loss: 1.5019 - categorical_crossentropy: 1.5019 - accuracy: 0.4729 - val_loss: 1.5096 - val_categorical_crossentropy: 1.5096 - val_accuracy: 0.4623\n",
      "Epoch 68/100\n",
      "50/50 [==============================] - 0s 6ms/step - loss: 1.5052 - categorical_crossentropy: 1.5052 - accuracy: 0.4702 - val_loss: 1.5415 - val_categorical_crossentropy: 1.5415 - val_accuracy: 0.4500\n",
      "Epoch 69/100\n",
      "50/50 [==============================] - 0s 7ms/step - loss: 1.4965 - categorical_crossentropy: 1.4965 - accuracy: 0.4723 - val_loss: 1.5015 - val_categorical_crossentropy: 1.5015 - val_accuracy: 0.4681\n",
      "Epoch 70/100\n",
      "50/50 [==============================] - 0s 6ms/step - loss: 1.4876 - categorical_crossentropy: 1.4876 - accuracy: 0.4763 - val_loss: 1.4984 - val_categorical_crossentropy: 1.4984 - val_accuracy: 0.4710\n",
      "Epoch 71/100\n",
      "50/50 [==============================] - 0s 7ms/step - loss: 1.4839 - categorical_crossentropy: 1.4839 - accuracy: 0.4779 - val_loss: 1.5050 - val_categorical_crossentropy: 1.5050 - val_accuracy: 0.4646\n",
      "Epoch 72/100\n",
      "50/50 [==============================] - 0s 6ms/step - loss: 1.4787 - categorical_crossentropy: 1.4787 - accuracy: 0.4782 - val_loss: 1.4922 - val_categorical_crossentropy: 1.4922 - val_accuracy: 0.4710\n",
      "Epoch 73/100\n",
      "50/50 [==============================] - 0s 6ms/step - loss: 1.4736 - categorical_crossentropy: 1.4736 - accuracy: 0.4808 - val_loss: 1.4943 - val_categorical_crossentropy: 1.4943 - val_accuracy: 0.4721\n",
      "Epoch 74/100\n",
      "50/50 [==============================] - 0s 6ms/step - loss: 1.4742 - categorical_crossentropy: 1.4742 - accuracy: 0.4795 - val_loss: 1.5023 - val_categorical_crossentropy: 1.5023 - val_accuracy: 0.4682\n",
      "Epoch 75/100\n",
      "50/50 [==============================] - 0s 6ms/step - loss: 1.4664 - categorical_crossentropy: 1.4664 - accuracy: 0.4844 - val_loss: 1.5102 - val_categorical_crossentropy: 1.5102 - val_accuracy: 0.4688\n",
      "Epoch 76/100\n",
      "50/50 [==============================] - 0s 6ms/step - loss: 1.4617 - categorical_crossentropy: 1.4617 - accuracy: 0.4851 - val_loss: 1.4846 - val_categorical_crossentropy: 1.4846 - val_accuracy: 0.4752\n",
      "Epoch 77/100\n",
      "50/50 [==============================] - 0s 6ms/step - loss: 1.4584 - categorical_crossentropy: 1.4584 - accuracy: 0.4866 - val_loss: 1.5238 - val_categorical_crossentropy: 1.5238 - val_accuracy: 0.4651\n",
      "Epoch 78/100\n",
      "50/50 [==============================] - 0s 6ms/step - loss: 1.4532 - categorical_crossentropy: 1.4532 - accuracy: 0.4896 - val_loss: 1.4910 - val_categorical_crossentropy: 1.4910 - val_accuracy: 0.4734\n",
      "Epoch 79/100\n",
      "50/50 [==============================] - 0s 7ms/step - loss: 1.4554 - categorical_crossentropy: 1.4554 - accuracy: 0.4888 - val_loss: 1.4920 - val_categorical_crossentropy: 1.4920 - val_accuracy: 0.4736\n",
      "Epoch 80/100\n",
      "50/50 [==============================] - 0s 6ms/step - loss: 1.4417 - categorical_crossentropy: 1.4417 - accuracy: 0.4912 - val_loss: 1.4809 - val_categorical_crossentropy: 1.4809 - val_accuracy: 0.4773\n",
      "Epoch 81/100\n",
      "50/50 [==============================] - 0s 6ms/step - loss: 1.4454 - categorical_crossentropy: 1.4454 - accuracy: 0.4933 - val_loss: 1.4615 - val_categorical_crossentropy: 1.4615 - val_accuracy: 0.4840\n",
      "Epoch 82/100\n",
      "50/50 [==============================] - 0s 6ms/step - loss: 1.4412 - categorical_crossentropy: 1.4412 - accuracy: 0.4930 - val_loss: 1.4597 - val_categorical_crossentropy: 1.4597 - val_accuracy: 0.4839\n",
      "Epoch 83/100\n",
      "50/50 [==============================] - 0s 6ms/step - loss: 1.4409 - categorical_crossentropy: 1.4409 - accuracy: 0.4952 - val_loss: 1.4530 - val_categorical_crossentropy: 1.4530 - val_accuracy: 0.4874\n",
      "Epoch 84/100\n",
      "50/50 [==============================] - 0s 6ms/step - loss: 1.4280 - categorical_crossentropy: 1.4280 - accuracy: 0.4984 - val_loss: 1.4575 - val_categorical_crossentropy: 1.4575 - val_accuracy: 0.4841\n",
      "Epoch 85/100\n",
      "50/50 [==============================] - 0s 6ms/step - loss: 1.4266 - categorical_crossentropy: 1.4266 - accuracy: 0.4987 - val_loss: 1.4491 - val_categorical_crossentropy: 1.4491 - val_accuracy: 0.4893\n",
      "Epoch 86/100\n",
      "50/50 [==============================] - 0s 6ms/step - loss: 1.4246 - categorical_crossentropy: 1.4246 - accuracy: 0.4998 - val_loss: 1.4466 - val_categorical_crossentropy: 1.4466 - val_accuracy: 0.4849\n",
      "Epoch 87/100\n",
      "50/50 [==============================] - 0s 6ms/step - loss: 1.4205 - categorical_crossentropy: 1.4205 - accuracy: 0.5017 - val_loss: 1.4521 - val_categorical_crossentropy: 1.4521 - val_accuracy: 0.4827\n",
      "Epoch 88/100\n",
      "50/50 [==============================] - 0s 6ms/step - loss: 1.4225 - categorical_crossentropy: 1.4225 - accuracy: 0.4998 - val_loss: 1.4671 - val_categorical_crossentropy: 1.4671 - val_accuracy: 0.4850\n",
      "Epoch 89/100\n",
      "50/50 [==============================] - 0s 7ms/step - loss: 1.4162 - categorical_crossentropy: 1.4162 - accuracy: 0.5033 - val_loss: 1.4581 - val_categorical_crossentropy: 1.4581 - val_accuracy: 0.4841\n",
      "Epoch 90/100\n",
      "50/50 [==============================] - 0s 6ms/step - loss: 1.4053 - categorical_crossentropy: 1.4053 - accuracy: 0.5061 - val_loss: 1.4375 - val_categorical_crossentropy: 1.4375 - val_accuracy: 0.4915\n",
      "Epoch 91/100\n",
      "50/50 [==============================] - 0s 6ms/step - loss: 1.4081 - categorical_crossentropy: 1.4081 - accuracy: 0.5049 - val_loss: 1.4382 - val_categorical_crossentropy: 1.4382 - val_accuracy: 0.4910\n",
      "Epoch 92/100\n",
      "50/50 [==============================] - 0s 6ms/step - loss: 1.4099 - categorical_crossentropy: 1.4099 - accuracy: 0.5050 - val_loss: 1.4582 - val_categorical_crossentropy: 1.4582 - val_accuracy: 0.4843\n",
      "Epoch 93/100\n",
      "50/50 [==============================] - 0s 6ms/step - loss: 1.4137 - categorical_crossentropy: 1.4137 - accuracy: 0.5054 - val_loss: 1.4304 - val_categorical_crossentropy: 1.4304 - val_accuracy: 0.4964\n",
      "Epoch 94/100\n",
      "50/50 [==============================] - 0s 6ms/step - loss: 1.3919 - categorical_crossentropy: 1.3919 - accuracy: 0.5123 - val_loss: 1.4531 - val_categorical_crossentropy: 1.4531 - val_accuracy: 0.4835\n",
      "Epoch 95/100\n",
      "50/50 [==============================] - 0s 6ms/step - loss: 1.3990 - categorical_crossentropy: 1.3990 - accuracy: 0.5083 - val_loss: 1.4245 - val_categorical_crossentropy: 1.4245 - val_accuracy: 0.4958\n",
      "Epoch 96/100\n",
      "50/50 [==============================] - 0s 6ms/step - loss: 1.3888 - categorical_crossentropy: 1.3888 - accuracy: 0.5137 - val_loss: 1.4232 - val_categorical_crossentropy: 1.4232 - val_accuracy: 0.4937\n",
      "Epoch 97/100\n",
      "50/50 [==============================] - 0s 6ms/step - loss: 1.3893 - categorical_crossentropy: 1.3893 - accuracy: 0.5126 - val_loss: 1.4189 - val_categorical_crossentropy: 1.4189 - val_accuracy: 0.4963\n",
      "Epoch 98/100\n",
      "50/50 [==============================] - 0s 6ms/step - loss: 1.3870 - categorical_crossentropy: 1.3870 - accuracy: 0.5150 - val_loss: 1.4216 - val_categorical_crossentropy: 1.4216 - val_accuracy: 0.4969\n",
      "Epoch 99/100\n",
      "50/50 [==============================] - 0s 7ms/step - loss: 1.3816 - categorical_crossentropy: 1.3816 - accuracy: 0.5148 - val_loss: 1.4265 - val_categorical_crossentropy: 1.4265 - val_accuracy: 0.4944\n",
      "Epoch 100/100\n",
      "50/50 [==============================] - 0s 6ms/step - loss: 1.3765 - categorical_crossentropy: 1.3765 - accuracy: 0.5178 - val_loss: 1.4238 - val_categorical_crossentropy: 1.4238 - val_accuracy: 0.4953\n",
      "--- Training Time - 33.891478538513184 seconds ---\n"
     ]
    }
   ],
   "source": [
    "import time\n",
    "start_time = time.time()\n",
    "history = model.fit(x_train, y_train,\n",
    "          batch_size=batch_size,\n",
    "          epochs=epochs,\n",
    "          validation_data=(x_test, y_test),\n",
    "          shuffle=True)\n",
    "print(\"--- Training Time - %s seconds ---\" % (time.time() - start_time))"
   ]
  },
  {
   "cell_type": "code",
   "execution_count": 16,
   "metadata": {},
   "outputs": [
    {
     "name": "stdout",
     "output_type": "stream",
     "text": [
      "dict_keys(['loss', 'categorical_crossentropy', 'accuracy', 'val_loss', 'val_categorical_crossentropy', 'val_accuracy'])\n"
     ]
    }
   ],
   "source": [
    "print(history.history.keys())\n",
    "from scipy.ndimage.filters import gaussian_filter1d\n",
    "\n",
    "train_acc=gaussian_filter1d(history.history['accuracy'], sigma=0.5)\n",
    "train_loss=gaussian_filter1d(history.history['loss'], sigma=0.5)\n",
    "test_acc=gaussian_filter1d(history.history['val_accuracy'], sigma=0.5)\n",
    "test_loss=gaussian_filter1d(history.history['val_loss'], sigma=0.5)"
   ]
  },
  {
   "cell_type": "code",
   "execution_count": 19,
   "metadata": {},
   "outputs": [
    {
     "data": {
      "text/plain": [
       "Text(0.5, 1.0, 'Test Accuracy: 0.50')"
      ]
     },
     "execution_count": 19,
     "metadata": {},
     "output_type": "execute_result"
    },
    {
     "data": {
      "image/png": "[encoded data removed]",
      "text/plain": [
       "<Figure size 432x288 with 2 Axes>"
      ]
     },
     "metadata": {
      "needs_background": "light"
     },
     "output_type": "display_data"
    }
   ],
   "source": [
    "import matplotlib.pyplot as plt\n",
    "_, ax1 = plt.subplots()\n",
    "ax2 = ax1.twinx()\n",
    "ax1.plot(range(epochs), train_loss)\n",
    "ax2.plot(range(len(test_acc)), test_acc, 'r')\n",
    "ax1.set_xlabel('epoch')\n",
    "ax1.set_ylabel('train loss')\n",
    "ax2.set_ylabel('test accuracy')\n",
    "ax2.set_title('Test Accuracy: {:.2f}'.format(test_acc[-1]))"
   ]
  },
  {
   "cell_type": "code",
   "execution_count": null,
   "metadata": {},
   "outputs": [],
   "source": []
  }
 ],
 "metadata": {
  "kernelspec": {
   "display_name": "Python 3",
   "language": "python",
   "name": "python3"
  },
  "language_info": {
   "codemirror_mode": {
    "name": "ipython",
    "version": 3
   },
   "file_extension": ".py",
   "mimetype": "text/x-python",
   "name": "python",
   "nbconvert_exporter": "python",
   "pygments_lexer": "ipython3",
   "version": "3.7.7"
  }
 },
 "nbformat": 4,
 "nbformat_minor": 2
}
